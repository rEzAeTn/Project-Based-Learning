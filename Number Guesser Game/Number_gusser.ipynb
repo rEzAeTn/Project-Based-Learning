{
 "cells": [
  {
   "cell_type": "markdown",
   "metadata": {},
   "source": [
    "## Hints\n",
    "\n",
    "**Valid Input**\n",
    "-  1 `<` User Guess Number `<` 100\n",
    "- Q\n",
    "\n",
    "\n",
    "**Invalid Inpud**\n",
    "-  User Guess Number `>` 100\n",
    "- User Guess Number `<` 1\n",
    "- Non Digit"
   ]
  },
  {
   "cell_type": "code",
   "execution_count": 13,
   "metadata": {},
   "outputs": [
    {
     "name": "stdout",
     "output_type": "stream",
     "text": [
      "-10\n"
     ]
    }
   ],
   "source": [
    "a = '-10'\n",
    "print(int(a))\n"
   ]
  },
  {
   "cell_type": "code",
   "execution_count": null,
   "metadata": {},
   "outputs": [],
   "source": []
  },
  {
   "cell_type": "code",
   "execution_count": null,
   "metadata": {
    "tags": []
   },
   "outputs": [],
   "source": [
    "import random"
   ]
  },
  {
   "cell_type": "code",
   "execution_count": null,
   "metadata": {
    "tags": []
   },
   "outputs": [],
   "source": [
    "rand_num = random.randint(1, 100)\n",
    "rand_num"
   ]
  },
  {
   "cell_type": "code",
   "execution_count": null,
   "metadata": {
    "tags": []
   },
   "outputs": [],
   "source": [
    "def validate_input(user_guess):\n",
    "    start_number = 1\n",
    "    end_number = 100\n",
    "\n",
    "    # Negative Number Is Valid\n",
    "    if user_guess.startswith('-') and user_guess[1:].isdigit():\n",
    "        return True\n",
    "\n",
    "    # Check that the input is a integer\n",
    "    if not user_guess.isdigit():\n",
    "        print(\"Invalid Input, Please Input Integer Number\")\n",
    "        return False\n",
    "\n",
    "\n",
    "    # Checking that the input is within the specified range\n",
    "    user_guess_int = int(user_guess)\n",
    "    if user_guess_int < start_number or user_guess_int > end_number:\n",
    "        print(f'*{user_guess_int}* Is Out Of Range, Your Guess Should be Between {start_number} To {end_number}')\n",
    "        return False\n",
    "\n",
    "    # Input Number Is Valid\n",
    "    return True\n"
   ]
  },
  {
   "cell_type": "code",
   "execution_count": null,
   "metadata": {},
   "outputs": [],
   "source": []
  },
  {
   "cell_type": "code",
   "execution_count": null,
   "metadata": {
    "tags": []
   },
   "outputs": [],
   "source": [
    "score = 100\n",
    "\n",
    "while True:\n",
    "    user_guess = input(\"Guess a  Number\")\n",
    "\n",
    "    # Calculate Score\n",
    "    score = max(score, 0)\n",
    "    if score == 0 :\n",
    "        print(f'Your Score is: {score}')\n",
    "        print('GAME OVER')\n",
    "        break\n",
    "\n",
    "    # Quit Game\n",
    "    if user_guess.upper() == 'Q':\n",
    "        print(\"END GAME\")\n",
    "        break\n",
    "\n",
    "    # Check Validate Input\n",
    "    if not validate_input(user_guess):\n",
    "        score -= 10\n",
    "        print(f'OOPs -10 Score :(')\n",
    "        print()\n",
    "        continue\n",
    "\n",
    "    # convert input: str to int\n",
    "    user_guess_int = int(user_guess)\n",
    "\n",
    "    # Hint: Guess Number is Less Than OR More Than\n",
    "    if user_guess_int > rand_num:\n",
    "        print(f'{user_guess_int} Is More Than Game Number')\n",
    "        score -= 5\n",
    "        print(f'OOPs -5 Score :(')\n",
    "        print()\n",
    "    elif user_guess_int < rand_num:\n",
    "        print(f'{user_guess_int} Is Less Than Game Number')\n",
    "        score -= 5\n",
    "        print(f'OOPs -5 Score :(')\n",
    "        print()\n",
    "    else:\n",
    "        print('congratulations, You Guessed The Correct Number :)')\n",
    "        print(f'Your Score: {score}')\n",
    "        print()\n",
    "        break"
   ]
  },
  {
   "cell_type": "code",
   "execution_count": null,
   "metadata": {},
   "outputs": [],
   "source": []
  },
  {
   "cell_type": "code",
   "execution_count": null,
   "metadata": {},
   "outputs": [],
   "source": []
  },
  {
   "cell_type": "code",
   "execution_count": null,
   "metadata": {},
   "outputs": [],
   "source": []
  },
  {
   "cell_type": "code",
   "execution_count": null,
   "metadata": {
    "tags": []
   },
   "outputs": [],
   "source": [
    "# Different Ways to Organize and Run a Project\n",
    "\n",
    "\n",
    "# start_number = 1\n",
    "# end_number = 100\n",
    "# score = 100\n",
    "\n",
    "# while True:\n",
    "#     user_guess = input(\"Guess a  Number\")\n",
    "\n",
    "#     # Calculate Score\n",
    "#     score = max(score, 0)\n",
    "#     if score == 0 :\n",
    "#         print(f'Your Score is: {score}')\n",
    "#         print('GAME OVER')\n",
    "#         break\n",
    "\n",
    "#     if user_guess.upper() == 'Q':\n",
    "#         print(\"END GAME\")\n",
    "#         break\n",
    "#     elif not user_guess.isdigit():\n",
    "#         print(\"Invalid Input, Please Input Integer Number\")\n",
    "#         score -= 10\n",
    "#         print(f'OOPs -10 Score :(')\n",
    "#         print()\n",
    "#         continue\n",
    "\n",
    "#     # convert input: str to int\n",
    "#     user_guess_int = int(user_guess)\n",
    "#     if user_guess_int < start_number or user_guess_int > end_number:\n",
    "#         print(f'*{user_guess_int}* Is Out Of Range, Your Guess Should be Between {start_number} To {end_number}')\n",
    "#         score -= 10\n",
    "#         print(f'OOPs -10 Score :(')\n",
    "#         print()\n",
    "#         continue\n",
    "\n",
    "#     # Hint: Guess Number is Less Than OR More Than\n",
    "#     if user_guess_int > rand_num:\n",
    "#         print(f'{user_guess_int} Is More Than Game Number')\n",
    "#         score -= 5\n",
    "#         print(f'OOPs -5 Score :(')\n",
    "#         print()\n",
    "#     elif user_guess_int < rand_num:\n",
    "#         print(f'{user_guess_int} Is Less Than Game Number')\n",
    "#         score -= 5\n",
    "#         print(f'OOPs -5 Score :(')\n",
    "#         print()\n",
    "#     else:\n",
    "#         print('congratulations, You Guessed The Correct Number :)')\n",
    "#         print(f'Your Score: {score}')\n",
    "#         print()\n",
    "#         break\n"
   ]
  },
  {
   "cell_type": "code",
   "execution_count": null,
   "metadata": {
    "tags": []
   },
   "outputs": [],
   "source": []
  },
  {
   "cell_type": "code",
   "execution_count": null,
   "metadata": {},
   "outputs": [],
   "source": []
  }
 ],
 "metadata": {
  "kernelspec": {
   "display_name": "Python 3 (ipykernel)",
   "language": "python",
   "name": "python3"
  },
  "language_info": {
   "codemirror_mode": {
    "name": "ipython",
    "version": 3
   },
   "file_extension": ".py",
   "mimetype": "text/x-python",
   "name": "python",
   "nbconvert_exporter": "python",
   "pygments_lexer": "ipython3",
   "version": "3.11.4"
  }
 },
 "nbformat": 4,
 "nbformat_minor": 4
}
