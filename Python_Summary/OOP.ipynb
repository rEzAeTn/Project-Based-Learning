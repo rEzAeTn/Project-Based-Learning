{
 "cells": [
  {
   "cell_type": "code",
   "execution_count": null,
   "id": "1f6f1f6e-0fa5-4202-a496-31f43114f1fd",
   "metadata": {},
   "outputs": [],
   "source": [
    "Attribues --> Properties --> Variables (Initialize Objects) \n",
    "Methods   --> Behaviors  --> Functions (Definition Functions in Class)\n",
    "\n",
    "Tips:\n",
    "We do not use parentheses to call the attributes of an object.\n",
    "OBJECT.Attribute\n",
    "\n",
    "We use parentheses to call the methods of an object.\n",
    "OBJECT.Method()"
   ]
  },
  {
   "cell_type": "code",
   "execution_count": null,
   "id": "42b66512-8293-452c-b514-f270ac8c8253",
   "metadata": {},
   "outputs": [],
   "source": []
  },
  {
   "cell_type": "markdown",
   "id": "17c0cc22-299f-4e24-a4b2-c0844891c2d6",
   "metadata": {},
   "source": [
    "# PeopleOfIran"
   ]
  },
  {
   "cell_type": "code",
   "execution_count": 26,
   "id": "87f83555-06b6-40f1-918d-7a4035541df8",
   "metadata": {},
   "outputs": [],
   "source": [
    "class PeopleOfIran:\n",
    "    \n",
    "    # Class Attributes\n",
    "    nationality = 'Iran'\n",
    "    official_language = 'Persian'\n",
    "\n",
    "    # __init__ is initialize Method\n",
    "    # __init__ method is used for initialize new objects\n",
    "    def __init__(self, fname, lname, gender, age, location):\n",
    "        # instance Attributes\n",
    "        self.fn = fname\n",
    "        self.ln = lname\n",
    "        self.gen = gender\n",
    "        self.age = age\n",
    "        self.loc = location\n",
    "        \n",
    "    \n",
    "    # Dunder Method (representation( print() ))\n",
    "    def __str__(self,):\n",
    "        return f'Hi, I am {self.fn} {self.ln}, {self.age} years old from {self.loc}'\n",
    "\n",
    "    # Method \n",
    "    def speak(self,language):\n",
    "        if language.title() == self.official_language:\n",
    "            return f'Hi, I am {self.fn} {self.ln}'\n",
    "        else:\n",
    "            return f'Hi, I just speak {self.official_language}'\n",
    "            \n",
    "        "
   ]
  },
  {
   "cell_type": "code",
   "execution_count": 18,
   "id": "9fa13cf6-864f-4eb9-a81a-8cfed9ef7ecf",
   "metadata": {},
   "outputs": [],
   "source": [
    "# instance of PeopleOfIran\n",
    "\n",
    "# Create and initialize new object (instance)\n",
    "nika = PeopleOfIran('Nika', 'Shakarami', 'female', 16, 'Lorestan')"
   ]
  },
  {
   "cell_type": "code",
   "execution_count": 19,
   "id": "e89836ec-f529-44f1-9902-6097bed61e10",
   "metadata": {},
   "outputs": [
    {
     "name": "stdout",
     "output_type": "stream",
     "text": [
      " \n",
      "    First Name: Nika\n",
      "    Last Name: Shakarami\n",
      "    Age: 16\n",
      "    Location: Lorestan\n",
      "    Nationality: Iran\n",
      "\n"
     ]
    }
   ],
   "source": [
    "print(f''' \n",
    "    First Name: {nika.fn}\n",
    "    Last Name: {nika.ln}\n",
    "    Age: {nika.age}\n",
    "    Location: {nika.loc}\n",
    "    Nationality: {nika.nationality}\n",
    "''')\n",
    "    \n",
    "    "
   ]
  },
  {
   "cell_type": "code",
   "execution_count": 20,
   "id": "fbc69f1a-1056-4dd4-9ca8-c4186f37e576",
   "metadata": {},
   "outputs": [
    {
     "name": "stdout",
     "output_type": "stream",
     "text": [
      "Lorestan\n",
      "Tehran\n"
     ]
    }
   ],
   "source": [
    "# Change Properties (Attribute)\n",
    "# All Objects Attributes are Mutable by default.\n",
    "print(nika.loc)\n",
    "nika.loc = 'Tehran'\n",
    "print(nika.loc)"
   ]
  },
  {
   "cell_type": "code",
   "execution_count": 24,
   "id": "07ebb7a6-ead0-4acf-90dc-82f18e72f863",
   "metadata": {},
   "outputs": [
    {
     "name": "stdout",
     "output_type": "stream",
     "text": [
      "Hi, I am Nika Shakarami\n",
      "Hi, I am Nika Shakarami\n"
     ]
    }
   ],
   "source": [
    "# Call Method \n",
    "\n",
    "# Declarative: mental mind of Programmer\n",
    "# Syntactic Sugar  -->  object.method()\n",
    "nika.speak('persian')\n",
    "\n",
    "# Imperative: Operational logic of Computer\n",
    "# Class.method(self, ...)\n",
    "PeopleOfIran.speak(nika, 'persian')\n"
   ]
  },
  {
   "cell_type": "code",
   "execution_count": 25,
   "id": "25a1b507-aa04-4108-b6b2-d173ad88e5c8",
   "metadata": {},
   "outputs": [
    {
     "name": "stdout",
     "output_type": "stream",
     "text": [
      "Hi, I am Nika Shakarami, 16 years old from Tehran\n"
     ]
    },
    {
     "data": {
      "text/plain": [
       "'Hi, I am Nika Shakarami, 16 years old from Tehran'"
      ]
     },
     "execution_count": 25,
     "metadata": {},
     "output_type": "execute_result"
    }
   ],
   "source": [
    "# Representation\n",
    "# print(Object) OR Object.__str__()\n",
    "\n",
    "print(nika)\n",
    "nika.__str__()"
   ]
  },
  {
   "cell_type": "code",
   "execution_count": null,
   "id": "54bd95e9-af51-4bec-99f6-c94dd1867b7b",
   "metadata": {},
   "outputs": [],
   "source": []
  },
  {
   "cell_type": "code",
   "execution_count": null,
   "id": "4223acdb-6788-45a0-aedc-7b53f2aa6bc5",
   "metadata": {},
   "outputs": [],
   "source": []
  },
  {
   "cell_type": "code",
   "execution_count": null,
   "id": "fc3ae480-4f70-45cd-b1a4-c642aad149a9",
   "metadata": {},
   "outputs": [],
   "source": []
  },
  {
   "cell_type": "code",
   "execution_count": null,
   "id": "f817a62b-a6cb-47e4-b8af-4a9825ed4913",
   "metadata": {},
   "outputs": [],
   "source": []
  },
  {
   "cell_type": "code",
   "execution_count": null,
   "id": "8349650c-0155-4724-8f1c-28b7741588a7",
   "metadata": {},
   "outputs": [],
   "source": []
  },
  {
   "cell_type": "markdown",
   "id": "4f68e2c4-45c0-4146-8e1f-53a80a6479aa",
   "metadata": {},
   "source": [
    "## Inheritance"
   ]
  },
  {
   "cell_type": "code",
   "execution_count": 27,
   "id": "0e94fe6f-2ed0-4b9b-8c7a-24725182e946",
   "metadata": {},
   "outputs": [],
   "source": [
    "class Rectangle:\n",
    "\n",
    "    # Instance Attributes\n",
    "    def __init__(self, length, width):\n",
    "        self.length = length\n",
    "        self.width = width\n",
    "\n",
    "    # Method area()\n",
    "    def area(self,):\n",
    "        return self.length * self.width\n",
    "\n",
    "    # Method perimeter()\n",
    "    def perimeter(self,):\n",
    "        return (self.length * 2) + (self.width * 2)\n",
    "    "
   ]
  },
  {
   "cell_type": "code",
   "execution_count": 29,
   "id": "77a47c7d-cd83-4fea-8171-71dea5a0c573",
   "metadata": {},
   "outputs": [
    {
     "data": {
      "text/plain": [
       "30"
      ]
     },
     "execution_count": 29,
     "metadata": {},
     "output_type": "execute_result"
    }
   ],
   "source": [
    "# Creat Object from Class Rectangle()\n",
    "rectangle_a = Rectangle(5, 10)\n",
    "\n",
    "# Call Method area()\n",
    "rectangle_a.area()\n",
    "\n",
    "# Call Method perimeter()\n",
    "rectangle_a.perimeter()"
   ]
  },
  {
   "cell_type": "markdown",
   "id": "cefc415a-1b27-4a31-97d4-ddc538091283",
   "metadata": {
    "tags": []
   },
   "source": [
    "## Single Inheritance\n",
    "\n",
    "**Class Parent  -->  Class Child**\n",
    "\n",
    "**Class Rectangle  -->  Class Square**"
   ]
  },
  {
   "cell_type": "code",
   "execution_count": 16,
   "id": "fca9552f-5005-4de8-8aae-920d5a5d7d5a",
   "metadata": {},
   "outputs": [],
   "source": [
    "# Approach 1\n",
    "\n",
    "# class Square:\n",
    "    \n",
    "#     def __init__(self, length):\n",
    "#         self.length = length\n",
    "\n",
    "#     # Method\n",
    "#     def area(self,):\n",
    "#         return self.length * self.length\n",
    "\n",
    "#     def perimeter(self,):\n",
    "#         return self.length * 4"
   ]
  },
  {
   "cell_type": "code",
   "execution_count": null,
   "id": "c9195124-1823-4c32-8f12-311ec3ad61ea",
   "metadata": {},
   "outputs": [],
   "source": [
    "# Approach 2\n",
    "\n",
    "# class Square(Rectangle):\n",
    "#     def __init__(self, length):\n",
    "#         Rectangle.__init__(self, length, length)"
   ]
  },
  {
   "cell_type": "code",
   "execution_count": null,
   "id": "090e5f0a-b9b1-4494-8a80-6da99bc32938",
   "metadata": {},
   "outputs": [],
   "source": [
    "# What is super()\n",
    "# super(class, object).__init__(self, Attributes...)\n",
    "\n",
    "# super is a object from class parent "
   ]
  },
  {
   "cell_type": "code",
   "execution_count": null,
   "id": "13bcdfee-4e13-4d17-b876-b62d7fad702c",
   "metadata": {},
   "outputs": [],
   "source": [
    "# Approach 3\n",
    "\n",
    "class Square(Rectangle):\n",
    "    def __init__(self, length):\n",
    "        # super(Square, self).__inint__(length, length)\n",
    "        super().__init__(length, length)\n"
   ]
  },
  {
   "cell_type": "code",
   "execution_count": null,
   "id": "b4940701-51a3-4378-9a9b-a1de9b982e6f",
   "metadata": {},
   "outputs": [],
   "source": []
  },
  {
   "cell_type": "markdown",
   "id": "137c6ab3-c3a7-439d-baf7-b08f50441722",
   "metadata": {},
   "source": [
    "## Multi-level Inheritance\n",
    "\n",
    "**Class A  -->  Class B  -->  Class C** \n",
    "\n",
    "**Class Rectangle  -->  Class Square  --> Class Cube**"
   ]
  },
  {
   "cell_type": "code",
   "execution_count": 1,
   "id": "85e3e188-fc25-44af-973c-345837accf18",
   "metadata": {},
   "outputs": [],
   "source": [
    "class Rectangle:\n",
    "\n",
    "    # Instance Attributes\n",
    "    def __init__(self, length, width):\n",
    "        self.length = length\n",
    "        self.width = width\n",
    "\n",
    "    # Method area()\n",
    "    def area(self,):\n",
    "        return self.length * self.width\n",
    "\n",
    "    # Method perimeter()\n",
    "    def perimeter(self,):\n",
    "        return (self.length * 2) + (self.width * 2)\n",
    "    "
   ]
  },
  {
   "cell_type": "code",
   "execution_count": 31,
   "id": "5c0041cf-7a72-4d0d-b685-3be60abd8a95",
   "metadata": {},
   "outputs": [],
   "source": [
    "class Square(Rectangle):\n",
    "    def __init__(self, length):\n",
    "        super().__init__(length, length)\n"
   ]
  },
  {
   "cell_type": "code",
   "execution_count": 32,
   "id": "8940fce3-e36c-42f5-b7eb-724aee4e87f2",
   "metadata": {},
   "outputs": [],
   "source": [
    "class Cube(Square):\n",
    "    \n",
    "    # Overridden method\n",
    "    def area(self):\n",
    "        raise AttributeError('class Cube has no method area')\n",
    "\n",
    "    def perimeter(self):\n",
    "        raise AttributeError('class Cube has no method perimeter')\n",
    "       \n",
    "\n",
    "    # Extended Method \n",
    "    def surface_area(self):\n",
    "        face_area = super().area()\n",
    "        return face_area * 6\n",
    "        \n",
    "    # Extended Method \n",
    "    def valume(self):\n",
    "        face_area = super().area()\n",
    "        return face_area * self.length"
   ]
  },
  {
   "cell_type": "code",
   "execution_count": 8,
   "id": "7f6764c0-3ae8-47e6-8441-069211341c6f",
   "metadata": {},
   "outputs": [],
   "source": [
    "# Creat Object from Class Cube()\n",
    "cube_a = Cube(3)"
   ]
  },
  {
   "cell_type": "code",
   "execution_count": 9,
   "id": "f2a8a198-7772-4e57-a217-2917e6cc584a",
   "metadata": {},
   "outputs": [
    {
     "data": {
      "text/plain": [
       "54"
      ]
     },
     "execution_count": 9,
     "metadata": {},
     "output_type": "execute_result"
    }
   ],
   "source": [
    "# Call Method surface_area()\n",
    "cube_a.surface_area()"
   ]
  },
  {
   "cell_type": "code",
   "execution_count": 10,
   "id": "a64d8ac3-54cc-47f7-a811-3fa2cb6b85c5",
   "metadata": {},
   "outputs": [
    {
     "data": {
      "text/plain": [
       "27"
      ]
     },
     "execution_count": 10,
     "metadata": {},
     "output_type": "execute_result"
    }
   ],
   "source": [
    "# Call Method valume()\n",
    "cube_a.valume()"
   ]
  },
  {
   "cell_type": "code",
   "execution_count": 12,
   "id": "ac67c6cc-8d2c-400d-beaa-6e5908d240f3",
   "metadata": {},
   "outputs": [
    {
     "ename": "AttributeError",
     "evalue": "class Cube has no method area",
     "output_type": "error",
     "traceback": [
      "\u001b[0;31m---------------------------------------------------------------------------\u001b[0m",
      "\u001b[0;31mAttributeError\u001b[0m                            Traceback (most recent call last)",
      "Cell \u001b[0;32mIn[12], line 1\u001b[0m\n\u001b[0;32m----> 1\u001b[0m cube_a\u001b[38;5;241m.\u001b[39marea()\n",
      "Cell \u001b[0;32mIn[5], line 4\u001b[0m, in \u001b[0;36mCube.area\u001b[0;34m(self)\u001b[0m\n\u001b[1;32m      3\u001b[0m \u001b[38;5;28;01mdef\u001b[39;00m \u001b[38;5;21marea\u001b[39m(\u001b[38;5;28mself\u001b[39m):\n\u001b[0;32m----> 4\u001b[0m     \u001b[38;5;28;01mraise\u001b[39;00m \u001b[38;5;167;01mAttributeError\u001b[39;00m(\u001b[38;5;124m'\u001b[39m\u001b[38;5;124mclass Cube has no method area\u001b[39m\u001b[38;5;124m'\u001b[39m)\n",
      "\u001b[0;31mAttributeError\u001b[0m: class Cube has no method area"
     ]
    }
   ],
   "source": [
    "cube_a.area()"
   ]
  },
  {
   "cell_type": "code",
   "execution_count": 13,
   "id": "370f69dd-eded-4437-b1b8-f8abfa0be995",
   "metadata": {},
   "outputs": [
    {
     "data": {
      "text/plain": [
       "12"
      ]
     },
     "execution_count": 13,
     "metadata": {},
     "output_type": "execute_result"
    }
   ],
   "source": [
    "cube_a.perimeter()"
   ]
  },
  {
   "cell_type": "code",
   "execution_count": null,
   "id": "646d70ac-c7d7-4572-9f67-6e4a0013f71f",
   "metadata": {},
   "outputs": [],
   "source": []
  },
  {
   "cell_type": "markdown",
   "id": "f01ed0ef-6f4b-4e7b-84fe-ad5a8a3636ce",
   "metadata": {
    "tags": []
   },
   "source": [
    "## `A`bstract `B`ase `C`lass\n"
   ]
  },
  {
   "cell_type": "markdown",
   "id": "75ac05f6-d8e9-4bdd-890f-91d3f77e3aa5",
   "metadata": {},
   "source": [
    "## Hierarchical Inheritance\n",
    "\n",
    "**Class B <-- Class A -->  Class C** \n",
    "\n",
    "**Class Circle  <-- Class Shape  -->  Class Rectangle  -->  Class Square  --> Class Cube**"
   ]
  },
  {
   "cell_type": "code",
   "execution_count": 95,
   "id": "9e633843-6dcc-4e63-851e-dc22f436631c",
   "metadata": {
    "tags": []
   },
   "outputs": [],
   "source": [
    "from abc import ABC, abstractmethod\n",
    "\n",
    "class Shape(ABC):\n",
    "    \"\"\"\n",
    "    Abstract Shape Class\n",
    "    \"\"\"\n",
    "    \n",
    "    def __init__(self, color=None):\n",
    "        self.color = color\n",
    "        \n",
    "    @abstractmethod\n",
    "    def area(self):\n",
    "        pass\n",
    "    \n",
    "    @abstractmethod\n",
    "    def perimeter(self):\n",
    "        pass"
   ]
  },
  {
   "cell_type": "code",
   "execution_count": 96,
   "id": "71994e14-f184-4888-ad98-a402683cd7e9",
   "metadata": {
    "tags": []
   },
   "outputs": [],
   "source": [
    "class Circle(Shape):\n",
    "    def __init__(self, radius, color=None):\n",
    "        super().__init__(color)\n",
    "        self.radius = radius\n",
    "\n",
    "    def area(self):\n",
    "        return (self.radius * 3.14) ** 2\n",
    "\n",
    "    def perimeter(self):\n",
    "        return self.radius * 3.14 * 2"
   ]
  },
  {
   "cell_type": "code",
   "execution_count": null,
   "id": "60cdd661-e334-44ed-99ea-469fc99df191",
   "metadata": {},
   "outputs": [],
   "source": []
  },
  {
   "cell_type": "code",
   "execution_count": 97,
   "id": "c4a067ee-2008-44b4-a19f-42e43aa17d01",
   "metadata": {
    "tags": []
   },
   "outputs": [],
   "source": [
    "class Rectangle(Shape):\n",
    "\n",
    "    # Instance Attributes\n",
    "    def __init__(self, length, width, color=None):\n",
    "        super().__init__(color)\n",
    "        self.length = length\n",
    "        self.width = width\n",
    "\n",
    "    # Method area()\n",
    "    def area(self,):\n",
    "        return self.length * self.width\n",
    "\n",
    "    # Method perimeter()\n",
    "    def perimeter(self,):\n",
    "        return (self.length * 2) + (self.width * 2)\n",
    "    "
   ]
  },
  {
   "cell_type": "code",
   "execution_count": 98,
   "id": "89ef91b5-7f51-455a-94fc-f88e3077f3e4",
   "metadata": {
    "tags": []
   },
   "outputs": [],
   "source": [
    "class Square(Rectangle):\n",
    "    def __init__(self, length, color=None):\n",
    "        super().__init__(length, length, color)"
   ]
  },
  {
   "cell_type": "code",
   "execution_count": 100,
   "id": "73e680e0-1da0-462c-a8b7-d4ae17527517",
   "metadata": {
    "tags": []
   },
   "outputs": [],
   "source": [
    "class Cube(Square):\n",
    "    \n",
    "    # Overridden method\n",
    "    def area(self):\n",
    "        raise AttributeError('class Cube has no method area')\n",
    "\n",
    "    def perimeter(self):\n",
    "        raise AttributeError('class Cube has no method perimeter')\n",
    "       \n",
    "\n",
    "    # Extended Method \n",
    "    def surface_area(self):\n",
    "        face_area = super().area()\n",
    "        return face_area * 6\n",
    "        \n",
    "    # Extended Method \n",
    "    def valume(self):\n",
    "        face_area = super().area()\n",
    "        return face_area * self.length"
   ]
  },
  {
   "cell_type": "code",
   "execution_count": 101,
   "id": "b224e3cd-570e-4ad6-810d-5566cbf187c7",
   "metadata": {
    "tags": []
   },
   "outputs": [],
   "source": [
    "c = Cube(3, 'red')"
   ]
  },
  {
   "cell_type": "code",
   "execution_count": null,
   "id": "ab14c072-8047-40f2-8738-bd40e2f1f9a1",
   "metadata": {},
   "outputs": [],
   "source": []
  },
  {
   "cell_type": "code",
   "execution_count": null,
   "id": "0a653a1c-ec12-4885-8606-fc8b1b85dfd5",
   "metadata": {},
   "outputs": [],
   "source": []
  },
  {
   "cell_type": "code",
   "execution_count": null,
   "id": "bf76c275-b978-402c-9688-44bfd081d664",
   "metadata": {},
   "outputs": [],
   "source": []
  },
  {
   "cell_type": "markdown",
   "id": "0468756d-f121-4da0-841f-2e9ea18dc55f",
   "metadata": {},
   "source": [
    "## issubclass() & isinstance()\n",
    "\n",
    "**isinstance(object, class)**\n",
    "  - Is (object_name) an object from (ClassName) class or not?\n",
    "  - The **isinstance()** method also checks **inheritance**.\n",
    "\n",
    "**issubclass(class A, class B)**\n",
    " - Is Class_A a Subclass of Class_B?"
   ]
  },
  {
   "cell_type": "code",
   "execution_count": 8,
   "id": "15ed5458-fff6-404b-a6af-7c6a8d55cb24",
   "metadata": {
    "tags": []
   },
   "outputs": [
    {
     "data": {
      "text/plain": [
       "False"
      ]
     },
     "execution_count": 8,
     "metadata": {},
     "output_type": "execute_result"
    }
   ],
   "source": [
    "isinstance(c, Circle)"
   ]
  },
  {
   "cell_type": "code",
   "execution_count": 9,
   "id": "6dbbaf1e-8214-4eea-822f-03e87fc3afa0",
   "metadata": {
    "tags": []
   },
   "outputs": [
    {
     "data": {
      "text/plain": [
       "True"
      ]
     },
     "execution_count": 9,
     "metadata": {},
     "output_type": "execute_result"
    }
   ],
   "source": [
    "isinstance(c, Cube)"
   ]
  },
  {
   "cell_type": "code",
   "execution_count": 10,
   "id": "b28cfb7f-19be-4925-a7b6-ef52b3f4394b",
   "metadata": {
    "tags": []
   },
   "outputs": [
    {
     "data": {
      "text/plain": [
       "True"
      ]
     },
     "execution_count": 10,
     "metadata": {},
     "output_type": "execute_result"
    }
   ],
   "source": [
    "issubclass(Rectangle, Shape)"
   ]
  },
  {
   "cell_type": "code",
   "execution_count": 11,
   "id": "d3276912-c46f-4a03-a32f-78067cffdc95",
   "metadata": {
    "tags": []
   },
   "outputs": [
    {
     "data": {
      "text/plain": [
       "False"
      ]
     },
     "execution_count": 11,
     "metadata": {},
     "output_type": "execute_result"
    }
   ],
   "source": [
    "issubclass(Rectangle, Circle)"
   ]
  },
  {
   "cell_type": "code",
   "execution_count": null,
   "id": "d3852509-7b3d-4b82-a63a-992bfd721022",
   "metadata": {},
   "outputs": [],
   "source": []
  },
  {
   "cell_type": "code",
   "execution_count": null,
   "id": "a7784070-b30d-4a23-a870-7d64197729f6",
   "metadata": {},
   "outputs": [],
   "source": []
  },
  {
   "cell_type": "code",
   "execution_count": null,
   "id": "6fe1073e-6674-4d5f-9d8f-4665295917c5",
   "metadata": {},
   "outputs": [],
   "source": []
  },
  {
   "cell_type": "markdown",
   "id": "44df582b-063b-4853-8e26-973b1a71189f",
   "metadata": {
    "tags": []
   },
   "source": [
    "# Type Hirarchy in Python\n",
    "\n",
    "## Type Class VS Object Class\n",
    "All classes in Python are created from the MetaClass type.\n",
    "And all classes in Python inherit from the object class.\n",
    "\n",
    "```python\n",
    "class Human: \n",
    "    pass\n",
    "```\n",
    "The Human class is instance of the Type class (it is created from the Type class).\n",
    "But the Human class inherits from the object class.\n",
    "\n",
    "\n",
    "## MetaClass\n",
    "All Class in python are objects of the type class, and this type class in is called **MetaClass**."
   ]
  },
  {
   "cell_type": "code",
   "execution_count": 27,
   "id": "60a9ec97-1fda-4043-8fc3-0bbb37d68997",
   "metadata": {
    "tags": []
   },
   "outputs": [],
   "source": [
    "# Create instance of the Type class.\n",
    "\n",
    "class Human:\n",
    "    pass"
   ]
  },
  {
   "cell_type": "code",
   "execution_count": 28,
   "id": "611ae020-4f08-47fb-8c4d-3336d6be4b6e",
   "metadata": {
    "tags": []
   },
   "outputs": [],
   "source": [
    "# Create instance of Human() class.\n",
    "\n",
    "human_obj = Human()"
   ]
  },
  {
   "cell_type": "code",
   "execution_count": null,
   "id": "18a7b6ca-2b87-4508-8306-2e9cfda0cf52",
   "metadata": {},
   "outputs": [],
   "source": []
  },
  {
   "cell_type": "code",
   "execution_count": 29,
   "id": "e6872891-3263-4a40-b933-39446faf3a54",
   "metadata": {
    "tags": []
   },
   "outputs": [
    {
     "data": {
      "text/plain": [
       "type"
      ]
     },
     "execution_count": 29,
     "metadata": {},
     "output_type": "execute_result"
    }
   ],
   "source": [
    "# Human class is instance of the Type class\n",
    "\n",
    "Human.__class__\n",
    "type(Human)"
   ]
  },
  {
   "cell_type": "code",
   "execution_count": 40,
   "id": "0aaad515-db5e-494a-8856-9212b6b3a874",
   "metadata": {
    "tags": []
   },
   "outputs": [
    {
     "data": {
      "text/plain": [
       "object"
      ]
     },
     "execution_count": 40,
     "metadata": {},
     "output_type": "execute_result"
    }
   ],
   "source": [
    "# Human class inherits from the object class.\n",
    "# __base__ is an attribute that represents the Parent class of the Human class. (shows that the Human class inherits from which class)\n",
    "\n",
    "Human.__base__"
   ]
  },
  {
   "cell_type": "code",
   "execution_count": 41,
   "id": "a58e1457-5917-49ba-acd3-5e0d90c27449",
   "metadata": {
    "tags": []
   },
   "outputs": [
    {
     "data": {
      "text/plain": [
       "__main__.Human"
      ]
     },
     "execution_count": 41,
     "metadata": {},
     "output_type": "execute_result"
    }
   ],
   "source": [
    "# The human_obj is instance of Human() class.\n",
    "\n",
    "human_obj.__class__\n",
    "type(human_obj)"
   ]
  },
  {
   "cell_type": "code",
   "execution_count": null,
   "id": "bd4ce9d1-18aa-4983-823e-476239f85264",
   "metadata": {
    "tags": []
   },
   "outputs": [],
   "source": []
  },
  {
   "cell_type": "code",
   "execution_count": 42,
   "id": "d86ce326-dd04-4259-ae70-b63d1ce58f24",
   "metadata": {
    "tags": []
   },
   "outputs": [
    {
     "data": {
      "text/plain": [
       "(True, True)"
      ]
     },
     "execution_count": 42,
     "metadata": {},
     "output_type": "execute_result"
    }
   ],
   "source": [
    "isinstance(Human, type), isinstance(Human, object)"
   ]
  },
  {
   "cell_type": "code",
   "execution_count": 54,
   "id": "1433e8a8-aa33-4947-be8c-6608d7bfb2a8",
   "metadata": {
    "tags": []
   },
   "outputs": [
    {
     "data": {
      "text/plain": [
       "(False, True)"
      ]
     },
     "execution_count": 54,
     "metadata": {},
     "output_type": "execute_result"
    }
   ],
   "source": [
    "# The Human class is created from the type class, but it does not inherit from the type class.\n",
    "# The Human class inherits from the Object class.\n",
    "\n",
    "issubclass(Human, type), issubclass(Human, object)"
   ]
  },
  {
   "cell_type": "code",
   "execution_count": null,
   "id": "82a5491f-c84f-4dc1-a2d8-35bae85bf869",
   "metadata": {},
   "outputs": [],
   "source": []
  },
  {
   "cell_type": "code",
   "execution_count": 38,
   "id": "538120cf-0712-4b23-b2a4-580a7c8f8554",
   "metadata": {
    "tags": []
   },
   "outputs": [
    {
     "data": {
      "text/plain": [
       "True"
      ]
     },
     "execution_count": 38,
     "metadata": {},
     "output_type": "execute_result"
    }
   ],
   "source": [
    "isinstance(human_obj, Human)"
   ]
  },
  {
   "cell_type": "code",
   "execution_count": 39,
   "id": "4e376de2-7f52-4c9b-b052-53d50f9163d8",
   "metadata": {
    "tags": []
   },
   "outputs": [
    {
     "data": {
      "text/plain": [
       "(False, True)"
      ]
     },
     "execution_count": 39,
     "metadata": {},
     "output_type": "execute_result"
    }
   ],
   "source": [
    "isinstance(human_obj, type), isinstance(human_obj, object)"
   ]
  },
  {
   "cell_type": "code",
   "execution_count": null,
   "id": "347ef396-1b85-4d23-891a-4f8ed34d36f5",
   "metadata": {
    "tags": []
   },
   "outputs": [],
   "source": []
  },
  {
   "cell_type": "code",
   "execution_count": null,
   "id": "10c98e8e-1150-479c-963b-c2735b018891",
   "metadata": {},
   "outputs": [],
   "source": []
  },
  {
   "cell_type": "code",
   "execution_count": null,
   "id": "83d9a83e-b09d-4662-a763-2e745334c90b",
   "metadata": {},
   "outputs": [],
   "source": []
  },
  {
   "cell_type": "code",
   "execution_count": null,
   "id": "ae4163cb-2185-49dd-b17e-1fcdf8ed76a2",
   "metadata": {},
   "outputs": [],
   "source": []
  },
  {
   "cell_type": "code",
   "execution_count": null,
   "id": "c32b42d9-3dd0-4031-95bb-14b67a80ee68",
   "metadata": {},
   "outputs": [],
   "source": []
  },
  {
   "cell_type": "markdown",
   "id": "0f503a2a-864d-466a-b063-56e0b04b1f76",
   "metadata": {},
   "source": [
    "# Object instantiation\n",
    "## Object Creation and Initialization Process\n",
    "\n",
    "### The `__call__` Method  -->  Call Object\n",
    "```python\n",
    "class Type:\n",
    "    def __call__(cls, *args, **kwargs):\n",
    "        obj = cls.__new__(*args, **kwargs)\n",
    "        \n",
    "        obj.init(*args, **kwargs)\n",
    "        \n",
    "        return obj\n",
    "\n",
    "```\n",
    "\n",
    "### The `__new__` Method   -->  Object Creation\n",
    "```python\n",
    "    def __new__(cls, *args, **kwargs):\n",
    "        obj = super().__new__(cls)\n",
    "        \n",
    "        return obj\n",
    "```\n",
    "\n",
    "### The `__init__` Method  -->  Object Initialization\n",
    "```python\n",
    "    def __init__(self, parameter_a, parameter_b):\n",
    "        self.a = parameter_a\n",
    "        self.b = parameter_b\n",
    "```"
   ]
  },
  {
   "cell_type": "code",
   "execution_count": null,
   "id": "bd22a04f-2a73-4dcb-a0b5-9e8bd0fdcc54",
   "metadata": {},
   "outputs": [],
   "source": []
  },
  {
   "cell_type": "code",
   "execution_count": null,
   "id": "69829976-374e-4d67-b3cc-84b88f95815b",
   "metadata": {},
   "outputs": [],
   "source": [
    "class Type:\n",
    "    def __call__(self):\n",
    "        # Create Object\n",
    "        obj = cls.__new__(*args, **kwargs)\n",
    "        \n",
    "        obj.init(*args, **kwargs)\n",
    "        \n",
    "        return obj"
   ]
  },
  {
   "cell_type": "code",
   "execution_count": null,
   "id": "f2b99009-075a-4402-8451-e2aca667b2e8",
   "metadata": {},
   "outputs": [],
   "source": [
    "class Human:\n",
    "    # __new__ is Static Method\n",
    "    def __new__(cls, *args, **kwargs):\n",
    "    # cls = Human. cls is the class using which the object will be created.\n",
    "    # Created object will be of type cls.\n",
    "    # We must call the object class __new__ to allocate memory.\n",
    "        \n",
    "        # super()__new__(cls) --> equivalent --->  object.__new__(cls)\n",
    "        obj = super().__new__(cls) \n",
    "        \n",
    "        return obj\n",
    "    \n",
    "    def __init__(self, f_name, l_name):\n",
    "        self.f_name = f_name\n",
    "        self._lname = l_name"
   ]
  },
  {
   "cell_type": "code",
   "execution_count": 84,
   "id": "88a09a3b-57fb-4974-8385-67f1f7a96d2c",
   "metadata": {},
   "outputs": [],
   "source": [
    "human_obj = Human('Majidreza', 'Rahnavard')"
   ]
  },
  {
   "cell_type": "code",
   "execution_count": null,
   "id": "685cd169-9377-4a76-8951-e023431ea2f2",
   "metadata": {},
   "outputs": [],
   "source": []
  },
  {
   "cell_type": "code",
   "execution_count": null,
   "id": "521f58f6-3106-4b94-9b1b-b88a6dc02d88",
   "metadata": {},
   "outputs": [],
   "source": []
  },
  {
   "cell_type": "code",
   "execution_count": null,
   "id": "d9b43cfd-a292-4470-9c0a-29a367146258",
   "metadata": {},
   "outputs": [],
   "source": []
  },
  {
   "cell_type": "markdown",
   "id": "4240e6ec-16dc-4f20-8271-bafe07cc8773",
   "metadata": {},
   "source": [
    "# Composition\n",
    "\n",
    "- **Inheritance To Model `is a .....` Relationship.**\n",
    "- **Mixin To Model `includes a ...` Relationship.**\n",
    "- **Composition To Model `has a ....` Relationship.**\n",
    "\n",
    "                | Composit\n",
    "Composition --->\n",
    "                | Component\n",
    "                \n",
    "\n",
    "                | Parent\n",
    "Inheritance --->\n",
    "                | Child\n",
    "\n",
    "\n",
    "```python\n",
    "class Animal:\n",
    "    pass\n",
    "\n",
    "\n",
    "class Dog(Animal):\n",
    "    def tail(self):\n",
    "        pass\n",
    "```\n",
    "\n",
    "Inheritance: `Dog` **is an** `Animal`.\n",
    "Composition: `Dog` **has a** `tail`.\n",
    "         \n",
    "Not:\n",
    "- Inheritance:\n",
    "    - Class Parent: (`Animal`)\n",
    "    - Class Child:  (`Dog`)\n",
    "- Composition:\n",
    "    - Component: (`tile`)\n",
    " \n",
    "\n",
    "\n",
    "### **Implement** Inheritance   VS  **Interface** Inheritance \n",
    "- Use Inheritance to reuse an Implement.\n",
    "- Implement an Interface to be reused.\n",
    "\n",
    "**Duck Typing:**\n",
    "\n",
    "\n",
    "\n",
    "\n",
    "\n",
    "### The Class Explosion Problem\n",
    "`Zen Of Python:`\n",
    "- `Simple is better than Complex.`\n",
    "\n",
    "**In The Inheritance Relationship between classes and objects is `Thigtly Coupled`**.\n",
    "\n",
    "**In The Composition Relationship between objects is `Loosely Coupled`**\n",
    "\n",
    "**Note:**\n",
    "Flexible Designs with Composition. because --> (`Loosely Coupled`)\n",
    "\n",
    "\n",
    "\n",
    "## Chosing Between `Inheritance` and `Composition` in Python"
   ]
  },
  {
   "cell_type": "code",
   "execution_count": null,
   "id": "18c7551c-253c-4863-969c-19b4d6aead92",
   "metadata": {},
   "outputs": [],
   "source": []
  },
  {
   "cell_type": "code",
   "execution_count": null,
   "id": "097d8c06-d690-4a4a-a481-08fdb1ac47d3",
   "metadata": {},
   "outputs": [],
   "source": []
  },
  {
   "cell_type": "code",
   "execution_count": null,
   "id": "ff94242d-765c-46fb-a086-8c37b1301fa3",
   "metadata": {},
   "outputs": [],
   "source": []
  },
  {
   "cell_type": "code",
   "execution_count": null,
   "id": "e056dff7-1a07-4360-9b4e-82c3d1f68b38",
   "metadata": {},
   "outputs": [],
   "source": []
  },
  {
   "cell_type": "markdown",
   "id": "8ecc8d32-5999-4844-ae11-a1b4ab8cd725",
   "metadata": {},
   "source": [
    "ods:`"
   ]
  },
  {
   "cell_type": "markdown",
   "id": "e3939604-6714-40b0-b65c-eb87466aa866",
   "metadata": {},
   "source": [
    "# Multiple Inheritance\n",
    "\n",
    "```python\n",
    "class A:\n",
    "    pass\n",
    "    \n",
    "class B:\n",
    "    pass\n",
    "\n",
    "class X(A, B):\n",
    "    pass\n",
    "```\n",
    "\n",
    "### `M`ethod `R`esolution `O`rder  --->  **`MRO`**\n",
    "```python\n",
    "class Name.__mro__\n",
    "‍‍‍‍‍‍```\n",
    "- Displays the order of classes that Python follows when using the `super()` function.\n",
    "\n",
    "```python\n",
    "class A:\n",
    "    def area(self):\n",
    "        pass\n",
    "    \n",
    "class B:\n",
    "    def area(self):\n",
    "        pass\n",
    "\n",
    "class X(A, B):\n",
    "    pass\n",
    "\n",
    "\n",
    "X.__mro__\n",
    "\n",
    "\n",
    "# OutPut: (__main__.X, __main__.A, __main__.B, object)\n",
    "```\n",
    "\n",
    "**To avoid the problem of calling methods in Multiple Inheritance:**\n",
    "\n",
    "- Prioritizing the class whose methods we want to use in inheritance.\n",
    "- Changing the signature of the same methods.\n",
    "\n",
    "```python\n",
    "class A:\n",
    "    def area_a(self):\n",
    "        pass\n",
    "    \n",
    "class B:\n",
    "    def area_b(self):\n",
    "        pass\n",
    "        \n",
    "class X(A, B):\n",
    "    def area(self):\n",
    "        base_area = super().area()\n",
    "        return base_area\n",
    "\n",
    "        \n",
    "class X(B, A):\n",
    "    def area(self):\n",
    "        base_area = super().area()\n",
    "        return base_area\n",
    "```\n",
    "\n",
    "## Mixin\n",
    "**Mixin To Model `includes a ...` Relationship.**\n",
    "**In The Mixin Relationship between objects is `Loosely Coupled`**  \n",
    "- Mixin does not create many relationships between classes and objects and is only used t `add a special method and feature`.\n",
    "```python\n",
    "class Square:\n",
    "    pass\n",
    "\n",
    "class VolumMixin:\n",
    "    def volom(self):\n",
    "        return .....\n",
    "\n",
    "class Cube(VolumMixin, Square):\n",
    "    pass\n",
    "```"
   ]
  },
  {
   "cell_type": "code",
   "execution_count": null,
   "id": "e75d93df-50c5-42de-aa7c-e5857cdcaae8",
   "metadata": {},
   "outputs": [],
   "source": []
  },
  {
   "cell_type": "code",
   "execution_count": null,
   "id": "07cc3caf-297c-4e87-afb9-cb70bd92e20e",
   "metadata": {},
   "outputs": [],
   "source": []
  },
  {
   "cell_type": "code",
   "execution_count": null,
   "id": "5c5686a3-ba1e-4c3d-9678-86d1940635d9",
   "metadata": {},
   "outputs": [],
   "source": []
  },
  {
   "cell_type": "code",
   "execution_count": null,
   "id": "eb956237-244b-4385-b7cf-e75a008478be",
   "metadata": {},
   "outputs": [],
   "source": []
  },
  {
   "cell_type": "markdown",
   "id": "1c1a42e1-424f-4813-aa6a-41a1e7b90bc0",
   "metadata": {},
   "source": [
    "# Python Data Model\n",
    "## Overriding `Built_in  Method`"
   ]
  },
  {
   "cell_type": "code",
   "execution_count": 54,
   "id": "ade075c7-2e34-4eee-b896-4c9d211a4fbe",
   "metadata": {},
   "outputs": [],
   "source": [
    "class Cart:\n",
    "    def __init__(self, *args, costomer_name):\n",
    "        self.items = args\n",
    "        self.costumer = costomer_name\n",
    "\n",
    "    # Solution_1: definition other function\n",
    "    def get_cart_length(self):\n",
    "        return len(self.items)\n",
    "\n",
    "    # Solution_2: Use Python Builtin Method\n",
    "    def __len__(self):\n",
    "        return len(self.items)\n"
   ]
  },
  {
   "cell_type": "code",
   "execution_count": 55,
   "id": "7d814daf-c43e-4c8c-bbab-93fe5d7b8b3d",
   "metadata": {},
   "outputs": [],
   "source": [
    "cart_1 = Cart('sib', 'moz', 'hendevaneh', costomer_name='Reza')"
   ]
  },
  {
   "cell_type": "code",
   "execution_count": 56,
   "id": "fcd9b9f7-8e9d-40fc-9750-fc2b4dbbf6e4",
   "metadata": {},
   "outputs": [
    {
     "data": {
      "text/plain": [
       "3"
      ]
     },
     "execution_count": 56,
     "metadata": {},
     "output_type": "execute_result"
    }
   ],
   "source": [
    "cart_1.get_cart_length()"
   ]
  },
  {
   "cell_type": "code",
   "execution_count": 57,
   "id": "6ec41ba6-0b73-4dc8-afd2-0cf3a4bb234e",
   "metadata": {},
   "outputs": [
    {
     "data": {
      "text/plain": [
       "3"
      ]
     },
     "execution_count": 57,
     "metadata": {},
     "output_type": "execute_result"
    }
   ],
   "source": [
    "# len(cart_1) --> is --> cart_1.__len__()\n",
    "len(cart_1)"
   ]
  },
  {
   "cell_type": "code",
   "execution_count": 58,
   "id": "51523b46-3d0f-40c5-9ae9-3a00dd634541",
   "metadata": {},
   "outputs": [
    {
     "name": "stdout",
     "output_type": "stream",
     "text": [
      "cart_1.items --> ('sib', 'moz', 'hendevaneh')\n",
      "cart_1.items[1] --> moz\n",
      "cart_1.items.__getitem__(1) --> moz\n"
     ]
    }
   ],
   "source": [
    "print(f'cart_1.items --> {cart_1.items}')\n",
    "\n",
    "# cart_1.items[1] --> is --> cart_1.items.__getitem__(1)\n",
    "print(f'cart_1.items[1] --> {cart_1.items[1]}')\n",
    "print(f'cart_1.items.__getitem__(1) --> {cart_1.items.__getitem__(1)}')\n"
   ]
  },
  {
   "cell_type": "code",
   "execution_count": null,
   "id": "ede805b3-2356-488b-87c8-3c57df70975e",
   "metadata": {},
   "outputs": [],
   "source": []
  },
  {
   "cell_type": "code",
   "execution_count": null,
   "id": "58726431-6381-40b3-a944-256e0f90e95f",
   "metadata": {},
   "outputs": [],
   "source": []
  },
  {
   "cell_type": "markdown",
   "id": "b3a1f763-64b5-40c3-a7dd-9243aa4e6c74",
   "metadata": {},
   "source": []
  },
  {
   "cell_type": "code",
   "execution_count": 59,
   "id": "4cea634e-a5df-4cf9-acd8-c95da7317864",
   "metadata": {},
   "outputs": [],
   "source": [
    "class Vector:\n",
    "    def __init__(self, x_comp, y_comp):\n",
    "        self.x_comp = x_comp\n",
    "        self.y_comp = y_comp\n",
    "\n",
    "    # Making your Object Using abs()  Python Builtin Method\n",
    "    def __abs__(self):\n",
    "        return (self.x_comp ** 2 + self.y_comp ** 2) ** 0.5\n",
    "\n",
    "    # Printing your Object Using str() / print() Python Builtin Method\n",
    "    def __str__(self):\n",
    "        return f'{self.x_comp}i + {self.y_comp}j'\n",
    "\n",
    "    # Representing your Object Using .reper() Python Builtin Method\n",
    "    def __reper__(self):\n",
    "        return f'{self.__class__.__name__}({self.x_comp}, {self.y_comp})'\n"
   ]
  },
  {
   "cell_type": "code",
   "execution_count": 60,
   "id": "cc31b804-6df3-4eef-b3e1-781007cbe5eb",
   "metadata": {},
   "outputs": [],
   "source": [
    "v = Vector(3, 4)"
   ]
  },
  {
   "cell_type": "markdown",
   "id": "fe26754e-79c4-4c77-9298-8639ce5f9376",
   "metadata": {},
   "source": [
    "### Representing and Printing your Objects\n",
    "**Rule Of Thumb:\n",
    "`__reper__` is for Developers\n",
    "`__str__` is for Customers**\n"
   ]
  },
  {
   "cell_type": "code",
   "execution_count": 61,
   "id": "52f03e41-b7e1-4253-8598-7a60ef22bf4f",
   "metadata": {},
   "outputs": [
    {
     "name": "stdout",
     "output_type": "stream",
     "text": [
      "3i + 4j\n"
     ]
    }
   ],
   "source": [
    "# Displays the output of the ــstrــ Method \n",
    "# print(v)  --> is --> V.__str__()\n",
    "print(v)"
   ]
  },
  {
   "cell_type": "code",
   "execution_count": 62,
   "id": "5ef195c1-ea89-4f75-93dc-c7520c20ead2",
   "metadata": {},
   "outputs": [
    {
     "data": {
      "text/plain": [
       "'Vector(3, 4)'"
      ]
     },
     "execution_count": 62,
     "metadata": {},
     "output_type": "execute_result"
    }
   ],
   "source": [
    "# Displays the output of the __reper__ Method \n",
    "v.__reper__()"
   ]
  },
  {
   "cell_type": "code",
   "execution_count": null,
   "id": "ee98aff8-593f-455e-8e30-497938958688",
   "metadata": {},
   "outputs": [],
   "source": []
  },
  {
   "cell_type": "markdown",
   "id": "4da72512-d4e9-4e8e-950f-385725e7cb15",
   "metadata": {},
   "source": [
    "### Making you Objects `Truthy()` or `Falsey()` Using `bool()`\n",
    "\n",
    "**Note:**\n",
    "**All Objects in Python is `True` Except for 5 items which are `False`:**\n",
    "- Zero Number `0`\n",
    "- None\n",
    "- False\n",
    "- Empty String `''`\n",
    "- Empty List `[]`, Empty Tuple `()`, Empty Dictionary `{}`\n",
    "\n",
    "\n",
    "**Note:\n",
    "By default, all objects created from a class are True, you can define the `__bool__` method to determine whether a class and its objects are Truthy or False.**"
   ]
  },
  {
   "cell_type": "code",
   "execution_count": 63,
   "id": "cef74423-a275-4229-937b-ae03acb6e5c9",
   "metadata": {},
   "outputs": [],
   "source": [
    "class Cart:\n",
    "    def __init__(self, *args, costomer_name):\n",
    "        self.items = args\n",
    "        self.costumer = costomer_name\n",
    "\n",
    "    # Evaluation of objects Truthy or False \n",
    "    def __bool__(self):\n",
    "        return len(self.items) > 0"
   ]
  },
  {
   "cell_type": "code",
   "execution_count": 64,
   "id": "25cccd8b-5c43-44c1-b7cc-2fe1383f3acd",
   "metadata": {},
   "outputs": [],
   "source": [
    "cart_1 = Cart('Apple', 'Orange', costomer_name='Reza')\n",
    "cart_2 = Cart(costomer_name='Ali')"
   ]
  },
  {
   "cell_type": "code",
   "execution_count": 65,
   "id": "d2cb9cca-551f-4525-b145-bef1e73a37f1",
   "metadata": {},
   "outputs": [
    {
     "data": {
      "text/plain": [
       "True"
      ]
     },
     "execution_count": 65,
     "metadata": {},
     "output_type": "execute_result"
    }
   ],
   "source": [
    "bool(cart_1)"
   ]
  },
  {
   "cell_type": "code",
   "execution_count": 66,
   "id": "25825a0e-13bb-4120-ba23-3cd26b202e58",
   "metadata": {},
   "outputs": [
    {
     "data": {
      "text/plain": [
       "False"
      ]
     },
     "execution_count": 66,
     "metadata": {},
     "output_type": "execute_result"
    }
   ],
   "source": [
    "# Because Cart is Empty\n",
    "bool(cart_2)"
   ]
  },
  {
   "cell_type": "code",
   "execution_count": null,
   "id": "42a50080-2ddc-434b-8e8f-f52897be41c5",
   "metadata": {},
   "outputs": [],
   "source": []
  },
  {
   "cell_type": "code",
   "execution_count": null,
   "id": "29567ad4-bb6f-4cb1-8658-30f82e828c21",
   "metadata": {},
   "outputs": [],
   "source": []
  },
  {
   "cell_type": "markdown",
   "id": "55028a52-7d7b-4cc5-8519-1fb903272792",
   "metadata": {},
   "source": [
    "# Python Data Model\n",
    "## Overriding `Built_in Operators`\n",
    "**Note:**\n",
    "Can not Use add Operator (+) between tow Objects from Class Cart().\n",
    "\n",
    "```python\n",
    "cart_1 + cart_2\n",
    "\n",
    "# OutPut: TypeError: unsupported operand type(s) for +: 'Cart' and 'Cart'\n",
    "```\n",
    "\n",
    "**Solution:**\n",
    "To solve this problem, we must define the `__add__` method in the Cart class so that we can add two Cart objects together.\n",
    "\n",
    "**Note:**\n",
    "The output of Dunder Methods related to Operators such as `__add__`, `__sub__`, `__mul__`, `__div__`, .... must be a **New Class Object**.\n",
    "\n",
    "**Note:**\n",
    "All the explanations given for Donder Method __add__ (operator +) apply to all other operators as well.\n",
    "\n",
    "Donder Method `__add__.(self, other)` (operator +)\n",
    "\n",
    "Donder Method `__sub__.(self, other)` (operator -)\n",
    "\n",
    "Donder Method `__div__.(self, other)` (operator /)\n",
    "\n",
    "Donder Method `__mul__.(self, other)` (operator *)\n",
    "\n",
    "Donder Method `object.__getitem__(self, key)` (operator index / slice[])\n",
    "\n",
    "Donder Method `object.__delitem__(self, key)` (operator index[])\n",
    "\n"
   ]
  },
  {
   "cell_type": "code",
   "execution_count": 63,
   "id": "f26e2ae4-9351-4204-99d1-c99ac7c6a73b",
   "metadata": {},
   "outputs": [],
   "source": [
    "class Cart:\n",
    "    def __init__(self, *args, costomer_name):\n",
    "        self.items = list(args)\n",
    "        self.costumer = costomer_name\n",
    "\n",
    "    def __add__(self, other):\n",
    "            if type(other) != self.__class__:\n",
    "                raise TypeError(f\"unsupported operand type(s) for +: 'Cart' and '{other.__class__.__name__}'\")\n",
    "            new_items = self.items + other.items\n",
    "            return Cart(*new_items, costomer_name=self.costumer)\n",
    "\n",
    "    def __getitem__(self, key):\n",
    "        return self.items[key]\n",
    "\n",
    "    def __setitem__(self, key, value):\n",
    "        self.items[key] = value\n",
    "        return self.items"
   ]
  },
  {
   "cell_type": "code",
   "execution_count": null,
   "id": "12629987-2c73-4b49-8f6a-9549e033f430",
   "metadata": {},
   "outputs": [],
   "source": []
  },
  {
   "cell_type": "code",
   "execution_count": 64,
   "id": "6e89bae8-3316-4649-9be2-dbc7de3cbca4",
   "metadata": {},
   "outputs": [],
   "source": [
    "cart_1 = Cart('Apple', 'Orange', costomer_name='Reza')\n",
    "cart_2 = Cart('Bag', 'Mouse', 'HeadPhone', costomer_name='Reza')\n",
    "cart_3 = Cart('Shampoo', 'Soap', 'Damestos', costomer_name='Reza')"
   ]
  },
  {
   "cell_type": "code",
   "execution_count": 66,
   "id": "da5e368d-137b-47e6-801d-6937364a16d1",
   "metadata": {},
   "outputs": [
    {
     "ename": "TypeError",
     "evalue": "unsupported operand type(s) for +: 'Cart' and 'int'",
     "output_type": "error",
     "traceback": [
      "\u001b[0;31m---------------------------------------------------------------------------\u001b[0m",
      "\u001b[0;31mTypeError\u001b[0m                                 Traceback (most recent call last)",
      "Cell \u001b[0;32mIn[66], line 3\u001b[0m\n\u001b[1;32m      1\u001b[0m \u001b[38;5;66;03m# reise Error \u001b[39;00m\n\u001b[0;32m----> 3\u001b[0m cart_1 \u001b[38;5;241m+\u001b[39m \u001b[38;5;241m2\u001b[39m\n",
      "Cell \u001b[0;32mIn[63], line 8\u001b[0m, in \u001b[0;36mCart.__add__\u001b[0;34m(self, other)\u001b[0m\n\u001b[1;32m      6\u001b[0m \u001b[38;5;28;01mdef\u001b[39;00m \u001b[38;5;21m__add__\u001b[39m(\u001b[38;5;28mself\u001b[39m, other):\n\u001b[1;32m      7\u001b[0m         \u001b[38;5;28;01mif\u001b[39;00m \u001b[38;5;28mtype\u001b[39m(other) \u001b[38;5;241m!=\u001b[39m \u001b[38;5;28mself\u001b[39m\u001b[38;5;241m.\u001b[39m\u001b[38;5;18m__class__\u001b[39m:\n\u001b[0;32m----> 8\u001b[0m             \u001b[38;5;28;01mraise\u001b[39;00m \u001b[38;5;167;01mTypeError\u001b[39;00m(\u001b[38;5;124mf\u001b[39m\u001b[38;5;124m\"\u001b[39m\u001b[38;5;124munsupported operand type(s) for +: \u001b[39m\u001b[38;5;124m'\u001b[39m\u001b[38;5;124mCart\u001b[39m\u001b[38;5;124m'\u001b[39m\u001b[38;5;124m and \u001b[39m\u001b[38;5;124m'\u001b[39m\u001b[38;5;132;01m{\u001b[39;00mother\u001b[38;5;241m.\u001b[39m\u001b[38;5;18m__class__\u001b[39m\u001b[38;5;241m.\u001b[39m\u001b[38;5;18m__name__\u001b[39m\u001b[38;5;132;01m}\u001b[39;00m\u001b[38;5;124m'\u001b[39m\u001b[38;5;124m\"\u001b[39m)\n\u001b[1;32m      9\u001b[0m         new_items \u001b[38;5;241m=\u001b[39m \u001b[38;5;28mself\u001b[39m\u001b[38;5;241m.\u001b[39mitems \u001b[38;5;241m+\u001b[39m other\u001b[38;5;241m.\u001b[39mitems\n\u001b[1;32m     10\u001b[0m         \u001b[38;5;28;01mreturn\u001b[39;00m Cart(\u001b[38;5;241m*\u001b[39mnew_items, costomer_name\u001b[38;5;241m=\u001b[39m\u001b[38;5;28mself\u001b[39m\u001b[38;5;241m.\u001b[39mcostumer)\n",
      "\u001b[0;31mTypeError\u001b[0m: unsupported operand type(s) for +: 'Cart' and 'int'"
     ]
    }
   ],
   "source": [
    "# reise Error \n",
    "\n",
    "cart_1 + 2"
   ]
  },
  {
   "cell_type": "code",
   "execution_count": 58,
   "id": "2d719fb3-2baa-4879-9113-667bc72c9ce7",
   "metadata": {},
   "outputs": [
    {
     "name": "stdout",
     "output_type": "stream",
     "text": [
      "['Apple', 'Orange', 'Bag', 'Mouse', 'HeadPhone', 'Shampoo', 'Soap', 'Damestos']\n"
     ]
    }
   ],
   "source": [
    "# cart_1 + cart_2 \n",
    "# self.__add__(other)\n",
    "# cart_1.__add__(cart_2)\n",
    "\n",
    "unify_carts = cart_1 + cart_2 + cart_3  # (cart_1 + cart_2) + cart_3\n",
    "print(unify_carts.items)"
   ]
  },
  {
   "cell_type": "code",
   "execution_count": 59,
   "id": "6f9abd5c-810b-4de5-b676-2643adec41f1",
   "metadata": {},
   "outputs": [
    {
     "name": "stdout",
     "output_type": "stream",
     "text": [
      "Shampoo\n",
      "['Bag', 'Mouse', 'HeadPhone', 'Shampoo']\n"
     ]
    }
   ],
   "source": [
    "# self[key]  --> is --> self.__getitem__(key)\n",
    "# cart_3[0]  --> is --> cart_3.__getitem__(0)\n",
    "\n",
    "print(cart_3[0])\n",
    "print(unify_carts[2:6])"
   ]
  },
  {
   "cell_type": "code",
   "execution_count": 60,
   "id": "e11b2da1-107c-445a-a5f1-7373e456f9f9",
   "metadata": {},
   "outputs": [],
   "source": [
    "cart_1[1] = 'Banana'"
   ]
  },
  {
   "cell_type": "code",
   "execution_count": 61,
   "id": "b58266fa-b994-441c-83db-f22adea3bc27",
   "metadata": {},
   "outputs": [
    {
     "name": "stdout",
     "output_type": "stream",
     "text": [
      "['Apple', 'Banana']\n"
     ]
    }
   ],
   "source": [
    "print(cart_1.items)"
   ]
  },
  {
   "cell_type": "code",
   "execution_count": null,
   "id": "099112ed-629e-4c69-8c0b-5c84b55f31ff",
   "metadata": {},
   "outputs": [],
   "source": []
  },
  {
   "cell_type": "code",
   "execution_count": null,
   "id": "6f0fca11-a510-4ba2-9505-d06951bbf922",
   "metadata": {},
   "outputs": [],
   "source": []
  },
  {
   "cell_type": "code",
   "execution_count": null,
   "id": "8b839f54-c96f-4665-ad44-bee282fd54ef",
   "metadata": {},
   "outputs": [],
   "source": []
  },
  {
   "cell_type": "code",
   "execution_count": null,
   "id": "0ccd9987-0a18-43f5-bc01-b348099fd1c6",
   "metadata": {},
   "outputs": [],
   "source": []
  },
  {
   "cell_type": "markdown",
   "id": "af53f6b8-0259-4623-bfad-ba5c536c1b5a",
   "metadata": {},
   "source": [
    "# Data Type Methods and Attrubutes\n",
    "\n",
    "### Python Built-in Functions\n",
    "Python Documentations:\n",
    "(https://docs.python.org/3/library/functions.html )\n",
    "\n",
    "### Built-in Data Type Methods\n",
    "\n",
    "\n",
    "### Built-in Data Type Attributes"
   ]
  },
  {
   "cell_type": "code",
   "execution_count": null,
   "id": "0e923261-2afc-4c74-aef2-db40d3a7964d",
   "metadata": {},
   "outputs": [],
   "source": []
  },
  {
   "cell_type": "code",
   "execution_count": null,
   "id": "89374e9f-49e5-4530-9289-e28818a222a3",
   "metadata": {},
   "outputs": [],
   "source": []
  },
  {
   "cell_type": "code",
   "execution_count": null,
   "id": "62a1f99a-ed83-496f-99ed-d782a9b9837a",
   "metadata": {},
   "outputs": [],
   "source": []
  },
  {
   "cell_type": "markdown",
   "id": "3a9a9921-9ff0-4b16-ab7d-fdd403f673b4",
   "metadata": {},
   "source": []
  },
  {
   "cell_type": "markdown",
   "id": "f21792bd-26ed-4ca2-8588-a6ddd5ddca5c",
   "metadata": {},
   "source": [
    "# Reading and Writing File\n",
    "Components of a file:\n",
    "- Header: Name, Size, Type, ...\n",
    "- Data:\n",
    "- End of File:\n",
    "\n",
    "Extension or File Format: .pdf, .txt, .ipynb, .py, ...\n",
    "File_Name.Extension  --> IronMan.mp4\n",
    "\n",
    "\n",
    "**File Path:**\n",
    "- Absolute Path\n",
    " - Local Disck\\Download\\Video\\IronMan.mp4\n",
    "- Relative Path\n",
    "  - .\\file.txt   --> Dot (.) is Current Working Directory\n",
    "  - ..\\file.txt  --> (..) is Back to the Previous Folder\n",
    "\n",
    "### Data Encodings\n",
    "**Encode:** Convert Data (String) to Byte.\n",
    "```python\n",
    "ord('E')\n",
    "# Output: 69\n",
    "```\n",
    "\n",
    "**Decode:** Convert Byte to a Data (String).\n",
    "```python\n",
    "chr(69)\n",
    "# Output: 'E'\n",
    "```\n",
    "\n",
    "\n",
    "> - Data(string):             HELLO\n",
    "> - Encode(Ascii):     72 - 69 - 108 - 108 - 111\n",
    "> - Binary:     01001000 - 01100101 - 01101100 - 01101111\n",
    "\n",
    "- **Caracter  -->  Encode  -->  Binary**\n",
    "  -  H      -->    72    -->  01001000\n",
    " \n",
    "\n",
    "### Write File - Opening File - Closing File\n",
    "\n",
    "**Write File**\n",
    "`%%writefile` Name_file.FileType\n",
    "```python\n",
    "%%writefile Line.txt\n",
    "This is line 1\n",
    "This is line 2\n",
    "```\n",
    "\n",
    "**Open File**\n",
    "```python\n",
    "file_hanler = open(\"file_name.type\")\n",
    "```\n",
    "**Read File**\n",
    "```python\n",
    "file_handler.read()\n",
    "```\n",
    "**Closed File**\n",
    "```python\n",
    "file_handler.close()\n",
    "```\n",
    "\n",
    "**Open and Close File:** `with statement:`\n",
    "```python\n",
    "Syntax:\n",
    "with statemetn:\n",
    "    pass\n",
    "```\n",
    "**with 2 step:**\n",
    "> - Initialization\n",
    "> - Tear and Apart\n",
    "\n",
    "```python\n",
    "# open(\"File_name.type\") as file_handler  -->  file_hanler = open(\"file_name.type\")\n",
    "with open(\"File_name.type\") as file_handler:\n",
    "    print(file_handler.read())\n",
    "\n",
    "\n",
    "# Exite Indentation == closed file ( file_handler.close() )\n",
    "```\n",
    "\n",
    "Not:\n",
    "`file_handler.seek(0)`\n",
    "`file_handler.read(0)`\n",
    "`file_handler.readline()`\n",
    "`file_handler.readlines()`\n",
    "\n",
    "\n",
    "**The best way to open and read a file:**\n",
    "```python\n",
    "with open(`file_name.txt') as file_handler:\n",
    "    for i in file_handler:\n",
    "        print(i)\n",
    "```\n",
    "\n",
    "**Mode Opening:**\n",
    "- Mode 'r': read\n",
    "- Mode 'r+': read and write\n",
    "- Mode 'w': write\n",
    "- Mode 'w+': write and read\n",
    "- Mode 'a': Append\n",
    "- Mode 'rb' and 'wb:\n",
    "\n",
    "\n",
    "\n",
    "**Opening File in Write Mode:**\n",
    "Opening the File in `Write Mode` == file `Overridde`\n",
    "\n",
    "```python\n",
    "file_handler = open('file_name.txt', mode='w')\n",
    "file_handler.write('new text for add to file\\n)\n",
    "# dump new data to file(disc)\n",
    "file_handler.flush()\n",
    "\n",
    "# This Mode(write) -> file_handler.read()  --> OutPut: Error: Not readable\n",
    "file_handler.read()\n",
    "```\n",
    "**The best way to open and write a file:**\n",
    "```python\n",
    "with open('file_name.txt', 'w') as file_handler:\n",
    "    file_handler.write('This is Line 1\\n')\n",
    "    file_handler.write('This is Line 2\\n')\n",
    "```\r\n",
    "**Opening File in Append Mode:**\n",
    "Opening the File in `Append Mode` == add new data to file\n",
    "\n",
    "```python\n",
    "with open('file_name.txt', 'a') as file_handler:\n",
    "    file_handler.write('This is Line 1\\n')\n",
    "    file_handler.write('This is Line 2\\n')\n",
    "```\n",
    "\n",
    "**Opening File in Two Mode (read and write):**\n",
    "```python\n",
    "# with open('file_name.txt', 'w+') as file_handler:\n",
    "with open('file_name.txt', 'r+') as file_handler:\n",
    "    print(file_handler.read())\n",
    "    file_handler.write('This is Line 1\\n')\n",
    "    print(file_handler.read())\n",
    "```\n",
    "\n"
   ]
  },
  {
   "cell_type": "code",
   "execution_count": null,
   "id": "03b1eac4-7f7c-4ef0-871f-2a8e5ca774b9",
   "metadata": {},
   "outputs": [],
   "source": []
  },
  {
   "cell_type": "code",
   "execution_count": null,
   "id": "c8f20bc4-79ed-42fa-98d6-b4311dcc94f3",
   "metadata": {},
   "outputs": [],
   "source": []
  },
  {
   "cell_type": "code",
   "execution_count": null,
   "id": "514e7048-4b69-4d92-b2f1-00427b1a4802",
   "metadata": {},
   "outputs": [],
   "source": []
  },
  {
   "cell_type": "code",
   "execution_count": null,
   "id": "7ff0cc56-1e62-480d-8f08-bc5679c3168a",
   "metadata": {},
   "outputs": [],
   "source": []
  },
  {
   "cell_type": "code",
   "execution_count": null,
   "id": "6a2ebde8-f1e5-4a61-88a0-f9da7e7a14a1",
   "metadata": {},
   "outputs": [],
   "source": []
  },
  {
   "cell_type": "code",
   "execution_count": null,
   "id": "4e3bf10c-45d2-402b-809d-72af74621947",
   "metadata": {},
   "outputs": [],
   "source": []
  },
  {
   "cell_type": "code",
   "execution_count": null,
   "id": "9c896780-5dbf-40b8-81c0-2b78b5cfb765",
   "metadata": {},
   "outputs": [],
   "source": []
  },
  {
   "cell_type": "code",
   "execution_count": 67,
   "id": "993951e8-13fd-4198-99d2-e60843bdfafc",
   "metadata": {},
   "outputs": [],
   "source": [
    "class Vehicle:\n",
    "\n",
    "    # inctanse Attribute\n",
    "    def __init__(self,name, max_speed, mileage, seating_capacity , fare_amount_per_person):\n",
    "        self.name = name\n",
    "        self.max_speed = max_speed\n",
    "        self.mileage = mileage\n",
    "        self.seating_capacity = seating_capacity\n",
    "        self.fare_amount_per_person = fare_amount_per_person\n",
    "        \n",
    "    def fare(self, num_passenger):\n",
    "        your_fare_amount = num_passenger * self.fare_amount_per_person\n",
    "        return f'your fare is: {your_fare_amount}'\n",
    "    \n",
    "    \n",
    "    def __repr__(self):\n",
    "        return f'''name Vehicle: {self.name}\n",
    "        maximum speed: {self.max_speed}\n",
    "        mileage: {self.mileage}\n",
    "        fare amount per person: {self.fare_amount_per_person}\n",
    "        '''"
   ]
  },
  {
   "cell_type": "code",
   "execution_count": 320,
   "id": "a4d3d8cc-9213-432e-a9ef-1b585bc87965",
   "metadata": {},
   "outputs": [],
   "source": [
    "class Bus(Vehicle):\n",
    "    \n",
    "     def fare(self):\n",
    "        num_passenger = int(input('Enter the number of passengers:'))\n",
    "        your_fare_amount = num_passenger * self.fare_amount_per_person\n",
    "        return f'your fare is: {your_fare_amount}'\n",
    "    \n",
    "    "
   ]
  },
  {
   "cell_type": "code",
   "execution_count": 327,
   "id": "7688e089-5f4a-4bc5-98c9-114f68fc6397",
   "metadata": {},
   "outputs": [
    {
     "name": "stdout",
     "output_type": "stream",
     "text": [
      "name Vehicle: Taxi\n",
      "        maximum speed: 100\n",
      "        mileage: 350\n",
      "        fare amount per person: 38000\n",
      "        \n"
     ]
    },
    {
     "data": {
      "text/plain": [
       "'your fare is: 114000'"
      ]
     },
     "execution_count": 327,
     "metadata": {},
     "output_type": "execute_result"
    }
   ],
   "source": [
    "taxi = Vehicle('Taxi', 100, 350, 25, 38000)\n",
    "print(taxi)\n",
    "taxi.fare(3)"
   ]
  },
  {
   "cell_type": "code",
   "execution_count": 331,
   "id": "7dde4ac1-e1c2-45f6-b53b-7619636848a5",
   "metadata": {},
   "outputs": [
    {
     "name": "stdout",
     "output_type": "stream",
     "text": [
      "name Vehicle: School Bus\n",
      "        maximum speed: 70\n",
      "        mileage: 200\n",
      "        fare amount per person: 3500\n",
      "        \n"
     ]
    },
    {
     "name": "stdin",
     "output_type": "stream",
     "text": [
      "Enter the number of passengers: 6\n"
     ]
    },
    {
     "data": {
      "text/plain": [
       "'your fare is: 21000'"
      ]
     },
     "execution_count": 331,
     "metadata": {},
     "output_type": "execute_result"
    }
   ],
   "source": [
    "school_bus = Bus('School Bus', 70, 200, 25, 3500)\n",
    "print(school_bus)\n",
    "school_bus.fare()"
   ]
  },
  {
   "cell_type": "code",
   "execution_count": null,
   "id": "c80d99c5-7461-457c-81e4-d6ee2a5095e3",
   "metadata": {},
   "outputs": [],
   "source": [
    "\n",
    "\n"
   ]
  },
  {
   "cell_type": "code",
   "execution_count": null,
   "id": "e6726db0-534a-4e6e-8786-d7c6fb72df94",
   "metadata": {},
   "outputs": [],
   "source": []
  },
  {
   "cell_type": "code",
   "execution_count": null,
   "id": "1caabcd4-191d-4d59-bd8c-6426636c3303",
   "metadata": {},
   "outputs": [],
   "source": []
  },
  {
   "cell_type": "code",
   "execution_count": 369,
   "id": "50dfe3d8-b204-4ce7-a969-301e64eb876d",
   "metadata": {},
   "outputs": [],
   "source": []
  },
  {
   "cell_type": "code",
   "execution_count": 356,
   "id": "6da2d1f3-f4e9-477d-b70f-e43f0e964d2f",
   "metadata": {},
   "outputs": [],
   "source": [
    "# class Point():\n",
    "    \n",
    "#     def __init__(self, x, y):\n",
    "#         self.x = x\n",
    "#         self.y = y\n",
    "        \n",
    "#     # __str__ and __repr__ method just returned string. \n",
    "#     # If __str__ is the same as __repr__, it is better to write only __repr__ and there is no need to write __str__ anymore.\n",
    "\n",
    "#     def __str__(self):\n",
    "#         return f'{self.__class__.__name__} ({self.x}, {self.y})'\n",
    "    \n",
    "#     def __repr__(self):\n",
    "#         return f'{self.__class__.__name__} ({self.x}, {self.y})'\n",
    "    \n",
    "#     # calculate The distance from the point to the coordinate origin.\n",
    "#     def __abs__(self):\n",
    "#         return (self.x ** 2 + self.y ** 2) ** 0.5\n",
    "    \n",
    "#     def __lt__(self, value):\n",
    "#         return abs(self) < abs(value)\n"
   ]
  },
  {
   "cell_type": "code",
   "execution_count": 410,
   "id": "b932e54b-9aa7-4e36-ac80-ba26b8e6957d",
   "metadata": {},
   "outputs": [],
   "source": [
    "class Point():\n",
    "    \n",
    "    def __init__(self, *args):\n",
    "        self.args = args\n",
    "    \n",
    "        \n",
    "    # __str__ and __repr__ method just returned string. \n",
    "    # If __str__ is the same as __repr__, it is better to write only __repr__ and there is no need to write __str__ anymore.\n",
    "\n",
    "    def __str__(self):\n",
    "        return f'{self.__class__.__name__} {self.args}'\n",
    "    \n",
    "    def __repr__(self):\n",
    "        return f'{self.__class__.__name__} {self.args}'\n",
    "    \n",
    "    # calculate The distance from the point to the coordinate origin.\n",
    "    def __abs__(self):\n",
    "        sum_values = sum([point ** 2 for point in self.args])\n",
    "        return sum_values ** (1 / len(self.args))\n",
    "    \n",
    "    def __lt__(self, value):\n",
    "        return abs(self) < abs(value)"
   ]
  },
  {
   "cell_type": "code",
   "execution_count": 411,
   "id": "d7c25178-6034-49c8-8cae-b4b0951f2b74",
   "metadata": {},
   "outputs": [
    {
     "name": "stdout",
     "output_type": "stream",
     "text": [
      "Point (7, 24)\n"
     ]
    },
    {
     "data": {
      "text/plain": [
       "25.0"
      ]
     },
     "execution_count": 411,
     "metadata": {},
     "output_type": "execute_result"
    }
   ],
   "source": [
    "# creat object\n",
    "p = Point(7, 24)\n",
    "\n",
    "# call __str__\n",
    "print(p)\n",
    "\n",
    "# call __repr__\n",
    "p\n",
    "\n",
    "# call abs() method ---> calculate distance\n",
    "abs(p)\n",
    "\n"
   ]
  },
  {
   "cell_type": "code",
   "execution_count": 412,
   "id": "fc827c01-2aff-4ed0-91b2-14b077ce055f",
   "metadata": {},
   "outputs": [
    {
     "data": {
      "text/plain": [
       "[Point (2, 2), Point (3, 4), Point (6, 8), Point (9, 11)]"
      ]
     },
     "execution_count": 412,
     "metadata": {},
     "output_type": "execute_result"
    }
   ],
   "source": [
    "my_points = [Point(3, 4), Point(9, 11), Point(6, 8), Point(2, 2)]\n",
    "\n",
    "# sort by define __lt__ method\n",
    "sorted(my_points)"
   ]
  },
  {
   "cell_type": "code",
   "execution_count": 367,
   "id": "4d6fe066-7e57-4e40-86a9-e44428675e0a",
   "metadata": {},
   "outputs": [
    {
     "data": {
      "text/plain": [
       "[Point (2, 2), Point (3, 4), Point (6, 8), Point (9, 11)]"
      ]
     },
     "execution_count": 367,
     "metadata": {},
     "output_type": "execute_result"
    }
   ],
   "source": [
    "# sort by abs ---> No need to define __lt__ method\n",
    "sorted(my_points, key=lambda p: abs(p))"
   ]
  },
  {
   "cell_type": "code",
   "execution_count": 362,
   "id": "81e84a20-43bd-435a-a2d1-b872d06248e6",
   "metadata": {},
   "outputs": [
    {
     "data": {
      "text/plain": [
       "[Point (2, 2), Point (3, 4), Point (6, 8), Point (9, 11)]"
      ]
     },
     "execution_count": 362,
     "metadata": {},
     "output_type": "execute_result"
    }
   ],
   "source": [
    "# sort by x\n",
    "sorted(my_points, key=lambda p: p.x)"
   ]
  },
  {
   "cell_type": "code",
   "execution_count": 364,
   "id": "150432c8-f398-454f-9826-7606fcaf2223",
   "metadata": {},
   "outputs": [
    {
     "data": {
      "text/plain": [
       "[Point (2, 2), Point (3, 4), Point (6, 8), Point (9, 11)]"
      ]
     },
     "execution_count": 364,
     "metadata": {},
     "output_type": "execute_result"
    }
   ],
   "source": [
    "# sort by y\n",
    "sorted(my_points, key=lambda p: p.y)"
   ]
  },
  {
   "cell_type": "code",
   "execution_count": null,
   "id": "68ba1800-984f-4306-9782-8ac60e9e6ce5",
   "metadata": {},
   "outputs": [],
   "source": []
  },
  {
   "cell_type": "code",
   "execution_count": null,
   "id": "24727f5e-f443-4651-a28c-641591f8f5c7",
   "metadata": {},
   "outputs": [],
   "source": []
  },
  {
   "cell_type": "code",
   "execution_count": null,
   "id": "5784d567-02f4-439c-a7ab-fd957e570f7d",
   "metadata": {},
   "outputs": [],
   "source": []
  },
  {
   "cell_type": "code",
   "execution_count": null,
   "id": "2d593cc9-1db8-435c-903b-1632bc6028ed",
   "metadata": {},
   "outputs": [],
   "source": []
  },
  {
   "cell_type": "code",
   "execution_count": 316,
   "id": "2ad4ef42-6c07-443b-b029-496afddb17d8",
   "metadata": {},
   "outputs": [],
   "source": [
    "# class Human:\n",
    "#     pass\n",
    "\n",
    "# Parent and Child  (is a) Human ( Inheritance ) \n",
    "\n",
    "# class Parent:\n",
    "#     pass\n",
    "\n",
    "# Parent (has a) child ( Composition )\n",
    "\n",
    "# class Child:\n",
    "#     pass\n"
   ]
  },
  {
   "cell_type": "code",
   "execution_count": null,
   "id": "dc6cb18c-c352-4797-8b81-e820d5ce83a4",
   "metadata": {},
   "outputs": [],
   "source": [
    "class Human:\n",
    "    \n",
    "    def __init__(self, first_name, last_name):\n",
    "        self.first_name = first_name\n",
    "        self.last_name = last_name\n",
    "        \n",
    "    def speak(self, text):\n",
    "        return f'{self.first_name} {self.last_name} says: {text}'\n",
    "    \n",
    "    def __str__(self):\n",
    "        return f'Hi, i am {self.first_name} {self.last_name}'"
   ]
  },
  {
   "cell_type": "code",
   "execution_count": null,
   "id": "3d3a1c84-a037-427c-aa6e-1139a4b5d1e1",
   "metadata": {},
   "outputs": [],
   "source": []
  },
  {
   "cell_type": "code",
   "execution_count": 366,
   "id": "8c848268-30fa-4ae9-972b-1fa284a79cc8",
   "metadata": {},
   "outputs": [],
   "source": [
    "class Parent(Human):\n",
    "    \n",
    "    def __init__(self, first_name, last_name):\n",
    "        super().__init__(first_name, last_name)\n",
    "        self.kids = []\n",
    "\n",
    "    def have_child(self, child_name):\n",
    "        child = Child(self, child_name)\n",
    "        self.kids.append(child)\n",
    "        \n",
    "        return child\n",
    "    \n",
    "    "
   ]
  },
  {
   "cell_type": "code",
   "execution_count": 367,
   "id": "7f6fcbb0-d453-4aeb-970c-af192bae4811",
   "metadata": {},
   "outputs": [],
   "source": [
    "class Child(Human):\n",
    "    \n",
    "    def __init__(self, parent, first_name):\n",
    "        super().__init__(first_name, parent.last_name)\n",
    "        self.parent = parent"
   ]
  },
  {
   "cell_type": "code",
   "execution_count": 368,
   "id": "2a386472-830a-4a28-8cdb-89fc8ad6c5fb",
   "metadata": {},
   "outputs": [
    {
     "name": "stdout",
     "output_type": "stream",
     "text": [
      "Hi, i am meysam pirfalak\n"
     ]
    }
   ],
   "source": [
    "meysam = Parent('meysam', 'pirfalak')\n",
    "print(meysam)"
   ]
  },
  {
   "cell_type": "code",
   "execution_count": 358,
   "id": "d6cbf21f-eeff-4277-b5ac-22b8563fb205",
   "metadata": {},
   "outputs": [
    {
     "name": "stdout",
     "output_type": "stream",
     "text": [
      "Hi, i am kian pirfalak\n"
     ]
    }
   ],
   "source": [
    "kian = meysam.have_child('kian')\n",
    "print(kian)"
   ]
  },
  {
   "cell_type": "code",
   "execution_count": null,
   "id": "10b51bac-1aea-44cd-8f36-efd57be3c696",
   "metadata": {},
   "outputs": [],
   "source": []
  },
  {
   "cell_type": "code",
   "execution_count": null,
   "id": "9c4248e2-249e-4a4b-a851-5f0bf9f4fb8f",
   "metadata": {},
   "outputs": [],
   "source": []
  },
  {
   "cell_type": "code",
   "execution_count": null,
   "id": "2318e631-a584-48f8-b033-d68590b407c1",
   "metadata": {},
   "outputs": [],
   "source": []
  },
  {
   "cell_type": "code",
   "execution_count": null,
   "id": "602cf16c-25a2-4e67-bf24-447b46ba0a86",
   "metadata": {},
   "outputs": [],
   "source": []
  },
  {
   "cell_type": "code",
   "execution_count": 481,
   "id": "4928de7d-3d05-44b5-902f-dfac9b247228",
   "metadata": {},
   "outputs": [
    {
     "name": "stdout",
     "output_type": "stream",
     "text": [
      "Point(1, 2, 3, 4, 5, 6, 7, 8, 9, 10) Point(6, 7, 8, 9, 10)\n",
      "Point(7, 9, 11, 13, 15, 6, 7, 8, 9, 10)\n",
      "Point(-5, -5, -5, -5, -5, 6, 7, 8, 9, 10)\n"
     ]
    }
   ],
   "source": [
    "# Write your code here\n",
    "from itertools import zip_longest\n",
    "\n",
    "class Point:\n",
    "    def __init__(self, *args):\n",
    "        self.args = args\n",
    "        \n",
    "    def __abs__(self):\n",
    "        sum_values = sum([item ** 2 for item in self.args])\n",
    "        return sum_values ** (1 / len(self.args))\n",
    "    \n",
    "    def __gt__(self, obj):\n",
    "        return abs(self) > abs(obj)\n",
    "\n",
    "    def __repr__(self):\n",
    "        return f\"{self.__class__.__name__}{self.args}\"\n",
    "    \n",
    "    def __add__(self, point):\n",
    "        # args = map(lambda item: item[0] + item[1], zip(self.args, point.args))\n",
    "        # args = map(sum, zip(self.args, point.args))\n",
    "        args = map(sum, zip_longest(self.args, point.args, fillvalue=0))\n",
    "        return Point(*args)\n",
    "    \n",
    "    def __sub__(self, point):\n",
    "        args = map(lambda item: item[0] - item[1], zip_longest(self.args, point.args, fillvalue=0))\n",
    "        return  Point(*args)\n",
    "\n",
    "    \n",
    "# Example\n",
    "\n",
    "p1 = Point(1, 2, 3, 4, 5, 6, 7, 8, 9, 10)\n",
    "p2 = Point(6, 7, 8, 9, 10)\n",
    "\n",
    "print(p1, p2)\n",
    "\n",
    "abs(p1)\n",
    "abs(p2)\n",
    "\n",
    "p1 < p2\n",
    "p1 > p2\n",
    "\n",
    "print(p1 + p2)\n",
    "print(p1 - p2)\n"
   ]
  },
  {
   "cell_type": "code",
   "execution_count": null,
   "id": "74930948-d915-40ae-9b53-628806a30b77",
   "metadata": {},
   "outputs": [],
   "source": []
  },
  {
   "cell_type": "code",
   "execution_count": null,
   "id": "1c6d27d9-ff61-4338-ab80-3610ee2e23d6",
   "metadata": {},
   "outputs": [],
   "source": []
  },
  {
   "cell_type": "code",
   "execution_count": 490,
   "id": "0f5def30-9eb1-4f3a-920c-dedadf34c375",
   "metadata": {},
   "outputs": [],
   "source": [
    "d1 = {'a':1, 'b':2, 'c':3, 'd':4, 'e':5,}\n",
    "d2 = {'f':6, 'g':7, 'h':8, 'i':9, 'j':10,}\n",
    "d3 = {'a':1, 'c':3, 'e':5, 'g':7, 'i':9,}\n",
    "d4 = {'b':2, 'd':4, 'f':6, 'h':8, 'j':10,}\n"
   ]
  },
  {
   "cell_type": "code",
   "execution_count": 498,
   "id": "33ff5660-d9dd-46e3-951e-9fe677f044e3",
   "metadata": {},
   "outputs": [
    {
     "name": "stdout",
     "output_type": "stream",
     "text": [
      "{'a': 1, 'b': 2, 'c': 3, 'd': 4, 'e': 5, 'f': 6, 'g': 7, 'h': 8, 'i': 9, 'j': 10}\n",
      "{'a': 1, 'b': 2, 'c': 3, 'd': 4, 'e': 5}\n",
      "{'a': 1, 'b': 2, 'c': 3, 'd': 4, 'e': 5, 'f': 6, 'g': 7, 'h': 8, 'i': 9, 'j': 10}\n"
     ]
    }
   ],
   "source": [
    "merge1 = {**d1, **d2, **d3, **d4}\n",
    "print(merge1)\n",
    "\n",
    "merge2 = {}\n",
    "merge2.update(d1)\n",
    "print(merge2)\n",
    "\n",
    "merge3 = d1 | d2\n",
    "print(merge3)"
   ]
  },
  {
   "cell_type": "code",
   "execution_count": null,
   "id": "3c394f40-e2de-4056-a086-a2ac04e05a23",
   "metadata": {},
   "outputs": [],
   "source": []
  },
  {
   "cell_type": "code",
   "execution_count": null,
   "id": "fdb2a006-1e3e-479b-98fc-34bf8a638a9a",
   "metadata": {},
   "outputs": [],
   "source": []
  },
  {
   "cell_type": "code",
   "execution_count": null,
   "id": "3c837c55-54cb-475a-9866-c3feca6e160d",
   "metadata": {},
   "outputs": [],
   "source": []
  },
  {
   "cell_type": "code",
   "execution_count": null,
   "id": "9a3f85a6-affd-4190-b81c-1bce77af2337",
   "metadata": {},
   "outputs": [],
   "source": []
  },
  {
   "cell_type": "code",
   "execution_count": null,
   "id": "9b6a3080-9dd4-4a14-9fe4-a68ad7b4eca6",
   "metadata": {
    "tags": []
   },
   "outputs": [],
   "source": []
  },
  {
   "cell_type": "markdown",
   "id": "f5216333-764a-48c0-bb55-061deb1601fb",
   "metadata": {},
   "source": [
    "# Text Processing with function"
   ]
  },
  {
   "cell_type": "code",
   "execution_count": 1,
   "id": "3d6061a9-baa0-40e4-a4df-bb4698ab0d93",
   "metadata": {},
   "outputs": [],
   "source": [
    " mytext = 'Woman, Life, Freedom (Kurdish: Jin, Jiyan, Azadî, ??? ????? ??????) or Woman, Life, Liberty is a popular political Kurdish slogan used in both the Kurdish independence and democratic confederalist movements.[1][2][3] The slogan became a rallying cry during the protests which occurred as a response to the death of Mahsa Amini.[4]'"
   ]
  },
  {
   "cell_type": "code",
   "execution_count": 20,
   "id": "3393e3b7-da39-4d7d-a087-a0b28b063427",
   "metadata": {},
   "outputs": [],
   "source": [
    "import string\n",
    "\n",
    "def process_text(text):\n",
    "    \"\"\"\n",
    "    Process a string of text by performing the steps below\n",
    "    - Lower case\n",
    "    - Remove all digits\n",
    "    - Remove all punctuation\n",
    "    - Remove Unnecessary Spaces\n",
    "    \n",
    "    Parameters\n",
    "    ----------\n",
    "    text : str\n",
    "        The input text to be processed.\n",
    "    \n",
    "    Returns\n",
    "    -------\n",
    "    str\n",
    "        The processed text.\n",
    "    \"\"\"\n",
    "    \n",
    "    # Convert all letters to lower case\n",
    "    text = text.lower()\n",
    "\n",
    "    # Remove all digits\n",
    "    text = ''.join(filter(lambda char: not char.isdigit(), text))\n",
    "\n",
    "    # Remove all punctuation\n",
    "    text = ''.join(filter(lambda char: char not in string.punctuation, text))\n",
    "\n",
    "    # Remove extra whitespace\n",
    "    text = ' '.join(text.split())\n",
    "    \n",
    "    return text"
   ]
  },
  {
   "cell_type": "code",
   "execution_count": 555,
   "id": "faf9d168-5f27-4585-9f04-6a565fc98373",
   "metadata": {},
   "outputs": [
    {
     "data": {
      "text/plain": [
       "'Woman, Life, Freedom (Kurdish: Jin, Jiyan, Azadî, ??? ????? ??????) or Woman, Life, Liberty is a popular political Kurdish slogan used in both the Kurdish independence and democratic confederalist movements.[1][2][3] The slogan became a rallying cry during the protests which occurred as a response to the death of Mahsa Amini.[4]'"
      ]
     },
     "execution_count": 555,
     "metadata": {},
     "output_type": "execute_result"
    }
   ],
   "source": [
    "process_text(mytext)"
   ]
  },
  {
   "cell_type": "code",
   "execution_count": null,
   "id": "1925df18-b3cb-43d1-b07b-911f3cd0c996",
   "metadata": {},
   "outputs": [],
   "source": []
  },
  {
   "cell_type": "code",
   "execution_count": null,
   "id": "9f66e506-9d32-4d26-a90c-e6a21ecec041",
   "metadata": {},
   "outputs": [],
   "source": []
  },
  {
   "cell_type": "code",
   "execution_count": null,
   "id": "4d4f92d1-5762-433a-ad18-b1e8a1e16d8f",
   "metadata": {},
   "outputs": [],
   "source": [
    "# NOTE\n",
    "\n",
    "# filter(function, itrable)\n",
    "# 'character'.join(itrable)"
   ]
  },
  {
   "cell_type": "code",
   "execution_count": null,
   "id": "7c0f363f-2d58-49f0-9183-273c3cab4948",
   "metadata": {},
   "outputs": [],
   "source": []
  },
  {
   "cell_type": "markdown",
   "id": "fb16a30b-65db-48bb-9316-d17709f9fa62",
   "metadata": {},
   "source": [
    "# Text Processing with OOP"
   ]
  },
  {
   "cell_type": "code",
   "execution_count": 65,
   "id": "bafbb3ab-15d4-435f-8334-8cd1e84786e8",
   "metadata": {},
   "outputs": [],
   "source": [
    "from abc import ABC, abstractmethod\n",
    "\n",
    "class TextProcessor(ABC):\n",
    "    \n",
    "    @abstractmethod\n",
    "    def transform(self, text):\n",
    "        pass"
   ]
  },
  {
   "cell_type": "code",
   "execution_count": 66,
   "id": "e0c64b11-d5be-478c-9383-45fddcb4858a",
   "metadata": {},
   "outputs": [],
   "source": [
    "class ConvertCase(TextProcessor):\n",
    "    def __init__(self, conversion='lower'):\n",
    "        self.conversion = conversion\n",
    "    \n",
    "    def transform(self, text):\n",
    "        if self.conversion == 'lower':\n",
    "            return text.lower()\n",
    "        elif self.conversion == 'upper':\n",
    "            return text.upper()\n",
    "        elif self.conversion == 'title':\n",
    "            return text.title()\n",
    "        \n",
    "        \n",
    "        \n",
    "        \n",
    "# solution_1: replace_char       \n",
    "class RemoveDigit(TextProcessor):\n",
    "    def __init__(self, replace_char =' '):\n",
    "        self.replace_char = replace_char\n",
    "        \n",
    "    def transform(self, text):\n",
    "        return ''.join(char if not char.isdigit() else self.replace_char for char in text)    # Conditional_Expressions = <Statement_1> if <conditional_Expression> else <Statement_2>\n",
    "\n",
    "    \n",
    "# solution_2: filter() \n",
    "# class RemoveDigit(TextProcessor):\n",
    "    \n",
    "#     def transform(self, text):\n",
    "#         return ''.join(filter(lambda char: not char.isdigit(), text))\n",
    "\n",
    "\n",
    "\n",
    "# solution_1: replace_char       \n",
    "import string\n",
    "\n",
    "class RemovePunkt(TextProcessor):\n",
    "    def __init__(self, replace_char=' '):\n",
    "        self.replace_char = replace_char\n",
    "        \n",
    "    def transform(self, text):\n",
    "        return ''.join(char if not char in string.punctuation else self.replace_char for char in text)    # Conditional_Expressions = <Statement_1> if <conditional_Expression> else <Statement_2>\n",
    "    \n",
    "    \n",
    "# solution_2: filter() \n",
    "# import string\n",
    "\n",
    "# class RemovePunkt(TextProcessor):\n",
    "    \n",
    "#     def transform(self, text):\n",
    "#         return ''.join(filter(lambda char: char not in string.punctuation, text))\n",
    "    \n",
    "    \n",
    "    \n",
    "    \n",
    "class RemoveSpace(TextProcessor):\n",
    "    \n",
    "    def transform(self, text):\n",
    "        return ' '.join(text.split())\n",
    "    \n",
    "    \n",
    "    \n",
    "    \n",
    "from unidecode import unidecode  \n",
    "\n",
    "class StripAccent(TextProcessor):\n",
    "    \n",
    "    def transform(self, text):\n",
    "        return unidecode(text)"
   ]
  },
  {
   "cell_type": "code",
   "execution_count": 67,
   "id": "ed13dcb8-baaf-442d-b505-a502ccb1dc6d",
   "metadata": {},
   "outputs": [],
   "source": [
    "# Step by step implementation of text processing classes\n",
    "class TextPipeline(TextProcessor):\n",
    "    def __init__(self, *args):\n",
    "        self.transformers = args\n",
    "        \n",
    "    def transform(self, text):\n",
    "        for tf in self.transformers:\n",
    "            text = tf.transform(text)\n",
    "            \n",
    "        return text\n",
    "    \n",
    "    \n",
    "    def __repr__(self):\n",
    "        transformers = '\\n '.join([f'Step_{i+1}: {tf.__class__.__name__}' for i, tf in enumerate(self.transformers)])  # enumerate('iterable') --> (0, i)\n",
    "        return f'Pipeline:\\n {transformers}'\n",
    "    "
   ]
  },
  {
   "cell_type": "code",
   "execution_count": 68,
   "id": "5fcf7832-ce0b-45c2-a692-5460bb30c20c",
   "metadata": {},
   "outputs": [],
   "source": [
    " mytext = 'Woman,  Life,  Freedom (Kurdish: Jin,  Jiyan,  Azadî, ??? ????? ??????) or Woman, Life, Liberty is a popular political  Kurdish  slogan  used  in both the Kurdish independence and democratic confederalist movements.[1][2][3] The slogan became a rallying cry during the protests which occurred as a response to the death of Mahsa Amini.[4]'"
   ]
  },
  {
   "cell_type": "code",
   "execution_count": 72,
   "id": "9853cdf6-60b3-4066-8309-78166c64cb17",
   "metadata": {},
   "outputs": [
    {
     "name": "stdout",
     "output_type": "stream",
     "text": [
      "Pipeline:\n",
      " Step_1: ConvertCase\n",
      " Step_2: StripAccent\n",
      " Step_3: RemoveDigit\n",
      " Step_4: RemovePunkt\n",
      " Step_5: RemoveSpace\n",
      "Woman Life Freedom Kurdish Jin Jiyan Azadi Or Woman Life Liberty Is A Popular Political Kurdish Slogan Used In Both The Kurdish Independence And Democratic Confederalist Movements The Slogan Became A Rallying Cry During The Protests Which Occurred As A Response To The Death Of Mahsa Amini\n"
     ]
    }
   ],
   "source": [
    "pipe = TextPipeline(\n",
    "    ConvertCase('title'),\n",
    "    StripAccent(),\n",
    "    RemoveDigit(replace_char=' '),\n",
    "    RemovePunkt(replace_char=' '),\n",
    "    RemoveSpace(),\n",
    ")\n",
    "\n",
    "print(pipe)\n",
    "\n",
    "print(pipe.transform(mytext))\n"
   ]
  },
  {
   "cell_type": "code",
   "execution_count": null,
   "id": "1ee50707-d7a9-43cf-ab3b-e2425b6ddb22",
   "metadata": {},
   "outputs": [],
   "source": []
  },
  {
   "cell_type": "code",
   "execution_count": null,
   "id": "a4c675ed-b6f3-4e41-9625-77608be2391d",
   "metadata": {},
   "outputs": [],
   "source": []
  },
  {
   "cell_type": "code",
   "execution_count": null,
   "id": "5b9d8cc5-8036-4699-9988-cdd4dbab1711",
   "metadata": {},
   "outputs": [],
   "source": []
  },
  {
   "cell_type": "code",
   "execution_count": null,
   "id": "4dac49b8-f968-4798-8be5-193838dce09c",
   "metadata": {},
   "outputs": [],
   "source": []
  },
  {
   "cell_type": "code",
   "execution_count": null,
   "id": "54ccfea1-99a6-4784-a951-516c9b0f3075",
   "metadata": {},
   "outputs": [],
   "source": [
    "%%writefile File_Name.format\n",
    "\n",
    "open File  ----> FN (Handler) = open('File_Name.format')\n",
    "read File  ----> FN.read()\n",
    "read a specified number of characters ----> FN.read(number)\n",
    "save the read file data in a variable  ----> data_file = FN.read()\n",
    "read File from each point  ----> Fn.seek(byte or position)\n",
    "\n",
    "\n",
    "\n"
   ]
  },
  {
   "cell_type": "code",
   "execution_count": 62,
   "id": "93f6dee6-5698-4abc-8105-4549d4c2e24a",
   "metadata": {},
   "outputs": [
    {
     "name": "stdout",
     "output_type": "stream",
     "text": [
      "Overwriting Woman_Life_Freedom.txt\n"
     ]
    }
   ],
   "source": [
    "%%writefile Woman_Life_Freedom.txt\n",
    "Nika Shakarami\n",
    "Mahsa Amini\n",
    "Kian Pirfalak\n",
    "Majidreza Rahnavard"
   ]
  },
  {
   "cell_type": "code",
   "execution_count": 63,
   "id": "c901115a-f170-4fb3-8aa7-6871c376521c",
   "metadata": {},
   "outputs": [],
   "source": [
    "handler = open('Woman_Life_Freedom.txt')"
   ]
  },
  {
   "cell_type": "code",
   "execution_count": 56,
   "id": "7b49c861-6d1f-45a0-84d0-b4e85edc1173",
   "metadata": {},
   "outputs": [],
   "source": [
    "data_fn = handler.read()"
   ]
  },
  {
   "cell_type": "code",
   "execution_count": null,
   "id": "1b5ac9e0-ebbd-4846-9ec8-c6e1b7f78347",
   "metadata": {},
   "outputs": [
    {
     "data": {
      "text/plain": [
       "0"
      ]
     },
     "execution_count": 47,
     "metadata": {},
     "output_type": "execute_result"
    }
   ],
   "source": [
    "handler.seek(0)"
   ]
  },
  {
   "cell_type": "code",
   "execution_count": null,
   "id": "6e10a561-e73b-47a4-89e7-05a1092cfcf3",
   "metadata": {},
   "outputs": [
    {
     "data": {
      "text/plain": [
       "['\\n',\n",
       " 'Nika Shakarami\\n',\n",
       " 'Mahsa Amini\\n',\n",
       " 'Kian Pirfalak\\n',\n",
       " 'Majidreza Rahnavard\\n']"
      ]
     },
     "execution_count": 48,
     "metadata": {},
     "output_type": "execute_result"
    }
   ],
   "source": [
    "handler.readlines()"
   ]
  },
  {
   "cell_type": "code",
   "execution_count": null,
   "id": "677f0817-1c51-4ccf-aba4-934dd10f41a5",
   "metadata": {},
   "outputs": [
    {
     "name": "stdout",
     "output_type": "stream",
     "text": [
      "\n",
      "\n",
      "Nika Shakarami\n",
      "\n",
      "Mahsa Amini\n",
      "\n",
      "Kian Pirfalak\n",
      "\n",
      "Majidreza Rahnavard\n",
      "\n"
     ]
    }
   ],
   "source": [
    "for name in handler:\n",
    "    print(name)"
   ]
  },
  {
   "cell_type": "code",
   "execution_count": 60,
   "id": "3269fd63-023c-4141-abe9-eb9b9a3f7842",
   "metadata": {},
   "outputs": [
    {
     "data": {
      "text/plain": [
       "'Ki'"
      ]
     },
     "execution_count": 61,
     "metadata": {},
     "output_type": "execute_result"
    }
   ],
   "source": [
    "handler.readline(2)"
   ]
  },
  {
   "cell_type": "code",
   "execution_count": 100,
   "id": "c3df1a02-46ed-4bba-890b-4df60f694e57",
   "metadata": {},
   "outputs": [
    {
     "name": "stdout",
     "output_type": "stream",
     "text": [
      "Overwriting linecunter.txt\n"
     ]
    }
   ],
   "source": [
    "%%writefile linecunter.txt\n",
    "this is line 1\n",
    "this is line 2\n",
    "this is line 3\n",
    "this is line 4\n",
    "this is line 5\n",
    "this is line 6"
   ]
  },
  {
   "cell_type": "code",
   "execution_count": 101,
   "id": "b882bac3-eab0-4155-9ef2-fa3ac022fc08",
   "metadata": {},
   "outputs": [],
   "source": [
    "f = open('linecunter.txt', 'w')"
   ]
  },
  {
   "cell_type": "code",
   "execution_count": 93,
   "id": "8e469188-097a-478b-a6af-e000eb197994",
   "metadata": {},
   "outputs": [
    {
     "data": {
      "text/plain": [
       "15"
      ]
     },
     "execution_count": 93,
     "metadata": {},
     "output_type": "execute_result"
    }
   ],
   "source": [
    "f.write('this is line 7\\n')"
   ]
  },
  {
   "cell_type": "code",
   "execution_count": 102,
   "id": "843e8d06-3f09-45ca-bf14-eca7faf715db",
   "metadata": {},
   "outputs": [],
   "source": [
    "f.close()"
   ]
  },
  {
   "cell_type": "code",
   "execution_count": 103,
   "id": "ffe8b28c-6ec2-45ac-bb8d-1eeee994706f",
   "metadata": {},
   "outputs": [],
   "source": [
    "f = open('linecunter.txt')"
   ]
  },
  {
   "cell_type": "code",
   "execution_count": 104,
   "id": "eae6d6d7-8afc-464a-8c1c-7a6c1ac47bdf",
   "metadata": {},
   "outputs": [
    {
     "data": {
      "text/plain": [
       "[]"
      ]
     },
     "execution_count": 104,
     "metadata": {},
     "output_type": "execute_result"
    }
   ],
   "source": [
    "f.readlines()"
   ]
  },
  {
   "cell_type": "code",
   "execution_count": 105,
   "id": "4dc1a0a4-8427-4818-8208-f361567ed4e5",
   "metadata": {},
   "outputs": [],
   "source": [
    "with open('linecunter.txt', 'w') as f:\n",
    "    f.write('this is line 1\\n')\n",
    "    f.write('this is line 2\\n'.title())"
   ]
  },
  {
   "cell_type": "code",
   "execution_count": 107,
   "id": "213deb41-b49e-4322-b6e4-59326c255ffa",
   "metadata": {},
   "outputs": [
    {
     "name": "stdout",
     "output_type": "stream",
     "text": [
      "Writing myfile.text\n"
     ]
    }
   ],
   "source": [
    "%%writefile myfile.text\n",
    "this is a test file"
   ]
  },
  {
   "cell_type": "code",
   "execution_count": 135,
   "id": "63fe6bd4-3df6-414b-b3e1-1758dc33729e",
   "metadata": {},
   "outputs": [
    {
     "name": "stdout",
     "output_type": "stream",
     "text": [
      "Append a new line\n",
      "Append a new line\n",
      "\n"
     ]
    }
   ],
   "source": [
    "with open('myfile.text', 'r+') as f:\n",
    "    print(f.read())\n",
    "    f.write('Append a new line\\n')"
   ]
  },
  {
   "cell_type": "code",
   "execution_count": null,
   "id": "c27d7a26-8691-44a3-b521-d858708350ca",
   "metadata": {},
   "outputs": [],
   "source": []
  },
  {
   "cell_type": "code",
   "execution_count": null,
   "id": "7ea521c1-bdec-4ddc-8bed-2a7a17c38f80",
   "metadata": {},
   "outputs": [],
   "source": []
  }
 ],
 "metadata": {
  "kernelspec": {
   "display_name": "Python 3 (ipykernel)",
   "language": "python",
   "name": "python3"
  },
  "language_info": {
   "codemirror_mode": {
    "name": "ipython",
    "version": 3
   },
   "file_extension": ".py",
   "mimetype": "text/x-python",
   "name": "python",
   "nbconvert_exporter": "python",
   "pygments_lexer": "ipython3",
   "version": "3.11.9"
  }
 },
 "nbformat": 4,
 "nbformat_minor": 5
}
