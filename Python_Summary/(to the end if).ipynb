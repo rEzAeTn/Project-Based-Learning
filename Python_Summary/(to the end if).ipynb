{
 "cells": [
  {
   "cell_type": "code",
   "execution_count": 2,
   "id": "cb8d31ba-8e68-4181-95d1-fe6c70d9fd7b",
   "metadata": {},
   "outputs": [
    {
     "name": "stdin",
     "output_type": "stream",
     "text": [
      " Inter a number  rezz\n"
     ]
    },
    {
     "ename": "ValueError",
     "evalue": "invalid literal for int() with base 10: 'rezz'",
     "output_type": "error",
     "traceback": [
      "\u001b[0;31m---------------------------------------------------------------------------\u001b[0m",
      "\u001b[0;31mValueError\u001b[0m                                Traceback (most recent call last)",
      "Input \u001b[0;32mIn [2]\u001b[0m, in \u001b[0;36m<cell line: 1>\u001b[0;34m()\u001b[0m\n\u001b[0;32m----> 1\u001b[0m input_1 \u001b[38;5;241m=\u001b[39m \u001b[38;5;28;43mint\u001b[39;49m\u001b[43m(\u001b[49m\u001b[38;5;28;43minput\u001b[39;49m\u001b[43m(\u001b[49m\u001b[38;5;124;43m\"\u001b[39;49m\u001b[38;5;124;43m Inter a number \u001b[39;49m\u001b[38;5;124;43m\"\u001b[39;49m\u001b[43m)\u001b[49m\u001b[43m)\u001b[49m\n",
      "\u001b[0;31mValueError\u001b[0m: invalid literal for int() with base 10: 'rezz'"
     ]
    }
   ],
   "source": [
    "input_1 = int(input(\" Inter a number \"))"
   ]
  },
  {
   "cell_type": "code",
   "execution_count": null,
   "id": "46cfdc87-232e-4fa6-bd87-54cf0142bc03",
   "metadata": {},
   "outputs": [],
   "source": [
    "input_2 = int(input(\" Again inter a number \" ))"
   ]
  },
  {
   "cell_type": "code",
   "execution_count": null,
   "id": "085388ff-9349-43a0-bf3a-78b32b3e4930",
   "metadata": {},
   "outputs": [],
   "source": [
    "input_sum = input_1 + input_2\n",
    "print('sum: ', input_sum)"
   ]
  },
  {
   "cell_type": "code",
   "execution_count": 1,
   "id": "2c72068d-fd02-4426-ba44-1c01e94d6634",
   "metadata": {},
   "outputs": [
    {
     "ename": "NameError",
     "evalue": "name 'input_1' is not defined",
     "output_type": "error",
     "traceback": [
      "\u001b[0;31m---------------------------------------------------------------------------\u001b[0m",
      "\u001b[0;31mNameError\u001b[0m                                 Traceback (most recent call last)",
      "Input \u001b[0;32mIn [1]\u001b[0m, in \u001b[0;36m<cell line: 1>\u001b[0;34m()\u001b[0m\n\u001b[0;32m----> 1\u001b[0m tmp1 \u001b[38;5;241m=\u001b[39m \u001b[43minput_1\u001b[49m\n\u001b[1;32m      2\u001b[0m tmp2 \u001b[38;5;241m=\u001b[39m input_2\n",
      "\u001b[0;31mNameError\u001b[0m: name 'input_1' is not defined"
     ]
    }
   ],
   "source": [
    "tmp1 = input_1\n",
    "tmp2 = input_2"
   ]
  },
  {
   "cell_type": "code",
   "execution_count": null,
   "id": "776cc24c-fc53-4712-8b77-05c7a97e52ea",
   "metadata": {},
   "outputs": [],
   "source": [
    "# Quick Swap\n",
    "input_1, input_2 = input_2, input_1"
   ]
  },
  {
   "cell_type": "code",
   "execution_count": null,
   "id": "29e13aa0-f288-438e-8db5-f38bbc653aaa",
   "metadata": {},
   "outputs": [],
   "source": [
    "print('sowap: ', '\\n', tmp1, '\\u2192', input_1, '\\n', tmp2, '\\u2192', input_2)"
   ]
  },
  {
   "cell_type": "code",
   "execution_count": null,
   "id": "fd2af5d8-a28d-4d37-bd8d-3edf2e309abb",
   "metadata": {},
   "outputs": [],
   "source": []
  },
  {
   "cell_type": "code",
   "execution_count": null,
   "id": "1f45ad13-c0d6-4fd7-96b1-75270b8c8c27",
   "metadata": {},
   "outputs": [],
   "source": []
  },
  {
   "cell_type": "code",
   "execution_count": null,
   "id": "6a4cc5ca-17a4-4d4d-a067-67f1619af728",
   "metadata": {},
   "outputs": [],
   "source": [
    "num_list = [1, 3, 6, 10, 15, 21, 28, 36, 45, 55, 66, 78]"
   ]
  },
  {
   "cell_type": "code",
   "execution_count": null,
   "id": "65ed35e9-4c07-454e-b32d-f585bb17a7e0",
   "metadata": {},
   "outputs": [],
   "source": [
    "first_element = num_list[0]"
   ]
  },
  {
   "cell_type": "code",
   "execution_count": null,
   "id": "5783535c-c2e8-4155-bef5-a8874943ffef",
   "metadata": {},
   "outputs": [],
   "source": [
    "third_element = num_list[2]"
   ]
  },
  {
   "cell_type": "code",
   "execution_count": null,
   "id": "24e6a57a-aa38-4221-8416-f34d055fba83",
   "metadata": {},
   "outputs": [],
   "source": [
    "last_element = num_list[-1]\n",
    "# last_element = len(num_list) -1"
   ]
  },
  {
   "cell_type": "code",
   "execution_count": null,
   "id": "639daea0-f366-4ed5-86d2-0a6d9ec0923b",
   "metadata": {},
   "outputs": [],
   "source": [
    "print(f\"\"\"\n",
    "First element \\u2192 {first_element}\n",
    "Third element \\u2192 {third_element}\n",
    "Last element  \\u2192 {last_element}\n",
    "\"\"\")"
   ]
  },
  {
   "cell_type": "code",
   "execution_count": null,
   "id": "fe75a326-fe28-4f2e-b52a-f4cfe591e6e2",
   "metadata": {},
   "outputs": [],
   "source": []
  },
  {
   "cell_type": "code",
   "execution_count": null,
   "id": "3e61b039-0125-497a-83d2-5883c6bbacdd",
   "metadata": {},
   "outputs": [],
   "source": []
  },
  {
   "cell_type": "markdown",
   "id": "4cef7a26-b7bf-4f27-9851-d922da26f223",
   "metadata": {},
   "source": [
    "## Replace List Items with New Values"
   ]
  },
  {
   "cell_type": "code",
   "execution_count": null,
   "id": "fd16361b-414c-4d74-a649-d11c383cb9c7",
   "metadata": {},
   "outputs": [],
   "source": [
    "grades = [14, 12, 19, 14, 15, 17.5, 18, 10.25, 9.75, 19, 9.75, 12, 11.25, 17, 18, 13, 13, 15, 19, 18.5]"
   ]
  },
  {
   "cell_type": "code",
   "execution_count": null,
   "id": "9465adf8-7fd9-4430-9124-603d6cb23c6b",
   "metadata": {},
   "outputs": [],
   "source": [
    "grades.index(9.75)"
   ]
  },
  {
   "cell_type": "code",
   "execution_count": null,
   "id": "25af1390-f988-40a1-ab9a-272deec59632",
   "metadata": {},
   "outputs": [],
   "source": [
    "grades[8] = 10"
   ]
  },
  {
   "cell_type": "code",
   "execution_count": null,
   "id": "066ea93c-9208-48db-885c-9b5365a26855",
   "metadata": {},
   "outputs": [],
   "source": [
    "print(grades)"
   ]
  },
  {
   "cell_type": "code",
   "execution_count": null,
   "id": "396b6baf-ba9e-4913-b446-b151e0a815ec",
   "metadata": {},
   "outputs": [],
   "source": [
    "# نمایش تمامی المان های مشابه و یکسان داخل یک لیست\n",
    "# و اعمال تغییرات روی آنها به صورت اتوماتیک"
   ]
  },
  {
   "cell_type": "code",
   "execution_count": null,
   "id": "6a778bf0-d39e-4419-8cf7-829426f3d288",
   "metadata": {},
   "outputs": [],
   "source": []
  },
  {
   "cell_type": "code",
   "execution_count": null,
   "id": "2259b9d5-5eb7-4a8b-b8e2-b6c5c5f3249b",
   "metadata": {},
   "outputs": [],
   "source": []
  },
  {
   "cell_type": "markdown",
   "id": "35c7d8c5-b96c-45af-ad9e-a99685bd991b",
   "metadata": {},
   "source": [
    "## List Memory Usage"
   ]
  },
  {
   "cell_type": "code",
   "execution_count": null,
   "id": "c78ae8db-dfc7-4536-9ff3-ed14a6f5e8aa",
   "metadata": {},
   "outputs": [],
   "source": [
    "a = 300\n",
    "b = 124\n",
    "mylist = [300, 124, 100]"
   ]
  },
  {
   "cell_type": "code",
   "execution_count": null,
   "id": "3b920355-09dc-47c9-a06e-6857c369d03a",
   "metadata": {},
   "outputs": [],
   "source": [
    "id(a) != id(mylist[0]) and id(b) == id(mylist[1]) "
   ]
  },
  {
   "cell_type": "code",
   "execution_count": null,
   "id": "54ea0014-ba77-4203-8628-0d1b15997cef",
   "metadata": {},
   "outputs": [],
   "source": []
  },
  {
   "cell_type": "code",
   "execution_count": null,
   "id": "16d0154a-772f-4a43-9253-b3525af93b91",
   "metadata": {},
   "outputs": [],
   "source": []
  },
  {
   "cell_type": "markdown",
   "id": "c0dbd10b-47fe-4f3d-885e-f6c6656f1c3b",
   "metadata": {},
   "source": [
    "## List Subset"
   ]
  },
  {
   "cell_type": "code",
   "execution_count": null,
   "id": "eb56e019-b7bb-44fc-bf3b-0bff5fa27a8b",
   "metadata": {},
   "outputs": [],
   "source": [
    "colors = ['red', 'blue', 'green', 'yellow', 'brown', 'pink']"
   ]
  },
  {
   "cell_type": "code",
   "execution_count": null,
   "id": "0bbfd029-bf78-4091-8c65-5791a3c98109",
   "metadata": {},
   "outputs": [],
   "source": [
    "bl_gr = colors[1:3]"
   ]
  },
  {
   "cell_type": "code",
   "execution_count": null,
   "id": "dbf73922-6862-4da3-a6a1-73e3af3b0f61",
   "metadata": {},
   "outputs": [],
   "source": [
    "re_gr_br = colors[1:5:2]"
   ]
  },
  {
   "cell_type": "code",
   "execution_count": null,
   "id": "a8f1a6aa-8834-4a8b-8630-2c3b82253a7a",
   "metadata": {},
   "outputs": [],
   "source": [
    "pk_br_yl = colors[-1:-4:-1]"
   ]
  },
  {
   "cell_type": "code",
   "execution_count": null,
   "id": "888eccb9-1651-43f6-a612-9c0a05163fbc",
   "metadata": {},
   "outputs": [],
   "source": [
    "# pk_br_yl = colors[3:]\n",
    "# pk_br_yl[ : :-1]"
   ]
  },
  {
   "cell_type": "code",
   "execution_count": null,
   "id": "3d07464b-14ce-4fe0-b2e2-2df201d77ad3",
   "metadata": {},
   "outputs": [],
   "source": [
    "print(f\"\"\"\n",
    "bl_gr    \\u2192 {bl_gr}\n",
    "re_gr_br \\u2192 {re_gr_br}\n",
    "pk_br_yl \\u2192 {pk_br_yl}\n",
    "\"\"\")"
   ]
  },
  {
   "cell_type": "code",
   "execution_count": null,
   "id": "2eaa30e7-a71a-414d-930f-7577549b7c63",
   "metadata": {},
   "outputs": [],
   "source": []
  },
  {
   "cell_type": "code",
   "execution_count": null,
   "id": "4e937e74-7e0b-4197-b9bc-5a6d871d720c",
   "metadata": {},
   "outputs": [],
   "source": []
  },
  {
   "cell_type": "markdown",
   "id": "f8f6d6c2-3bc6-49e2-9900-c211c6b13736",
   "metadata": {},
   "source": [
    "## Nested List Indexing"
   ]
  },
  {
   "cell_type": "code",
   "execution_count": null,
   "id": "3e4e31e5-0e5a-4044-864e-ba72cbe05400",
   "metadata": {},
   "outputs": [],
   "source": [
    "persian_gulf_standing = [\n",
    "    ['Esteghlel F.C', 1],\n",
    "    ['Sepahan', 2],\n",
    "    ['Perspolis', 3],\n",
    "    ['Gol Gohar', 4],\n",
    "    ['Foolad', 5]\n",
    "]"
   ]
  },
  {
   "cell_type": "code",
   "execution_count": null,
   "id": "ec81c563-5805-49ad-8f84-42b9617a1976",
   "metadata": {},
   "outputs": [],
   "source": [
    "forth_team = persian_gulf_standing[3][0]\n",
    "print(forth_team)"
   ]
  },
  {
   "cell_type": "code",
   "execution_count": null,
   "id": "8c4b609b-2ba6-4dcd-81f9-5a6b027e2973",
   "metadata": {},
   "outputs": [],
   "source": []
  },
  {
   "cell_type": "code",
   "execution_count": null,
   "id": "1195cfe0-4b56-412c-a9f5-7e749725d341",
   "metadata": {},
   "outputs": [],
   "source": []
  },
  {
   "cell_type": "markdown",
   "id": "ba6c84a5-4525-4e2a-9639-6a3823eab32e",
   "metadata": {},
   "source": [
    "## the Smallest & Largest Number In List"
   ]
  },
  {
   "cell_type": "code",
   "execution_count": 8,
   "id": "a5522706-aa3f-4afa-8e1c-dac3dadd3c4b",
   "metadata": {
    "tags": []
   },
   "outputs": [],
   "source": [
    "num_list = [38, 55, 68, 20, 12, 80, 70, 88, 98,]"
   ]
  },
  {
   "cell_type": "code",
   "execution_count": 9,
   "id": "55cd943e-0d6e-4237-b601-061dbea45b38",
   "metadata": {
    "tags": []
   },
   "outputs": [],
   "source": [
    "#  Solution_1\n",
    "num_list_sort = sorted(num_list)"
   ]
  },
  {
   "cell_type": "code",
   "execution_count": 10,
   "id": "1f432e5d-fa88-4e98-b7a9-2617512d2ef0",
   "metadata": {
    "tags": []
   },
   "outputs": [
    {
     "name": "stdin",
     "output_type": "stream",
     "text": [
      "Which Largest Number In List?\n",
      "insert a number: 98\n"
     ]
    }
   ],
   "source": [
    "input_largest_number = int(input('''Which Largest Number In List?\n",
    "insert a number:'''))"
   ]
  },
  {
   "cell_type": "code",
   "execution_count": 11,
   "id": "dae1c144-2d63-4373-ae60-83bf75906bee",
   "metadata": {
    "tags": []
   },
   "outputs": [
    {
     "ename": "IndexError",
     "evalue": "list index out of range",
     "output_type": "error",
     "traceback": [
      "\u001b[0;31m---------------------------------------------------------------------------\u001b[0m",
      "\u001b[0;31mIndexError\u001b[0m                                Traceback (most recent call last)",
      "Cell \u001b[0;32mIn[11], line 2\u001b[0m\n\u001b[1;32m      1\u001b[0m aa \u001b[38;5;241m=\u001b[39m \u001b[38;5;241m-\u001b[39m(input_largest_number)\n\u001b[0;32m----> 2\u001b[0m largest_number_in_list \u001b[38;5;241m=\u001b[39m num_list_sort[aa]\n",
      "\u001b[0;31mIndexError\u001b[0m: list index out of range"
     ]
    }
   ],
   "source": [
    "aa = -(input_largest_number)\n",
    "largest_number_in_list = num_list_sort[aa]"
   ]
  },
  {
   "cell_type": "code",
   "execution_count": 5,
   "id": "fb6baa88-8245-4935-96b1-e29f4877c195",
   "metadata": {
    "tags": []
   },
   "outputs": [
    {
     "name": "stdin",
     "output_type": "stream",
     "text": [
      "Which Smalest Number In List?\n",
      "insert a number: 38\n"
     ]
    }
   ],
   "source": [
    "input_smalest_number = int(input('''Which Smalest Number In List?\n",
    "insert a number:'''))"
   ]
  },
  {
   "cell_type": "code",
   "execution_count": 6,
   "id": "ad931bf9-2226-4861-945e-15c4e3eccffe",
   "metadata": {
    "tags": []
   },
   "outputs": [
    {
     "ename": "IndexError",
     "evalue": "list index out of range",
     "output_type": "error",
     "traceback": [
      "\u001b[0;31m---------------------------------------------------------------------------\u001b[0m",
      "\u001b[0;31mIndexError\u001b[0m                                Traceback (most recent call last)",
      "Cell \u001b[0;32mIn[6], line 2\u001b[0m\n\u001b[1;32m      1\u001b[0m bb \u001b[38;5;241m=\u001b[39m (input_smalest_number) \u001b[38;5;241m-\u001b[39m \u001b[38;5;241m1\u001b[39m \n\u001b[0;32m----> 2\u001b[0m smalest_number_in_list \u001b[38;5;241m=\u001b[39m num_list_sort[bb]\n",
      "\u001b[0;31mIndexError\u001b[0m: list index out of range"
     ]
    }
   ],
   "source": [
    "bb = (input_smalest_number) - 1 \n",
    "smalest_number_in_list = num_list_sort[bb]"
   ]
  },
  {
   "cell_type": "code",
   "execution_count": 7,
   "id": "ead5634a-d4f3-412f-97da-24d763fdc667",
   "metadata": {
    "tags": []
   },
   "outputs": [
    {
     "ename": "NameError",
     "evalue": "name 'largest_number_in_list' is not defined",
     "output_type": "error",
     "traceback": [
      "\u001b[0;31m---------------------------------------------------------------------------\u001b[0m",
      "\u001b[0;31mNameError\u001b[0m                                 Traceback (most recent call last)",
      "Cell \u001b[0;32mIn[7], line 7\u001b[0m\n\u001b[1;32m      1\u001b[0m \u001b[38;5;28mprint\u001b[39m(\u001b[38;5;124mf\u001b[39m\u001b[38;5;124m'''\u001b[39m\n\u001b[1;32m      2\u001b[0m \n\u001b[1;32m      3\u001b[0m \u001b[38;5;124mList of sorted numbers \u001b[39m\u001b[38;5;130;01m\\u2192\u001b[39;00m\u001b[38;5;124m \u001b[39m\u001b[38;5;132;01m{\u001b[39;00mnum_list_sort\u001b[38;5;132;01m}\u001b[39;00m\n\u001b[1;32m      4\u001b[0m \u001b[38;5;124mList size       \u001b[39m\u001b[38;5;130;01m\\u2192\u001b[39;00m\u001b[38;5;124m \u001b[39m\u001b[38;5;132;01m{\u001b[39;00m\u001b[38;5;28mlen\u001b[39m(num_list)\u001b[38;5;132;01m}\u001b[39;00m\n\u001b[1;32m      5\u001b[0m \u001b[38;5;124mMinimum nembers \u001b[39m\u001b[38;5;130;01m\\u2192\u001b[39;00m\u001b[38;5;124m \u001b[39m\u001b[38;5;132;01m{\u001b[39;00m\u001b[38;5;28mmin\u001b[39m(num_list)\u001b[38;5;132;01m}\u001b[39;00m\n\u001b[1;32m      6\u001b[0m \u001b[38;5;124mMaximum numbers \u001b[39m\u001b[38;5;130;01m\\u2192\u001b[39;00m\u001b[38;5;124m \u001b[39m\u001b[38;5;132;01m{\u001b[39;00m\u001b[38;5;28mmax\u001b[39m(num_list)\u001b[38;5;132;01m}\u001b[39;00m\n\u001b[0;32m----> 7\u001b[0m \u001b[38;5;132;01m{\u001b[39;00minput_largest_number\u001b[38;5;132;01m}\u001b[39;00m\u001b[38;5;124m  Largest Number In List \u001b[39m\u001b[38;5;130;01m\\u2192\u001b[39;00m\u001b[38;5;124m \u001b[39m\u001b[38;5;132;01m{\u001b[39;00mlargest_number_in_list\u001b[38;5;132;01m}\u001b[39;00m\n\u001b[1;32m      8\u001b[0m \u001b[38;5;132;01m{\u001b[39;00minput_smalest_number\u001b[38;5;132;01m}\u001b[39;00m\u001b[38;5;124m  Smalest Number In List \u001b[39m\u001b[38;5;130;01m\\u2192\u001b[39;00m\u001b[38;5;124m \u001b[39m\u001b[38;5;132;01m{\u001b[39;00msmalest_number_in_list\u001b[38;5;132;01m}\u001b[39;00m\n\u001b[1;32m      9\u001b[0m \u001b[38;5;124m'''\u001b[39m)\n",
      "\u001b[0;31mNameError\u001b[0m: name 'largest_number_in_list' is not defined"
     ]
    }
   ],
   "source": [
    "print(f'''\n",
    "\n",
    "List of sorted numbers \\u2192 {num_list_sort}\n",
    "List size       \\u2192 {len(num_list)}\n",
    "Minimum nembers \\u2192 {min(num_list)}\n",
    "Maximum numbers \\u2192 {max(num_list)}\n",
    "{input_largest_number}  Largest Number In List \\u2192 {largest_number_in_list}\n",
    "{input_smalest_number}  Smalest Number In List \\u2192 {smalest_number_in_list}\n",
    "''')"
   ]
  },
  {
   "cell_type": "code",
   "execution_count": null,
   "id": "43f72f14-c875-4cf5-813d-0d01d0e036f6",
   "metadata": {},
   "outputs": [],
   "source": []
  },
  {
   "cell_type": "code",
   "execution_count": null,
   "id": "1dfdd000-2804-4be5-9902-6e61d776761a",
   "metadata": {},
   "outputs": [],
   "source": []
  },
  {
   "cell_type": "markdown",
   "id": "d60dbbcf-fb0d-461e-bf74-870707ab0440",
   "metadata": {},
   "source": [
    "## List: Max, Min, Sum and Mean"
   ]
  },
  {
   "cell_type": "code",
   "execution_count": null,
   "id": "85e4b429-2e5c-4534-ace1-edcc9b7266e3",
   "metadata": {},
   "outputs": [],
   "source": [
    "random_num_data = [18, 60, -10, 17, 55, 8, -1, 31, 52, 31,\n",
    "                    27, 14, 25, 0, -2, 15, -1, 50, 45, -4,\n",
    "                    42, -10, 40, 3, 43, 55, 24, -17, 17, 54, \n",
    "                    19, 24, 44, 30, 24, 3, -17, 31, 45, -10, \n",
    "                    13, -12, 21, -13, 52, 57, -1, 37, 21, 42]"
   ]
  },
  {
   "cell_type": "code",
   "execution_count": null,
   "id": "c84e3f41-3a3d-4212-9f9d-33b694c9e32a",
   "metadata": {},
   "outputs": [],
   "source": [
    "minimum = min(random_num_data)"
   ]
  },
  {
   "cell_type": "code",
   "execution_count": null,
   "id": "47050491-a9dc-4214-bdc0-5c5bba263acb",
   "metadata": {},
   "outputs": [],
   "source": [
    "maximum = max(random_num_data)"
   ]
  },
  {
   "cell_type": "code",
   "execution_count": null,
   "id": "ca4b3076-7d4b-4229-af99-d0606c90704c",
   "metadata": {},
   "outputs": [],
   "source": [
    "sum_of_data = sum(random_num_data)"
   ]
  },
  {
   "cell_type": "code",
   "execution_count": null,
   "id": "855d0350-f262-4cf4-b9f2-9df9428a16d9",
   "metadata": {},
   "outputs": [],
   "source": [
    "mean_of_data = sum_of_data / len(random_num_data)"
   ]
  },
  {
   "cell_type": "code",
   "execution_count": null,
   "id": "ef211257-b2ee-47f3-83a8-4ab8d1df2177",
   "metadata": {},
   "outputs": [],
   "source": [
    "print(f'''\n",
    "Minimum of data  = {minimum}\n",
    "Maximum of data = {maximum}\n",
    "sum of data = {sum_of_data}\n",
    "mean of data  = {mean_of_data}\n",
    "''')"
   ]
  },
  {
   "cell_type": "code",
   "execution_count": null,
   "id": "45ed7c5d-fd84-4dea-a489-0c2e986e7d69",
   "metadata": {},
   "outputs": [],
   "source": []
  },
  {
   "cell_type": "code",
   "execution_count": null,
   "id": "b0224a6c-c631-4792-b4bc-b946679ce2f2",
   "metadata": {},
   "outputs": [],
   "source": []
  },
  {
   "cell_type": "markdown",
   "id": "14452a03-d98e-4e75-b1bd-37dd3b0686b0",
   "metadata": {},
   "source": [
    "## Simple Tuple Indexing"
   ]
  },
  {
   "cell_type": "code",
   "execution_count": null,
   "id": "36c71b39-f671-42bf-a0c2-b2f06db21a0b",
   "metadata": {},
   "outputs": [],
   "source": [
    "mixed_tuple = (\"Orange\", [10, 20, 30], (5, 15, 25))"
   ]
  },
  {
   "cell_type": "code",
   "execution_count": null,
   "id": "5a94b6eb-85a7-4d5f-bba4-aef0a314ea2b",
   "metadata": {},
   "outputs": [],
   "source": [
    "value_20 = mixed_tuple[1][1]\n",
    "print(value_20)"
   ]
  },
  {
   "cell_type": "code",
   "execution_count": null,
   "id": "6ee33da2-96f2-4a8a-a0b7-4b97e9a029b3",
   "metadata": {},
   "outputs": [],
   "source": [
    "char_g = mixed_tuple[0][4]    # char_g[4]\n",
    "print(char_g)"
   ]
  },
  {
   "cell_type": "code",
   "execution_count": null,
   "id": "c88fa7ab-eb84-4e44-9a58-63ab2791ff4f",
   "metadata": {},
   "outputs": [],
   "source": []
  },
  {
   "cell_type": "code",
   "execution_count": null,
   "id": "093bdc44-4a17-4a0a-b1f6-5fb693c9df17",
   "metadata": {},
   "outputs": [],
   "source": []
  },
  {
   "cell_type": "markdown",
   "id": "c81a5e5d-8d0a-4c0a-8f49-b50fe1d7d071",
   "metadata": {},
   "source": [
    "## Reverse Tuple"
   ]
  },
  {
   "cell_type": "code",
   "execution_count": null,
   "id": "95a9e488-08eb-49ed-a58f-e648ad4137e4",
   "metadata": {},
   "outputs": [],
   "source": [
    "num_tup = (10, 20, 30, 40, 50) "
   ]
  },
  {
   "cell_type": "code",
   "execution_count": null,
   "id": "ec1c5585-e068-4d3a-9c42-214aeb10f954",
   "metadata": {},
   "outputs": [],
   "source": [
    "reverse_num_tup = num_tup[ : :-1]\n",
    "print(reverse_num_tup)"
   ]
  },
  {
   "cell_type": "code",
   "execution_count": null,
   "id": "893b4180-42b1-45a9-99e1-cb4bfe8f2e5b",
   "metadata": {},
   "outputs": [],
   "source": []
  },
  {
   "cell_type": "code",
   "execution_count": null,
   "id": "6af4863d-989b-4b5e-8d11-9283b74a7f95",
   "metadata": {},
   "outputs": [],
   "source": []
  },
  {
   "cell_type": "markdown",
   "id": "5e77f7e7-0b89-4261-a7b9-91a05a48e649",
   "metadata": {},
   "source": [
    "## Unpack Tuple"
   ]
  },
  {
   "cell_type": "code",
   "execution_count": null,
   "id": "34a09c47-9d4f-4eaf-bf9c-360fb8491d96",
   "metadata": {},
   "outputs": [],
   "source": [
    "shahnameh_tuple = ('Sohrab', 'Faramarz', 'Jahangir', 'Siyavash')"
   ]
  },
  {
   "cell_type": "code",
   "execution_count": null,
   "id": "8bfb9da7-87c5-4ea4-911b-be911451df05",
   "metadata": {},
   "outputs": [],
   "source": [
    "name1, name2, name3, name4 = shahnameh_tuple"
   ]
  },
  {
   "cell_type": "code",
   "execution_count": null,
   "id": "5f84a9b7-d6a5-48b0-9fda-ce1bf6f5c6cd",
   "metadata": {},
   "outputs": [],
   "source": [
    "print(name1, name2, name3, name4)"
   ]
  },
  {
   "cell_type": "code",
   "execution_count": null,
   "id": "965ead90-850b-4f95-be6e-43fb3b57dbd1",
   "metadata": {},
   "outputs": [],
   "source": [
    "name1, *_, name4 = shahnameh_tuple \n",
    "#  متغییر های که نمیخوایم با * میریزیمشون تو یه لیست دیگه"
   ]
  },
  {
   "cell_type": "code",
   "execution_count": null,
   "id": "69ac2271-8a7b-4d0c-a500-495666aeb20d",
   "metadata": {},
   "outputs": [],
   "source": [
    "print(name1, _, name4)"
   ]
  },
  {
   "cell_type": "code",
   "execution_count": null,
   "id": "92726e1d-ffc8-45cd-98a5-2c6339e1a08c",
   "metadata": {},
   "outputs": [],
   "source": []
  },
  {
   "cell_type": "code",
   "execution_count": null,
   "id": "0476d210-740e-4c9a-a648-5792aad79a3d",
   "metadata": {},
   "outputs": [],
   "source": []
  },
  {
   "cell_type": "markdown",
   "id": "7f868e53-13c5-479b-9839-ed7811b8da7f",
   "metadata": {},
   "source": [
    "## Simple Tuple Indexing 2"
   ]
  },
  {
   "cell_type": "code",
   "execution_count": null,
   "id": "38d319d4-505f-4e7d-b254-188f3261e9cd",
   "metadata": {},
   "outputs": [],
   "source": [
    "tuple1 = (11, 22, 33, 44, 55, 66)"
   ]
  },
  {
   "cell_type": "code",
   "execution_count": null,
   "id": "846798f7-de8f-40c2-b224-d8312571dcea",
   "metadata": {},
   "outputs": [],
   "source": [
    "tuple2 = tuple1[3:5]\n",
    "print(tuple2)"
   ]
  },
  {
   "cell_type": "code",
   "execution_count": null,
   "id": "52958d8a-f8db-4210-8831-9967a55aba42",
   "metadata": {},
   "outputs": [],
   "source": []
  },
  {
   "cell_type": "code",
   "execution_count": null,
   "id": "c36144e7-e3a9-4795-9da1-5e055ffe08ad",
   "metadata": {},
   "outputs": [],
   "source": []
  },
  {
   "cell_type": "markdown",
   "id": "9e25e6fc-6e93-42bc-b274-85a670acf011",
   "metadata": {},
   "source": [
    "## Tuple: Remove an Item"
   ]
  },
  {
   "cell_type": "code",
   "execution_count": null,
   "id": "ac7a7903-0b8e-4976-b51c-863c10e83463",
   "metadata": {},
   "outputs": [],
   "source": [
    "persian_poets = ('saadi', 'frough', 'hafez', 'parvin', 'saeb')"
   ]
  },
  {
   "cell_type": "code",
   "execution_count": null,
   "id": "8a23ca28-8d95-455a-a982-88d4abe25b62",
   "metadata": {},
   "outputs": [],
   "source": [
    "# persian_poets_wo_hafez = del persian_poets[-3]\n",
    "# Not us del --- because Tuple is immutable"
   ]
  },
  {
   "cell_type": "code",
   "execution_count": null,
   "id": "dba06aee-7f92-4a96-b8cd-9c6ac6bffb00",
   "metadata": {},
   "outputs": [],
   "source": [
    "persian_poets_wo_hafez = persian_poets[ :2] + persian_poets[3: ]"
   ]
  },
  {
   "cell_type": "code",
   "execution_count": null,
   "id": "544bf5d6-0642-463c-bcb6-47785c0a4d78",
   "metadata": {},
   "outputs": [],
   "source": [
    "persian_poets_wo_hafez"
   ]
  },
  {
   "cell_type": "code",
   "execution_count": null,
   "id": "8794d4c6-81e9-48c6-9cc0-8df83219db6c",
   "metadata": {},
   "outputs": [],
   "source": [
    "# Solution_2\n",
    "# persian_poets_wo_hafez2 = tuple(list(persian_poets).remove('hafez'))"
   ]
  },
  {
   "cell_type": "code",
   "execution_count": null,
   "id": "34f1527f-fc04-498d-a721-77fd53838d26",
   "metadata": {},
   "outputs": [],
   "source": []
  },
  {
   "cell_type": "code",
   "execution_count": null,
   "id": "ee9b373e-2a61-46bd-b950-a8177c0214d4",
   "metadata": {},
   "outputs": [],
   "source": []
  },
  {
   "cell_type": "markdown",
   "id": "29eb3f87-80ea-4a92-80c8-9690a569ae8c",
   "metadata": {},
   "source": [
    "## Arash site users"
   ]
  },
  {
   "cell_type": "code",
   "execution_count": null,
   "id": "a0498e98-c9de-4499-af7d-120d24af57ba",
   "metadata": {},
   "outputs": [],
   "source": [
    "# 1 and 2 = key\n",
    "# {....} Nested Dict = Value"
   ]
  },
  {
   "cell_type": "code",
   "execution_count": null,
   "id": "5bf198a7-1f12-47dd-9778-d50a02691b22",
   "metadata": {},
   "outputs": [],
   "source": [
    "arash_users = {\n",
    "    1: {\n",
    "        'name': 'Reza',\n",
    "        'famili': 'Eyvatan',\n",
    "        'age': 26,\n",
    "        'location': 'Iran-Tehran',\n",
    "       },\n",
    "    2: {\n",
    "        'name': 'ali',\n",
    "        'famili': 'Hejazi',\n",
    "        'age': 29,\n",
    "        'location': 'Canada-Torento',\n",
    "    }\n",
    "}"
   ]
  },
  {
   "cell_type": "code",
   "execution_count": null,
   "id": "6d0b19f0-3c67-4b1c-a56b-2eb10670a09a",
   "metadata": {},
   "outputs": [],
   "source": [
    "arash_users[1]"
   ]
  },
  {
   "cell_type": "code",
   "execution_count": null,
   "id": "b78f149b-cf6a-4285-8126-a622eaac1adf",
   "metadata": {},
   "outputs": [],
   "source": [
    "arash_users[2]"
   ]
  },
  {
   "cell_type": "code",
   "execution_count": null,
   "id": "4365c0bf-7b7d-4130-a583-f75eb52f08b1",
   "metadata": {},
   "outputs": [],
   "source": [
    "arash_users[1]['name'], arash_users[1]['famili']"
   ]
  },
  {
   "cell_type": "code",
   "execution_count": null,
   "id": "da8b4b91-b567-4993-9e4d-42c7e37ac686",
   "metadata": {},
   "outputs": [],
   "source": []
  },
  {
   "cell_type": "code",
   "execution_count": null,
   "id": "9c7dd63c-bf70-4710-85af-abe279fce726",
   "metadata": {},
   "outputs": [],
   "source": []
  },
  {
   "cell_type": "markdown",
   "id": "b4483cbf-35bf-4d62-bb02-bef9acafb3db",
   "metadata": {},
   "source": [
    "## Convert a list to a dictionary"
   ]
  },
  {
   "cell_type": "code",
   "execution_count": null,
   "id": "65cb6068-1161-4b97-bcf7-9b410cf03801",
   "metadata": {},
   "outputs": [],
   "source": [
    "persian_gulf_standing = [\n",
    "    ['Esteghlel F.C', 1],\n",
    "    ['Sepahan', 2],\n",
    "    ['Perspolis', 3],\n",
    "    ['Gol Gohar', 4],\n",
    "    ['Foolad', 5]\n",
    "]"
   ]
  },
  {
   "cell_type": "code",
   "execution_count": null,
   "id": "cb0583cb-a54b-44fb-8ece-9a8fa6335265",
   "metadata": {},
   "outputs": [],
   "source": [
    "iran = dict(persian_gulf_standing)"
   ]
  },
  {
   "cell_type": "code",
   "execution_count": null,
   "id": "af744311-5215-4d04-99aa-6f1689b93ed0",
   "metadata": {},
   "outputs": [],
   "source": [
    "print(iran)"
   ]
  },
  {
   "cell_type": "code",
   "execution_count": null,
   "id": "d2db68c5-2be6-4e17-92f2-1c2903319d43",
   "metadata": {},
   "outputs": [],
   "source": []
  },
  {
   "cell_type": "code",
   "execution_count": null,
   "id": "3e62c86a-47e4-405a-82ab-0f80c7fd50fd",
   "metadata": {},
   "outputs": [],
   "source": []
  },
  {
   "cell_type": "markdown",
   "id": "68097c89-5531-4d27-87ca-3802437de95e",
   "metadata": {},
   "source": [
    "## Accessing Dictionary Values 1"
   ]
  },
  {
   "cell_type": "code",
   "execution_count": null,
   "id": "2aa311a8-3660-4b95-a68b-ba85036d15ce",
   "metadata": {},
   "outputs": [],
   "source": [
    "rostam_data = {\n",
    "    \"name\": \"Rostam\",\n",
    "    \"nationality\": \"Turanian\",\n",
    "    \"father\": \"Zal\" ,\n",
    "    \"mother\": \"Rudaabeh\",\n",
    "    \"spouse\": \"Tahmineh\",\n",
    "    \"grandfather\": \"Sam\",\n",
    "    \"Horse\": \"Rakhsh\",\n",
    "    \"delivery\": \"C-Section\",\n",
    "    \"POB\": \"Zabol\",\n",
    "    \"POD\" : \"Kabul\"\n",
    "}"
   ]
  },
  {
   "cell_type": "code",
   "execution_count": null,
   "id": "4caf4e47-4649-481f-8dd3-85d9efe3334a",
   "metadata": {},
   "outputs": [],
   "source": [
    "print(f\"\"\"\n",
    "    Rostam's mother's name: {rostam_data['mother']}\n",
    "    Rostam's wife's name:   {rostam_data['spouse']:}\n",
    "\"\"\")"
   ]
  },
  {
   "cell_type": "code",
   "execution_count": null,
   "id": "529c50ec-3ecf-4ab7-9535-acf1ce94bc42",
   "metadata": {},
   "outputs": [],
   "source": []
  },
  {
   "cell_type": "code",
   "execution_count": null,
   "id": "0f4d9ba7-8b27-4461-96b4-4c76438c3a6e",
   "metadata": {},
   "outputs": [],
   "source": []
  },
  {
   "cell_type": "markdown",
   "id": "e59e21ec-4848-4989-b5b6-ff739be6e222",
   "metadata": {},
   "source": [
    "## Accessing Dictionary Values 2"
   ]
  },
  {
   "cell_type": "code",
   "execution_count": null,
   "id": "81d63c6a-6905-4ff6-a29a-80ffff4c639f",
   "metadata": {},
   "outputs": [],
   "source": [
    "rostam_data = {\n",
    "    \"name\": \"Rostam\",\n",
    "    \"nationality\": \"Turanian\",\n",
    "    \"father\": \"Zal\" ,\n",
    "    \"mother\": \"Rudaabeh\",\n",
    "    \"spouse\": \"Tahmineh\",\n",
    "    \"grandfather\": \"Sam\",\n",
    "    \"Horse\": \"Rakhsh\",\n",
    "    \"delivery\": \"C-Section\",\n",
    "    \"POB\": \"Zabol\",\n",
    "    \"POD\" : \"Kabul\"\n",
    "}"
   ]
  },
  {
   "cell_type": "code",
   "execution_count": null,
   "id": "bc0e51e1-b728-4e86-b0c7-ef2e7e61aba4",
   "metadata": {},
   "outputs": [],
   "source": [
    "rostam_data[\"nationality\"] = \"Iranian\""
   ]
  },
  {
   "cell_type": "code",
   "execution_count": null,
   "id": "b0ec753a-93da-45b1-b086-288096c259d9",
   "metadata": {},
   "outputs": [],
   "source": [
    "print(rostam_data)"
   ]
  },
  {
   "cell_type": "code",
   "execution_count": null,
   "id": "7d30acce-6074-4155-aadd-5c20422c955c",
   "metadata": {},
   "outputs": [],
   "source": []
  },
  {
   "cell_type": "code",
   "execution_count": null,
   "id": "3b89b58c-ee1f-4716-9391-8b8be97f16de",
   "metadata": {},
   "outputs": [],
   "source": []
  },
  {
   "cell_type": "markdown",
   "id": "e5cde354-0700-4f76-81fa-f1efca980c74",
   "metadata": {},
   "source": [
    "## Accessing Dictionary Values 3"
   ]
  },
  {
   "cell_type": "code",
   "execution_count": null,
   "id": "ec515529-543d-4bbb-bb6e-8ea38b5d31ea",
   "metadata": {},
   "outputs": [],
   "source": [
    "rostam_data = {\n",
    "    \"name\": \"Rostam\",\n",
    "    \"nationality\": \"Turanian\",\n",
    "    \"father\": \"Zal\" ,\n",
    "    \"mother\": \"Rudaabeh\",\n",
    "    \"spouse\": \"Tahmineh\",\n",
    "    \"grandfather\": \"Sam\",\n",
    "    \"Horse\": \"Rakhsh\",\n",
    "    \"delivery\": \"C-Section\",\n",
    "    \"POB\": \"Zabol\",\n",
    "    \"POD\" : \"Kabul\"\n",
    "}"
   ]
  },
  {
   "cell_type": "code",
   "execution_count": null,
   "id": "1f33a0dd-45c1-4630-a699-c55f7d7c1668",
   "metadata": {},
   "outputs": [],
   "source": [
    "# rostam_data[\"childrens\"] =  \"Sohrab - Faramarz - Jahangir - Siyavash and Banu Goshasp\"\n",
    "# OR use List for Value\n",
    "rostam_data[\"childrens\"] = [\"Sohrab\", \"Faramarz\", \"Jahangir\", \"Siyavash\", \"Banu-Goshasp\",]"
   ]
  },
  {
   "cell_type": "code",
   "execution_count": null,
   "id": "99d40973-fbdd-4435-8f0b-702f6f99284a",
   "metadata": {},
   "outputs": [],
   "source": [
    "print(rostam_data)"
   ]
  },
  {
   "cell_type": "code",
   "execution_count": null,
   "id": "7a0414bc-2845-4bed-8c07-b1db68328644",
   "metadata": {},
   "outputs": [],
   "source": [
    "# list name's childrens\n",
    "rostam_data[\"childrens\"][ : ]"
   ]
  },
  {
   "cell_type": "code",
   "execution_count": null,
   "id": "451e6a85-285a-4f06-8a81-84551dd62510",
   "metadata": {},
   "outputs": [],
   "source": []
  },
  {
   "cell_type": "code",
   "execution_count": null,
   "id": "07328d34-043d-480d-b8da-740a3ceebf15",
   "metadata": {},
   "outputs": [],
   "source": []
  },
  {
   "cell_type": "markdown",
   "id": "f4bbf500-774f-498f-964e-f99fedbb299e",
   "metadata": {},
   "source": [
    "## Dictionary .update() method"
   ]
  },
  {
   "cell_type": "code",
   "execution_count": null,
   "id": "1b7cc834-dd98-4ede-bc7a-c27bf6473c63",
   "metadata": {},
   "outputs": [],
   "source": [
    "rostam_data = {\n",
    "    \"name\": \"Rostam\",\n",
    "    \"nationality\": \"Turanian\",\n",
    "    \"father\": \"Zal\" ,\n",
    "    \"mother\": \"Rudaabeh\",\n",
    "    \"spouse\": \"Tahmineh\",\n",
    "    \"grandfather\": \"Sam\",\n",
    "    \"Horse\": \"Rakhsh\",\n",
    "    \"delivery\": \"C-Section\",\n",
    "    \"POB\": \"Zabol\",\n",
    "    \"POD\" : \"Kabul\"\n",
    "}"
   ]
  },
  {
   "cell_type": "code",
   "execution_count": null,
   "id": "089e21d1-b815-4185-84b0-ab539c2a524f",
   "metadata": {},
   "outputs": [],
   "source": [
    "# merge and update 2 Dictionary\n",
    "\n",
    "# solution 1\n",
    "# rostam_data_update = ({\"nationality\": \"Iranian\",\n",
    "#    \"children\": [\"Sohrab\", \"Faramarz\", \"Jahangir\", \"Siyavash\", \"Banu-Goshasp\",]\n",
    "# })\n",
    "# rostam_data.update(rostam_data_update)\n"
   ]
  },
  {
   "cell_type": "code",
   "execution_count": null,
   "id": "6785fca9-504d-44c9-8d4f-af577c4d26e7",
   "metadata": {},
   "outputs": [],
   "source": [
    "# solution 2\n",
    "rostam_data.update({\n",
    "    \"nationality\": \"Iranian\",\n",
    "    \"children\": [\"Sohrab\", \"Faramarz\", \"Jahangir\", \"Siyavash\", \"Banu-Goshasp\",]\n",
    "})"
   ]
  },
  {
   "cell_type": "code",
   "execution_count": null,
   "id": "67ede198-c707-4d5f-83b0-87fe3da3a12c",
   "metadata": {},
   "outputs": [],
   "source": [
    "print(rostam_data)"
   ]
  },
  {
   "cell_type": "code",
   "execution_count": null,
   "id": "bdb6f31f-6df1-4944-8475-22785be3dad3",
   "metadata": {},
   "outputs": [],
   "source": []
  },
  {
   "cell_type": "code",
   "execution_count": null,
   "id": "4f163b46-d6ba-43c7-b98e-2501c434c8c9",
   "metadata": {},
   "outputs": [],
   "source": []
  },
  {
   "cell_type": "markdown",
   "id": "045c10b1-7c7e-4985-a544-6198e8b86c65",
   "metadata": {},
   "source": [
    "## Dictionary Paking , Unpaking"
   ]
  },
  {
   "cell_type": "code",
   "execution_count": null,
   "id": "cca6983d-133f-4617-ae92-e2edef89dda3",
   "metadata": {},
   "outputs": [],
   "source": [
    "# ها یکی باشند key نباید "
   ]
  },
  {
   "cell_type": "code",
   "execution_count": null,
   "id": "182cc000-2a6c-4b42-b027-c19d7dfed0dc",
   "metadata": {},
   "outputs": [],
   "source": [
    "case_1 = {\n",
    "    'name_1': 'Reza',\n",
    "    'famili_1': 'Eyvatan',\n",
    "    'age_1': 26,\n",
    "    'location_1': 'Iran - Tehran',\n",
    "    'education_1': 'bachelor',\n",
    "}"
   ]
  },
  {
   "cell_type": "code",
   "execution_count": null,
   "id": "43f295f8-9d70-4575-8796-7849d963d006",
   "metadata": {},
   "outputs": [],
   "source": [
    "case_2 = {\n",
    "    'name_2': 'Nasim',\n",
    "    'famili_2': 'Eyvatan',\n",
    "    'age_2': 29,\n",
    "    'location_2': 'Iran - Tehran',\n",
    "    'education_2': 'bachlor',\n",
    "}"
   ]
  },
  {
   "cell_type": "code",
   "execution_count": null,
   "id": "e056954d-8476-4f89-83ff-031579dc6335",
   "metadata": {},
   "outputs": [],
   "source": [
    "case_3 = {\n",
    "    'name_3': 'Moein',\n",
    "    'famili_3': 'Ravaghi',\n",
    "    'age_3': 29,\n",
    "    'location_3': 'Iran - Tehran',\n",
    "    'education_3': 'bachelor',\n",
    "}"
   ]
  },
  {
   "cell_type": "code",
   "execution_count": null,
   "id": "83fc1624-6508-4d50-961f-15678642d731",
   "metadata": {},
   "outputs": [],
   "source": [
    "list_students = { **case_1, **case_2, **case_3, }"
   ]
  },
  {
   "cell_type": "code",
   "execution_count": null,
   "id": "f9670db7-00d3-4b10-ab68-3da2a467bb60",
   "metadata": {},
   "outputs": [],
   "source": [
    "list_students"
   ]
  },
  {
   "cell_type": "code",
   "execution_count": null,
   "id": "c154d089-08e6-40aa-a91c-4ac14059b7b0",
   "metadata": {},
   "outputs": [],
   "source": []
  },
  {
   "cell_type": "code",
   "execution_count": null,
   "id": "b7b99a8a-a38b-4d56-a848-3e4398b5a40f",
   "metadata": {},
   "outputs": [],
   "source": []
  },
  {
   "cell_type": "code",
   "execution_count": null,
   "id": "ab9a0d38-3ec4-4ddd-ba17-6e0a26eb0d26",
   "metadata": {},
   "outputs": [],
   "source": []
  },
  {
   "cell_type": "markdown",
   "id": "70b8432f-67f5-4da7-bd08-82f8b6a8a4c3",
   "metadata": {},
   "source": [
    "## Dictionary get() method 1\n"
   ]
  },
  {
   "cell_type": "code",
   "execution_count": null,
   "id": "776cb179-66db-437f-a519-c296814bea7c",
   "metadata": {},
   "outputs": [],
   "source": [
    "rostam_data = {\n",
    "    'name': 'Rostam',\n",
    "    'nationality': 'Iranian',\n",
    "    'father': 'Zal',\n",
    "    'mother': 'Rudaabeh',\n",
    "    'spouse': 'Tahmineh',\n",
    "    'grandfather': 'Sam',\n",
    "    'Horse': 'Rakhsh',\n",
    "    'delivery': 'C-Section',\n",
    "    'POB': 'Zabol',\n",
    "    'POD': 'Kabul',\n",
    "    'childrens': ['Sohrab', 'Faramarz', 'Jahangir', 'Siyavash', 'Banu-Goshasp']\n",
    "}"
   ]
  },
  {
   "cell_type": "code",
   "execution_count": null,
   "id": "afe07676-1d5d-4754-a430-07fc82220dbf",
   "metadata": {},
   "outputs": [],
   "source": [
    "# solution_1\n",
    "rostam_data.get('delivery')"
   ]
  },
  {
   "cell_type": "code",
   "execution_count": null,
   "id": "c4780c4d-244f-494c-a363-102b80fa4ad7",
   "metadata": {},
   "outputs": [],
   "source": [
    "# solution_2\n",
    "rostam_data['delivery']"
   ]
  },
  {
   "cell_type": "code",
   "execution_count": null,
   "id": "1ab981b7-cdea-4dec-90d3-10a2481692fe",
   "metadata": {},
   "outputs": [],
   "source": [
    "# Dictionari.get(key, default value)\n",
    "# The .get() method allows us to retrieve the value of the wanted key from the dictionary \n",
    "# while also preventing an error if the key is not found in the dictionary and receive the previously set default value. \n",
    "\n",
    "rostam_data.get('education', 'Information is not available')"
   ]
  },
  {
   "cell_type": "code",
   "execution_count": null,
   "id": "64ff716c-df42-4d1b-a2a9-7aedf11dfeb0",
   "metadata": {},
   "outputs": [],
   "source": []
  },
  {
   "cell_type": "code",
   "execution_count": null,
   "id": "948a0fed-d1a8-4618-8884-f4f2b6808af5",
   "metadata": {},
   "outputs": [],
   "source": []
  },
  {
   "cell_type": "code",
   "execution_count": null,
   "id": "edf5708b-fafb-4645-a823-eb2c252b56fc",
   "metadata": {},
   "outputs": [],
   "source": []
  },
  {
   "cell_type": "markdown",
   "id": "26aa71b3-e0d5-4eae-9509-720cc03b016b",
   "metadata": {},
   "source": [
    "## Dictionary get() method 2"
   ]
  },
  {
   "cell_type": "code",
   "execution_count": null,
   "id": "0046ff87-bf88-4768-a40e-f8e121eb578c",
   "metadata": {},
   "outputs": [],
   "source": [
    "math = {\n",
    "    'abtin': 19,\n",
    "    'laleh': 20,\n",
    "    'mehri': 18,\n",
    "    }"
   ]
  },
  {
   "cell_type": "code",
   "execution_count": null,
   "id": "a1f89c0a-4db4-4c94-86db-4f33ef7989eb",
   "metadata": {},
   "outputs": [],
   "source": [
    "student = input('insert name student:')"
   ]
  },
  {
   "cell_type": "code",
   "execution_count": null,
   "id": "955e72f7-ccbc-47dc-80bc-33283ed65e8d",
   "metadata": {},
   "outputs": [],
   "source": [
    "math[student]\n",
    "\n",
    "# KeyError: 'student' ---- Not fond key\n"
   ]
  },
  {
   "cell_type": "code",
   "execution_count": null,
   "id": "8c1f81bf-a1d1-4f24-b450-b693386b28c9",
   "metadata": {},
   "outputs": [],
   "source": [
    "# solution\n",
    "# use .get() metod ----not receive Error and receive answer none\n",
    "\n",
    "math.get(student, 'not found student')"
   ]
  },
  {
   "cell_type": "code",
   "execution_count": null,
   "id": "64a0d2c0-7359-4d8b-8848-1f77657a1a19",
   "metadata": {},
   "outputs": [],
   "source": []
  },
  {
   "cell_type": "code",
   "execution_count": null,
   "id": "065642da-d6fc-4d35-a770-54f24ba945d2",
   "metadata": {},
   "outputs": [],
   "source": []
  },
  {
   "cell_type": "code",
   "execution_count": null,
   "id": "82fe632a-af06-4c6e-8233-d102775d0550",
   "metadata": {},
   "outputs": [],
   "source": [
    "rostam_data = {\n",
    "    'name': 'Rostam',\n",
    "    'nationality': 'Iranian',\n",
    "    'father': 'Zal',\n",
    "    'mother': 'Rudaabeh',\n",
    "    'spouse': 'Tahmineh',\n",
    "    'grandfather': 'Sam',\n",
    "    'Horse': 'Rakhsh',\n",
    "    'delivery': 'C-Section',\n",
    "    'POB': 'Zabol',\n",
    "    'POD': 'Kabul',\n",
    "    'childrens': ['Sohrab', 'Faramarz', 'Jahangir', 'Siyavash', 'Banu-Goshasp']\n",
    "}"
   ]
  },
  {
   "cell_type": "code",
   "execution_count": null,
   "id": "89a91b0e-8196-4c59-941b-0787354f8b9e",
   "metadata": {},
   "outputs": [],
   "source": [
    "rostam_info = input('What do you want to know about Rostam?')"
   ]
  },
  {
   "cell_type": "code",
   "execution_count": null,
   "id": "d90b799b-772c-4d91-8a23-9c7337a7d0f9",
   "metadata": {},
   "outputs": [],
   "source": [
    "rostam_data.get(rostam_info, 'The information requested is not available')"
   ]
  },
  {
   "cell_type": "code",
   "execution_count": null,
   "id": "7ab2760f-0aa5-423c-8410-adcbb510c7d2",
   "metadata": {},
   "outputs": [],
   "source": []
  },
  {
   "cell_type": "code",
   "execution_count": null,
   "id": "f2696312-8baa-4b11-857e-b3bba0115355",
   "metadata": {},
   "outputs": [],
   "source": []
  },
  {
   "cell_type": "code",
   "execution_count": null,
   "id": "0f6f540d-4254-436a-b3d9-9c33565173d2",
   "metadata": {},
   "outputs": [],
   "source": []
  },
  {
   "cell_type": "markdown",
   "id": "062793b3-7e43-4a62-8164-7071eb891523",
   "metadata": {},
   "source": [
    "## Restrictions on Dictionary Keys and Values"
   ]
  },
  {
   "cell_type": "code",
   "execution_count": null,
   "id": "ff836546-3eca-4dda-aaee-b7c86ec88750",
   "metadata": {},
   "outputs": [],
   "source": [
    "foo_1 = {1: 'aaaa', 3.14: 'bbbb', 6.18: 'ccc'}  \n",
    "foo_2 = {[1, 3.14]: 'a', [2, 6.28]: 'b'} \n",
    "foo_3 = {(1, 3.14): 'a', (2, 12.56): 'b'} \n",
    "foo_4 = {dict: [], float: 2, int: 3.14} "
   ]
  },
  {
   "cell_type": "code",
   "execution_count": null,
   "id": "24369001-7258-4f1f-9894-ed067517ad3c",
   "metadata": {},
   "outputs": [],
   "source": [
    "# key in a dictionary must be hashable"
   ]
  },
  {
   "cell_type": "code",
   "execution_count": null,
   "id": "20bf0f78-a43e-41fd-b6cf-7d880a1c9d29",
   "metadata": {},
   "outputs": [],
   "source": [
    "# but key in a foo_2 dictionary not hashable ---- list is unhashable"
   ]
  },
  {
   "cell_type": "code",
   "execution_count": null,
   "id": "a8fea116-8acb-4fc0-965c-a346a2acf2d5",
   "metadata": {},
   "outputs": [],
   "source": []
  },
  {
   "cell_type": "code",
   "execution_count": null,
   "id": "7057075a-55fb-45b6-9afd-3994b07cf323",
   "metadata": {},
   "outputs": [],
   "source": []
  },
  {
   "cell_type": "code",
   "execution_count": null,
   "id": "a2c92533-13fe-4a1b-ab03-b0105d1d6ba8",
   "metadata": {},
   "outputs": [],
   "source": []
  },
  {
   "cell_type": "markdown",
   "id": "16be9df0-9feb-4db7-a018-96fca88f32df",
   "metadata": {},
   "source": [
    "## Building a Dictionary Incrementally"
   ]
  },
  {
   "cell_type": "code",
   "execution_count": null,
   "id": "50b7b33d-53ce-4833-8506-baa85257bea4",
   "metadata": {},
   "outputs": [],
   "source": [
    "bmw = {}"
   ]
  },
  {
   "cell_type": "code",
   "execution_count": null,
   "id": "b16c4303-bd7f-48a1-a790-64ea65680bbd",
   "metadata": {},
   "outputs": [],
   "source": [
    "bmw['model'] = '520i'"
   ]
  },
  {
   "cell_type": "code",
   "execution_count": null,
   "id": "2a3c8e8b-8bbb-43a2-8f2e-01e953c684d7",
   "metadata": {},
   "outputs": [],
   "source": [
    "bmw['color'] = 'red'"
   ]
  },
  {
   "cell_type": "code",
   "execution_count": null,
   "id": "b5d092ac-d46e-464a-a131-52ff648c62f5",
   "metadata": {},
   "outputs": [],
   "source": [
    "bmw['country'] = 'Germany'"
   ]
  },
  {
   "cell_type": "code",
   "execution_count": null,
   "id": "dc6a70e6-d25b-4a4c-9ec9-ab7be1960b09",
   "metadata": {},
   "outputs": [],
   "source": []
  },
  {
   "cell_type": "code",
   "execution_count": null,
   "id": "46c0479a-9932-4ee3-8b11-1958154cf2ee",
   "metadata": {},
   "outputs": [],
   "source": []
  },
  {
   "cell_type": "markdown",
   "id": "914fdc49-1ed7-46d0-8a01-ce6cecf539f9",
   "metadata": {},
   "source": [
    "## One-digit prime numbers"
   ]
  },
  {
   "cell_type": "markdown",
   "id": "3ca4f721-1c61-47da-87ae-8f630fa84ff7",
   "metadata": {},
   "source": []
  },
  {
   "cell_type": "code",
   "execution_count": null,
   "id": "fa3827f9-6be3-42ec-bb5b-9fd561fcca80",
   "metadata": {},
   "outputs": [],
   "source": []
  },
  {
   "cell_type": "code",
   "execution_count": null,
   "id": "757e44a0-8d00-4aaf-afc2-74192a62e0af",
   "metadata": {},
   "outputs": [],
   "source": []
  },
  {
   "cell_type": "markdown",
   "id": "e777258b-927a-4a4e-9958-151e8324fadc",
   "metadata": {},
   "source": [
    "## A list or a set, ay there's the point"
   ]
  },
  {
   "cell_type": "code",
   "execution_count": 2,
   "id": "bb6d3eac-4a79-4ac8-82ca-fd558d85ad21",
   "metadata": {},
   "outputs": [],
   "source": [
    "primes = {\n",
    "    2, 3, 5, 7, 11, 13, 17, 19, 23, 29, 31, 37, 41,\n",
    "    43, 47, 53, 59, 61, 67, 71, 73, 79, 83, 89, 97,\n",
    "    101, 103, 107, 109, 113, 127, 131, 137, 139, 149,\n",
    "    151, 157, 163, 167, 173, 179, 181, 191, 193, 197,\n",
    "    199, 211, 223, 227, 229, 233, 239, 241, 251, 257,\n",
    "    263, 269, 271, 277, 281, 283, 293, 307, 311, 313,\n",
    "    317, 331, 337, 347, 349, 353, 359, 367, 373, 379,\n",
    "    383, 389, 397, 401, 409, 419, 421, 431, 433, 439,\n",
    "    443, 449, 457, 461, 463, 467, 479, 487, 491, 499,\n",
    "    503, 509, 521, 523, 541, 547, 557, 563, 569, 571,\n",
    "    577, 587, 593, 599, 601, 607, 613, 617, 619, 631,\n",
    "    641, 643, 647, 653, 659, 661, 673, 677, 683, 691,\n",
    "    701, 709, 719, 727, 733, 739, 743, 751, 757, 761,\n",
    "    769, 773, 787, 797, 809, 811, 821, 823, 827, 829,\n",
    "    839, 853, 857, 859, 863, 877, 881, 883, 887, 907,\n",
    "    911, 919, 929, 937, 941, 947, 953, 967, 971, 977,\n",
    "    983, 991\n",
    "}\n"
   ]
  },
  {
   "cell_type": "code",
   "execution_count": 3,
   "id": "57dd31b9-e044-454d-9479-0e4b28ee392f",
   "metadata": {},
   "outputs": [
    {
     "name": "stdin",
     "output_type": "stream",
     "text": [
      "inter a number for cheak 212\n"
     ]
    },
    {
     "name": "stdout",
     "output_type": "stream",
     "text": [
      "No, your number is not primes\n"
     ]
    },
    {
     "name": "stdin",
     "output_type": "stream",
     "text": [
      "inter a number for cheak 222\n"
     ]
    },
    {
     "name": "stdout",
     "output_type": "stream",
     "text": [
      "No, your number is not primes\n"
     ]
    },
    {
     "ename": "KeyboardInterrupt",
     "evalue": "Interrupted by user",
     "output_type": "error",
     "traceback": [
      "\u001b[0;31m---------------------------------------------------------------------------\u001b[0m",
      "\u001b[0;31mKeyboardInterrupt\u001b[0m                         Traceback (most recent call last)",
      "Cell \u001b[0;32mIn[3], line 2\u001b[0m\n\u001b[1;32m      1\u001b[0m \u001b[38;5;28;01mwhile\u001b[39;00m \u001b[38;5;28;01mTrue\u001b[39;00m:\n\u001b[0;32m----> 2\u001b[0m     input_number \u001b[38;5;241m=\u001b[39m \u001b[38;5;28mint\u001b[39m(\u001b[38;5;28;43minput\u001b[39;49m\u001b[43m(\u001b[49m\u001b[38;5;124;43m'\u001b[39;49m\u001b[38;5;124;43minter a number for cheak\u001b[39;49m\u001b[38;5;124;43m'\u001b[39;49m\u001b[43m)\u001b[49m)\n\u001b[1;32m      4\u001b[0m     \u001b[38;5;28;01mif\u001b[39;00m input_number \u001b[38;5;241m>\u001b[39m \u001b[38;5;241m999\u001b[39m:\n\u001b[1;32m      5\u001b[0m         \u001b[38;5;28mprint\u001b[39m(\u001b[38;5;124mf\u001b[39m\u001b[38;5;124m'\u001b[39m\u001b[38;5;132;01m{\u001b[39;00minput_number\u001b[38;5;132;01m}\u001b[39;00m\u001b[38;5;124m is bigger from 999\u001b[39m\u001b[38;5;124m'\u001b[39m)\n",
      "File \u001b[0;32m~/anaconda3/envs/py10/lib/python3.10/site-packages/ipykernel/kernelbase.py:1175\u001b[0m, in \u001b[0;36mKernel.raw_input\u001b[0;34m(self, prompt)\u001b[0m\n\u001b[1;32m   1171\u001b[0m \u001b[38;5;28;01mif\u001b[39;00m \u001b[38;5;129;01mnot\u001b[39;00m \u001b[38;5;28mself\u001b[39m\u001b[38;5;241m.\u001b[39m_allow_stdin:\n\u001b[1;32m   1172\u001b[0m     \u001b[38;5;28;01mraise\u001b[39;00m StdinNotImplementedError(\n\u001b[1;32m   1173\u001b[0m         \u001b[38;5;124m\"\u001b[39m\u001b[38;5;124mraw_input was called, but this frontend does not support input requests.\u001b[39m\u001b[38;5;124m\"\u001b[39m\n\u001b[1;32m   1174\u001b[0m     )\n\u001b[0;32m-> 1175\u001b[0m \u001b[38;5;28;01mreturn\u001b[39;00m \u001b[38;5;28;43mself\u001b[39;49m\u001b[38;5;241;43m.\u001b[39;49m\u001b[43m_input_request\u001b[49m\u001b[43m(\u001b[49m\n\u001b[1;32m   1176\u001b[0m \u001b[43m    \u001b[49m\u001b[38;5;28;43mstr\u001b[39;49m\u001b[43m(\u001b[49m\u001b[43mprompt\u001b[49m\u001b[43m)\u001b[49m\u001b[43m,\u001b[49m\n\u001b[1;32m   1177\u001b[0m \u001b[43m    \u001b[49m\u001b[38;5;28;43mself\u001b[39;49m\u001b[38;5;241;43m.\u001b[39;49m\u001b[43m_parent_ident\u001b[49m\u001b[43m[\u001b[49m\u001b[38;5;124;43m\"\u001b[39;49m\u001b[38;5;124;43mshell\u001b[39;49m\u001b[38;5;124;43m\"\u001b[39;49m\u001b[43m]\u001b[49m\u001b[43m,\u001b[49m\n\u001b[1;32m   1178\u001b[0m \u001b[43m    \u001b[49m\u001b[38;5;28;43mself\u001b[39;49m\u001b[38;5;241;43m.\u001b[39;49m\u001b[43mget_parent\u001b[49m\u001b[43m(\u001b[49m\u001b[38;5;124;43m\"\u001b[39;49m\u001b[38;5;124;43mshell\u001b[39;49m\u001b[38;5;124;43m\"\u001b[39;49m\u001b[43m)\u001b[49m\u001b[43m,\u001b[49m\n\u001b[1;32m   1179\u001b[0m \u001b[43m    \u001b[49m\u001b[43mpassword\u001b[49m\u001b[38;5;241;43m=\u001b[39;49m\u001b[38;5;28;43;01mFalse\u001b[39;49;00m\u001b[43m,\u001b[49m\n\u001b[1;32m   1180\u001b[0m \u001b[43m\u001b[49m\u001b[43m)\u001b[49m\n",
      "File \u001b[0;32m~/anaconda3/envs/py10/lib/python3.10/site-packages/ipykernel/kernelbase.py:1217\u001b[0m, in \u001b[0;36mKernel._input_request\u001b[0;34m(self, prompt, ident, parent, password)\u001b[0m\n\u001b[1;32m   1214\u001b[0m             \u001b[38;5;28;01mbreak\u001b[39;00m\n\u001b[1;32m   1215\u001b[0m \u001b[38;5;28;01mexcept\u001b[39;00m \u001b[38;5;167;01mKeyboardInterrupt\u001b[39;00m:\n\u001b[1;32m   1216\u001b[0m     \u001b[38;5;66;03m# re-raise KeyboardInterrupt, to truncate traceback\u001b[39;00m\n\u001b[0;32m-> 1217\u001b[0m     \u001b[38;5;28;01mraise\u001b[39;00m \u001b[38;5;167;01mKeyboardInterrupt\u001b[39;00m(\u001b[38;5;124m\"\u001b[39m\u001b[38;5;124mInterrupted by user\u001b[39m\u001b[38;5;124m\"\u001b[39m) \u001b[38;5;28;01mfrom\u001b[39;00m \u001b[38;5;28mNone\u001b[39m\n\u001b[1;32m   1218\u001b[0m \u001b[38;5;28;01mexcept\u001b[39;00m \u001b[38;5;167;01mException\u001b[39;00m:\n\u001b[1;32m   1219\u001b[0m     \u001b[38;5;28mself\u001b[39m\u001b[38;5;241m.\u001b[39mlog\u001b[38;5;241m.\u001b[39mwarning(\u001b[38;5;124m\"\u001b[39m\u001b[38;5;124mInvalid Message:\u001b[39m\u001b[38;5;124m\"\u001b[39m, exc_info\u001b[38;5;241m=\u001b[39m\u001b[38;5;28;01mTrue\u001b[39;00m)\n",
      "\u001b[0;31mKeyboardInterrupt\u001b[0m: Interrupted by user"
     ]
    }
   ],
   "source": [
    "while True:\n",
    "    input_number = int(input('inter a number for cheak'))\n",
    "\n",
    "    if input_number > 999:\n",
    "        print(f'{input_number} is bigger from 999')\n",
    "    elif input_number in primes:\n",
    "         print('Yes, your number is primes')\n",
    "    else:\n",
    "        print('No, your number is not primes')"
   ]
  },
  {
   "cell_type": "code",
   "execution_count": null,
   "id": "2eddad7c-73d2-4d83-83f7-a29fb833d781",
   "metadata": {},
   "outputs": [
    {
     "name": "stdin",
     "output_type": "stream",
     "text": [
      "enter the desired number 74\n"
     ]
    },
    {
     "name": "stdout",
     "output_type": "stream",
     "text": [
      "{0, 962, 740, 518, 296, 74, 814, 592, 370, 148, 888, 666, 444, 222} {}\n"
     ]
    },
    {
     "name": "stdin",
     "output_type": "stream",
     "text": [
      "enter the desired number 57\n"
     ]
    },
    {
     "name": "stdout",
     "output_type": "stream",
     "text": [
      "{0, 513, 228, 741, 456, 969, 171, 684, 399, 912, 114, 627, 342, 855, 57, 570, 285, 798} {}\n"
     ]
    },
    {
     "name": "stdin",
     "output_type": "stream",
     "text": [
      "enter the desired number 99\n"
     ]
    },
    {
     "name": "stdout",
     "output_type": "stream",
     "text": [
      "{0, 99, 198, 297, 396, 495, 594, 693, 792, 891, 990} {}\n"
     ]
    },
    {
     "name": "stdin",
     "output_type": "stream",
     "text": [
      "enter the desired number 1\n"
     ]
    },
    {
     "name": "stdout",
     "output_type": "stream",
     "text": [
      "{0, 1, 2, 3, 4, 5, 6, 7, 8, 9, 10, 11, 12, 13, 14, 15, 16, 17, 18, 19, 20, 21, 22, 23, 24, 25, 26, 27, 28, 29, 30, 31, 32, 33, 34, 35, 36, 37, 38, 39, 40, 41, 42, 43, 44, 45, 46, 47, 48, 49, 50, 51, 52, 53, 54, 55, 56, 57, 58, 59, 60, 61, 62, 63, 64, 65, 66, 67, 68, 69, 70, 71, 72, 73, 74, 75, 76, 77, 78, 79, 80, 81, 82, 83, 84, 85, 86, 87, 88, 89, 90, 91, 92, 93, 94, 95, 96, 97, 98, 99, 100, 101, 102, 103, 104, 105, 106, 107, 108, 109, 110, 111, 112, 113, 114, 115, 116, 117, 118, 119, 120, 121, 122, 123, 124, 125, 126, 127, 128, 129, 130, 131, 132, 133, 134, 135, 136, 137, 138, 139, 140, 141, 142, 143, 144, 145, 146, 147, 148, 149, 150, 151, 152, 153, 154, 155, 156, 157, 158, 159, 160, 161, 162, 163, 164, 165, 166, 167, 168, 169, 170, 171, 172, 173, 174, 175, 176, 177, 178, 179, 180, 181, 182, 183, 184, 185, 186, 187, 188, 189, 190, 191, 192, 193, 194, 195, 196, 197, 198, 199, 200, 201, 202, 203, 204, 205, 206, 207, 208, 209, 210, 211, 212, 213, 214, 215, 216, 217, 218, 219, 220, 221, 222, 223, 224, 225, 226, 227, 228, 229, 230, 231, 232, 233, 234, 235, 236, 237, 238, 239, 240, 241, 242, 243, 244, 245, 246, 247, 248, 249, 250, 251, 252, 253, 254, 255, 256, 257, 258, 259, 260, 261, 262, 263, 264, 265, 266, 267, 268, 269, 270, 271, 272, 273, 274, 275, 276, 277, 278, 279, 280, 281, 282, 283, 284, 285, 286, 287, 288, 289, 290, 291, 292, 293, 294, 295, 296, 297, 298, 299, 300, 301, 302, 303, 304, 305, 306, 307, 308, 309, 310, 311, 312, 313, 314, 315, 316, 317, 318, 319, 320, 321, 322, 323, 324, 325, 326, 327, 328, 329, 330, 331, 332, 333, 334, 335, 336, 337, 338, 339, 340, 341, 342, 343, 344, 345, 346, 347, 348, 349, 350, 351, 352, 353, 354, 355, 356, 357, 358, 359, 360, 361, 362, 363, 364, 365, 366, 367, 368, 369, 370, 371, 372, 373, 374, 375, 376, 377, 378, 379, 380, 381, 382, 383, 384, 385, 386, 387, 388, 389, 390, 391, 392, 393, 394, 395, 396, 397, 398, 399, 400, 401, 402, 403, 404, 405, 406, 407, 408, 409, 410, 411, 412, 413, 414, 415, 416, 417, 418, 419, 420, 421, 422, 423, 424, 425, 426, 427, 428, 429, 430, 431, 432, 433, 434, 435, 436, 437, 438, 439, 440, 441, 442, 443, 444, 445, 446, 447, 448, 449, 450, 451, 452, 453, 454, 455, 456, 457, 458, 459, 460, 461, 462, 463, 464, 465, 466, 467, 468, 469, 470, 471, 472, 473, 474, 475, 476, 477, 478, 479, 480, 481, 482, 483, 484, 485, 486, 487, 488, 489, 490, 491, 492, 493, 494, 495, 496, 497, 498, 499, 500, 501, 502, 503, 504, 505, 506, 507, 508, 509, 510, 511, 512, 513, 514, 515, 516, 517, 518, 519, 520, 521, 522, 523, 524, 525, 526, 527, 528, 529, 530, 531, 532, 533, 534, 535, 536, 537, 538, 539, 540, 541, 542, 543, 544, 545, 546, 547, 548, 549, 550, 551, 552, 553, 554, 555, 556, 557, 558, 559, 560, 561, 562, 563, 564, 565, 566, 567, 568, 569, 570, 571, 572, 573, 574, 575, 576, 577, 578, 579, 580, 581, 582, 583, 584, 585, 586, 587, 588, 589, 590, 591, 592, 593, 594, 595, 596, 597, 598, 599, 600, 601, 602, 603, 604, 605, 606, 607, 608, 609, 610, 611, 612, 613, 614, 615, 616, 617, 618, 619, 620, 621, 622, 623, 624, 625, 626, 627, 628, 629, 630, 631, 632, 633, 634, 635, 636, 637, 638, 639, 640, 641, 642, 643, 644, 645, 646, 647, 648, 649, 650, 651, 652, 653, 654, 655, 656, 657, 658, 659, 660, 661, 662, 663, 664, 665, 666, 667, 668, 669, 670, 671, 672, 673, 674, 675, 676, 677, 678, 679, 680, 681, 682, 683, 684, 685, 686, 687, 688, 689, 690, 691, 692, 693, 694, 695, 696, 697, 698, 699, 700, 701, 702, 703, 704, 705, 706, 707, 708, 709, 710, 711, 712, 713, 714, 715, 716, 717, 718, 719, 720, 721, 722, 723, 724, 725, 726, 727, 728, 729, 730, 731, 732, 733, 734, 735, 736, 737, 738, 739, 740, 741, 742, 743, 744, 745, 746, 747, 748, 749, 750, 751, 752, 753, 754, 755, 756, 757, 758, 759, 760, 761, 762, 763, 764, 765, 766, 767, 768, 769, 770, 771, 772, 773, 774, 775, 776, 777, 778, 779, 780, 781, 782, 783, 784, 785, 786, 787, 788, 789, 790, 791, 792, 793, 794, 795, 796, 797, 798, 799, 800, 801, 802, 803, 804, 805, 806, 807, 808, 809, 810, 811, 812, 813, 814, 815, 816, 817, 818, 819, 820, 821, 822, 823, 824, 825, 826, 827, 828, 829, 830, 831, 832, 833, 834, 835, 836, 837, 838, 839, 840, 841, 842, 843, 844, 845, 846, 847, 848, 849, 850, 851, 852, 853, 854, 855, 856, 857, 858, 859, 860, 861, 862, 863, 864, 865, 866, 867, 868, 869, 870, 871, 872, 873, 874, 875, 876, 877, 878, 879, 880, 881, 882, 883, 884, 885, 886, 887, 888, 889, 890, 891, 892, 893, 894, 895, 896, 897, 898, 899, 900, 901, 902, 903, 904, 905, 906, 907, 908, 909, 910, 911, 912, 913, 914, 915, 916, 917, 918, 919, 920, 921, 922, 923, 924, 925, 926, 927, 928, 929, 930, 931, 932, 933, 934, 935, 936, 937, 938, 939, 940, 941, 942, 943, 944, 945, 946, 947, 948, 949, 950, 951, 952, 953, 954, 955, 956, 957, 958, 959, 960, 961, 962, 963, 964, 965, 966, 967, 968, 969, 970, 971, 972, 973, 974, 975, 976, 977, 978, 979, 980, 981, 982, 983, 984, 985, 986, 987, 988, 989, 990, 991, 992, 993, 994, 995, 996, 997, 998, 999} {2: 'Yes', 3: 'Yes', 5: 'Yes', 7: 'Yes', 11: 'Yes', 13: 'Yes', 17: 'Yes', 19: 'Yes', 23: 'Yes', 29: 'Yes', 31: 'Yes', 37: 'Yes', 41: 'Yes', 43: 'Yes', 47: 'Yes', 53: 'Yes', 59: 'Yes', 61: 'Yes', 67: 'Yes', 71: 'Yes', 73: 'Yes', 79: 'Yes', 83: 'Yes', 89: 'Yes', 97: 'Yes', 101: 'Yes', 103: 'Yes', 107: 'Yes', 109: 'Yes', 113: 'Yes', 127: 'Yes', 131: 'Yes', 137: 'Yes', 139: 'Yes', 149: 'Yes', 151: 'Yes', 157: 'Yes', 163: 'Yes', 167: 'Yes', 173: 'Yes', 179: 'Yes', 181: 'Yes', 191: 'Yes', 193: 'Yes', 197: 'Yes', 199: 'Yes', 211: 'Yes', 223: 'Yes', 227: 'Yes', 229: 'Yes', 233: 'Yes', 239: 'Yes', 241: 'Yes', 251: 'Yes', 257: 'Yes', 263: 'Yes', 269: 'Yes', 271: 'Yes', 277: 'Yes', 281: 'Yes', 283: 'Yes', 293: 'Yes', 307: 'Yes', 311: 'Yes', 313: 'Yes', 317: 'Yes', 331: 'Yes', 337: 'Yes', 347: 'Yes', 349: 'Yes', 353: 'Yes', 359: 'Yes', 367: 'Yes', 373: 'Yes', 379: 'Yes', 383: 'Yes', 389: 'Yes', 397: 'Yes', 401: 'Yes', 409: 'Yes', 419: 'Yes', 421: 'Yes', 431: 'Yes', 433: 'Yes', 439: 'Yes', 443: 'Yes', 449: 'Yes', 457: 'Yes', 461: 'Yes', 463: 'Yes', 467: 'Yes', 479: 'Yes', 487: 'Yes', 491: 'Yes', 499: 'Yes', 503: 'Yes', 509: 'Yes', 521: 'Yes', 523: 'Yes', 541: 'Yes', 547: 'Yes', 557: 'Yes', 563: 'Yes', 569: 'Yes', 571: 'Yes', 577: 'Yes', 587: 'Yes', 593: 'Yes', 599: 'Yes', 601: 'Yes', 607: 'Yes', 613: 'Yes', 617: 'Yes', 619: 'Yes', 631: 'Yes', 641: 'Yes', 643: 'Yes', 647: 'Yes', 653: 'Yes', 659: 'Yes', 661: 'Yes', 673: 'Yes', 677: 'Yes', 683: 'Yes', 691: 'Yes', 701: 'Yes', 709: 'Yes', 719: 'Yes', 727: 'Yes', 733: 'Yes', 739: 'Yes', 743: 'Yes', 751: 'Yes', 757: 'Yes', 761: 'Yes', 769: 'Yes', 773: 'Yes', 787: 'Yes', 797: 'Yes', 809: 'Yes', 811: 'Yes', 821: 'Yes', 823: 'Yes', 827: 'Yes', 829: 'Yes', 839: 'Yes', 853: 'Yes', 857: 'Yes', 859: 'Yes', 863: 'Yes', 877: 'Yes', 881: 'Yes', 883: 'Yes', 887: 'Yes', 907: 'Yes', 911: 'Yes', 919: 'Yes', 929: 'Yes', 937: 'Yes', 941: 'Yes', 947: 'Yes', 953: 'Yes', 967: 'Yes', 971: 'Yes', 977: 'Yes', 983: 'Yes', 991: 'Yes'}\n"
     ]
    }
   ],
   "source": [
    "while True:\n",
    "    prime = {}\n",
    "    not_prime = {}\n",
    "    \n",
    "    input_number = int(input('enter the desired number'))\n",
    "    if input_number < 999:\n",
    "        multiples_of_number = set(range(0, 1000, input_number))\n",
    "    \n",
    "        for number in multiples_of_number:\n",
    "            if number in primes:\n",
    "                prime[number] = 'Yes'\n",
    "            else:\n",
    "                  not_prime[number] = 'No'\n",
    "            \n",
    "        print(prime, not_prime)\n",
    "            \n",
    "            \n",
    "    else:\n",
    "        print(f'{input_number} is bigger 999')\n",
    "    "
   ]
  },
  {
   "cell_type": "code",
   "execution_count": null,
   "id": "ce5d014b-0811-49a6-8409-6f26776db71f",
   "metadata": {},
   "outputs": [],
   "source": [
    "# for operation search set of list is very better (faster) becase set is hash value search\n",
    "# time complexity data structure (set) for operation search it is of order the big-O(1)\n",
    "# time complexity data structure (List) for operation search it is of order the big-O(1)"
   ]
  },
  {
   "cell_type": "code",
   "execution_count": null,
   "id": "dbade884-2334-41a0-8efc-d0f0d011cbc3",
   "metadata": {},
   "outputs": [],
   "source": []
  },
  {
   "cell_type": "code",
   "execution_count": null,
   "id": "a3f7b699-b6b2-4144-9533-08c8b1686add",
   "metadata": {},
   "outputs": [],
   "source": []
  },
  {
   "cell_type": "code",
   "execution_count": null,
   "id": "a627dde9-64b3-4e0b-a7d0-f8bce8a955df",
   "metadata": {},
   "outputs": [],
   "source": []
  },
  {
   "cell_type": "markdown",
   "id": "86f3ddf5-3c67-4383-9720-e6e2f4815b28",
   "metadata": {},
   "source": [
    "## Add an element to the set "
   ]
  },
  {
   "cell_type": "code",
   "execution_count": null,
   "id": "4c630a9f-7024-4195-a721-58ef716070c0",
   "metadata": {},
   "outputs": [],
   "source": [
    "primes = {\n",
    "    2, 3, 5, 7, 11, 13, 17, 19, 23, 29, 31, 37, 41,\n",
    "    43, 47, 53, 59, 61, 67, 71, 73, 79, 83, 89, 97,\n",
    "    101, 103, 107, 109, 113, 127, 131, 137, 139, 149,\n",
    "    151, 157, 163, 167, 173, 179, 181, 191, 193, 197,\n",
    "    199, 211, 223, 227, 229, 233, 239, 241, 251, 257,\n",
    "    263, 269, 271, 277, 281, 283, 293, 307, 311, 313,\n",
    "    317, 331, 337, 347, 349, 353, 359, 367, 373, 379,\n",
    "    383, 389, 397, 401, 409, 419, 421, 431, 433, 439,\n",
    "    443, 449, 457, 461, 463, 467, 479, 487, 491, 499,\n",
    "    503, 509, 521, 523, 541, 547, 557, 563, 569, 571,\n",
    "    577, 587, 593, 599, 601, 607, 613, 617, 619, 631,\n",
    "    641, 643, 647, 653, 659, 661, 673, 677, 683, 691,\n",
    "    701, 709, 719, 727, 733, 739, 743, 751, 757, 761,\n",
    "    769, 773, 787, 797, 809, 811, 821, 823, 827, 829,\n",
    "    839, 853, 857, 859, 863, 877, 881, 883, 887, 907,\n",
    "    911, 919, 929, 937, 941, 947, 953, 967, 971, 977,\n",
    "    983, 991\n",
    "}"
   ]
  },
  {
   "cell_type": "code",
   "execution_count": null,
   "id": "2887d33d-8c2b-4973-a00c-1e8e5c9fafe9",
   "metadata": {},
   "outputs": [],
   "source": []
  },
  {
   "cell_type": "code",
   "execution_count": null,
   "id": "6ac66f69-48e4-49eb-936d-85866461105f",
   "metadata": {},
   "outputs": [],
   "source": [
    "# list       ----   set\n",
    "# .append()  ----   .add()      >>>  one eleman\n",
    "# .extend()  ----   .update()   >>>  multi eleman"
   ]
  },
  {
   "cell_type": "code",
   "execution_count": null,
   "id": "151dbf3a-230b-460a-b059-6fb15d6ed920",
   "metadata": {},
   "outputs": [],
   "source": [
    "primes.add(997)"
   ]
  },
  {
   "cell_type": "code",
   "execution_count": null,
   "id": "596b9044-6855-4d77-886b-586ef222405a",
   "metadata": {},
   "outputs": [],
   "source": [
    "print(f'997 is in primes? {997 in primes}' )"
   ]
  },
  {
   "cell_type": "code",
   "execution_count": null,
   "id": "c0d056d4-c761-41dd-9e56-88ca2f49c75d",
   "metadata": {},
   "outputs": [],
   "source": []
  },
  {
   "cell_type": "code",
   "execution_count": null,
   "id": "db1031c9-87a8-425d-8d8f-f2b7d0972563",
   "metadata": {},
   "outputs": [],
   "source": []
  },
  {
   "cell_type": "code",
   "execution_count": null,
   "id": "17e17b61-0fb8-4d80-967a-b93eea901cdb",
   "metadata": {},
   "outputs": [],
   "source": []
  },
  {
   "cell_type": "markdown",
   "id": "a9fbe695-4a15-49e4-9fc0-1881728d8bd0",
   "metadata": {},
   "source": [
    "## Set operations"
   ]
  },
  {
   "cell_type": "code",
   "execution_count": 9,
   "id": "e71ea62f-f191-4624-bad0-e25be53a6955",
   "metadata": {},
   "outputs": [
    {
     "ename": "KeyboardInterrupt",
     "evalue": "Interrupted by user",
     "output_type": "error",
     "traceback": [
      "\u001b[0;31m---------------------------------------------------------------------------\u001b[0m",
      "\u001b[0;31mKeyboardInterrupt\u001b[0m                         Traceback (most recent call last)",
      "Cell \u001b[0;32mIn[9], line 3\u001b[0m\n\u001b[1;32m      1\u001b[0m \u001b[38;5;66;03m# Calculate coefficients of different numbers\u001b[39;00m\n\u001b[0;32m----> 3\u001b[0m x \u001b[38;5;241m=\u001b[39m \u001b[38;5;28mint\u001b[39m(\u001b[38;5;28;43minput\u001b[39;49m\u001b[43m(\u001b[49m\u001b[38;5;124;43m'\u001b[39;49m\u001b[38;5;124;43mEnter the desired number:\u001b[39;49m\u001b[38;5;124;43m'\u001b[39;49m\u001b[43m)\u001b[49m)\n\u001b[1;32m      5\u001b[0m \u001b[38;5;66;03m# range(start, end, step)\u001b[39;00m\n\u001b[1;32m      6\u001b[0m multiples_of_x \u001b[38;5;241m=\u001b[39m \u001b[38;5;28mset\u001b[39m(\u001b[38;5;28mrange\u001b[39m(\u001b[38;5;241m0\u001b[39m, \u001b[38;5;241m100\u001b[39m, x))\n",
      "File \u001b[0;32m~/anaconda3/envs/py10/lib/python3.10/site-packages/ipykernel/kernelbase.py:1175\u001b[0m, in \u001b[0;36mKernel.raw_input\u001b[0;34m(self, prompt)\u001b[0m\n\u001b[1;32m   1171\u001b[0m \u001b[38;5;28;01mif\u001b[39;00m \u001b[38;5;129;01mnot\u001b[39;00m \u001b[38;5;28mself\u001b[39m\u001b[38;5;241m.\u001b[39m_allow_stdin:\n\u001b[1;32m   1172\u001b[0m     \u001b[38;5;28;01mraise\u001b[39;00m StdinNotImplementedError(\n\u001b[1;32m   1173\u001b[0m         \u001b[38;5;124m\"\u001b[39m\u001b[38;5;124mraw_input was called, but this frontend does not support input requests.\u001b[39m\u001b[38;5;124m\"\u001b[39m\n\u001b[1;32m   1174\u001b[0m     )\n\u001b[0;32m-> 1175\u001b[0m \u001b[38;5;28;01mreturn\u001b[39;00m \u001b[38;5;28;43mself\u001b[39;49m\u001b[38;5;241;43m.\u001b[39;49m\u001b[43m_input_request\u001b[49m\u001b[43m(\u001b[49m\n\u001b[1;32m   1176\u001b[0m \u001b[43m    \u001b[49m\u001b[38;5;28;43mstr\u001b[39;49m\u001b[43m(\u001b[49m\u001b[43mprompt\u001b[49m\u001b[43m)\u001b[49m\u001b[43m,\u001b[49m\n\u001b[1;32m   1177\u001b[0m \u001b[43m    \u001b[49m\u001b[38;5;28;43mself\u001b[39;49m\u001b[38;5;241;43m.\u001b[39;49m\u001b[43m_parent_ident\u001b[49m\u001b[43m[\u001b[49m\u001b[38;5;124;43m\"\u001b[39;49m\u001b[38;5;124;43mshell\u001b[39;49m\u001b[38;5;124;43m\"\u001b[39;49m\u001b[43m]\u001b[49m\u001b[43m,\u001b[49m\n\u001b[1;32m   1178\u001b[0m \u001b[43m    \u001b[49m\u001b[38;5;28;43mself\u001b[39;49m\u001b[38;5;241;43m.\u001b[39;49m\u001b[43mget_parent\u001b[49m\u001b[43m(\u001b[49m\u001b[38;5;124;43m\"\u001b[39;49m\u001b[38;5;124;43mshell\u001b[39;49m\u001b[38;5;124;43m\"\u001b[39;49m\u001b[43m)\u001b[49m\u001b[43m,\u001b[49m\n\u001b[1;32m   1179\u001b[0m \u001b[43m    \u001b[49m\u001b[43mpassword\u001b[49m\u001b[38;5;241;43m=\u001b[39;49m\u001b[38;5;28;43;01mFalse\u001b[39;49;00m\u001b[43m,\u001b[49m\n\u001b[1;32m   1180\u001b[0m \u001b[43m\u001b[49m\u001b[43m)\u001b[49m\n",
      "File \u001b[0;32m~/anaconda3/envs/py10/lib/python3.10/site-packages/ipykernel/kernelbase.py:1217\u001b[0m, in \u001b[0;36mKernel._input_request\u001b[0;34m(self, prompt, ident, parent, password)\u001b[0m\n\u001b[1;32m   1214\u001b[0m             \u001b[38;5;28;01mbreak\u001b[39;00m\n\u001b[1;32m   1215\u001b[0m \u001b[38;5;28;01mexcept\u001b[39;00m \u001b[38;5;167;01mKeyboardInterrupt\u001b[39;00m:\n\u001b[1;32m   1216\u001b[0m     \u001b[38;5;66;03m# re-raise KeyboardInterrupt, to truncate traceback\u001b[39;00m\n\u001b[0;32m-> 1217\u001b[0m     \u001b[38;5;28;01mraise\u001b[39;00m \u001b[38;5;167;01mKeyboardInterrupt\u001b[39;00m(\u001b[38;5;124m\"\u001b[39m\u001b[38;5;124mInterrupted by user\u001b[39m\u001b[38;5;124m\"\u001b[39m) \u001b[38;5;28;01mfrom\u001b[39;00m \u001b[38;5;28mNone\u001b[39m\n\u001b[1;32m   1218\u001b[0m \u001b[38;5;28;01mexcept\u001b[39;00m \u001b[38;5;167;01mException\u001b[39;00m:\n\u001b[1;32m   1219\u001b[0m     \u001b[38;5;28mself\u001b[39m\u001b[38;5;241m.\u001b[39mlog\u001b[38;5;241m.\u001b[39mwarning(\u001b[38;5;124m\"\u001b[39m\u001b[38;5;124mInvalid Message:\u001b[39m\u001b[38;5;124m\"\u001b[39m, exc_info\u001b[38;5;241m=\u001b[39m\u001b[38;5;28;01mTrue\u001b[39;00m)\n",
      "\u001b[0;31mKeyboardInterrupt\u001b[0m: Interrupted by user"
     ]
    }
   ],
   "source": [
    "# Calculate coefficients of different numbers\n",
    "\n",
    "x = int(input('Enter the desired number:'))\n",
    "\n",
    "# range(start, end, step)\n",
    "multiples_of_x = set(range(0, 100, x))\n",
    "\n",
    "print(sorted(multiples_of_x))"
   ]
  },
  {
   "cell_type": "code",
   "execution_count": 7,
   "id": "10df71ae-c55b-4ea1-a939-f99350ead51f",
   "metadata": {},
   "outputs": [
    {
     "name": "stdin",
     "output_type": "stream",
     "text": [
      "Enter the desired number: 20\n"
     ]
    },
    {
     "name": "stdout",
     "output_type": "stream",
     "text": [
      "[0, 20, 40, 60, 80]\n"
     ]
    }
   ],
   "source": [
    "# Calculate coefficients of different numbers\n",
    "\n",
    "y = int(input('Enter the desired number:'))\n",
    "\n",
    "# range(start, end, step)\n",
    "multiples_of_y = set(range(0, 100, y))\n",
    "\n",
    "print(sorted(multiples_of_y))"
   ]
  },
  {
   "cell_type": "markdown",
   "id": "d5bd56b8-709b-4cef-b77b-8ed4b336325c",
   "metadata": {},
   "source": []
  },
  {
   "cell_type": "code",
   "execution_count": null,
   "id": "31b9935d-40d8-4c47-abcc-4426c1b704cb",
   "metadata": {},
   "outputs": [],
   "source": [
    "# x intersection y\n",
    "# x & y \n",
    "\n",
    "intersection = multiples_of_x.intersection(multiples_of_y)\n",
    "print(f'intersection Two sets of numbers equal: {intersection}')\n"
   ]
  },
  {
   "cell_type": "code",
   "execution_count": null,
   "id": "aaa45140-786e-4a16-82e9-5709c9d26115",
   "metadata": {},
   "outputs": [],
   "source": [
    "# x difference y\n",
    "# x - y\n",
    "\n",
    "difference = multiples_of_x.difference(multiples_of_y)\n",
    "print(f'difference Two sets of numbers equal: {difference}')\n"
   ]
  },
  {
   "cell_type": "code",
   "execution_count": null,
   "id": "149918f5-b132-4f08-805c-147951d50bf1",
   "metadata": {},
   "outputs": [],
   "source": [
    "# x union y\n",
    "# x | y\n",
    "\n",
    "union = multiples_of_x.union(multiples_of_y)\n",
    "print(f'union Two sets of numbers equal: {union}')\n"
   ]
  },
  {
   "cell_type": "code",
   "execution_count": null,
   "id": "62d177f2-3a9c-424c-a614-3b32f07ddd54",
   "metadata": {},
   "outputs": [],
   "source": []
  },
  {
   "cell_type": "code",
   "execution_count": null,
   "id": "20a91cbd-4a56-44b6-b216-87a5d37e9bd6",
   "metadata": {},
   "outputs": [],
   "source": [
    "# multiples of 3\n",
    "# solution_1\n",
    "\n",
    "# range(start, end, step)\n",
    "multiples_of_3 = set(range(0, 100, 3))\n",
    "\n",
    "print(multiples_of_3)"
   ]
  },
  {
   "cell_type": "code",
   "execution_count": null,
   "id": "0f2a53f1-9a73-4fad-a744-4ff80cf1c8d6",
   "metadata": {},
   "outputs": [],
   "source": [
    "# multiples of 3\n",
    "# solution_2\n",
    "\n",
    "collection = set()\n",
    "for i in collection:\n",
    "    pass\n"
   ]
  },
  {
   "cell_type": "code",
   "execution_count": null,
   "id": "8cdf825c-c48c-40ce-a31d-3b6abb80bc71",
   "metadata": {},
   "outputs": [],
   "source": []
  },
  {
   "cell_type": "code",
   "execution_count": null,
   "id": "925bcc80-71c1-4379-ab4e-d553a5781125",
   "metadata": {
    "tags": []
   },
   "outputs": [],
   "source": [
    "# multiples of 5\n",
    "# solution_1\n",
    "\n",
    "# range(start, end, step)\n",
    "multiples_of_5 = set(range(0, 100, 5))\n",
    "\n",
    "print(multiples_of_5)"
   ]
  },
  {
   "cell_type": "code",
   "execution_count": null,
   "id": "ea649fa6-9a85-44eb-ae33-68e5de6eb7c0",
   "metadata": {},
   "outputs": [],
   "source": []
  },
  {
   "cell_type": "code",
   "execution_count": null,
   "id": "b4962de4-9498-4a1c-a3f4-05f813bb6ee4",
   "metadata": {},
   "outputs": [],
   "source": [
    "print(multiples_of_3 & multiples_of_5)\n",
    "print(multiples_of_3 | multiples_of_5)"
   ]
  },
  {
   "cell_type": "code",
   "execution_count": null,
   "id": "7764f62b-5d86-4e33-833b-5da65ae5c0ac",
   "metadata": {},
   "outputs": [],
   "source": []
  },
  {
   "cell_type": "code",
   "execution_count": null,
   "id": "8534c4e9-5673-48b3-b88d-0e0005370bdf",
   "metadata": {},
   "outputs": [],
   "source": [
    "# multiples of 5\n",
    "# solution_2\n",
    "\n",
    "collection = set()\n",
    "for i in collection:\n",
    "    pass"
   ]
  },
  {
   "cell_type": "code",
   "execution_count": null,
   "id": "09a8b9be-c8cd-4341-a39b-b77941e3ec23",
   "metadata": {},
   "outputs": [],
   "source": []
  },
  {
   "cell_type": "code",
   "execution_count": null,
   "id": "25e45ac6-4531-4860-a0e4-fef1978e5270",
   "metadata": {},
   "outputs": [],
   "source": []
  },
  {
   "cell_type": "code",
   "execution_count": null,
   "id": "2094da04-ea9e-40fd-8010-8d2d60f1741e",
   "metadata": {},
   "outputs": [],
   "source": []
  },
  {
   "cell_type": "markdown",
   "id": "a917c155-da97-451c-8fbe-718deab6719c",
   "metadata": {},
   "source": [
    "## if statement"
   ]
  },
  {
   "cell_type": "code",
   "execution_count": null,
   "id": "eff883b2-4f93-4231-a31e-2cde39fb3611",
   "metadata": {},
   "outputs": [],
   "source": [
    "# conditional statements in python\n",
    "# control structurs\n",
    "\n",
    "# if  <conditional>:  ---- evaluated to true or false => if conditional == true => run code block\n",
    "#     <statement>     ---- code block\n",
    "#<tab>                ---- indentation\n",
    "\n",
    "#    if  <conditional>:  ---- nested if\n",
    "#        <statement> \n",
    "#<tabtab>\n",
    "\n",
    "#       ( if == false => run elif )\n",
    "# elif  <conditional>: ---- valuated to true or false => elif conditional == true => run code block\n",
    "#       <statement>\n",
    "    \n",
    "# else:              ---- esle: have not conditional => if or elif conditional == false => run else <statement>\n",
    "#     <statement>   \n",
    "\n",
    "#       (conditional expresion Ternary opeator)\n",
    "# <statement> if <conditional> else <statement>   ---- if conditional == true  => left  <statement> is run\n",
    "#                                                 ---- if conditional == false => right (else)<ststement> is run\n"
   ]
  },
  {
   "cell_type": "code",
   "execution_count": null,
   "id": "4a306570-c764-471e-8688-4820d85899c2",
   "metadata": {},
   "outputs": [],
   "source": [
    "x = int(input('enter your age:'))\n",
    "\n",
    "print('say hello to death') if x >= 80 else print('I congratulate you')    # onditional expresion Ternary opeator\n",
    "if x <= 20:                           # if\n",
    "    print('You are child')\n",
    "    if x == 0:                    # nested if\n",
    "            print('You are stupid')\n",
    "elif x > 20 and x <= 30:              # elif\n",
    "    print('You are young')\n",
    "elif x > 30 and x < 80:              # elif\n",
    "            print('you are old')\n",
    "else:                                 # else\n",
    "    print('your age is out of renge')"
   ]
  },
  {
   "cell_type": "code",
   "execution_count": null,
   "id": "3dea8de6-44e0-40e9-8b23-b0998dfd8900",
   "metadata": {},
   "outputs": [],
   "source": []
  },
  {
   "cell_type": "code",
   "execution_count": null,
   "id": "fbc682e2-d21d-4ce2-9178-5a7229bc66ca",
   "metadata": {},
   "outputs": [],
   "source": []
  },
  {
   "cell_type": "code",
   "execution_count": null,
   "id": "2cb13142-afd7-412e-b2f5-eb5a09356ef0",
   "metadata": {},
   "outputs": [],
   "source": []
  },
  {
   "cell_type": "markdown",
   "id": "16b1e788-1f95-4964-8638-f6b81acb5694",
   "metadata": {},
   "source": [
    "## Find Median"
   ]
  },
  {
   "cell_type": "code",
   "execution_count": null,
   "id": "cf695d7b-818e-4b93-9bfd-f971d707bcb4",
   "metadata": {},
   "outputs": [],
   "source": [
    "# solution 1\n",
    "# Receive input numbers using loop\n"
   ]
  },
  {
   "cell_type": "code",
   "execution_count": null,
   "id": "5b0fc459-4906-45ca-9c9b-4cd51c1a90a0",
   "metadata": {},
   "outputs": [],
   "source": [
    "# solution 2\n",
    "number_1 = float(input('inter first number: '))\n",
    "number_2 = float(input('inter second number: '))\n",
    "number_3 = float(input('inter third number: '))"
   ]
  },
  {
   "cell_type": "code",
   "execution_count": null,
   "id": "e6f2acbc-dc69-4a70-942b-ac22036b481b",
   "metadata": {},
   "outputs": [],
   "source": [
    "# solution 1\n",
    "if number_1 > number_2 and number_1 < number_3 or number_1 < number_2 and number_1 > number_3:\n",
    "    print(f'{number_1} is median number')\n",
    "elif number_2 > number_1 and number_2 < number_3 or number_2 < number_1 and number_2 > number_3:\n",
    "    print(f'{number_2} is median number')\n",
    "elif number_3 > number_1 and number_3 < number_2 or number_3 < number_1 and number_3 > number_2:\n",
    "    print(f'{number_3} is median number')"
   ]
  },
  {
   "cell_type": "code",
   "execution_count": null,
   "id": "adeb8652-ca8d-43d2-846b-3de8f256e356",
   "metadata": {},
   "outputs": [],
   "source": [
    "# solution 2\n",
    "if number_1 > number_2:\n",
    "    if number_1 < number_3:\n",
    "        median = number_1\n",
    "    elif number_2 > number_3:\n",
    "        median = number_2\n",
    "    else:\n",
    "        median = number_3\n",
    "else:\n",
    "    if number_1 > number_3:\n",
    "        median = number_1\n",
    "    elif number_2 < number_3:\n",
    "        median = number_2\n",
    "    else:\n",
    "        median = number_3\n",
    "print(f'{median} is median number')"
   ]
  },
  {
   "cell_type": "code",
   "execution_count": null,
   "id": "25f3254f-04d3-4c1c-859e-7e1f5a1fcd1a",
   "metadata": {},
   "outputs": [],
   "source": []
  },
  {
   "cell_type": "code",
   "execution_count": null,
   "id": "75453d14-53c4-4d13-8aa0-29895ba63b3c",
   "metadata": {},
   "outputs": [],
   "source": []
  },
  {
   "cell_type": "code",
   "execution_count": null,
   "id": "74d54443-4727-48c8-9a1f-99976c29d9b9",
   "metadata": {},
   "outputs": [],
   "source": []
  },
  {
   "cell_type": "markdown",
   "id": "9740d738-fc83-4826-8271-1252fdc496b7",
   "metadata": {},
   "source": [
    "## Conditional Sum"
   ]
  },
  {
   "cell_type": "code",
   "execution_count": null,
   "id": "5b9b6531-6dbf-4366-bcb8-7311b73427a8",
   "metadata": {},
   "outputs": [],
   "source": [
    "# solution 1\n",
    "# Receive input numbers using loop"
   ]
  },
  {
   "cell_type": "code",
   "execution_count": null,
   "id": "30f70cc2-b90a-4e0b-a1e9-6870198e9ce7",
   "metadata": {},
   "outputs": [],
   "source": [
    "# solution 2\n",
    "\n",
    "score_1 = float(input(\"inter first score: \"))\n",
    "score_2 = float(input(\"inter second score: \"))\n",
    "score_3 = float(input(\"inter third score: \"))"
   ]
  },
  {
   "cell_type": "code",
   "execution_count": null,
   "id": "bf1ddc29-1bde-445a-a47e-f3b2a4ac672a",
   "metadata": {},
   "outputs": [],
   "source": [
    "# solution 1\n",
    "sum_score = score_1 + score_2 + score_3\n",
    "\n",
    "# solution 2 \n",
    "# score = [score_1, score_2, score_3]\n",
    "# sum_score = sum(score)"
   ]
  },
  {
   "cell_type": "code",
   "execution_count": null,
   "id": "fc427de6-18da-45f8-be45-d669780984ad",
   "metadata": {},
   "outputs": [],
   "source": [
    "mean_score = sum_score / 3"
   ]
  },
  {
   "cell_type": "code",
   "execution_count": null,
   "id": "363bf299-669f-4a51-8896-f48c49ab4f10",
   "metadata": {},
   "outputs": [],
   "source": [
    "# solution 1\n",
    "if mean_score >= 16:\n",
    "    mean_score = 20\n",
    "    print(f'student score is: {mean_score}')\n",
    "else:\n",
    "    print(f'student score is: {mean_score}')\n",
    "    \n",
    "    \n",
    "# solution 2 \n",
    "#if mean_score >= 16 and mean_score <= 20:\n",
    " #   print('student score is: 20 ')\n",
    "#else:\n",
    " #   print(f'student score is: {mean_score}')"
   ]
  },
  {
   "cell_type": "code",
   "execution_count": null,
   "id": "3c0249f0-5bf6-4811-b1c0-8427a3b47952",
   "metadata": {},
   "outputs": [],
   "source": []
  },
  {
   "cell_type": "code",
   "execution_count": null,
   "id": "cd634e4c-0759-4d51-8027-a995b5a0fcb6",
   "metadata": {},
   "outputs": [],
   "source": []
  },
  {
   "cell_type": "code",
   "execution_count": null,
   "id": "7a46c66f-3f31-4f85-941b-17a0c02f1caf",
   "metadata": {},
   "outputs": [],
   "source": []
  },
  {
   "cell_type": "markdown",
   "id": "db958598-d4af-4976-bcb6-3c3f5de859af",
   "metadata": {},
   "source": [
    "## Grading System"
   ]
  },
  {
   "cell_type": "code",
   "execution_count": null,
   "id": "d24d6008-f4e1-4a2f-8fc1-d8fcfee804ee",
   "metadata": {},
   "outputs": [],
   "source": [
    "student_score = float(input('please inter studstudent_score score: ' ))"
   ]
  },
  {
   "cell_type": "code",
   "execution_count": null,
   "id": "103ee9f7-6eab-42c7-a84a-c61257633caf",
   "metadata": {},
   "outputs": [],
   "source": [
    "if student_score  >= 90:\n",
    "    grade = 'A'\n",
    "elif 80 <= student_score < 90:\n",
    "    grade = 'B'\n",
    "elif 60 <= student_score < 80:\n",
    "    grade = 'C'\n",
    "elif 60 < student_score:\n",
    "    grade = 'D'\n",
    "print(f'Marks grade student: {grade}')\n"
   ]
  },
  {
   "cell_type": "code",
   "execution_count": null,
   "id": "bed27dd4-eadc-4c41-975b-c7226249ac7c",
   "metadata": {},
   "outputs": [],
   "source": []
  },
  {
   "cell_type": "code",
   "execution_count": null,
   "id": "5a998640-5b15-407c-87f9-e6de2c3df14d",
   "metadata": {},
   "outputs": [],
   "source": []
  },
  {
   "cell_type": "code",
   "execution_count": null,
   "id": "963bb6da-c095-4158-8f31-13b888aa4f65",
   "metadata": {},
   "outputs": [],
   "source": []
  },
  {
   "cell_type": "markdown",
   "id": "da481458-f06e-423f-be76-fdb8d6d9d81a",
   "metadata": {},
   "source": [
    "## GPA calculator"
   ]
  },
  {
   "cell_type": "code",
   "execution_count": null,
   "id": "45dc98c5-e099-40ec-8ee8-935f50c555ec",
   "metadata": {},
   "outputs": [],
   "source": [
    "# \"\"\" \n",
    "نمرات را با استفاده از حلقه دریافت شود\n",
    "نمره های دریافتی در یک لیست ذخیره شود \n",
    "و یا نمره های دریافتی در یک دیکشنری ذخیره شود همراه با اسم درس و نمره درس و بتوان نمره هر درس را که خواستیم به صورت جداگانه در خروجی ببینیم \n",
    "تعداد نمره های دریافتی میتواند بین 0 تا 10 نمره باشد \n",
    "نمره های دریافتی بین 0 تا 100 باشد \n",
    "بر اساس جدول جی پی ای به میانگین نمرات رتبه از ای تا اف بدهد و میانگین نمره را هم اعلام کند\n"
   ]
  },
  {
   "cell_type": "code",
   "execution_count": null,
   "id": "49b7df8e-3149-447e-80a8-f8b91502d840",
   "metadata": {},
   "outputs": [],
   "source": []
  },
  {
   "cell_type": "code",
   "execution_count": null,
   "id": "b083a7da-b121-4fc0-b256-483a03df00d4",
   "metadata": {},
   "outputs": [],
   "source": []
  },
  {
   "cell_type": "code",
   "execution_count": null,
   "id": "2d9e5725-d9fd-4b84-add8-a72ddc15d6e6",
   "metadata": {},
   "outputs": [],
   "source": []
  },
  {
   "cell_type": "markdown",
   "id": "43036434-544c-47e1-ba53-161077d04cb3",
   "metadata": {},
   "source": [
    "## Vowel Or Consonant"
   ]
  },
  {
   "cell_type": "code",
   "execution_count": null,
   "id": "7044334b-b98d-4cf5-bac0-d40afab60299",
   "metadata": {},
   "outputs": [],
   "source": [
    "alphabet = input('plesse enter a character: ')"
   ]
  },
  {
   "cell_type": "code",
   "execution_count": null,
   "id": "3c2deb8b-e27a-4c68-8c8b-8bb338ed158b",
   "metadata": {},
   "outputs": [],
   "source": [
    "vowel_character = {'a', 'i', 'o', 'u', 'e',}"
   ]
  },
  {
   "cell_type": "code",
   "execution_count": null,
   "id": "2f42b5b9-641e-4d03-99f9-a82714dc1e2b",
   "metadata": {},
   "outputs": [],
   "source": [
    "if alphabet.lower() in vowel_character:\n",
    "    print(f'({alphabet}) is a vowel character')\n",
    "else:\n",
    "    print(f'({alphabet}) is a Consonant character')\n"
   ]
  },
  {
   "cell_type": "code",
   "execution_count": null,
   "id": "622b0a9e-4658-4487-a2f2-05634352ecb3",
   "metadata": {},
   "outputs": [],
   "source": []
  },
  {
   "cell_type": "code",
   "execution_count": null,
   "id": "f82ab6e5-b449-40bf-aeaa-7645ae5456fb",
   "metadata": {},
   "outputs": [],
   "source": []
  },
  {
   "cell_type": "code",
   "execution_count": null,
   "id": "9d7177f2-8fc1-4831-b803-3a9129998062",
   "metadata": {},
   "outputs": [],
   "source": [
    "# برنامه ای بنویسید که یک متن از کاربر دریافت کند \n",
    "کلمات حاوی حروف صدا دار را در خروجی نشان دهد\n",
    "تعداد حروف صدا دار استفاده شده در متن را به تفکیک حروف نیز نمایش دهد ( از حر حرف چند بار در متن استفاده شده است ) \n"
   ]
  },
  {
   "cell_type": "code",
   "execution_count": null,
   "id": "7cd753cb-e88f-4af6-9254-3c3caf6836ff",
   "metadata": {},
   "outputs": [],
   "source": []
  },
  {
   "cell_type": "code",
   "execution_count": null,
   "id": "b8c7a4fa-4101-49a7-bb20-480774f6cec6",
   "metadata": {},
   "outputs": [],
   "source": []
  },
  {
   "cell_type": "code",
   "execution_count": null,
   "id": "b2420b65-396b-4979-ac48-b7e4d148ce4d",
   "metadata": {},
   "outputs": [],
   "source": [
    "equilateral\n",
    " isosceles\n",
    " scalene triangle"
   ]
  },
  {
   "cell_type": "markdown",
   "id": "eac91fae-cbd3-45cb-8135-9dfb8c7b2b1d",
   "metadata": {},
   "source": [
    "## Triangle Type"
   ]
  },
  {
   "cell_type": "code",
   "execution_count": null,
   "id": "eabfbfaa-50bc-4789-9c6a-0877ad23b225",
   "metadata": {},
   "outputs": [],
   "source": [
    "side_1 = float(input(\"inter first side: \"))\n",
    "side_2 = float(input(\"inter second side: \"))\n",
    "side_3 = float(input(\"inter third side: \"))"
   ]
  },
  {
   "cell_type": "code",
   "execution_count": null,
   "id": "12f28695-3cc2-4eeb-b643-253dbb8db66d",
   "metadata": {},
   "outputs": [],
   "source": [
    "if side_1 == side_2 == side_3:   \n",
    "    triangle = 'equilateral'        # متساوی الاضلاع\n",
    "elif (side_1 == side_2) or (side_1 == side_3) or (side_2 == side_3):\n",
    "    triangle = 'isosceles'          # متساوی الساقین\n",
    "elif side_1 != side_2 and side_1 != side_3 and side_2 != side_3 :\n",
    "    triangle = 'scalene triangle'   # مثلث اسکالن\n",
    "print(f'Triangle Type is {triangle}')\n"
   ]
  },
  {
   "cell_type": "code",
   "execution_count": null,
   "id": "5c1728ac-dc48-4f07-8e9e-6bc338b5dfaa",
   "metadata": {},
   "outputs": [],
   "source": []
  },
  {
   "cell_type": "code",
   "execution_count": null,
   "id": "d55c4b90-6f34-4bc4-8420-e22d0305035f",
   "metadata": {},
   "outputs": [],
   "source": []
  },
  {
   "cell_type": "code",
   "execution_count": null,
   "id": "4f3c00ac-c162-4d36-b8a4-44d163f551e8",
   "metadata": {},
   "outputs": [],
   "source": []
  },
  {
   "cell_type": "markdown",
   "id": "8971f58d-3d90-46c5-9eca-e40b3d8e7865",
   "metadata": {},
   "source": [
    "## Easy Calculater"
   ]
  },
  {
   "cell_type": "code",
   "execution_count": null,
   "id": "32592c20-5b2a-4c71-8dd2-80e5896ac229",
   "metadata": {},
   "outputs": [],
   "source": [
    "number_1 = float(input('inter first number: '))\n",
    "number_2 = float(input('inter second number: '))\n",
    "operator = input('inter a mathematical operator: ')"
   ]
  },
  {
   "cell_type": "code",
   "execution_count": null,
   "id": "736ec41f-f3e7-4d00-9b0d-da8675938892",
   "metadata": {},
   "outputs": [],
   "source": [
    "if operator == '+':\n",
    "    opreration = number_1 + number_2\n",
    "    print(f'answer = {opreration}')\n",
    "elif operator == '-':\n",
    "    opreration = number_1 - number_2\n",
    "    print(f'answer = {opreration}')\n",
    "elif operator == '*':\n",
    "    opreration = number_1 * number_2\n",
    "    print(f'answer = {opreration}')\n",
    "elif operator == '/':\n",
    "    opreration = number_1 / number_2\n",
    "    print(f'answer = {opreration}')\n",
    "else:\n",
    "    print('operator not sopurt!!!')"
   ]
  },
  {
   "cell_type": "code",
   "execution_count": null,
   "id": "0966d5eb-03c2-4731-8236-d196f6cee04d",
   "metadata": {},
   "outputs": [],
   "source": []
  },
  {
   "cell_type": "code",
   "execution_count": null,
   "id": "02c98331-2979-4483-b512-0f482b3c4fed",
   "metadata": {},
   "outputs": [],
   "source": []
  },
  {
   "cell_type": "code",
   "execution_count": null,
   "id": "51d16609-225c-4601-badb-7b6a8c7412cd",
   "metadata": {},
   "outputs": [],
   "source": []
  },
  {
   "cell_type": "markdown",
   "id": "cc244811-bdd0-47cd-ac67-de5fe4c6aff7",
   "metadata": {},
   "source": [
    "## Conditional Job Working"
   ]
  },
  {
   "cell_type": "code",
   "execution_count": 22,
   "id": "bbb664c0-6a1e-4913-bae6-bf1a70c31ca2",
   "metadata": {},
   "outputs": [
    {
     "name": "stdin",
     "output_type": "stream",
     "text": [
      "inter a number:  777\n"
     ]
    }
   ],
   "source": [
    "number = float(input('inter a number: '))"
   ]
  },
  {
   "cell_type": "code",
   "execution_count": 25,
   "id": "ac8571fd-dfde-430c-b7d9-2dc08008ac6d",
   "metadata": {},
   "outputs": [
    {
     "name": "stdout",
     "output_type": "stream",
     "text": [
      "Dont Do it\n"
     ]
    }
   ],
   "source": [
    "if 500 <= number <1000:\n",
    "    n = (number // 10) % 10\n",
    "    if n % 2 == 0 :\n",
    "        print('Do it')\n",
    "    else:\n",
    "        print('Dont Do it')\n",
    "else:\n",
    "    print('Invalid Number!')"
   ]
  },
  {
   "cell_type": "code",
   "execution_count": null,
   "id": "dc0b0ad4-7a2b-4aa8-a460-e48b0987a194",
   "metadata": {},
   "outputs": [],
   "source": []
  },
  {
   "cell_type": "code",
   "execution_count": null,
   "id": "46fcaa71-f12a-4abe-8dea-f228625a94c7",
   "metadata": {},
   "outputs": [],
   "source": []
  },
  {
   "cell_type": "code",
   "execution_count": null,
   "id": "88d92409-cefc-40af-95e7-defad8ddab0e",
   "metadata": {},
   "outputs": [],
   "source": []
  },
  {
   "cell_type": "markdown",
   "id": "a3e38454-9d4c-4df9-b6b5-fef300b2d2c5",
   "metadata": {},
   "source": [
    "## Even or odd"
   ]
  },
  {
   "cell_type": "code",
   "execution_count": 37,
   "id": "2c9a1885-a378-4ae8-a24b-02fc500e3f54",
   "metadata": {},
   "outputs": [
    {
     "name": "stdin",
     "output_type": "stream",
     "text": [
      "inter a number:  684\n"
     ]
    }
   ],
   "source": [
    "number = float(input('inter a number: '))"
   ]
  },
  {
   "cell_type": "code",
   "execution_count": 38,
   "id": "ad7f6b12-1c91-469d-ba41-daefb4fa3431",
   "metadata": {},
   "outputs": [
    {
     "name": "stdout",
     "output_type": "stream",
     "text": [
      "number 684.0 is even\n"
     ]
    }
   ],
   "source": [
    "if number % 2 == 0:\n",
    "    print(f'number {number} is even')\n",
    "elif number % 2 == 1:\n",
    "    print(f'number {number} is odd')"
   ]
  },
  {
   "cell_type": "code",
   "execution_count": null,
   "id": "054f7049-c5ae-49c6-99f5-68ace6143c8d",
   "metadata": {},
   "outputs": [],
   "source": []
  },
  {
   "cell_type": "code",
   "execution_count": null,
   "id": "89f9340e-b1ce-4c95-9e73-1874a4e95b9f",
   "metadata": {},
   "outputs": [],
   "source": []
  },
  {
   "cell_type": "code",
   "execution_count": null,
   "id": "e5405e95-8919-4046-9afd-12fd44e2316d",
   "metadata": {},
   "outputs": [],
   "source": []
  },
  {
   "cell_type": "markdown",
   "id": "d3fdce6c-9ab4-4876-a83b-36c00c3b50e1",
   "metadata": {},
   "source": [
    "## The weekday namew"
   ]
  },
  {
   "cell_type": "code",
   "execution_count": 6,
   "id": "94413762-83b8-4b7c-8920-4c0db130ea50",
   "metadata": {},
   "outputs": [
    {
     "name": "stdin",
     "output_type": "stream",
     "text": [
      "Enter the day of the week number:  4\n"
     ]
    }
   ],
   "source": [
    "d_n = int(input('Enter the day of the week number: '))"
   ]
  },
  {
   "cell_type": "code",
   "execution_count": 7,
   "id": "7a544ba5-3552-4f7c-8ee0-4b81c23582bb",
   "metadata": {},
   "outputs": [
    {
     "name": "stdout",
     "output_type": "stream",
     "text": [
      "the fourth day of the week is Tuesday\n"
     ]
    }
   ],
   "source": [
    "# solution 1\n",
    "if d_n == 1:\n",
    "    print('The first day of the week is Saturday')\n",
    "elif d_n == 2:\n",
    "    print('The second day of the week is Sunday')\n",
    "elif d_n == 3:\n",
    "    print('The Third day of the week is Monday')\n",
    "elif d_n == 4:\n",
    "    print('the fourth day of the week is Tuesday')\n",
    "elif d_n == 5:\n",
    "    print('the fifth day of the week is Wednesday')\n",
    "elif d_n == 6:\n",
    "    print('the sixth day of the week is Thursday')\n",
    "elif d_n == 7:\n",
    "    print('the seventh day of the week is Friday')\n",
    "else:\n",
    "    print('Enter a number from 1 to 7')"
   ]
  },
  {
   "cell_type": "code",
   "execution_count": null,
   "id": "76286ec5-4b94-4908-9b82-0ed2e1932942",
   "metadata": {},
   "outputs": [],
   "source": []
  },
  {
   "cell_type": "code",
   "execution_count": 10,
   "id": "34df16b2-0eb2-4b16-9c29-6ede3b5a249b",
   "metadata": {},
   "outputs": [],
   "source": [
    "# solution 2\n",
    "\n",
    "day_number = {\n",
    "    1: 'Saturday',\n",
    "    2: 'Sunda',\n",
    "    3: 'Monday',\n",
    "    4: 'Tuesday',\n",
    "    5: 'Wednesday',\n",
    "    6: 'Thursday',\n",
    "    7: 'Friday',\n",
    "}"
   ]
  },
  {
   "cell_type": "code",
   "execution_count": 11,
   "id": "0953b3da-4676-44e8-94b8-61049911f837",
   "metadata": {},
   "outputs": [
    {
     "name": "stdout",
     "output_type": "stream",
     "text": [
      "the 4 day of the week is Tuesday\n"
     ]
    }
   ],
   "source": [
    "print(f'the {d_n} day of the week is {day_number[d_n]}')"
   ]
  },
  {
   "cell_type": "code",
   "execution_count": null,
   "id": "0a667af8-dbe1-4c09-8228-207be99a192d",
   "metadata": {},
   "outputs": [],
   "source": []
  },
  {
   "cell_type": "code",
   "execution_count": null,
   "id": "393a4d2a-02ab-4837-a4f3-361103a20878",
   "metadata": {},
   "outputs": [],
   "source": []
  },
  {
   "cell_type": "code",
   "execution_count": null,
   "id": "63cc69c6-3574-428f-9d75-a5d6654b0368",
   "metadata": {},
   "outputs": [],
   "source": []
  },
  {
   "cell_type": "markdown",
   "id": "5e26575f-6962-4a90-ad22-78ece9703aaa",
   "metadata": {},
   "source": [
    "## Area of geometric shapes\n"
   ]
  },
  {
   "cell_type": "code",
   "execution_count": 183,
   "id": "9e949bd4-7d34-4426-81d3-c3940f26351b",
   "metadata": {},
   "outputs": [],
   "source": [
    "g_s = {\n",
    "    1: 'Line',\n",
    "    2: 'Circle',\n",
    "    3: 'Triangle',\n",
    "    4: 'Square',\n",
    "    5: 'Rectangle',\n",
    "}"
   ]
  },
  {
   "cell_type": "code",
   "execution_count": 184,
   "id": "c0f9d0cb-b91f-4889-8325-49b6e1ee8a9d",
   "metadata": {},
   "outputs": [],
   "source": [
    "##### tabdile key and value haye dictionary be estring va zakhire anha dar list\n",
    "# ezafe kardan yek new line(\\n) be tak tak ekeman haye list\n",
    "\n",
    "str_g_s = '\\n'.join([f\"{key} \\u2192 {value}\" for key, value in g_s.items()])"
   ]
  },
  {
   "cell_type": "code",
   "execution_count": 202,
   "id": "d5f177a8-a574-4903-894b-6865ba47cf9e",
   "metadata": {},
   "outputs": [
    {
     "name": "stdin",
     "output_type": "stream",
     "text": [
      "Enter the number of the desired geometric shape:1 → Line\n",
      "2 → Circle\n",
      "3 → Triangle\n",
      "4 → Square\n",
      "5 → Rectangle\n",
      "\n",
      " 3\n"
     ]
    }
   ],
   "source": [
    "# liste shoe_g_s ra be karbar namayesh midahad va az karbar mikhahad yeki ra entekhab konad\n",
    "selectg_s = int(input(\n",
    "    f\"\"\"Enter the number of the desired geometric shape:{str_g_s}\\n\n",
    "\"\"\"))"
   ]
  },
  {
   "cell_type": "code",
   "execution_count": 204,
   "id": "6df3aede-c113-49ae-a639-9a548d3311cf",
   "metadata": {},
   "outputs": [
    {
     "name": "stdout",
     "output_type": "stream",
     "text": [
      "The selected shape is a Triangle\n",
      "Triangle's perimeter = Sum of all three sides\n",
      "Enter the size three sides of the Triangle:\n"
     ]
    },
    {
     "name": "stdin",
     "output_type": "stream",
     "text": [
      "side one:  10\n",
      "side two: 20\n",
      "side three: 10\n"
     ]
    },
    {
     "name": "stdout",
     "output_type": "stream",
     "text": [
      "Triangle Type is isosceles\n",
      "The perimeter of a Triangle = 40.0\n"
     ]
    }
   ],
   "source": [
    "if selectg_s == 1:\n",
    "    print(f\"The selected shape is a {g_s[selectg_s]}\")\n",
    "    print(\"straight Line's perimeter = length of the line\")\n",
    "    size_side = float(input(\"Enter the length of the Line:\"))\n",
    "    print(f\"The perimeter of straight Line = {size_side}\")\n",
    "elif selectg_s == 2:\n",
    "    print(f\"The selected shape is a {g_s[selectg_s]}\")\n",
    "    print(\"Circle's perimeter = Diameter * 3.14\")\n",
    "    size_side = float(input(\"\"\"Enter the Circle's diameter: \"\"\"))\n",
    "    print(f\"The perimeter of Circule = {size_side * 3.14}\")\n",
    "elif selectg_s == 3:\n",
    "    print(f\"The selected shape is a {g_s[selectg_s]}\")\n",
    "    print(\"Triangle's perimeter = Sum of all three sides\")\n",
    "    print(\"Enter the size three sides of the Triangle:\")\n",
    "    size_side_1 = float(input(\"side one: \"))\n",
    "    size_side_2 = float(input(\"side two:\"))\n",
    "    size_side_3 = float(input(\"side three:\"))\n",
    "    if size_side_1 == size_side_2 == size_side_3:   \n",
    "        triangle = 'equilateral'        # متساوی الاضلاع\n",
    "    elif (size_side_1 == size_side_2) or (size_side_1 == size_side_3) or (size_side_2 == size_side_3):\n",
    "        triangle = 'isosceles'          # متساوی الساقین\n",
    "    elif size_side_1 != size_side_2 and size_side_1 != size_side_3 and size_side_2 != size_ide_3 :\n",
    "        triangle = 'scalene triangle'   # مثلث اسکالن\n",
    "    print(f'Triangle Type is {triangle}')\n",
    "    print(f\"The perimeter of Triangle = {size_side_1 + size_side_2 + size_side_3}\")\n",
    "elif selectg_s == 4:\n",
    "    print(f\"The selected shape is a {g_s[selectg_s]}\")\n",
    "    print(\"Square's perimeter = one side * 4\")\n",
    "    size_side = float(input(\"\"\"Enter the Square's side size: \"\"\"))\n",
    "    print(f\"The perimeter of Square: {size_side * 4}\")\n",
    "elif selectg_s == 5:\n",
    "    print(f\"The selected shape is a {g_s[selectg_s]}\")\n",
    "    print(\"Rectangle's perimeter = (length + width) * 2\")\n",
    "    size_length = float(input(\"\"\"Enter the Rectangle's length: \"\"\"))\n",
    "    size_width = float(input(\"Enter the Rectangle's width: \"))\n",
    "    print(f\"The perimeter of Rectangle: {(size_length + size_width) * 2}\")\n",
    "else:\n",
    "    print(\"The entered number is not correct\")"
   ]
  },
  {
   "cell_type": "code",
   "execution_count": null,
   "id": "dfc117ef-085a-45bc-82c0-af140bba4a3e",
   "metadata": {},
   "outputs": [],
   "source": []
  },
  {
   "cell_type": "code",
   "execution_count": null,
   "id": "6b7f61a8-f1ec-4014-8b98-6621665305c7",
   "metadata": {},
   "outputs": [],
   "source": []
  },
  {
   "cell_type": "code",
   "execution_count": null,
   "id": "de9c25e9-d2ab-4dbe-8880-4994539bab1d",
   "metadata": {},
   "outputs": [],
   "source": []
  },
  {
   "cell_type": "markdown",
   "id": "8afb34c5-926c-4c50-a773-07b481cb5e34",
   "metadata": {},
   "source": [
    "### Nest condition inside f-string"
   ]
  },
  {
   "cell_type": "code",
   "execution_count": 7,
   "id": "362b2239-5358-4f97-b368-ec9edac5e956",
   "metadata": {},
   "outputs": [],
   "source": [
    "prime_number= {\n",
    "    2, 3, 5, 7, 11, 13, 17, 19, 23, 29, 31, 37, 41,\n",
    "    43, 47, 53, 59, 61, 67, 71, 73, 79, 83, 89, 97,\n",
    "    101, 103, 107, 109, 113, 127, 131, 137, 139, 149,\n",
    "    151, 157, 163, 167, 173, 179, 181, 191, 193, 197,\n",
    "    199, 211, 223, 227, 229, 233, 239, 241, 251, 257,\n",
    "    263, 269, 271, 277, 281, 283, 293, 307, 311, 313,\n",
    "    317, 331, 337, 347, 349, 353, 359, 367, 373, 379,\n",
    "    383, 389, 397, 401, 409, 419, 421, 431, 433, 439,\n",
    "    443, 449, 457, 461, 463, 467, 479, 487, 491, 499,\n",
    "    503, 509, 521, 523, 541, 547, 557, 563, 569, 571,\n",
    "    577, 587, 593, 599, 601, 607, 613, 617, 619, 631,\n",
    "    641, 643, 647, 653, 659, 661, 673, 677, 683, 691,\n",
    "    701, 709, 719, 727, 733, 739, 743, 751, 757, 761,\n",
    "    769, 773, 787, 797, 809, 811, 821, 823, 827, 829,\n",
    "    839, 853, 857, 859, 863, 877, 881, 883, 887, 907,\n",
    "    911, 919, 929, 937, 941, 947, 953, 967, 971, 977,\n",
    "    983, 991, 997\n",
    "}"
   ]
  },
  {
   "cell_type": "code",
   "execution_count": 8,
   "id": "5f96e745-87f3-4bb3-bedf-e7fa444caa05",
   "metadata": {},
   "outputs": [
    {
     "name": "stdin",
     "output_type": "stream",
     "text": [
      "Enter a prime number:  138\n"
     ]
    }
   ],
   "source": [
    "number = int(input('Enter a prime number: '))"
   ]
  },
  {
   "cell_type": "code",
   "execution_count": 14,
   "id": "5a3e90f5-da7a-491d-9d7e-9545e61a82d2",
   "metadata": {},
   "outputs": [
    {
     "name": "stdout",
     "output_type": "stream",
     "text": [
      "138 not is prime number\n"
     ]
    }
   ],
   "source": [
    "print(f'{number} {\"is prime number\" if number in prime_number else \"not is prime number\"}')"
   ]
  },
  {
   "cell_type": "code",
   "execution_count": null,
   "id": "00a42f57-9211-47c5-8503-6a580fd84e9d",
   "metadata": {},
   "outputs": [],
   "source": []
  },
  {
   "cell_type": "code",
   "execution_count": null,
   "id": "d01b61ee-c8c5-40ee-8cf1-b7bc8929cab3",
   "metadata": {},
   "outputs": [],
   "source": []
  },
  {
   "cell_type": "code",
   "execution_count": null,
   "id": "9b00ff94-9552-4ac7-8410-fcd5fb87db90",
   "metadata": {},
   "outputs": [],
   "source": []
  },
  {
   "cell_type": "code",
   "execution_count": null,
   "id": "d9390e9a-c904-4f26-a60f-c0bc09c201e3",
   "metadata": {},
   "outputs": [],
   "source": []
  }
 ],
 "metadata": {
  "kernelspec": {
   "display_name": "Python 3 (ipykernel)",
   "language": "python",
   "name": "python3"
  },
  "language_info": {
   "codemirror_mode": {
    "name": "ipython",
    "version": 3
   },
   "file_extension": ".py",
   "mimetype": "text/x-python",
   "name": "python",
   "nbconvert_exporter": "python",
   "pygments_lexer": "ipython3",
   "version": "3.11.4"
  }
 },
 "nbformat": 4,
 "nbformat_minor": 5
}
