{
 "cells": [
  {
   "cell_type": "markdown",
   "id": "70c2b2bf-6ecd-44b5-b683-e7188d9fc079",
   "metadata": {},
   "source": [
    "## Function & NameSpase"
   ]
  },
  {
   "cell_type": "code",
   "execution_count": null,
   "id": "5a49f8a1-eede-45a0-be6c-18f1ecb09cae",
   "metadata": {},
   "outputs": [],
   "source": [
    "# Function Definition\n",
    "# def           ---> keyword\n",
    "# add           ---> name function \n",
    "# num_1, num_2  ---> positional argument \n",
    "# returu        ---> Output\n",
    "\n",
    "def add(num_1, num_2):\n",
    "    return f'Sum = {num_1 + num_2}'"
   ]
  },
  {
   "cell_type": "code",
   "execution_count": null,
   "id": "0758dcd3-7d5c-4cf0-bf05-ded41ebd1a53",
   "metadata": {},
   "outputs": [],
   "source": []
  },
  {
   "cell_type": "code",
   "execution_count": null,
   "id": "41ea5c35-cf1e-4d71-b1fc-d548466a5dc5",
   "metadata": {},
   "outputs": [],
   "source": [
    "# Function Definition\n",
    "\n",
    "def sub(num_1, num_2):\n",
    "    print(f'Sum = {num_1 - num_2}')"
   ]
  },
  {
   "cell_type": "code",
   "execution_count": null,
   "id": "6d9d42fc-7ec7-455d-9949-d2a4aff60c02",
   "metadata": {},
   "outputs": [],
   "source": []
  },
  {
   "cell_type": "code",
   "execution_count": null,
   "id": "7ac06d01-fac0-4d0a-b4e1-9a87858b4a64",
   "metadata": {},
   "outputs": [],
   "source": [
    "# Function Definition\n",
    "# qty, item, price ---> keyword argument\n",
    "# qty, item, price ---> formal parameters\n",
    "# parameter(variable) = value ---> Default value\n",
    "\n",
    "def fruit(qty=0, item=fruit, price=0):\n",
    "    print(f'{qty} number {item} cost {price}')"
   ]
  },
  {
   "cell_type": "code",
   "execution_count": null,
   "id": "3beef331-05a1-497d-a46f-238b87c0fd1f",
   "metadata": {},
   "outputs": [],
   "source": []
  },
  {
   "cell_type": "code",
   "execution_count": null,
   "id": "264f5a5d-04e3-4833-a8f4-719a11918a0a",
   "metadata": {},
   "outputs": [],
   "source": [
    "# q, i, p ---> actual parameter\n",
    "\n",
    "q = 10\n",
    "i = 'banana'\n",
    "p = 100"
   ]
  },
  {
   "cell_type": "code",
   "execution_count": null,
   "id": "6f3ef120-9eba-46fc-8680-cd3ad6a0a017",
   "metadata": {},
   "outputs": [],
   "source": [
    "# input data as positional argument\n",
    "# in positional argument order is important\n",
    "\n",
    "fruit(q, i, p)"
   ]
  },
  {
   "cell_type": "code",
   "execution_count": null,
   "id": "d39c3906-ae47-4055-8ab9-35d468f2d0e0",
   "metadata": {},
   "outputs": [],
   "source": [
    "# input data as keyword argument\n",
    "# in keyword argument order is not important\n",
    "# formal parameter = actual parameter\n",
    "\n",
    "fruit(price=p, item=i, qty=q)"
   ]
  },
  {
   "cell_type": "code",
   "execution_count": null,
   "id": "9ac5d7db-9a55-40db-822d-b32b5041400e",
   "metadata": {},
   "outputs": [],
   "source": []
  },
  {
   "cell_type": "code",
   "execution_count": 1,
   "id": "54708085-c7f6-48a3-abb5-37c58c5af4af",
   "metadata": {},
   "outputs": [],
   "source": [
    "# Defaul value = Mutable data type ---> is not ok\n",
    "def f_list_default(L=[]):\n",
    "    L.append('#')\n",
    "    print(L)\n",
    "\n",
    "# if --> Defaul value = Mutable data type ---> L = None \n",
    "\n",
    "def f_list_default(L=None):\n",
    "    if L is None:\n",
    "        L = []\n",
    "        L.append('#')\n",
    "        \n",
    "    print(L)\n"
   ]
  },
  {
   "cell_type": "code",
   "execution_count": null,
   "id": "57afe0ce-ee66-4e46-a4eb-5b9f005a4b57",
   "metadata": {},
   "outputs": [],
   "source": []
  },
  {
   "cell_type": "code",
   "execution_count": 2,
   "id": "c45cd7d4-7d8b-4d4e-9a60-76324e959c42",
   "metadata": {},
   "outputs": [],
   "source": [
    "def math(num_1, num_2):\n",
    "    plus = num_1 + num_2\n",
    "    minus = num_1 - num_2\n",
    "    multiplication = num_1 * num_2\n",
    "    power = num_1 ** num_2\n",
    "    division = num_1 / num_2\n",
    "    \n",
    "    return f'''\n",
    "        plus = {plus}\n",
    "        minus = {minus}\n",
    "        multiplication = {multiplication}\n",
    "        power = {power}\n",
    "        division = {division} '''\n",
    "\n",
    "    "
   ]
  },
  {
   "cell_type": "code",
   "execution_count": 3,
   "id": "1fd6836e-9cc2-4bee-bba5-c4b418bb9148",
   "metadata": {},
   "outputs": [
    {
     "name": "stdout",
     "output_type": "stream",
     "text": [
      "\n",
      "        plus = 25\n",
      "        minus = -5\n",
      "        multiplication = 150\n",
      "        power = 1000000000000000\n",
      "        division = 0.6666666666666666 \n"
     ]
    }
   ],
   "source": [
    "print(math(10, 15))\n"
   ]
  },
  {
   "cell_type": "code",
   "execution_count": null,
   "id": "27a74256-e6f5-44d4-969f-8b819a1ba7e7",
   "metadata": {},
   "outputs": [],
   "source": []
  },
  {
   "cell_type": "code",
   "execution_count": 4,
   "id": "ce8461f4-3607-4741-a806-37e8343e0103",
   "metadata": {},
   "outputs": [
    {
     "name": "stdout",
     "output_type": "stream",
     "text": [
      "variable paking\n",
      "    a = 1\n",
      "    *ignore = [2, 3, 4, 5, 6, 7]\n",
      "    b = 8\n",
      "    c = 9\n",
      "    d = 10\n",
      "\n"
     ]
    }
   ],
   "source": [
    "# variable paking ---> *ignore\n",
    "\n",
    "a, *ignore, b, c, d = 1, 2, 3, 4, 5, 6, 7, 8, 9, 10\n",
    "\n",
    "print(f'''variable paking\n",
    "    a = {a}\n",
    "    *ignore = {ignore}\n",
    "    b = {b}\n",
    "    c = {c}\n",
    "    d = {d}\n",
    "''')\n",
    "\n"
   ]
  },
  {
   "cell_type": "code",
   "execution_count": null,
   "id": "0bd5efff-e477-4c11-9de1-36adcb499c3d",
   "metadata": {},
   "outputs": [],
   "source": []
  },
  {
   "cell_type": "code",
   "execution_count": 5,
   "id": "06f3b14e-e684-4f51-b930-c93e568b5af4",
   "metadata": {},
   "outputs": [
    {
     "name": "stdout",
     "output_type": "stream",
     "text": [
      "variable unpaking\n",
      "    *ignore = [2, 3, 4, 5, 6, 7]\n",
      "    e = 2\n",
      "    f = 3\n",
      "    g = 4\n",
      "    h = 5\n",
      "    i = 6\n",
      "    j = 7\n",
      "\n"
     ]
    }
   ],
   "source": [
    "# variable unpaking ---> *ignore\n",
    "\n",
    "e, f, g, h, i, j = ignore \n",
    "\n",
    "print(f'''variable unpaking\n",
    "    *ignore = {ignore}\n",
    "    e = {e}\n",
    "    f = {f}\n",
    "    g = {g}\n",
    "    h = {h}\n",
    "    i = {i}\n",
    "    j = {j}\n",
    "''')"
   ]
  },
  {
   "cell_type": "code",
   "execution_count": null,
   "id": "fdd2c222-24e3-4dae-9f99-efddcd2db540",
   "metadata": {},
   "outputs": [],
   "source": []
  },
  {
   "cell_type": "code",
   "execution_count": 8,
   "id": "1042ba8c-4639-4ce7-b312-49f15675475c",
   "metadata": {},
   "outputs": [],
   "source": [
    "# argument paking ---> *args\n",
    "\n",
    "def avg(*args):\n",
    "    \n",
    "    sum = 0\n",
    "    for i in args:\n",
    "        sum += i\n",
    "        \n",
    "    return sum / len(args)"
   ]
  },
  {
   "cell_type": "code",
   "execution_count": 9,
   "id": "78137ce5-3d7f-4c25-8b2a-e570b7497883",
   "metadata": {},
   "outputs": [
    {
     "data": {
      "text/plain": [
       "5.5"
      ]
     },
     "execution_count": 9,
     "metadata": {},
     "output_type": "execute_result"
    }
   ],
   "source": [
    "avg(1, 2, 3, 4, 5 ,6, 7, 8, 9, 10)"
   ]
  },
  {
   "cell_type": "code",
   "execution_count": null,
   "id": "ec6b69aa-cf64-4b5b-9871-b84671464a75",
   "metadata": {},
   "outputs": [],
   "source": []
  },
  {
   "cell_type": "code",
   "execution_count": 11,
   "id": "93425e9e-35e1-47bd-ac2b-8361f54d29b5",
   "metadata": {},
   "outputs": [],
   "source": [
    "# argument unpaking ---> *args\n",
    "\n",
    "def unpaking(a, b, c, d, e, *args):\n",
    "    \n",
    "    print(f'''\n",
    "    a = {a}\n",
    "    b = {b}\n",
    "    c = {c}\n",
    "    d = {d}\n",
    "    e = {e}\n",
    "    *args = {args}\n",
    "''')\n",
    "    \n",
    "    "
   ]
  },
  {
   "cell_type": "code",
   "execution_count": 12,
   "id": "87eacc90-e1bc-4c05-8d85-4220802a6154",
   "metadata": {},
   "outputs": [
    {
     "name": "stdout",
     "output_type": "stream",
     "text": [
      "\n",
      "    a = 1\n",
      "    b = 2\n",
      "    c = 3\n",
      "    d = 4\n",
      "    e = 5\n",
      "    *args = (6, 7, 8, 9, 10)\n",
      "\n"
     ]
    }
   ],
   "source": [
    "new_list = [1, 2, 3, 4, 5 ,6, 7, 8, 9, 10]\n",
    "\n",
    "unpaking(*new_list)"
   ]
  },
  {
   "cell_type": "code",
   "execution_count": null,
   "id": "01b2a4a6-0f12-4cf1-bbfa-f759ad1cbd81",
   "metadata": {},
   "outputs": [],
   "source": []
  },
  {
   "cell_type": "code",
   "execution_count": 30,
   "id": "6e47383d-7e5b-4e42-a8e2-a82683dbf78b",
   "metadata": {},
   "outputs": [
    {
     "name": "stdout",
     "output_type": "stream",
     "text": [
      "{'a': 1, 'b': 2, 'c': 3, 'd': 4, 'e': 5, 'f': 6, 'g': 7, 'h': 8, 'i': 9, 'j': 10}\n",
      "{'a': 10, 'b': 2, 'c': 30, 'd': 4, 'e': 50, 'f': 6, 'g': 70, 'h': 8, 'i': 90, 'j': 10}\n"
     ]
    }
   ],
   "source": [
    "# Dictionary paking & unpaking ---> **kwargs\n",
    "# Duplicate elements are overwrite(update)\n",
    "\n",
    "d_1 = {'a':1, 'b':2, 'c':3, 'd':4, 'e':5,}\n",
    "d_2 = {'f':6, 'g':7, 'h':8, 'i':9, 'j':10,}\n",
    "d_3 = {'a':10, 'c':30, 'e':50, 'g':70, 'i':90,}\n",
    "\n",
    "# d_1.update(d_2)\n",
    "d_4 = {**d_1, **d_2,}\n",
    "\n",
    "# Dictionary unpaking by ( | ) from python version 3.9\n",
    "# d_5 = {**d_1, **d_2, **d_3,} ---> d_5 = d_1 | d_2 | d_3 \n",
    "d_5 = {**d_1, **d_2, **d_3,}\n",
    "\n",
    "\n",
    "\n",
    "print(d_4)\n",
    "print(d_5)\n"
   ]
  },
  {
   "cell_type": "code",
   "execution_count": null,
   "id": "d8504998-bde7-4981-bf40-b1ad3818ffe2",
   "metadata": {},
   "outputs": [],
   "source": []
  },
  {
   "cell_type": "code",
   "execution_count": null,
   "id": "b2f0ef1f-2377-4131-a409-eeccc6d8ea9d",
   "metadata": {},
   "outputs": [],
   "source": []
  },
  {
   "cell_type": "code",
   "execution_count": 31,
   "id": "f179aeb2-dc2c-45ed-832c-b3f6eb902181",
   "metadata": {},
   "outputs": [],
   "source": [
    "# argument Dictionary paking & unpaking ---> **kwargs\n",
    "# output is in the form of a dictionary \n",
    "\n",
    "def name_age(**kwargs):\n",
    "    return kwargs"
   ]
  },
  {
   "cell_type": "code",
   "execution_count": 32,
   "id": "1eac3524-ca78-45a8-bef3-1de4d3d1ee46",
   "metadata": {},
   "outputs": [
    {
     "data": {
      "text/plain": [
       "{'Reza': 27, 'Nika': 16, 'Mahsa': 22, 'Hadis': 16}"
      ]
     },
     "execution_count": 32,
     "metadata": {},
     "output_type": "execute_result"
    }
   ],
   "source": [
    "name_age(Reza=27, Nika=16, Mahsa=22, Hadis=16)"
   ]
  },
  {
   "cell_type": "code",
   "execution_count": null,
   "id": "ef834b0b-7d94-4b4d-972c-19c31bc16cf0",
   "metadata": {},
   "outputs": [],
   "source": []
  },
  {
   "cell_type": "code",
   "execution_count": null,
   "id": "b70d8a6d-84b2-4b1b-b329-1b2b7724ce1d",
   "metadata": {},
   "outputs": [],
   "source": [
    "# positional only argument:\n",
    "# positional only argument <---LEFT / RIGHT---> psitional OR keyword\n",
    "\n",
    "def positional_only(e, f, g, /):\n",
    "    pass\n",
    "\n",
    "\n",
    "# keyword only argument:\n",
    "# psitional OR keyword <---LEFT * RIGHT---> keyword only argument\n",
    "\n",
    "def keyword_only(*, a, b, c):\n",
    "    pass\n",
    "\n",
    "\n",
    "\n",
    "# positional and keyword argument :\n",
    "\n",
    "def positional_and_keyword(e, f, g, /, h, i, j, *, a, b, c):\n",
    "    pass\n",
    "\n",
    "# e, f, g ---> positional only argument\n",
    "# a, b, c ---> keyword only argument\n",
    "# h, i, j ---> positional or keyword argument"
   ]
  },
  {
   "cell_type": "code",
   "execution_count": null,
   "id": "99fb7eec-a6db-4f51-b587-791ec6e82487",
   "metadata": {},
   "outputs": [],
   "source": []
  },
  {
   "cell_type": "code",
   "execution_count": null,
   "id": "6e7b6e67-eb52-48e1-86cd-f1a30e4e183b",
   "metadata": {},
   "outputs": [],
   "source": []
  },
  {
   "cell_type": "code",
   "execution_count": null,
   "id": "3bd4a66f-e153-484c-a5d5-00392a7584ba",
   "metadata": {},
   "outputs": [],
   "source": []
  },
  {
   "cell_type": "markdown",
   "id": "f04f692b-0708-4174-a4ae-362d581e9161",
   "metadata": {},
   "source": [
    "# Docstring"
   ]
  },
  {
   "cell_type": "code",
   "execution_count": null,
   "id": "38e09037-783c-4262-a489-0ae7393955de",
   "metadata": {},
   "outputs": [],
   "source": [
    "# write Docstring by style numpy in python programming:\n",
    "    \n",
    "#     \"\"\"\n",
    "    \n",
    "#     :param input:\n",
    "#     :returns:\n",
    "    \n",
    "#     Example:\n",
    "#     >>>\n",
    "#     \"\"\""
   ]
  },
  {
   "cell_type": "code",
   "execution_count": null,
   "id": "17c13683-e99e-4178-9231-c5b572baf30f",
   "metadata": {},
   "outputs": [],
   "source": []
  },
  {
   "cell_type": "code",
   "execution_count": null,
   "id": "ddf9ff04-5faf-41d1-bb1e-e889354be580",
   "metadata": {},
   "outputs": [],
   "source": []
  },
  {
   "cell_type": "code",
   "execution_count": null,
   "id": "b469445d-a461-4dd2-9d3d-bbf7f23c897f",
   "metadata": {},
   "outputs": [],
   "source": []
  },
  {
   "cell_type": "markdown",
   "id": "539934d3-a437-4459-8389-0b634bcdf923",
   "metadata": {},
   "source": [
    "## Characters Counter"
   ]
  },
  {
   "cell_type": "code",
   "execution_count": 44,
   "id": "9b243787-a2d0-4c61-a63b-3a108fa6801f",
   "metadata": {},
   "outputs": [],
   "source": [
    "# Annotation formating\n",
    "from typing import Dict"
   ]
  },
  {
   "cell_type": "code",
   "execution_count": 45,
   "id": "2f1a190f-88fe-4b2b-8743-cef18494079d",
   "metadata": {},
   "outputs": [],
   "source": [
    "# approach_1\n",
    "\n",
    "# Annotation ---> input string --> output dictionary\n",
    "\n",
    "def count_char(input_string: str) -> Dict[str, int]:\n",
    "    \"\"\"\n",
    "    calculate frequnce of unique characters in a string\n",
    "    \n",
    "    :param input_string: Input String\n",
    "    :returns:A dictionary characters frequency\n",
    "    \n",
    "    Example:\n",
    "    >>> count_char('aaabbc')\n",
    "    {'a':3, 'b':2, 'c':1}\n",
    "    \"\"\"\n",
    "\n",
    "    char_freq = {}\n",
    "    for char in input_string:\n",
    "        if char in char_freq:\n",
    "            char_freq[char] += 1\n",
    "        else:\n",
    "            char_freq[char] = 1\n",
    "\n",
    "    print(char_freq)"
   ]
  },
  {
   "cell_type": "code",
   "execution_count": null,
   "id": "05943073-2dcf-4db4-985f-deaf34893838",
   "metadata": {},
   "outputs": [],
   "source": []
  },
  {
   "cell_type": "code",
   "execution_count": 45,
   "id": "b84b6f1f-3a8f-4981-af04-f06652675a41",
   "metadata": {},
   "outputs": [],
   "source": [
    "# # approach_2\n",
    "\n",
    "# # Annotation ---> input string --> output dictionary\n",
    "\n",
    "# def count_char(input_string: str) -> Dict[str, int]:\n",
    "    \n",
    "#     \"\"\"\n",
    "#     calculate frequnce of unique characters in a string\n",
    "    \n",
    "#     :param input_string: Input String\n",
    "#     :returns:A dictionary characters frequency\n",
    "    \n",
    "#     Example:\n",
    "#     >>> count_char('aaabbc')\n",
    "#     {'a':3, 'b':2, 'c':1}\n",
    "#     \"\"\"\n",
    "    \n",
    "#     char_freq = {}\n",
    "#     for char in input_string:\n",
    "#         char_freq[char] = char_freq.get(char, 0) + 1\n",
    "\n",
    "#     print(char_freq)"
   ]
  },
  {
   "cell_type": "code",
   "execution_count": 46,
   "id": "01143878-3e61-4fb2-9638-d8b69ea7587b",
   "metadata": {},
   "outputs": [
    {
     "name": "stdout",
     "output_type": "stream",
     "text": [
      "{'b': 1, 'e': 2, 'n': 1, 'a': 6, 'm': 3, ' ': 3, 'k': 1, 'h': 1, 'o': 1, 'd': 1, ',': 1, 'z': 2, 'i': 1, 's': 1, 'l': 1}\n"
     ]
    }
   ],
   "source": [
    "count_char('bename khoda, azizam salam')"
   ]
  },
  {
   "cell_type": "code",
   "execution_count": 48,
   "id": "7470042b-74eb-41e6-866b-3b2b36fbe1ae",
   "metadata": {},
   "outputs": [
    {
     "name": "stdout",
     "output_type": "stream",
     "text": [
      "Help on function count_char in module __main__:\n",
      "\n",
      "count_char(input_string: str) -> Dict[str, int]\n",
      "    calculate frequnce of unique characters in a string\n",
      "    \n",
      "    :param input_string: Input String\n",
      "    :returns:A dictionary characters frequency\n",
      "    \n",
      "    Example:\n",
      "    >>> count_char('aaabbc')\n",
      "    {'a':3, 'b':2, 'c':1}\n",
      "\n"
     ]
    }
   ],
   "source": [
    "# Shift + Tab\n",
    "help(count_char)"
   ]
  },
  {
   "cell_type": "code",
   "execution_count": null,
   "id": "1d0f85ba-722c-4a9e-96db-b6b6bff98aad",
   "metadata": {},
   "outputs": [],
   "source": []
  },
  {
   "cell_type": "code",
   "execution_count": null,
   "id": "a759b54d-dc57-4a24-bda0-5a26c9b8cf6c",
   "metadata": {},
   "outputs": [],
   "source": []
  },
  {
   "cell_type": "code",
   "execution_count": null,
   "id": "5d9630e9-fe6c-4304-afc9-8891ac55fe69",
   "metadata": {},
   "outputs": [],
   "source": []
  },
  {
   "cell_type": "markdown",
   "id": "0aa93dbd-5f46-4def-aee2-7afe04fe3ee3",
   "metadata": {},
   "source": [
    "# Make Sentence"
   ]
  },
  {
   "cell_type": "code",
   "execution_count": 74,
   "id": "ed876f9b-dd2a-41ea-8c3d-073a77d7e2cb",
   "metadata": {},
   "outputs": [],
   "source": [
    "sentences = []"
   ]
  },
  {
   "cell_type": "code",
   "execution_count": 76,
   "id": "b4cae7be-8fb3-4275-904c-c6be91518023",
   "metadata": {},
   "outputs": [],
   "source": [
    "# approach_1\n",
    "\n",
    "# def make_sentence(subjects, verbs, objects):\n",
    "\n",
    "#     for s in subjects:\n",
    "#         for v in verbs:\n",
    "#             for o in objects:\n",
    "#                 conbinas = f'{s} {v} {o}'\n",
    "#                 sentences.append(combinas)\n",
    "            \n",
    "#     return sentences"
   ]
  },
  {
   "cell_type": "code",
   "execution_count": null,
   "id": "11ecaa60-b1f9-48ff-9eb8-4c4d3ba7c3e3",
   "metadata": {},
   "outputs": [],
   "source": []
  },
  {
   "cell_type": "code",
   "execution_count": 20,
   "id": "6f8711e0-8cdf-40a5-97d1-83e47e7f7726",
   "metadata": {},
   "outputs": [],
   "source": [
    "import itertools"
   ]
  },
  {
   "cell_type": "code",
   "execution_count": 17,
   "id": "150699a6-c43a-45d1-a3fc-693700403850",
   "metadata": {},
   "outputs": [],
   "source": [
    "# # approch_2\n",
    "\n",
    "# # use of library ( itertools ) ---> instead of ---> Nested for\n",
    "\n",
    "# def make_sentence(subjects, verbs, objects):\n",
    "    \n",
    "#     combinas = list(itertools.product(subjects, verbs, objects))\n",
    "#     for sen in combinas:\n",
    "#         sentences.append( ' '.join(sen))\n",
    "\n",
    "#     return sentences"
   ]
  },
  {
   "cell_type": "code",
   "execution_count": null,
   "id": "d06c51e8-977f-4d9c-a2f7-dce3628c36ab",
   "metadata": {},
   "outputs": [],
   "source": []
  },
  {
   "cell_type": "code",
   "execution_count": 41,
   "id": "3b93c5bf-4391-457e-992f-561a1da33d0e",
   "metadata": {},
   "outputs": [],
   "source": [
    "# approch_2\n",
    "\n",
    "# use of library ( itertools ) ---> instead of Nested for lop\n",
    "# use of built-in functions ( map() ) ---> instead of for lop and ( ' '.join() )\n",
    "\n",
    "def make_sentence(subjects: list, verbs: list, objects: list): -> list\n",
    "    \"\"\"\n",
    "    generate all possible sentences from input\n",
    "    \n",
    "    :param subjects: Input sentences subjects\n",
    "    :param verbs: Input sentences verbs\n",
    "    :param objects: Input sentences objects\n",
    "    :returns: list of all possible sentences\n",
    "    \n",
    "    Example:\n",
    "    >>>\n",
    "    \"\"\"\n",
    "    combinas = itertools.product(subjects, verbs, objects)\n",
    "    semtens = list(map(lambda sen:' '.join(sen), sentence))\n",
    "    "
   ]
  },
  {
   "cell_type": "code",
   "execution_count": 33,
   "id": "1c0a42fa-72a5-4bcd-a345-342dd4f2ccbb",
   "metadata": {},
   "outputs": [],
   "source": [
    "subjects = ['I', 'You',]\n",
    "verbs = ['Play', 'Love',]\n",
    "objects = ['Hockey', 'Football',]"
   ]
  },
  {
   "cell_type": "code",
   "execution_count": 23,
   "id": "f4811f10-1e3c-491c-9850-83a292036127",
   "metadata": {},
   "outputs": [
    {
     "name": "stdout",
     "output_type": "stream",
     "text": [
      "[('I', 'Play', 'Hockey'), ('I', 'Play', 'Football'), ('I', 'Love', 'Hockey'), ('I', 'Love', 'Football'), ('You', 'Play', 'Hockey'), ('You', 'Play', 'Football'), ('You', 'Love', 'Hockey'), ('You', 'Love', 'Football')]\n"
     ]
    }
   ],
   "source": [
    "make_sentence(subjects, verbs, objects)"
   ]
  },
  {
   "cell_type": "code",
   "execution_count": null,
   "id": "a1c92ec0-fed6-4128-bfa6-0446b49dd914",
   "metadata": {},
   "outputs": [],
   "source": []
  },
  {
   "cell_type": "code",
   "execution_count": null,
   "id": "18b151e0-0070-4ab8-86ef-89e4a6cbf08f",
   "metadata": {},
   "outputs": [],
   "source": []
  },
  {
   "cell_type": "code",
   "execution_count": null,
   "id": "eb1452f8-f66a-4f8e-b6a3-017f4c34a49f",
   "metadata": {},
   "outputs": [],
   "source": []
  },
  {
   "cell_type": "markdown",
   "id": "edddd486-eb11-4168-a672-69236daad656",
   "metadata": {},
   "source": [
    "# Find Distance"
   ]
  },
  {
   "cell_type": "code",
   "execution_count": 21,
   "id": "b2b5c082-7314-49f6-b35f-6f5003ed4383",
   "metadata": {},
   "outputs": [
    {
     "ename": "KeyboardInterrupt",
     "evalue": "Interrupted by user",
     "output_type": "error",
     "traceback": [
      "\u001b[0;31m---------------------------------------------------------------------------\u001b[0m",
      "\u001b[0;31mKeyboardInterrupt\u001b[0m                         Traceback (most recent call last)",
      "Input \u001b[0;32mIn [21]\u001b[0m, in \u001b[0;36m<cell line: 2>\u001b[0;34m()\u001b[0m\n\u001b[1;32m      1\u001b[0m moves \u001b[38;5;241m=\u001b[39m []\n\u001b[1;32m      2\u001b[0m \u001b[38;5;28;01mwhile\u001b[39;00m \u001b[38;5;28;01mTrue\u001b[39;00m:\n\u001b[0;32m----> 3\u001b[0m     move \u001b[38;5;241m=\u001b[39m \u001b[38;5;28;43minput\u001b[39;49m\u001b[43m(\u001b[49m\u001b[38;5;124;43m'\u001b[39;49m\u001b[38;5;124;43mEnter robot move\u001b[39;49m\u001b[38;5;124;43m'\u001b[39;49m\u001b[43m)\u001b[49m\u001b[38;5;241m.\u001b[39mupper()\n\u001b[1;32m      4\u001b[0m     \u001b[38;5;28;01mif\u001b[39;00m move \u001b[38;5;241m==\u001b[39m \u001b[38;5;124m'\u001b[39m\u001b[38;5;124mEND\u001b[39m\u001b[38;5;124m'\u001b[39m:\n\u001b[1;32m      5\u001b[0m         \u001b[38;5;28;01mbreak\u001b[39;00m\n",
      "File \u001b[0;32m~/anaconda3/envs/py10/lib/python3.10/site-packages/ipykernel/kernelbase.py:1075\u001b[0m, in \u001b[0;36mKernel.raw_input\u001b[0;34m(self, prompt)\u001b[0m\n\u001b[1;32m   1071\u001b[0m \u001b[38;5;28;01mif\u001b[39;00m \u001b[38;5;129;01mnot\u001b[39;00m \u001b[38;5;28mself\u001b[39m\u001b[38;5;241m.\u001b[39m_allow_stdin:\n\u001b[1;32m   1072\u001b[0m     \u001b[38;5;28;01mraise\u001b[39;00m StdinNotImplementedError(\n\u001b[1;32m   1073\u001b[0m         \u001b[38;5;124m\"\u001b[39m\u001b[38;5;124mraw_input was called, but this frontend does not support input requests.\u001b[39m\u001b[38;5;124m\"\u001b[39m\n\u001b[1;32m   1074\u001b[0m     )\n\u001b[0;32m-> 1075\u001b[0m \u001b[38;5;28;01mreturn\u001b[39;00m \u001b[38;5;28;43mself\u001b[39;49m\u001b[38;5;241;43m.\u001b[39;49m\u001b[43m_input_request\u001b[49m\u001b[43m(\u001b[49m\n\u001b[1;32m   1076\u001b[0m \u001b[43m    \u001b[49m\u001b[38;5;28;43mstr\u001b[39;49m\u001b[43m(\u001b[49m\u001b[43mprompt\u001b[49m\u001b[43m)\u001b[49m\u001b[43m,\u001b[49m\n\u001b[1;32m   1077\u001b[0m \u001b[43m    \u001b[49m\u001b[38;5;28;43mself\u001b[39;49m\u001b[38;5;241;43m.\u001b[39;49m\u001b[43m_parent_ident\u001b[49m\u001b[43m[\u001b[49m\u001b[38;5;124;43m\"\u001b[39;49m\u001b[38;5;124;43mshell\u001b[39;49m\u001b[38;5;124;43m\"\u001b[39;49m\u001b[43m]\u001b[49m\u001b[43m,\u001b[49m\n\u001b[1;32m   1078\u001b[0m \u001b[43m    \u001b[49m\u001b[38;5;28;43mself\u001b[39;49m\u001b[38;5;241;43m.\u001b[39;49m\u001b[43mget_parent\u001b[49m\u001b[43m(\u001b[49m\u001b[38;5;124;43m\"\u001b[39;49m\u001b[38;5;124;43mshell\u001b[39;49m\u001b[38;5;124;43m\"\u001b[39;49m\u001b[43m)\u001b[49m\u001b[43m,\u001b[49m\n\u001b[1;32m   1079\u001b[0m \u001b[43m    \u001b[49m\u001b[43mpassword\u001b[49m\u001b[38;5;241;43m=\u001b[39;49m\u001b[38;5;28;43;01mFalse\u001b[39;49;00m\u001b[43m,\u001b[49m\n\u001b[1;32m   1080\u001b[0m \u001b[43m\u001b[49m\u001b[43m)\u001b[49m\n",
      "File \u001b[0;32m~/anaconda3/envs/py10/lib/python3.10/site-packages/ipykernel/kernelbase.py:1120\u001b[0m, in \u001b[0;36mKernel._input_request\u001b[0;34m(self, prompt, ident, parent, password)\u001b[0m\n\u001b[1;32m   1117\u001b[0m             \u001b[38;5;28;01mbreak\u001b[39;00m\n\u001b[1;32m   1118\u001b[0m \u001b[38;5;28;01mexcept\u001b[39;00m \u001b[38;5;167;01mKeyboardInterrupt\u001b[39;00m:\n\u001b[1;32m   1119\u001b[0m     \u001b[38;5;66;03m# re-raise KeyboardInterrupt, to truncate traceback\u001b[39;00m\n\u001b[0;32m-> 1120\u001b[0m     \u001b[38;5;28;01mraise\u001b[39;00m \u001b[38;5;167;01mKeyboardInterrupt\u001b[39;00m(\u001b[38;5;124m\"\u001b[39m\u001b[38;5;124mInterrupted by user\u001b[39m\u001b[38;5;124m\"\u001b[39m) \u001b[38;5;28;01mfrom\u001b[39;00m \u001b[38;5;28mNone\u001b[39m\n\u001b[1;32m   1121\u001b[0m \u001b[38;5;28;01mexcept\u001b[39;00m \u001b[38;5;167;01mException\u001b[39;00m:\n\u001b[1;32m   1122\u001b[0m     \u001b[38;5;28mself\u001b[39m\u001b[38;5;241m.\u001b[39mlog\u001b[38;5;241m.\u001b[39mwarning(\u001b[38;5;124m\"\u001b[39m\u001b[38;5;124mInvalid Message:\u001b[39m\u001b[38;5;124m\"\u001b[39m, exc_info\u001b[38;5;241m=\u001b[39m\u001b[38;5;28;01mTrue\u001b[39;00m)\n",
      "\u001b[0;31mKeyboardInterrupt\u001b[0m: Interrupted by user"
     ]
    }
   ],
   "source": [
    "moves = []\n",
    "while True:\n",
    "    move = input('Enter robot move').upper()\n",
    "    if move == 'END':\n",
    "        break\n",
    "    \n",
    "    moves.append(move)"
   ]
  },
  {
   "cell_type": "code",
   "execution_count": 19,
   "id": "e12e76d9-0e10-4cc9-b2f0-0453e62f04ab",
   "metadata": {},
   "outputs": [],
   "source": [
    "def robot_moves(moves):\n",
    "    \"\"\"\n",
    "    Calculate the distance having robot moves in \n",
    "    UP,  DOWN, LEFT, RIGHT direction.\n",
    "    \n",
    "    :param moves: List of robot moves\n",
    "    :returns:final robot distance from origin\n",
    "    \n",
    "    Example:\n",
    "    >>>\n",
    "    \"\"\"\n",
    "\n",
    "    x, y = 0, 0\n",
    "    for m in moves:\n",
    "        direction, displace = m.split(' ')\n",
    "        displace = float(displace)\n",
    "\n",
    "        if direction == 'UP':\n",
    "            y += displace\n",
    "        elif direction == 'DOWN':\n",
    "            y -= displace\n",
    "        elif direction == 'RIGHT':\n",
    "            x += displace\n",
    "        elif direction == 'LEFT':\n",
    "            x -= displace\n",
    "\n",
    "    distance = ((y ** 2) + (x ** 2)) ** 0.5\n",
    "    \n",
    "    return distance"
   ]
  },
  {
   "cell_type": "code",
   "execution_count": 20,
   "id": "921f4cac-f938-47a9-9afe-1139a68928b2",
   "metadata": {},
   "outputs": [
    {
     "ename": "ValueError",
     "evalue": "not enough values to unpack (expected 2, got 1)",
     "output_type": "error",
     "traceback": [
      "\u001b[0;31m---------------------------------------------------------------------------\u001b[0m",
      "\u001b[0;31mValueError\u001b[0m                                Traceback (most recent call last)",
      "Input \u001b[0;32mIn [20]\u001b[0m, in \u001b[0;36m<cell line: 1>\u001b[0;34m()\u001b[0m\n\u001b[0;32m----> 1\u001b[0m \u001b[43mrobot_moves\u001b[49m\u001b[43m(\u001b[49m\u001b[43mmoves\u001b[49m\u001b[43m)\u001b[49m\n",
      "Input \u001b[0;32mIn [19]\u001b[0m, in \u001b[0;36mrobot_moves\u001b[0;34m(moves)\u001b[0m\n\u001b[1;32m     13\u001b[0m x, y \u001b[38;5;241m=\u001b[39m \u001b[38;5;241m0\u001b[39m, \u001b[38;5;241m0\u001b[39m\n\u001b[1;32m     14\u001b[0m \u001b[38;5;28;01mfor\u001b[39;00m m \u001b[38;5;129;01min\u001b[39;00m moves:\n\u001b[0;32m---> 15\u001b[0m     direction, displace \u001b[38;5;241m=\u001b[39m m\u001b[38;5;241m.\u001b[39msplit(\u001b[38;5;124m'\u001b[39m\u001b[38;5;124m \u001b[39m\u001b[38;5;124m'\u001b[39m)\n\u001b[1;32m     16\u001b[0m     displace \u001b[38;5;241m=\u001b[39m \u001b[38;5;28mfloat\u001b[39m(displace)\n\u001b[1;32m     18\u001b[0m     \u001b[38;5;28;01mif\u001b[39;00m direction \u001b[38;5;241m==\u001b[39m \u001b[38;5;124m'\u001b[39m\u001b[38;5;124mUP\u001b[39m\u001b[38;5;124m'\u001b[39m:\n",
      "\u001b[0;31mValueError\u001b[0m: not enough values to unpack (expected 2, got 1)"
     ]
    }
   ],
   "source": [
    "robot_moves(moves)"
   ]
  },
  {
   "cell_type": "code",
   "execution_count": null,
   "id": "067d2ce1-ddf8-4faf-b536-f9c146c23e16",
   "metadata": {},
   "outputs": [],
   "source": []
  },
  {
   "cell_type": "code",
   "execution_count": null,
   "id": "3cc8ab13-0fda-4968-bc03-5eccd3e8f535",
   "metadata": {},
   "outputs": [],
   "source": []
  },
  {
   "cell_type": "code",
   "execution_count": null,
   "id": "9f398c06-2be6-44e3-bd4a-9a9868ee4ba4",
   "metadata": {},
   "outputs": [],
   "source": []
  },
  {
   "cell_type": "markdown",
   "id": "d7816011-3244-4263-964a-99301772d7e2",
   "metadata": {},
   "source": [
    "# Upper & Lower Counter"
   ]
  },
  {
   "cell_type": "code",
   "execution_count": 91,
   "id": "8e9dfc38-ceb3-4ec3-bcb7-2538263abb17",
   "metadata": {},
   "outputs": [],
   "source": [
    "# approach_1\n",
    "\n",
    "def up_low_counter(string):\n",
    "    up_low = {'UPPER CASE':0, 'lower case':0}\n",
    "    \n",
    "    for s in string:\n",
    "        if s.isupper():\n",
    "            up_low['UPPER CASE'] += 1\n",
    "        elif s.islower():\n",
    "            up_low['lower case'] += 1\n",
    "    \n",
    "    return up_low"
   ]
  },
  {
   "cell_type": "code",
   "execution_count": null,
   "id": "bab59f62-26ac-4fdd-b3fa-89754fb1b80e",
   "metadata": {},
   "outputs": [],
   "source": []
  },
  {
   "cell_type": "code",
   "execution_count": 92,
   "id": "abc511b6-527c-4b42-b0af-5a6f8e2906c1",
   "metadata": {},
   "outputs": [],
   "source": [
    "# # approach_2\n",
    "\n",
    "# def up_low_counter(string):\n",
    "#     up_low = {}\n",
    "    \n",
    "#     for s in string:\n",
    "#         if s.isupper():\n",
    "#             up_low['UPPER CASE'] = up_low.get('UPPER CASE', 0) + 1\n",
    "#         elif s.islower():\n",
    "#             up_low['lower case'] = up_low.get('lower case', 0) + 1\n",
    "    \n",
    "#     return up_low"
   ]
  },
  {
   "cell_type": "code",
   "execution_count": 93,
   "id": "668407c9-e3af-47d5-b8f5-34d213e83bf3",
   "metadata": {},
   "outputs": [
    {
     "data": {
      "text/plain": [
       "{'UPPER CASE': 2, 'lower case': 76}"
      ]
     },
     "execution_count": 93,
     "metadata": {},
     "output_type": "execute_result"
    }
   ],
   "source": [
    "up_low_counter('You do have access toThe site owner may have  restrictions that prevent you  accessing the site')"
   ]
  },
  {
   "cell_type": "code",
   "execution_count": null,
   "id": "19b0444f-cdcd-4f04-a7fe-27bec4add655",
   "metadata": {},
   "outputs": [],
   "source": []
  },
  {
   "cell_type": "code",
   "execution_count": null,
   "id": "ab7d7172-1af6-4b3c-bbfb-fcff04be806c",
   "metadata": {},
   "outputs": [],
   "source": []
  },
  {
   "cell_type": "code",
   "execution_count": null,
   "id": "1e3fa30a-cab3-4e3c-9e00-4084edb98392",
   "metadata": {},
   "outputs": [],
   "source": []
  },
  {
   "cell_type": "markdown",
   "id": "1bcf6868-5353-435d-83ae-76135f6b6c0a",
   "metadata": {},
   "source": [
    "# Finde Code Pattern"
   ]
  },
  {
   "cell_type": "code",
   "execution_count": 94,
   "id": "3948509e-d40e-422d-a674-f521b4e7d6c0",
   "metadata": {},
   "outputs": [],
   "source": [
    "def find_code(input_code):\n",
    "\n",
    "    code_pattern = [0, 0, 7, 'x']\n",
    "\n",
    "    for code in input_code:\n",
    "        if code == code_pattern[0]:\n",
    "            code_pattern.remove(code)\n",
    "    \n",
    "    return len(code_pattern) == 1"
   ]
  },
  {
   "cell_type": "code",
   "execution_count": 95,
   "id": "7f4ce374-a108-4bc3-a764-fd680c2e82af",
   "metadata": {},
   "outputs": [],
   "source": [
    "def find_code2(input_code):\n",
    "\n",
    "    code_pattern = [0, 0, 7]\n",
    "    key_code = []\n",
    "\n",
    "    for i in input_code:\n",
    "        if i == 0:\n",
    "            key_code.append(0)\n",
    "        elif i == 7:\n",
    "            key_code.append(7)\n",
    "\n",
    "    if key_code == code_pattern:\n",
    "        return True\n",
    "    else:\n",
    "        return False"
   ]
  },
  {
   "cell_type": "code",
   "execution_count": 96,
   "id": "f8a348c5-e1d6-45c2-a88b-ca7647e9dca5",
   "metadata": {},
   "outputs": [
    {
     "data": {
      "text/plain": [
       "True"
      ]
     },
     "execution_count": 96,
     "metadata": {},
     "output_type": "execute_result"
    }
   ],
   "source": [
    "find_code([0, 3, 4, 5, 7, 0, 7])"
   ]
  },
  {
   "cell_type": "code",
   "execution_count": 97,
   "id": "5ba2faa4-9621-499d-ad9c-e92859edae8a",
   "metadata": {},
   "outputs": [
    {
     "data": {
      "text/plain": [
       "False"
      ]
     },
     "execution_count": 97,
     "metadata": {},
     "output_type": "execute_result"
    }
   ],
   "source": [
    "find_code2([0, 3, 4, 5, 7, 0, 7])"
   ]
  },
  {
   "cell_type": "code",
   "execution_count": null,
   "id": "b5667584-0295-4cc7-a56a-e32bb597fa40",
   "metadata": {},
   "outputs": [],
   "source": []
  },
  {
   "cell_type": "code",
   "execution_count": null,
   "id": "1d9ff927-718d-47c0-a069-b0dcf206c387",
   "metadata": {},
   "outputs": [],
   "source": []
  },
  {
   "cell_type": "code",
   "execution_count": null,
   "id": "114fe924-53e0-4bb7-8ab8-ad1e65c1d7c4",
   "metadata": {},
   "outputs": [],
   "source": []
  },
  {
   "cell_type": "markdown",
   "id": "d19d4027-b103-433c-8ba3-ce1766529d43",
   "metadata": {},
   "source": [
    "# Student Average Grade "
   ]
  },
  {
   "cell_type": "code",
   "execution_count": 110,
   "id": "f7ec5c8f-fb04-4566-9ab1-289a7056bccf",
   "metadata": {},
   "outputs": [],
   "source": [
    "# approach_1\n",
    "\n",
    "def student_grade(*args, student_name='Student'):\n",
    "     \n",
    "    avrage = sum(args) / len(args)\n",
    "    \n",
    "    return f'{student_name} get average score {avrage}'\n"
   ]
  },
  {
   "cell_type": "code",
   "execution_count": 111,
   "id": "81905747-6caa-4a82-906a-c0f7acb2313b",
   "metadata": {},
   "outputs": [],
   "source": [
    "# approach_2\n",
    "\n",
    "def student_grade1(*args, student_name='Student'):\n",
    "     \n",
    "    score = 0\n",
    "    for a in args:\n",
    "        score += a\n",
    "    \n",
    "    return f'{student_name} get average score {score / len(args)}'"
   ]
  },
  {
   "cell_type": "code",
   "execution_count": 112,
   "id": "2999f770-20ff-4c5f-a86a-1eca9b696620",
   "metadata": {},
   "outputs": [
    {
     "data": {
      "text/plain": [
       "'Reza get average score 14.5'"
      ]
     },
     "execution_count": 112,
     "metadata": {},
     "output_type": "execute_result"
    }
   ],
   "source": [
    "student_grade(8, 16.5, 19, student_name=\"Reza\")"
   ]
  },
  {
   "cell_type": "code",
   "execution_count": 113,
   "id": "246097d4-87e5-42b9-90a7-5ec14e07d001",
   "metadata": {},
   "outputs": [
    {
     "data": {
      "text/plain": [
       "'Reza get average score 14.5'"
      ]
     },
     "execution_count": 113,
     "metadata": {},
     "output_type": "execute_result"
    }
   ],
   "source": [
    "student_grade1(8, 16.5, 19, student_name=\"Reza\")"
   ]
  },
  {
   "cell_type": "code",
   "execution_count": null,
   "id": "0b39baf2-498a-4446-ba86-eef246f2b673",
   "metadata": {},
   "outputs": [],
   "source": []
  },
  {
   "cell_type": "code",
   "execution_count": null,
   "id": "31d486ec-f04f-4fdf-b164-e14b7da4b3db",
   "metadata": {},
   "outputs": [],
   "source": []
  },
  {
   "cell_type": "code",
   "execution_count": null,
   "id": "063a7231-ffbf-4cc0-9b70-5d37cab0291c",
   "metadata": {},
   "outputs": [],
   "source": []
  },
  {
   "cell_type": "markdown",
   "id": "ea608630-5389-43f1-bdbf-5cdbf433ded9",
   "metadata": {},
   "source": [
    "# Count Letters"
   ]
  },
  {
   "cell_type": "code",
   "execution_count": 196,
   "id": "e4d5bfed-8f87-42dc-9f4d-cf2eaa874f44",
   "metadata": {},
   "outputs": [],
   "source": [
    "def char_freq(string: str) -> dict:\n",
    "    \"\"\"\n",
    "    calculate repeat of unique characters in a string\n",
    "    \n",
    "    :param string: Input String\n",
    "    :returns:A dictionary characters repeat\n",
    "    \n",
    "    Example:\n",
    "    >>> char_freq('aaabbc')\n",
    "    {'a':3, 'b':2, 'c':1}\n",
    "    \"\"\"\n",
    "    \n",
    "    char_repeat = {}\n",
    "\n",
    "    for s in set(string):\n",
    "        char_repeat[s] = string.count(s)\n",
    "    \n",
    "\n",
    "    return dict(sorted(char_repeat.items()))\n",
    "    \n"
   ]
  },
  {
   "cell_type": "code",
   "execution_count": 192,
   "id": "4806413a-fb5a-41a9-af1e-a8f645898080",
   "metadata": {},
   "outputs": [],
   "source": [
    "def char_freq1(string: str) -> dict:\n",
    "    \n",
    "    char_repeat = {}\n",
    "    \n",
    "    for char in string:\n",
    "        if char in char_repeat:\n",
    "            char_repeat[char] += 1\n",
    "        else:\n",
    "            char_repeat[char] = 1\n",
    "    \n",
    "\n",
    "    return dict(sorted(char_repeat.items()))"
   ]
  },
  {
   "cell_type": "code",
   "execution_count": 194,
   "id": "4046a3d1-2dcd-472d-a5f2-232b5ba86c9e",
   "metadata": {},
   "outputs": [],
   "source": [
    "def char_freq2(string: str) -> dict:\n",
    "    \n",
    "    char_repeat = {}\n",
    "\n",
    "    for char in string:\n",
    "        char_repeat[char] = char_repeat.get(char, 0) + 1\n",
    "\n",
    "    return dict(sorted(char_repeat.items()))"
   ]
  },
  {
   "cell_type": "code",
   "execution_count": 185,
   "id": "a3338c83-170a-4fff-aada-843eac9d91bc",
   "metadata": {},
   "outputs": [],
   "source": [
    "string = 'and return the dictionary with the letters as its key'"
   ]
  },
  {
   "cell_type": "code",
   "execution_count": 181,
   "id": "bc3587ed-b2b1-4024-b20d-eb31f5d35eac",
   "metadata": {},
   "outputs": [
    {
     "data": {
      "text/plain": [
       "{' ': 9,\n",
       " 'a': 3,\n",
       " 'c': 1,\n",
       " 'd': 2,\n",
       " 'e': 6,\n",
       " 'h': 3,\n",
       " 'i': 4,\n",
       " 'k': 1,\n",
       " 'l': 1,\n",
       " 'n': 3,\n",
       " 'o': 1,\n",
       " 'r': 4,\n",
       " 's': 3,\n",
       " 't': 8,\n",
       " 'u': 1,\n",
       " 'w': 1,\n",
       " 'y': 2}"
      ]
     },
     "execution_count": 181,
     "metadata": {},
     "output_type": "execute_result"
    }
   ],
   "source": [
    "char_freq(string)"
   ]
  },
  {
   "cell_type": "code",
   "execution_count": 182,
   "id": "9ea3375e-8bf9-4511-b4e2-3da5809e493f",
   "metadata": {},
   "outputs": [
    {
     "data": {
      "text/plain": [
       "{' ': 9,\n",
       " 'a': 3,\n",
       " 'c': 1,\n",
       " 'd': 2,\n",
       " 'e': 6,\n",
       " 'h': 3,\n",
       " 'i': 4,\n",
       " 'k': 1,\n",
       " 'l': 1,\n",
       " 'n': 3,\n",
       " 'o': 1,\n",
       " 'r': 4,\n",
       " 's': 3,\n",
       " 't': 8,\n",
       " 'u': 1,\n",
       " 'w': 1,\n",
       " 'y': 2}"
      ]
     },
     "execution_count": 182,
     "metadata": {},
     "output_type": "execute_result"
    }
   ],
   "source": [
    "char_freq1(string)"
   ]
  },
  {
   "cell_type": "code",
   "execution_count": 190,
   "id": "cf1b5b83-627f-4c8f-947a-9d1f955d165e",
   "metadata": {},
   "outputs": [
    {
     "data": {
      "text/plain": [
       "{' ': 9,\n",
       " 'a': 3,\n",
       " 'c': 1,\n",
       " 'd': 2,\n",
       " 'e': 6,\n",
       " 'h': 3,\n",
       " 'i': 4,\n",
       " 'k': 1,\n",
       " 'l': 1,\n",
       " 'n': 3,\n",
       " 'o': 1,\n",
       " 'r': 4,\n",
       " 's': 3,\n",
       " 't': 8,\n",
       " 'u': 1,\n",
       " 'w': 1,\n",
       " 'y': 2}"
      ]
     },
     "execution_count": 190,
     "metadata": {},
     "output_type": "execute_result"
    }
   ],
   "source": [
    "char_freq2(string)"
   ]
  },
  {
   "cell_type": "code",
   "execution_count": 197,
   "id": "a5745be9-a749-4f85-9d7e-0836cb96a1fa",
   "metadata": {},
   "outputs": [],
   "source": []
  },
  {
   "cell_type": "code",
   "execution_count": null,
   "id": "b84255ee-f9b0-47c4-9f8e-877431d4c5b1",
   "metadata": {},
   "outputs": [],
   "source": []
  },
  {
   "cell_type": "code",
   "execution_count": null,
   "id": "5d54b824-5694-484f-89a2-ed4ada1fe975",
   "metadata": {},
   "outputs": [],
   "source": []
  },
  {
   "cell_type": "markdown",
   "id": "5be6c36a-8718-4b90-adf8-3330b7082780",
   "metadata": {},
   "source": [
    "# find word Palindrome in text"
   ]
  },
  {
   "cell_type": "code",
   "execution_count": 215,
   "id": "32587634-2bdb-4f84-bdcd-52796e6125d9",
   "metadata": {},
   "outputs": [],
   "source": [
    "def find_word_palindrome(text):\n",
    "\n",
    "    word = text.split(' ')\n",
    "\n",
    "    word_palindrome = []\n",
    "\n",
    "    for w in word:\n",
    "        if w == w[ : :-1]:\n",
    "            word_palindrome.append(w)\n",
    "\n",
    "    return f'words palindrome in text: {word_palindrome}'\n",
    "    "
   ]
  },
  {
   "cell_type": "code",
   "execution_count": 216,
   "id": "5ab7e96a-1594-409f-99b6-cf79a5967fc4",
   "metadata": {},
   "outputs": [
    {
     "data": {
      "text/plain": [
       "\"words palindrome in text: ['civic', 'DVD', 'gig', 'kayak', 'level', 'madam', 'nan', 'peep', 'poop', 'radar', 'redder', 'refer', 'solos', 'stats', 'wow']\""
      ]
     },
     "execution_count": 216,
     "metadata": {},
     "output_type": "execute_result"
    }
   ],
   "source": [
    "find_word_palindrome('civic DVD gig kayak level madam nan peep poop radar redder refer solos stats wow') "
   ]
  },
  {
   "cell_type": "code",
   "execution_count": 218,
   "id": "5ff0e19a-dea4-4344-a8eb-7349ca130974",
   "metadata": {},
   "outputs": [
    {
     "data": {
      "text/plain": [
       "\"words palindrome in text: ['ساس', 'انا', 'نان']\""
      ]
     },
     "execution_count": 218,
     "metadata": {},
     "output_type": "execute_result"
    }
   ],
   "source": [
    "find_word_palindrome('ساس انا نان رضا')"
   ]
  },
  {
   "cell_type": "code",
   "execution_count": null,
   "id": "58caded2-5721-4dd5-95fc-88cf4216058a",
   "metadata": {},
   "outputs": [],
   "source": []
  },
  {
   "cell_type": "code",
   "execution_count": null,
   "id": "bc52f59e-8be5-4474-8f94-4dadd3e4863c",
   "metadata": {},
   "outputs": [],
   "source": []
  },
  {
   "cell_type": "code",
   "execution_count": null,
   "id": "467fea29-8d26-47d9-a2da-90bc48e4876c",
   "metadata": {},
   "outputs": [],
   "source": []
  },
  {
   "cell_type": "markdown",
   "id": "74fe4560-6ba0-43cf-99a4-32101eb0e40e",
   "metadata": {},
   "source": [
    "# Bank Account"
   ]
  },
  {
   "cell_type": "code",
   "execution_count": 1,
   "id": "9c54aca0-1866-4408-a680-907786d4dd62",
   "metadata": {},
   "outputs": [
    {
     "ename": "KeyboardInterrupt",
     "evalue": "Interrupted by user",
     "output_type": "error",
     "traceback": [
      "\u001b[0;31m---------------------------------------------------------------------------\u001b[0m",
      "\u001b[0;31mKeyboardInterrupt\u001b[0m                         Traceback (most recent call last)",
      "Input \u001b[0;32mIn [1]\u001b[0m, in \u001b[0;36m<cell line: 2>\u001b[0;34m()\u001b[0m\n\u001b[1;32m      1\u001b[0m transaction \u001b[38;5;241m=\u001b[39m []\n\u001b[1;32m      2\u001b[0m \u001b[38;5;28;01mwhile\u001b[39;00m \u001b[38;5;28;01mTrue\u001b[39;00m:\n\u001b[0;32m----> 3\u001b[0m     input_transaction \u001b[38;5;241m=\u001b[39m \u001b[38;5;28;43minput\u001b[39;49m\u001b[43m(\u001b[49m\u001b[38;5;124;43m'\u001b[39;49m\u001b[38;5;124;43menter deposit(D)thrawal(W)count bank ac and wi:\u001b[39;49m\u001b[38;5;124;43m'\u001b[39;49m\u001b[43m)\u001b[49m\u001b[38;5;241m.\u001b[39mupper()\n\u001b[1;32m      4\u001b[0m     \u001b[38;5;28;01mif\u001b[39;00m input_transaction \u001b[38;5;241m==\u001b[39m \u001b[38;5;124m'\u001b[39m\u001b[38;5;124mZERO\u001b[39m\u001b[38;5;124m'\u001b[39m:\n\u001b[1;32m      5\u001b[0m         \u001b[38;5;28;01mbreak\u001b[39;00m\n",
      "File \u001b[0;32m~/anaconda3/envs/py10/lib/python3.10/site-packages/ipykernel/kernelbase.py:1075\u001b[0m, in \u001b[0;36mKernel.raw_input\u001b[0;34m(self, prompt)\u001b[0m\n\u001b[1;32m   1071\u001b[0m \u001b[38;5;28;01mif\u001b[39;00m \u001b[38;5;129;01mnot\u001b[39;00m \u001b[38;5;28mself\u001b[39m\u001b[38;5;241m.\u001b[39m_allow_stdin:\n\u001b[1;32m   1072\u001b[0m     \u001b[38;5;28;01mraise\u001b[39;00m StdinNotImplementedError(\n\u001b[1;32m   1073\u001b[0m         \u001b[38;5;124m\"\u001b[39m\u001b[38;5;124mraw_input was called, but this frontend does not support input requests.\u001b[39m\u001b[38;5;124m\"\u001b[39m\n\u001b[1;32m   1074\u001b[0m     )\n\u001b[0;32m-> 1075\u001b[0m \u001b[38;5;28;01mreturn\u001b[39;00m \u001b[38;5;28;43mself\u001b[39;49m\u001b[38;5;241;43m.\u001b[39;49m\u001b[43m_input_request\u001b[49m\u001b[43m(\u001b[49m\n\u001b[1;32m   1076\u001b[0m \u001b[43m    \u001b[49m\u001b[38;5;28;43mstr\u001b[39;49m\u001b[43m(\u001b[49m\u001b[43mprompt\u001b[49m\u001b[43m)\u001b[49m\u001b[43m,\u001b[49m\n\u001b[1;32m   1077\u001b[0m \u001b[43m    \u001b[49m\u001b[38;5;28;43mself\u001b[39;49m\u001b[38;5;241;43m.\u001b[39;49m\u001b[43m_parent_ident\u001b[49m\u001b[43m[\u001b[49m\u001b[38;5;124;43m\"\u001b[39;49m\u001b[38;5;124;43mshell\u001b[39;49m\u001b[38;5;124;43m\"\u001b[39;49m\u001b[43m]\u001b[49m\u001b[43m,\u001b[49m\n\u001b[1;32m   1078\u001b[0m \u001b[43m    \u001b[49m\u001b[38;5;28;43mself\u001b[39;49m\u001b[38;5;241;43m.\u001b[39;49m\u001b[43mget_parent\u001b[49m\u001b[43m(\u001b[49m\u001b[38;5;124;43m\"\u001b[39;49m\u001b[38;5;124;43mshell\u001b[39;49m\u001b[38;5;124;43m\"\u001b[39;49m\u001b[43m)\u001b[49m\u001b[43m,\u001b[49m\n\u001b[1;32m   1079\u001b[0m \u001b[43m    \u001b[49m\u001b[43mpassword\u001b[49m\u001b[38;5;241;43m=\u001b[39;49m\u001b[38;5;28;43;01mFalse\u001b[39;49;00m\u001b[43m,\u001b[49m\n\u001b[1;32m   1080\u001b[0m \u001b[43m\u001b[49m\u001b[43m)\u001b[49m\n",
      "File \u001b[0;32m~/anaconda3/envs/py10/lib/python3.10/site-packages/ipykernel/kernelbase.py:1120\u001b[0m, in \u001b[0;36mKernel._input_request\u001b[0;34m(self, prompt, ident, parent, password)\u001b[0m\n\u001b[1;32m   1117\u001b[0m             \u001b[38;5;28;01mbreak\u001b[39;00m\n\u001b[1;32m   1118\u001b[0m \u001b[38;5;28;01mexcept\u001b[39;00m \u001b[38;5;167;01mKeyboardInterrupt\u001b[39;00m:\n\u001b[1;32m   1119\u001b[0m     \u001b[38;5;66;03m# re-raise KeyboardInterrupt, to truncate traceback\u001b[39;00m\n\u001b[0;32m-> 1120\u001b[0m     \u001b[38;5;28;01mraise\u001b[39;00m \u001b[38;5;167;01mKeyboardInterrupt\u001b[39;00m(\u001b[38;5;124m\"\u001b[39m\u001b[38;5;124mInterrupted by user\u001b[39m\u001b[38;5;124m\"\u001b[39m) \u001b[38;5;28;01mfrom\u001b[39;00m \u001b[38;5;28mNone\u001b[39m\n\u001b[1;32m   1121\u001b[0m \u001b[38;5;28;01mexcept\u001b[39;00m \u001b[38;5;167;01mException\u001b[39;00m:\n\u001b[1;32m   1122\u001b[0m     \u001b[38;5;28mself\u001b[39m\u001b[38;5;241m.\u001b[39mlog\u001b[38;5;241m.\u001b[39mwarning(\u001b[38;5;124m\"\u001b[39m\u001b[38;5;124mInvalid Message:\u001b[39m\u001b[38;5;124m\"\u001b[39m, exc_info\u001b[38;5;241m=\u001b[39m\u001b[38;5;28;01mTrue\u001b[39;00m)\n",
      "\u001b[0;31mKeyboardInterrupt\u001b[0m: Interrupted by user"
     ]
    }
   ],
   "source": [
    "transaction = []\n",
    "while True:\n",
    "    input_transaction = input('enter deposit(D)thrawal(W)count bank ac and wi:').upper()\n",
    "    if input_transaction == 'ZERO':\n",
    "        break\n",
    "    transaction.append(input_transaction)"
   ]
  },
  {
   "cell_type": "code",
   "execution_count": 246,
   "id": "9e5ba67a-fb15-4c2e-bbf7-2eee942b3e5a",
   "metadata": {},
   "outputs": [],
   "source": [
    "def accout_balance(transaction):\n",
    "    balance = 0\n",
    "\n",
    "    for t in transaction:\n",
    "        type_trans, amounts = t.split(' ')\n",
    "        amount = int(amounts)\n",
    "    \n",
    "        if type_trans == 'D':\n",
    "            balance += amount\n",
    "        elif type_trans == 'W':\n",
    "            balance -= amount\n",
    "\n",
    "    return f'Your accont balance: {balance}$'"
   ]
  },
  {
   "cell_type": "code",
   "execution_count": 247,
   "id": "7d1cf28b-0575-4bff-9cd4-c8b703ea88e5",
   "metadata": {},
   "outputs": [
    {
     "data": {
      "text/plain": [
       "'Your accont balance: 98307607$'"
      ]
     },
     "execution_count": 247,
     "metadata": {},
     "output_type": "execute_result"
    }
   ],
   "source": [
    "accout_balance(transaction)"
   ]
  },
  {
   "cell_type": "code",
   "execution_count": null,
   "id": "b3848657-4715-4de2-809a-d651665beed5",
   "metadata": {},
   "outputs": [],
   "source": []
  },
  {
   "cell_type": "code",
   "execution_count": null,
   "id": "8526560c-2cd6-40ab-8325-795eb8404745",
   "metadata": {},
   "outputs": [],
   "source": []
  },
  {
   "cell_type": "code",
   "execution_count": null,
   "id": "665b3352-a9bc-4944-8a37-743d2d0a69df",
   "metadata": {},
   "outputs": [],
   "source": []
  },
  {
   "cell_type": "markdown",
   "id": "bdb845ad-3db1-4127-aecf-8ab1500fee4f",
   "metadata": {},
   "source": [
    "# Simple Validation"
   ]
  },
  {
   "cell_type": "code",
   "execution_count": 43,
   "id": "747929c6-0cf8-4b6f-9a8f-387bcb8d1c96",
   "metadata": {},
   "outputs": [],
   "source": []
  },
  {
   "cell_type": "code",
   "execution_count": 75,
   "id": "dd93ed3a-bbfd-4a63-b8a2-0a4b28cc56f8",
   "metadata": {},
   "outputs": [],
   "source": [
    "def is_valid_username(username: str) -> bool:\n",
    "    \n",
    "    \n",
    "    # is_valid = True ---> Flag\n",
    "    is_valid = True\n",
    "    if len(username) <= 4:\n",
    "        is_valid = False\n",
    "    \n",
    "    return is_valid"
   ]
  },
  {
   "cell_type": "code",
   "execution_count": 76,
   "id": "c15bd6c6-269c-4e74-90c0-dd9aead19879",
   "metadata": {},
   "outputs": [],
   "source": [
    "def is_valid_password(password: str) -> bool:\n",
    "    \"\"\"\n",
    "    Chek password\n",
    "    Rules:\n",
    "        - Password length is grated 6 character\n",
    "        \n",
    "    :param password:\n",
    "    :returns: \n",
    "    \n",
    "    Example:\n",
    "    >>> 12345\n",
    "    False\n",
    "    >>> abc12345\n",
    "    False\n",
    "    >>> Abc12345\n",
    "    True\n",
    "    \n",
    "    \"\"\"\n",
    "    # is_valid = True ---> Flag\n",
    "    is_valid = True\n",
    "    if (\n",
    "        len(password) <= 6 \n",
    "        or password.isdigit() \n",
    "        or password.lower() == password\n",
    "    ):\n",
    "        is_valid = False\n",
    "    \n",
    "    return is_valid"
   ]
  },
  {
   "cell_type": "code",
   "execution_count": null,
   "id": "6ea6c594-47e9-4c57-81d0-861b26e99396",
   "metadata": {},
   "outputs": [],
   "source": []
  },
  {
   "cell_type": "code",
   "execution_count": 87,
   "id": "4b47c69d-2df7-40f5-8889-11c0b62a9602",
   "metadata": {},
   "outputs": [],
   "source": [
    "def check_validation(**kwargs):\n",
    "    \n",
    "    valid_account = {}\n",
    "    for username, password in kwargs.items():\n",
    "        if not (is_valid_username(username) and is_valid_password(password)):\n",
    "            continue\n",
    "        valid_account[username] = password\n",
    "    \n",
    "    return valid_account\n",
    "    "
   ]
  },
  {
   "cell_type": "code",
   "execution_count": null,
   "id": "1f89760c-ceb0-41c2-91c4-554c63486240",
   "metadata": {},
   "outputs": [],
   "source": []
  },
  {
   "cell_type": "code",
   "execution_count": 88,
   "id": "8ebb358c-3937-42d1-bd11-fa9bd04a38ad",
   "metadata": {},
   "outputs": [
    {
     "data": {
      "text/plain": [
       "{'Rezaen': 'Reza0808', 'Amiir': 'kLS45@l$'}"
      ]
     },
     "execution_count": 88,
     "metadata": {},
     "output_type": "execute_result"
    }
   ],
   "source": [
    "check_validation(Rezaen=\"Reza0808\", mahtab=\"1235678\", Ali=\"He3@lsa\", Amiir=\"kLS45@l$\", Sina='Pass')"
   ]
  },
  {
   "cell_type": "code",
   "execution_count": null,
   "id": "67065fbb-7ede-4113-b473-e119f9db823d",
   "metadata": {},
   "outputs": [],
   "source": []
  },
  {
   "cell_type": "code",
   "execution_count": null,
   "id": "6f6de70b-1a14-4a85-9231-b661d3bcd16b",
   "metadata": {},
   "outputs": [],
   "source": []
  },
  {
   "cell_type": "code",
   "execution_count": null,
   "id": "61e09723-9834-4b08-9ecb-0e2577bc75a8",
   "metadata": {},
   "outputs": [],
   "source": []
  },
  {
   "cell_type": "markdown",
   "id": "cb035728-5ae6-4ebc-96d5-2a5582549c10",
   "metadata": {},
   "source": [
    "# Find Pangram"
   ]
  },
  {
   "cell_type": "code",
   "execution_count": 25,
   "id": "461a6741-89fc-4ce2-a7ce-a2b6c24074fb",
   "metadata": {},
   "outputs": [],
   "source": [
    "def is_pangram(sentence: str) -> bool:\n",
    "    \"\"\"\n",
    "    \n",
    "    \"\"\"\n",
    "    \n",
    "    import string\n",
    "    alphabet = set(string.ascii_lowercase)\n",
    "    \n",
    "    for char in sentence.lower():\n",
    "        if char in alphabet:\n",
    "            alphabet.remove(char)\n",
    "\n",
    "    return alphabet == set()\n",
    "        "
   ]
  },
  {
   "cell_type": "code",
   "execution_count": 24,
   "id": "dc91089d-efe7-42b2-a9f4-417a1f48adb3",
   "metadata": {},
   "outputs": [
    {
     "data": {
      "text/plain": [
       "True"
      ]
     },
     "execution_count": 24,
     "metadata": {},
     "output_type": "execute_result"
    }
   ],
   "source": [
    "is_pangram(\"The quick brown fox jumps over the lazy dog\")"
   ]
  },
  {
   "cell_type": "code",
   "execution_count": 22,
   "id": "4ea6ed71-a47b-4501-a03b-0de8c46429a3",
   "metadata": {},
   "outputs": [
    {
     "data": {
      "text/plain": [
       "False"
      ]
     },
     "execution_count": 22,
     "metadata": {},
     "output_type": "execute_result"
    }
   ],
   "source": [
    "is_pangram('hello this is me')"
   ]
  },
  {
   "cell_type": "code",
   "execution_count": 23,
   "id": "49578e0c-4009-4b8a-9706-be88f2e157ae",
   "metadata": {},
   "outputs": [
    {
     "data": {
      "text/plain": [
       "True"
      ]
     },
     "execution_count": 23,
     "metadata": {},
     "output_type": "execute_result"
    }
   ],
   "source": [
    "is_pangram(\"abcdefghijklmnopqrstuvwxyz\")"
   ]
  },
  {
   "cell_type": "code",
   "execution_count": null,
   "id": "25e26e80-fd81-4b01-9221-917846f7499f",
   "metadata": {},
   "outputs": [],
   "source": []
  },
  {
   "cell_type": "code",
   "execution_count": null,
   "id": "9b745ad3-82ce-4da0-a803-1da446361092",
   "metadata": {},
   "outputs": [],
   "source": []
  },
  {
   "cell_type": "code",
   "execution_count": null,
   "id": "741242d4-eec5-4188-a774-234d9843b028",
   "metadata": {},
   "outputs": [],
   "source": []
  },
  {
   "cell_type": "markdown",
   "id": "ab0ed746-f2cd-438b-9edf-504c59e5fb89",
   "metadata": {},
   "source": [
    "# Triangular number"
   ]
  },
  {
   "cell_type": "code",
   "execution_count": 13,
   "id": "84c753e4-8f5b-4b49-b895-ad56bcf846e3",
   "metadata": {},
   "outputs": [],
   "source": [
    "def triangular_number(number: int) -> int:\n",
    "    \n",
    "    \n",
    "    sum = 0\n",
    "    for num in range(number + 1):\n",
    "        sum += num\n",
    "\n",
    "    return f'T{num} = {sum}'\n"
   ]
  },
  {
   "cell_type": "code",
   "execution_count": 14,
   "id": "07d484df-883f-4b26-9a86-e86f33cc1596",
   "metadata": {},
   "outputs": [
    {
     "data": {
      "text/plain": [
       "'T10 = 55'"
      ]
     },
     "execution_count": 14,
     "metadata": {},
     "output_type": "execute_result"
    }
   ],
   "source": [
    "triangular_number(10)"
   ]
  },
  {
   "cell_type": "code",
   "execution_count": null,
   "id": "3a69b02d-14f0-4346-b45e-36cb614c833c",
   "metadata": {},
   "outputs": [],
   "source": []
  },
  {
   "cell_type": "code",
   "execution_count": null,
   "id": "34dea4b9-9d44-41d3-b161-d44c1044f80e",
   "metadata": {},
   "outputs": [],
   "source": []
  },
  {
   "cell_type": "code",
   "execution_count": null,
   "id": "9a859fb9-a356-462c-84a8-3c43242b49fa",
   "metadata": {},
   "outputs": [],
   "source": []
  },
  {
   "cell_type": "markdown",
   "id": "e74dcc2f-23f5-46ab-9bce-6bc557c87663",
   "metadata": {},
   "source": [
    "# Find the longest and shortest word"
   ]
  },
  {
   "cell_type": "code",
   "execution_count": 133,
   "id": "30ed3fa9-ddd2-467d-8277-9d3e71809ef5",
   "metadata": {},
   "outputs": [],
   "source": [
    "def shortest_longest_words(sentence: str) -> tuple:\n",
    "    \"\"\"\n",
    "    \n",
    "    \"\"\"\n",
    "    words = sentence.split()\n",
    "\n",
    "    shortest_word = min(words, key=len)\n",
    "    longest_word = max(words, key=len)\n",
    "\n",
    "    return shortest_word, longest_word "
   ]
  },
  {
   "cell_type": "code",
   "execution_count": 136,
   "id": "51d663a1-3710-4606-91c0-51b184832a58",
   "metadata": {},
   "outputs": [],
   "source": [
    "sentence = \"Python, which was initially developed by Guido van Rossum and made available to the public in 1991, is currently one of the most widely used general-purpose programming languages\""
   ]
  },
  {
   "cell_type": "code",
   "execution_count": 137,
   "id": "67269595-aef7-4060-9409-a1ac5730de1f",
   "metadata": {},
   "outputs": [
    {
     "data": {
      "text/plain": [
       "('by', 'general-purpose')"
      ]
     },
     "execution_count": 137,
     "metadata": {},
     "output_type": "execute_result"
    }
   ],
   "source": [
    "shortest_longest_words(sentence)"
   ]
  },
  {
   "cell_type": "code",
   "execution_count": null,
   "id": "25fed0c2-5b6d-4dbe-b47c-27496ac9b99a",
   "metadata": {},
   "outputs": [],
   "source": []
  },
  {
   "cell_type": "code",
   "execution_count": 84,
   "id": "69d57c5d-f83c-4acc-ba2e-99129127f301",
   "metadata": {},
   "outputs": [],
   "source": [
    "def shortest_longest_words1(sentence: str) -> tuple:\n",
    "    \"\"\"\n",
    "    \n",
    "    \"\"\"\n",
    "    \n",
    "    words = my_str.split()\n",
    "\n",
    "    shortest_word = words[0]\n",
    "    longest_word = words[0]\n",
    "\n",
    "    for word in words:\n",
    "        if len(word) < len(shortest_word):\n",
    "            shortest_word = word\n",
    "        elif len(word) > len(longest_word):\n",
    "            longest_word = word\n",
    "\n",
    "    return shortest_word, longest_word "
   ]
  },
  {
   "cell_type": "code",
   "execution_count": null,
   "id": "13bdb3d5-99b5-4770-a301-5b32fdc29d3d",
   "metadata": {},
   "outputs": [],
   "source": []
  },
  {
   "cell_type": "code",
   "execution_count": 85,
   "id": "a463a908-2843-4ec5-846a-936203f1546f",
   "metadata": {},
   "outputs": [],
   "source": [
    "sentence = \"Python, which was initially developed by Guido van Rossum and made available to the public in 1991, is currently one of the most widely used general-purpose programming languages\""
   ]
  },
  {
   "cell_type": "code",
   "execution_count": 134,
   "id": "668c9dd7-db25-4828-a773-096e02dcf2a9",
   "metadata": {},
   "outputs": [
    {
     "data": {
      "text/plain": [
       "('by', 'general-purpose')"
      ]
     },
     "execution_count": 134,
     "metadata": {},
     "output_type": "execute_result"
    }
   ],
   "source": [
    "shortest_longest_words(sentence)"
   ]
  },
  {
   "cell_type": "code",
   "execution_count": 135,
   "id": "a3179d68-0d8a-436b-815b-ec2af0ad5121",
   "metadata": {},
   "outputs": [
    {
     "data": {
      "text/plain": [
       "('by', 'general-purpose')"
      ]
     },
     "execution_count": 135,
     "metadata": {},
     "output_type": "execute_result"
    }
   ],
   "source": [
    "shortest_longest_words1(sentence)"
   ]
  },
  {
   "cell_type": "code",
   "execution_count": null,
   "id": "562d49fa-5eb4-49d3-9a5c-93b20828d07b",
   "metadata": {},
   "outputs": [],
   "source": []
  },
  {
   "cell_type": "code",
   "execution_count": null,
   "id": "e8e056a6-2a4f-4c31-90c2-ecf3522ec7b5",
   "metadata": {},
   "outputs": [],
   "source": []
  },
  {
   "cell_type": "code",
   "execution_count": null,
   "id": "de5c3763-890e-4c7d-b1a5-aa8870a00dcf",
   "metadata": {},
   "outputs": [],
   "source": []
  },
  {
   "cell_type": "markdown",
   "id": "d44c92a3-8add-4362-9ffa-18fd102b5f90",
   "metadata": {},
   "source": [
    "# Function Return Key"
   ]
  },
  {
   "cell_type": "code",
   "execution_count": 8,
   "id": "b5b960c3-81b5-4a96-90f1-ddb1d38feff5",
   "metadata": {},
   "outputs": [],
   "source": [
    "def ad(a, b):\n",
    "    a + b"
   ]
  },
  {
   "cell_type": "code",
   "execution_count": 10,
   "id": "7a4d7cfa-709a-42df-b8ca-f22669fb577f",
   "metadata": {},
   "outputs": [
    {
     "name": "stdout",
     "output_type": "stream",
     "text": [
      "None\n"
     ]
    }
   ],
   "source": [
    "print(ad(10, 20))"
   ]
  },
  {
   "cell_type": "code",
   "execution_count": null,
   "id": "3934f997-52b2-4dce-828a-43e2dbf05378",
   "metadata": {},
   "outputs": [],
   "source": []
  }
 ],
 "metadata": {
  "kernelspec": {
   "display_name": "Python 3 (ipykernel)",
   "language": "python",
   "name": "python3"
  },
  "language_info": {
   "codemirror_mode": {
    "name": "ipython",
    "version": 3
   },
   "file_extension": ".py",
   "mimetype": "text/x-python",
   "name": "python",
   "nbconvert_exporter": "python",
   "pygments_lexer": "ipython3",
   "version": "3.11.4"
  }
 },
 "nbformat": 4,
 "nbformat_minor": 5
}
