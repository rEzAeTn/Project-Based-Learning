{
 "cells": [
  {
   "cell_type": "code",
   "execution_count": 1,
   "id": "29c4d811-55f6-4b43-bc84-4dbc3b2e8e01",
   "metadata": {},
   "outputs": [],
   "source": [
    "## Question Bank\n",
    "## for Loop - while Loop"
   ]
  },
  {
   "cell_type": "code",
   "execution_count": 1,
   "id": "d16623d6-40e4-416b-b609-18e115480f04",
   "metadata": {},
   "outputs": [],
   "source": [
    "def romanToInt(s: str) -> int:\n",
    "    roman_to_int = {'I': 1, 'V': 5, 'X': 10, 'L': 50, 'C': 100, 'D': 500, 'M': 1000}\n",
    "    result = 0\n",
    "    for i in range(len(s)):\n",
    "        if i > 0 and roman_to_int[s[i]] > roman_to_int[s[i - 1]]:\n",
    "            result += roman_to_int[s[i]] - 2 * roman_to_int[s[i - 1]]\n",
    "        else:\n",
    "            result += roman_to_int[s[i]]\n",
    "    return result"
   ]
  },
  {
   "cell_type": "code",
   "execution_count": 4,
   "id": "4e93b2ce-37e2-4bdc-b3c2-add80aebd282",
   "metadata": {},
   "outputs": [
    {
     "data": {
      "text/plain": [
       "555"
      ]
     },
     "execution_count": 4,
     "metadata": {},
     "output_type": "execute_result"
    }
   ],
   "source": [
    "romanToInt('DMLV')"
   ]
  },
  {
   "cell_type": "code",
   "execution_count": null,
   "id": "171b9f3d-552e-4fc2-81f3-dff0aa28b560",
   "metadata": {},
   "outputs": [],
   "source": []
  },
  {
   "cell_type": "markdown",
   "id": "4f700444-71db-4d34-972b-6df12bba5a2a",
   "metadata": {},
   "source": [
    "## Look For Artist's Sales"
   ]
  },
  {
   "cell_type": "code",
   "execution_count": 1,
   "id": "13c9ebef-7228-4537-b468-420b40ec4a8d",
   "metadata": {},
   "outputs": [],
   "source": [
    "list_artist = {\n",
    "    'shadmehr': 10,\n",
    "    'yas': 20,\n",
    "    'hichkas': 30,\n",
    "    'tataloo': 40,\n",
    "}"
   ]
  },
  {
   "cell_type": "code",
   "execution_count": 2,
   "id": "2ec39f05-b1b4-41f6-ab98-1f68a86c2450",
   "metadata": {},
   "outputs": [],
   "source": [
    "list_artist_str = '\\n'.join([f'artist: {key} - artworks: {value}' for key, value in list_artist.items()])"
   ]
  },
  {
   "cell_type": "code",
   "execution_count": 3,
   "id": "ebcf5594-bbfc-4a6a-9bbc-7d96e783d368",
   "metadata": {},
   "outputs": [
    {
     "name": "stdout",
     "output_type": "stream",
     "text": [
      "                    ♥ WEELCOME ♥\n",
      "✨✨ The names artists AND the number their artworks ✨✨ \n",
      "\n"
     ]
    },
    {
     "name": "stdin",
     "output_type": "stream",
     "text": [
      "Enter name artist you want:  sandi\n"
     ]
    },
    {
     "name": "stdout",
     "output_type": "stream",
     "text": [
      "→ sandi is not on the list \n",
      " \n",
      "Do you want add sandi to the list artists? \n",
      "\n"
     ]
    },
    {
     "name": "stdin",
     "output_type": "stream",
     "text": [
      "Yes or No?  yes\n",
      "How many artworks have sandi? 45\n"
     ]
    },
    {
     "name": "stdout",
     "output_type": "stream",
     "text": [
      "→ sandi save in the artist list \n",
      "\n"
     ]
    },
    {
     "name": "stdin",
     "output_type": "stream",
     "text": [
      "Enter name artist you want:  ebi\n"
     ]
    },
    {
     "name": "stdout",
     "output_type": "stream",
     "text": [
      "→ ebi is not on the list \n",
      " \n",
      "Do you want add ebi to the list artists? \n",
      "\n"
     ]
    },
    {
     "name": "stdin",
     "output_type": "stream",
     "text": [
      "Yes or No?  no\n",
      "Enter name artist you want:  yas\n"
     ]
    },
    {
     "name": "stdout",
     "output_type": "stream",
     "text": [
      "→ Till date, 20 Artworks have been published by yas  \n",
      "\n"
     ]
    },
    {
     "name": "stdin",
     "output_type": "stream",
     "text": [
      "Enter name artist you want:  exite\n"
     ]
    },
    {
     "name": "stdout",
     "output_type": "stream",
     "text": [
      "→ exite is not on the list \n",
      " \n",
      "Do you want add exite to the list artists? \n",
      "\n"
     ]
    },
    {
     "name": "stdin",
     "output_type": "stream",
     "text": [
      "Yes or No?  no\n",
      "Enter name artist you want:  exit\n"
     ]
    },
    {
     "name": "stdout",
     "output_type": "stream",
     "text": [
      "→ exit is not on the list \n",
      " \n",
      "Do you want add exit to the list artists? \n",
      "\n"
     ]
    },
    {
     "name": "stdin",
     "output_type": "stream",
     "text": [
      "Yes or No?  q\n",
      "Enter name artist you want:  q\n"
     ]
    },
    {
     "name": "stdout",
     "output_type": "stream",
     "text": [
      "EXIT\n"
     ]
    }
   ],
   "source": [
    "print('                    ♥ WEELCOME ♥')\n",
    "print('✨✨ The names artists AND the number their artworks ✨✨', '\\n')\n",
    "\n",
    "name_artist = input(f\"Enter name artist you want: \").lower()\n",
    "\n",
    "while name_artist != 'q':\n",
    "    if name_artist in list_artist:\n",
    "        print(f\"\\u2192 Till date, {list_artist[name_artist]} Artworks have been published by {name_artist} \", '\\n')\n",
    "        \n",
    "    else:\n",
    "        print(f\"\\u2192 {name_artist} is not on the list \\n \\nDo you want add {name_artist} to the list artists?\", '\\n')\n",
    "        yes_no = input('Yes or No? ').upper()\n",
    "        \n",
    "        if yes_no == 'YES':\n",
    "            artwork = int(input(f'How many artworks have {name_artist}?'))\n",
    "            list_artist[name_artist] = artwork\n",
    "            print(f'\\u2192 {name_artist} save in the artist list', '\\n')   \n",
    "        \n",
    "    name_artist = input(f\"Enter name artist you want: \").lower()\n",
    "    \n",
    "else:\n",
    "    print('EXIT')"
   ]
  },
  {
   "cell_type": "code",
   "execution_count": null,
   "id": "526f83dd-0091-4a47-a7b4-0eef68b82536",
   "metadata": {},
   "outputs": [],
   "source": []
  },
  {
   "cell_type": "code",
   "execution_count": null,
   "id": "866323f2-a1c8-4d93-b5b1-db483112fb25",
   "metadata": {},
   "outputs": [],
   "source": []
  },
  {
   "cell_type": "code",
   "execution_count": null,
   "id": "89b43a2a-30c9-4407-90f1-f315d76bc5a7",
   "metadata": {},
   "outputs": [],
   "source": []
  },
  {
   "cell_type": "markdown",
   "id": "f741e7b5-d5fe-4577-882a-48c6f376ec55",
   "metadata": {},
   "source": [
    "## Simple Calculator"
   ]
  },
  {
   "cell_type": "code",
   "execution_count": null,
   "id": "3f7a96f1-7202-4689-96fa-8e53386cf752",
   "metadata": {},
   "outputs": [],
   "source": [
    "num = 0\n",
    "total = 0\n",
    "\n",
    "while True:\n",
    "    num = input('Enter a number:').lower()\n",
    "    if num == 'add':\n",
    "        break\n",
    "        \n",
    "    total += float(num)\n",
    "\n",
    "print(f'Total number = {total}')"
   ]
  },
  {
   "cell_type": "code",
   "execution_count": null,
   "id": "bc009a57-c82a-423c-81e4-7221a9de7265",
   "metadata": {},
   "outputs": [],
   "source": []
  },
  {
   "cell_type": "code",
   "execution_count": null,
   "id": "31263e08-6eda-4b99-9f16-863362c5db33",
   "metadata": {},
   "outputs": [],
   "source": []
  },
  {
   "cell_type": "markdown",
   "id": "7d43eec7-e637-4850-ba6d-794690fc6899",
   "metadata": {},
   "source": [
    "## Mini Program"
   ]
  },
  {
   "cell_type": "code",
   "execution_count": 1,
   "id": "a66db3d1-93a9-4c20-b023-4dc1171861bd",
   "metadata": {},
   "outputs": [],
   "source": [
    "options = {\n",
    "    0: 'Quit',\n",
    "    1: 'Check if I know you',\n",
    "    2: 'Introduce yourself to me',\n",
    "    3: 'Make me forget you',\n",
    "    4: 'Print a list of people I know   ',\n",
    "}"
   ]
  },
  {
   "cell_type": "code",
   "execution_count": 2,
   "id": "af645cbe-0ed7-4f14-92f9-34977a4fece8",
   "metadata": {},
   "outputs": [],
   "source": [
    "user_list = []"
   ]
  },
  {
   "cell_type": "code",
   "execution_count": 3,
   "id": "aaffca85-232b-4676-bd21-06d8feaa2927",
   "metadata": {},
   "outputs": [],
   "source": [
    "options_list = '\\n'.join([f'{key} \\u2192 {value}' for key, value in options.items()])"
   ]
  },
  {
   "cell_type": "code",
   "execution_count": null,
   "id": "40adc123-e1e3-4d84-8176-ac0babe3b900",
   "metadata": {},
   "outputs": [],
   "source": [
    "option_input = int(input(f'Enter an options from the list:\\n{options_list}\\n'))\n",
    "\n",
    "while True:\n",
    "    if option_input == 0:\n",
    "        print('>>> bye!')\n",
    "        break\n",
    "    \n",
    "    elif option_input == 1:\n",
    "        user_name = input('Pleas enter your name:  ')\n",
    "        if user_name in user_list:\n",
    "            print('I know you! :D')\n",
    "        else:\n",
    "            print(\"I don't know you :/\")\n",
    "            \n",
    "    elif option_input == 2:\n",
    "        user_name = input('Pleas enter your name:  ')\n",
    "        if user_name in user_list:\n",
    "            print('I knew you already ;)')\n",
    "        else:\n",
    "            user_list.append(user_name)\n",
    "            print('Now I know you! :)')\n",
    "\n",
    "    elif option_input == 3:\n",
    "        user_name = input('Pleas enter your name:  ')\n",
    "        if user_name in user_list:\n",
    "            user_list.remove(user_name)\n",
    "            print(\"Now I don't know you... :(\")\n",
    "        else:\n",
    "            print(\"I already didn't know you :)\")\n",
    "            \n",
    "    elif option_input == 4:\n",
    "        print('\\n User Name list \\n','\\n'.join(user_list))\n",
    "            \n",
    "    \n",
    "    option_input  = int(input(f'Enter an options from the list:\\n{options_list}\\n'))\n"
   ]
  },
  {
   "cell_type": "code",
   "execution_count": null,
   "id": "38cf263e-748c-4468-b520-bbec3ea2909a",
   "metadata": {},
   "outputs": [],
   "source": []
  },
  {
   "cell_type": "code",
   "execution_count": null,
   "id": "4f2e51fe-1638-4ea4-aad0-015841bec42f",
   "metadata": {},
   "outputs": [],
   "source": []
  },
  {
   "cell_type": "code",
   "execution_count": null,
   "id": "d1d604da-3335-459f-af7e-31d4b36b7f41",
   "metadata": {},
   "outputs": [],
   "source": []
  },
  {
   "cell_type": "code",
   "execution_count": null,
   "id": "d98c4976-de7a-4b26-8528-f039560123f1",
   "metadata": {},
   "outputs": [],
   "source": [
    "num = 7801\n",
    "r = abs(num)\n",
    "sum_digits = 0\n",
    "sum_digits += r % 10\n",
    "r = r // 10\n",
    "\n",
    "print(num, r, sum_digits)"
   ]
  },
  {
   "cell_type": "code",
   "execution_count": null,
   "id": "7edd811f-5787-4849-898a-45802d93bee7",
   "metadata": {},
   "outputs": [],
   "source": []
  },
  {
   "cell_type": "markdown",
   "id": "83080b17-579c-4183-86e0-a60a8d10bc1f",
   "metadata": {},
   "source": [
    "## My special numbers"
   ]
  },
  {
   "cell_type": "code",
   "execution_count": null,
   "id": "1715322f-83cc-4964-9db4-d6bc74665c29",
   "metadata": {},
   "outputs": [],
   "source": [
    "print('List of numbers divisible by 13')\n",
    "\n",
    "start_number = int(input('from number: '))\n",
    "end_number = int(input('to number: '))\n",
    "                 \n",
    "while True:\n",
    "    if start_number > end_number:\n",
    "        break\n",
    "    \n",
    "    r = abs(start_number)\n",
    "    sum_digits = 0\n",
    "    while r:\n",
    "        sum_digits += r % 10\n",
    "        r = r // 10 \n",
    "        \n",
    "    if sum_digits % 13 == 0:\n",
    "        print(start_number)\n",
    "        \n",
    "    start_number += 1"
   ]
  },
  {
   "cell_type": "code",
   "execution_count": null,
   "id": "b929e85d-0d24-4e58-9505-d5d03e9d9fbf",
   "metadata": {},
   "outputs": [],
   "source": []
  },
  {
   "cell_type": "code",
   "execution_count": null,
   "id": "b056774f-3ca7-4142-b2e8-9f36ca095ca9",
   "metadata": {},
   "outputs": [],
   "source": []
  },
  {
   "cell_type": "code",
   "execution_count": null,
   "id": "44b43895-d17e-4d20-b631-0acfea65cb78",
   "metadata": {},
   "outputs": [],
   "source": []
  },
  {
   "cell_type": "markdown",
   "id": "ce7af82d-9733-4b73-87f3-4d613b92b8e6",
   "metadata": {},
   "source": [
    "## Raise the number to the power of 8\n"
   ]
  },
  {
   "cell_type": "code",
   "execution_count": null,
   "id": "42335b08-011c-46bb-89be-d3f2ea69e196",
   "metadata": {},
   "outputs": [],
   "source": [
    "# Raise the numbers to the power you want\n",
    "\n",
    "number = float(input('Enter a number: '))\n",
    "power = int(input('Enter a power: '))\n",
    "    \n",
    "while number != 0:\n",
    "    result = (number ** power)\n",
    "    print(f'{number} ** {power} = {result}','\\n')\n",
    "    \n",
    "    number = float(input('Enter a number: '))\n",
    "    power = int(input('Enter a power: '))\n",
    "    \n",
    "else:\n",
    "    print('Quit')"
   ]
  },
  {
   "cell_type": "code",
   "execution_count": null,
   "id": "1850e9d5-2edf-45eb-9dc5-b627bd42bc97",
   "metadata": {},
   "outputs": [],
   "source": []
  },
  {
   "cell_type": "code",
   "execution_count": null,
   "id": "1a0cdf97-800b-458e-8021-9ac037896a07",
   "metadata": {},
   "outputs": [],
   "source": []
  },
  {
   "cell_type": "code",
   "execution_count": null,
   "id": "e580079e-e9f4-4ff9-abb3-8a3974de2b89",
   "metadata": {},
   "outputs": [],
   "source": []
  },
  {
   "cell_type": "markdown",
   "id": "12c19404-12e3-442f-b15f-4d6984bbbf82",
   "metadata": {},
   "source": [
    "## Output with desired shape 1"
   ]
  },
  {
   "cell_type": "code",
   "execution_count": 4,
   "id": "de4df81d-814d-48ff-b80f-9dfe78ac3c3d",
   "metadata": {},
   "outputs": [
    {
     "name": "stdout",
     "output_type": "stream",
     "text": [
      "* * * * * * * * * * \n",
      "* * * * * * * * * * \n",
      "* * * * * * * * * * \n",
      "* * * * * * * * * * \n",
      "* * * * * \n",
      "END\n"
     ]
    }
   ],
   "source": [
    "n_rows = 5\n",
    "n_colums = 10\n",
    "\n",
    "current_rows = 1\n",
    "while current_rows <= n_rows:\n",
    "    if current_rows == 5:\n",
    "        n_colums = 5\n",
    "    \n",
    "    current_colums = 1 \n",
    "    while current_colums <= n_colums:\n",
    "        print('*', end=' ' )\n",
    "        current_colums += 1\n",
    "        \n",
    "    print()\n",
    "    current_rows += 1\n",
    "\n",
    "print('END')"
   ]
  },
  {
   "cell_type": "code",
   "execution_count": null,
   "id": "c64c62d3-1429-434b-84fb-cf837b60427c",
   "metadata": {},
   "outputs": [],
   "source": []
  },
  {
   "cell_type": "code",
   "execution_count": null,
   "id": "85591efa-7cf7-4cfc-85a7-38809dcb1c55",
   "metadata": {},
   "outputs": [],
   "source": []
  },
  {
   "cell_type": "code",
   "execution_count": null,
   "id": "5b7cf6a4-a655-4d02-b5cb-bdc0cce6b415",
   "metadata": {},
   "outputs": [],
   "source": []
  },
  {
   "cell_type": "markdown",
   "id": "bc26303d-dcf3-4a0e-a92d-7e1cd1ed02ed",
   "metadata": {},
   "source": [
    "## Output with desired shape 2"
   ]
  },
  {
   "cell_type": "code",
   "execution_count": 5,
   "id": "191f8a5b-5692-427c-b2c7-0e732fa83719",
   "metadata": {},
   "outputs": [
    {
     "name": "stdout",
     "output_type": "stream",
     "text": [
      "* * * * * * * * * * \n",
      "* * * * * * * * * * \n",
      "* * \n",
      "* * \n",
      "* * * * * * * * * * \n",
      "* * * * * * * * * * \n",
      "* * \n",
      "* * \n",
      "* * * * * * * * * * \n",
      "* * * * * * * * * * \n"
     ]
    }
   ],
   "source": [
    "n_rows = 10\n",
    "n_colums = 10\n",
    "\n",
    "current_rows = 0\n",
    "while current_rows < n_rows:\n",
    "    if current_rows == 2:\n",
    "        n_colums = 2\n",
    "    \n",
    "    if current_rows == 4:\n",
    "        n_colums = 10   \n",
    "    \n",
    "    if current_rows == 6:\n",
    "        n_colums = 2\n",
    "        \n",
    "    if current_rows == 8:\n",
    "        n_colums = 10\n",
    "        \n",
    "    current_colums = 0 \n",
    "    while current_colums < n_colums:\n",
    "        print('*', end=' ' )\n",
    "        current_colums += 1\n",
    "        \n",
    "    print()\n",
    "    current_rows += 1\n",
    "    "
   ]
  },
  {
   "cell_type": "code",
   "execution_count": null,
   "id": "70beb102-b9ed-42b4-8d81-52f253de7aff",
   "metadata": {},
   "outputs": [],
   "source": [
    "# solution 2"
   ]
  },
  {
   "cell_type": "code",
   "execution_count": 2,
   "id": "24778c02-fbd4-446e-a56b-34dcfd943e4a",
   "metadata": {},
   "outputs": [
    {
     "name": "stdout",
     "output_type": "stream",
     "text": [
      "* * * * * * * * * * \n",
      "* * * * * * * * * * \n",
      "* * * * * * * * * * \n",
      "* * * \n",
      "* * * \n",
      "* * * \n",
      "* * * * * * * * * * \n",
      "* * * * * * * * * * \n",
      "* * * * * * * * * * \n",
      "* * * \n",
      "* * * \n",
      "* * * \n",
      "* * * * * * * * * * \n",
      "* * * * * * * * * * \n",
      "* * * * * * * * * * \n"
     ]
    }
   ],
   "source": [
    "n_rows = 15\n",
    "n_colums = 10\n",
    "\n",
    "\n",
    "current_rows = 0\n",
    "while current_rows < n_rows:\n",
    "    \n",
    "    if current_rows % 6 in [0, 1, 2]:\n",
    "        n_colums = 10\n",
    "    if current_rows % 6 in [3, 4, 5]:\n",
    "        n_colums = 3\n",
    "        \n",
    "    current_colums = 0\n",
    "    while current_colums < n_colums:\n",
    "        print('*', end=' ')\n",
    "        current_colums += 1\n",
    "    \n",
    "    \n",
    "    print()\n",
    "    current_rows +=1"
   ]
  },
  {
   "cell_type": "code",
   "execution_count": null,
   "id": "4f176a70-2c0c-43e3-979b-a085a824f461",
   "metadata": {},
   "outputs": [],
   "source": [
    "while True:\n",
    "    r = int(input('num'))\n",
    "    a = r % 6\n",
    "    print(a)"
   ]
  },
  {
   "cell_type": "code",
   "execution_count": null,
   "id": "7dc0cca6-6e78-4be4-bcb5-497d987179be",
   "metadata": {},
   "outputs": [],
   "source": []
  },
  {
   "cell_type": "code",
   "execution_count": null,
   "id": "90d195ca-9f5e-4c2b-b4e7-2109f2d01fec",
   "metadata": {},
   "outputs": [],
   "source": []
  },
  {
   "cell_type": "code",
   "execution_count": null,
   "id": "e6fb0e9e-fdbc-497d-821e-65ed18a9b315",
   "metadata": {},
   "outputs": [],
   "source": []
  },
  {
   "cell_type": "code",
   "execution_count": null,
   "id": "71622505-9df1-43b8-b5b5-95ad3885d6d3",
   "metadata": {},
   "outputs": [],
   "source": []
  },
  {
   "cell_type": "markdown",
   "id": "7ae1cde4-0a97-4afa-95a2-54e348103710",
   "metadata": {},
   "source": [
    "\n",
    "\n",
    "## for loop\n",
    "\n"
   ]
  },
  {
   "cell_type": "markdown",
   "id": "09e2b3e5-e78a-40c0-8898-999c98bb37e7",
   "metadata": {},
   "source": [
    "## Multiplication Table"
   ]
  },
  {
   "cell_type": "code",
   "execution_count": null,
   "id": "d2872cf1-6b5f-4644-9693-0dd31360ed38",
   "metadata": {},
   "outputs": [],
   "source": [
    "num_ipt = int(input('which number Multiplication Table?'))  \n",
    "\n",
    "for num_range in range(0, 11):\n",
    "    print(f'{num_ipt} x {num_range}  = {num_ipt * num_range}')"
   ]
  },
  {
   "cell_type": "code",
   "execution_count": null,
   "id": "d7d735aa-3308-49d4-9550-c72e11f31663",
   "metadata": {},
   "outputs": [],
   "source": []
  },
  {
   "cell_type": "code",
   "execution_count": null,
   "id": "f5fa8349-a907-4293-b38f-2be7175ea44d",
   "metadata": {},
   "outputs": [],
   "source": []
  },
  {
   "cell_type": "code",
   "execution_count": null,
   "id": "bf357fec-d5b0-489a-a942-16234ec3efc6",
   "metadata": {},
   "outputs": [],
   "source": []
  },
  {
   "cell_type": "markdown",
   "id": "4ebe58e5-3fd2-416b-86c8-f5dfa59d7cce",
   "metadata": {},
   "source": [
    "## String Repmmresent Integer!"
   ]
  },
  {
   "cell_type": "code",
   "execution_count": 3,
   "id": "38547a16-4265-4fab-b28d-609a0235c6ea",
   "metadata": {},
   "outputs": [
    {
     "ename": "KeyboardInterrupt",
     "evalue": "Interrupted by user",
     "output_type": "error",
     "traceback": [
      "\u001b[0;31m---------------------------------------------------------------------------\u001b[0m",
      "\u001b[0;31mKeyboardInterrupt\u001b[0m                         Traceback (most recent call last)",
      "Input \u001b[0;32mIn [3]\u001b[0m, in \u001b[0;36m<cell line: 1>\u001b[0;34m()\u001b[0m\n\u001b[0;32m----> 1\u001b[0m str_ipt \u001b[38;5;241m=\u001b[39m \u001b[38;5;28;43minput\u001b[39;49m\u001b[43m(\u001b[49m\u001b[38;5;124;43m'\u001b[39;49m\u001b[38;5;124;43minsert a text or number\u001b[39;49m\u001b[38;5;124;43m'\u001b[39;49m\u001b[43m)\u001b[49m\n\u001b[1;32m      2\u001b[0m number \u001b[38;5;241m=\u001b[39m \u001b[38;5;28mset\u001b[39m(\u001b[38;5;124m'\u001b[39m\u001b[38;5;124m0123456789\u001b[39m\u001b[38;5;124m'\u001b[39m)\n\u001b[1;32m      4\u001b[0m \u001b[38;5;28;01mfor\u001b[39;00m txt \u001b[38;5;129;01min\u001b[39;00m str_ipt: \n",
      "File \u001b[0;32m~/anaconda3/envs/py10/lib/python3.10/site-packages/ipykernel/kernelbase.py:1075\u001b[0m, in \u001b[0;36mKernel.raw_input\u001b[0;34m(self, prompt)\u001b[0m\n\u001b[1;32m   1071\u001b[0m \u001b[38;5;28;01mif\u001b[39;00m \u001b[38;5;129;01mnot\u001b[39;00m \u001b[38;5;28mself\u001b[39m\u001b[38;5;241m.\u001b[39m_allow_stdin:\n\u001b[1;32m   1072\u001b[0m     \u001b[38;5;28;01mraise\u001b[39;00m StdinNotImplementedError(\n\u001b[1;32m   1073\u001b[0m         \u001b[38;5;124m\"\u001b[39m\u001b[38;5;124mraw_input was called, but this frontend does not support input requests.\u001b[39m\u001b[38;5;124m\"\u001b[39m\n\u001b[1;32m   1074\u001b[0m     )\n\u001b[0;32m-> 1075\u001b[0m \u001b[38;5;28;01mreturn\u001b[39;00m \u001b[38;5;28;43mself\u001b[39;49m\u001b[38;5;241;43m.\u001b[39;49m\u001b[43m_input_request\u001b[49m\u001b[43m(\u001b[49m\n\u001b[1;32m   1076\u001b[0m \u001b[43m    \u001b[49m\u001b[38;5;28;43mstr\u001b[39;49m\u001b[43m(\u001b[49m\u001b[43mprompt\u001b[49m\u001b[43m)\u001b[49m\u001b[43m,\u001b[49m\n\u001b[1;32m   1077\u001b[0m \u001b[43m    \u001b[49m\u001b[38;5;28;43mself\u001b[39;49m\u001b[38;5;241;43m.\u001b[39;49m\u001b[43m_parent_ident\u001b[49m\u001b[43m[\u001b[49m\u001b[38;5;124;43m\"\u001b[39;49m\u001b[38;5;124;43mshell\u001b[39;49m\u001b[38;5;124;43m\"\u001b[39;49m\u001b[43m]\u001b[49m\u001b[43m,\u001b[49m\n\u001b[1;32m   1078\u001b[0m \u001b[43m    \u001b[49m\u001b[38;5;28;43mself\u001b[39;49m\u001b[38;5;241;43m.\u001b[39;49m\u001b[43mget_parent\u001b[49m\u001b[43m(\u001b[49m\u001b[38;5;124;43m\"\u001b[39;49m\u001b[38;5;124;43mshell\u001b[39;49m\u001b[38;5;124;43m\"\u001b[39;49m\u001b[43m)\u001b[49m\u001b[43m,\u001b[49m\n\u001b[1;32m   1079\u001b[0m \u001b[43m    \u001b[49m\u001b[43mpassword\u001b[49m\u001b[38;5;241;43m=\u001b[39;49m\u001b[38;5;28;43;01mFalse\u001b[39;49;00m\u001b[43m,\u001b[49m\n\u001b[1;32m   1080\u001b[0m \u001b[43m\u001b[49m\u001b[43m)\u001b[49m\n",
      "File \u001b[0;32m~/anaconda3/envs/py10/lib/python3.10/site-packages/ipykernel/kernelbase.py:1120\u001b[0m, in \u001b[0;36mKernel._input_request\u001b[0;34m(self, prompt, ident, parent, password)\u001b[0m\n\u001b[1;32m   1117\u001b[0m             \u001b[38;5;28;01mbreak\u001b[39;00m\n\u001b[1;32m   1118\u001b[0m \u001b[38;5;28;01mexcept\u001b[39;00m \u001b[38;5;167;01mKeyboardInterrupt\u001b[39;00m:\n\u001b[1;32m   1119\u001b[0m     \u001b[38;5;66;03m# re-raise KeyboardInterrupt, to truncate traceback\u001b[39;00m\n\u001b[0;32m-> 1120\u001b[0m     \u001b[38;5;28;01mraise\u001b[39;00m \u001b[38;5;167;01mKeyboardInterrupt\u001b[39;00m(\u001b[38;5;124m\"\u001b[39m\u001b[38;5;124mInterrupted by user\u001b[39m\u001b[38;5;124m\"\u001b[39m) \u001b[38;5;28;01mfrom\u001b[39;00m \u001b[38;5;28mNone\u001b[39m\n\u001b[1;32m   1121\u001b[0m \u001b[38;5;28;01mexcept\u001b[39;00m \u001b[38;5;167;01mException\u001b[39;00m:\n\u001b[1;32m   1122\u001b[0m     \u001b[38;5;28mself\u001b[39m\u001b[38;5;241m.\u001b[39mlog\u001b[38;5;241m.\u001b[39mwarning(\u001b[38;5;124m\"\u001b[39m\u001b[38;5;124mInvalid Message:\u001b[39m\u001b[38;5;124m\"\u001b[39m, exc_info\u001b[38;5;241m=\u001b[39m\u001b[38;5;28;01mTrue\u001b[39;00m)\n",
      "\u001b[0;31mKeyboardInterrupt\u001b[0m: Interrupted by user"
     ]
    }
   ],
   "source": [
    "str_ipt = input('insert a text or number')\n",
    "number = set('0123456789')\n",
    "\n",
    "for txt in str_ipt: \n",
    "    if txt not in number:\n",
    "        print(f'{txt} is a string')\n",
    "        break\n",
    "\n",
    "        \n",
    "else:\n",
    "    print(f'{str_ipt} is a number')\n",
    "    \n",
    "    \n"
   ]
  },
  {
   "cell_type": "code",
   "execution_count": null,
   "id": "4bbf5c2c-742f-4a8f-887a-502ec91241a4",
   "metadata": {},
   "outputs": [],
   "source": []
  },
  {
   "cell_type": "code",
   "execution_count": null,
   "id": "f5687599-a947-4a2f-8248-96c081c5778b",
   "metadata": {},
   "outputs": [],
   "source": []
  },
  {
   "cell_type": "code",
   "execution_count": null,
   "id": "06b1bc94-badb-448c-8552-b4064e0b3e45",
   "metadata": {},
   "outputs": [],
   "source": []
  },
  {
   "cell_type": "markdown",
   "id": "d7c0529e-ce32-4d4d-a83b-5178c86909e3",
   "metadata": {},
   "source": [
    "## Find Perfect Numbers"
   ]
  },
  {
   "cell_type": "code",
   "execution_count": null,
   "id": "f9d19bc3-db05-44fd-9cc8-04ea37336c52",
   "metadata": {},
   "outputs": [],
   "source": [
    "divisors = []\n",
    "num_input = int(input(\"Enter a number:\"))\n",
    "\n",
    "for num in range(1, num_input // 2 + 1):\n",
    "    if num_input % num == 0:\n",
    "        divisors.append(num)\n",
    "         \n",
    "print(f'Divisors of the number {num_input} = {divisors}')\n",
    "\n",
    "sum_divisors = 0\n",
    "for div in divisors:\n",
    "    sum_divisors += div\n",
    "\n",
    "if sum_divisors == num_input:\n",
    "    print(f\"\"\"\n",
    "    The sum of the divisors of {num_input} is {sum_divisors}\n",
    "    \\u2192 {num_input} is a Perfect Numbers\n",
    "    \"\"\")\n",
    "else:\n",
    "    print(f\"\"\"\n",
    "    The sum of the divisors of {num_input} is {sum_divisors}\n",
    "    \\u2192 {num_input} is NOT a Perfect Numbers\n",
    "    \"\"\")\n",
    "    "
   ]
  },
  {
   "cell_type": "code",
   "execution_count": null,
   "id": "fe6d8d1b-aac6-4754-bcd2-283aa731ce84",
   "metadata": {},
   "outputs": [],
   "source": []
  },
  {
   "cell_type": "code",
   "execution_count": null,
   "id": "eb4995b7-b8a5-4588-977e-b36483187b39",
   "metadata": {},
   "outputs": [],
   "source": []
  },
  {
   "cell_type": "code",
   "execution_count": null,
   "id": "36b665ae-fcb1-4a7f-adaa-d47a0483aaf7",
   "metadata": {},
   "outputs": [],
   "source": []
  },
  {
   "cell_type": "markdown",
   "id": "f0565e91-52b0-48c4-bd07-c785070c6f43",
   "metadata": {},
   "source": [
    "## Fibonacci Series"
   ]
  },
  {
   "cell_type": "code",
   "execution_count": null,
   "id": "ac51f2fc-fb31-4dc9-87d3-d89384df73f5",
   "metadata": {},
   "outputs": [],
   "source": [
    "n1, n2 = 0, 1\n",
    "for i in range(10):\n",
    "    \n",
    "    # print next number of a series\n",
    "    print(n1, end=' ')\n",
    "    \n",
    "    # add last two numbers to get next number\n",
    "    n3 = n1 + n2\n",
    "    \n",
    "    # update values \n",
    "    n1 = n2\n",
    "    n2 = n3\n",
    "    "
   ]
  },
  {
   "cell_type": "code",
   "execution_count": null,
   "id": "84dd18ee-2074-4259-9bbd-f0d729e7fce5",
   "metadata": {},
   "outputs": [],
   "source": []
  },
  {
   "cell_type": "code",
   "execution_count": null,
   "id": "b3acc39f-51e0-43d7-8802-6ce2960cadae",
   "metadata": {},
   "outputs": [],
   "source": []
  },
  {
   "cell_type": "code",
   "execution_count": null,
   "id": "6340f42f-e8f9-467b-9601-174823550056",
   "metadata": {},
   "outputs": [],
   "source": []
  },
  {
   "cell_type": "markdown",
   "id": "c9e7582e-7057-4ac0-af90-1b5cc6c7cb39",
   "metadata": {},
   "source": [
    "## Loop entertainment 1"
   ]
  },
  {
   "cell_type": "code",
   "execution_count": null,
   "id": "ee5c879d-a4d3-4c9e-8d81-975eca241e04",
   "metadata": {},
   "outputs": [],
   "source": [
    "n = 6\n",
    "for i in range(n):\n",
    "    print((n - i)* ' ', (str(n) + ' ') * i)\n"
   ]
  },
  {
   "cell_type": "code",
   "execution_count": null,
   "id": "c1aa74a5-80a8-45da-ac70-059aae394502",
   "metadata": {},
   "outputs": [],
   "source": [
    "n = 6\n",
    "for i in range(n):\n",
    "    x = (n - i) ** i\n",
    "    print((n - i)* ' ', (str(n) + ' ') * i)"
   ]
  },
  {
   "cell_type": "code",
   "execution_count": null,
   "id": "877ad5b2-c3bf-4d65-8ab6-69d39ec931a7",
   "metadata": {},
   "outputs": [],
   "source": [
    "n = 6\n",
    "for i in range(n):\n",
    "    print(n - i)"
   ]
  },
  {
   "cell_type": "code",
   "execution_count": null,
   "id": "a30df219-3c34-421d-bc25-d0acdde3d5d2",
   "metadata": {},
   "outputs": [],
   "source": []
  },
  {
   "cell_type": "code",
   "execution_count": null,
   "id": "753e21dd-eadb-467b-83c7-3d205366f181",
   "metadata": {},
   "outputs": [],
   "source": []
  },
  {
   "cell_type": "code",
   "execution_count": null,
   "id": "895966ac-d87f-4746-b538-85d46c299a29",
   "metadata": {},
   "outputs": [],
   "source": [
    "mystring = \"Ardashir was son of Papak\"\n",
    "count = 0\n",
    "char = input('name')\n",
    "\n",
    "for i in mystring:\n",
    "    if i == char:   \n",
    "        print(f'{char} \\u2192 {count}') \n",
    "   \n",
    "    count += 1 \n",
    "    print(f'{count} \\u2192 {i}')\n",
    "    \n",
    "    "
   ]
  },
  {
   "cell_type": "code",
   "execution_count": null,
   "id": "8cf14414-b3ec-4368-afcd-c3689bd68b25",
   "metadata": {},
   "outputs": [],
   "source": []
  },
  {
   "cell_type": "code",
   "execution_count": null,
   "id": "35c8ea9b-5dad-4a51-a90f-70d8a682a437",
   "metadata": {},
   "outputs": [],
   "source": []
  },
  {
   "cell_type": "code",
   "execution_count": null,
   "id": "00a067e9-7d4f-422e-bccc-b99406a31555",
   "metadata": {},
   "outputs": [],
   "source": []
  },
  {
   "cell_type": "code",
   "execution_count": null,
   "id": "e303ee54-9620-4a4a-9ba4-2b1a04660c42",
   "metadata": {},
   "outputs": [],
   "source": []
  },
  {
   "cell_type": "code",
   "execution_count": null,
   "id": "4cc1ad51-4f48-48fb-b831-4b3b561e04d2",
   "metadata": {},
   "outputs": [],
   "source": []
  },
  {
   "cell_type": "markdown",
   "id": "0b5e943b-5850-4525-b8a5-52d49ce7c507",
   "metadata": {},
   "source": [
    "## comprehension"
   ]
  },
  {
   "cell_type": "code",
   "execution_count": null,
   "id": "dfc840fa-4401-4f26-a68c-eac95f35b86c",
   "metadata": {},
   "outputs": [],
   "source": []
  },
  {
   "cell_type": "markdown",
   "id": "767d0b66-5c20-42b5-87b2-4e7466d33d85",
   "metadata": {},
   "source": [
    "## lazy Students"
   ]
  },
  {
   "cell_type": "code",
   "execution_count": null,
   "id": "0276386f-4d2b-48a2-9918-bba5d2eaa4a6",
   "metadata": {},
   "outputs": [],
   "source": [
    "stu_grades = {\n",
    "    \"Sina\": 10,\n",
    "    \"Amir\": 20, \n",
    "    \"Elham\": 17, \n",
    "    \"Mahtab\": 9, \n",
    "    \"Hossein\": 20, \n",
    "    \"Fateme\": 15.75, \n",
    "    \"Elnaz\": 16.2 , \n",
    "    \"Ahmad\": 18.5\n",
    "}"
   ]
  },
  {
   "cell_type": "code",
   "execution_count": null,
   "id": "aadcbc34-5969-4cb9-b5d3-7bbdad06d189",
   "metadata": {},
   "outputs": [],
   "source": [
    "lazy_students= [key.upper() for key, value in stu_grades.items() if value <= 16]"
   ]
  },
  {
   "cell_type": "code",
   "execution_count": null,
   "id": "86cdcac4-8be4-46a7-90d5-de9a847a0fa5",
   "metadata": {},
   "outputs": [],
   "source": [
    "print(lazy_students)"
   ]
  },
  {
   "cell_type": "code",
   "execution_count": null,
   "id": "93ba59d0-1533-4d8f-a810-013e72bf1f8d",
   "metadata": {},
   "outputs": [],
   "source": []
  },
  {
   "cell_type": "code",
   "execution_count": null,
   "id": "63e44e62-0315-4745-a187-9b4cac315aee",
   "metadata": {},
   "outputs": [],
   "source": []
  },
  {
   "cell_type": "code",
   "execution_count": null,
   "id": "36de9308-8976-44a9-a9b1-c3ad8a1106d0",
   "metadata": {},
   "outputs": [],
   "source": []
  },
  {
   "cell_type": "markdown",
   "id": "a192f79c-3b84-4d37-8cef-73a8bb542146",
   "metadata": {},
   "source": [
    "## Square List"
   ]
  },
  {
   "cell_type": "code",
   "execution_count": null,
   "id": "2353082e-1bff-4f30-ae46-f6bd9a5979ed",
   "metadata": {},
   "outputs": [],
   "source": [
    "lst1 = [2, 4, 6, 8, 10, 12, 14]"
   ]
  },
  {
   "cell_type": "code",
   "execution_count": null,
   "id": "627cdac2-1ad2-4407-b436-b9baddaf65c5",
   "metadata": {},
   "outputs": [],
   "source": [
    "square_list = [i ** 2 for i in lst1 if i ** 2 > 50]\n",
    "\n",
    "num_list = [i for i in lst1 if i ** 2 > 50]\n",
    "    \n",
    "    \n",
    "print(f'{num_list} \\u2194 {square_list}')"
   ]
  },
  {
   "cell_type": "code",
   "execution_count": null,
   "id": "a443949d-4fe6-47cd-8d9b-f0dfe59c1d35",
   "metadata": {},
   "outputs": [],
   "source": []
  },
  {
   "cell_type": "code",
   "execution_count": null,
   "id": "40472a6c-4b86-4b7a-bf0e-809c6af69130",
   "metadata": {},
   "outputs": [],
   "source": []
  },
  {
   "cell_type": "code",
   "execution_count": null,
   "id": "b76a701d-1a73-4fa9-8e9e-6a44e92bc6d3",
   "metadata": {},
   "outputs": [],
   "source": []
  },
  {
   "cell_type": "markdown",
   "id": "9adc16f5-d1c4-4b81-aa74-5fdb834d4fc8",
   "metadata": {},
   "source": [
    "## Remove Floats"
   ]
  },
  {
   "cell_type": "code",
   "execution_count": null,
   "id": "597a8b6d-31fb-4bae-acc3-91a81e72c913",
   "metadata": {},
   "outputs": [],
   "source": [
    "original_list = [2, 3.75, 0.04, 59.354, 6, 7.7777, 8, 9]"
   ]
  },
  {
   "cell_type": "code",
   "execution_count": null,
   "id": "dbbbfa08-8ee2-4ee1-98cf-167283836325",
   "metadata": {},
   "outputs": [],
   "source": [
    "# int_list = [i for i in original_list if type(i) == int]\n",
    "\n",
    "int_list = [i for i in original_list if i % 1 == 0 ]\n",
    "\n",
    "print(int_list)\n",
    "    "
   ]
  },
  {
   "cell_type": "code",
   "execution_count": null,
   "id": "6a4d6b26-7c45-4c61-976d-842ed7d596e2",
   "metadata": {},
   "outputs": [],
   "source": []
  },
  {
   "cell_type": "code",
   "execution_count": null,
   "id": "fa013ae5-7ee4-4d08-8611-37f5994b103b",
   "metadata": {},
   "outputs": [],
   "source": []
  },
  {
   "cell_type": "code",
   "execution_count": null,
   "id": "3bae033b-b396-4933-9b28-9de089513b3f",
   "metadata": {},
   "outputs": [],
   "source": [
    "‍"
   ]
  },
  {
   "cell_type": "markdown",
   "id": "f9bebb23-a263-45f5-879c-746f0012daf3",
   "metadata": {},
   "source": [
    "## Count Spaces"
   ]
  },
  {
   "cell_type": "code",
   "execution_count": null,
   "id": "fdde194a-dbfd-4593-9fb7-37a27eef2598",
   "metadata": {},
   "outputs": [],
   "source": [
    "string = \"Pytopia is an online learning and teaching marketplace for Data Science. Taught by experts to help you acquire new skills.\""
   ]
  },
  {
   "cell_type": "code",
   "execution_count": null,
   "id": "62627348-5dde-46a4-97eb-98ad813afecb",
   "metadata": {},
   "outputs": [],
   "source": [
    "space = [char for char in string if char == ' ']"
   ]
  },
  {
   "cell_type": "code",
   "execution_count": null,
   "id": "33edc4b0-d50c-491e-aae5-ee280a5a048e",
   "metadata": {},
   "outputs": [],
   "source": [
    "len(space)"
   ]
  },
  {
   "cell_type": "code",
   "execution_count": null,
   "id": "b834996d-86e6-46f5-9a35-75468324d05a",
   "metadata": {},
   "outputs": [],
   "source": []
  },
  {
   "cell_type": "code",
   "execution_count": null,
   "id": "6cfe2c06-440a-4f37-9565-f2f9427e998d",
   "metadata": {},
   "outputs": [],
   "source": [
    "count = 0\n",
    "char = input('name')\n",
    "\n",
    "for i in char:\n",
    "    \n",
    "    count += 1 \n",
    "    print(f'{count} \\u2192 {i}')\n",
    "    \n",
    "        "
   ]
  },
  {
   "cell_type": "code",
   "execution_count": null,
   "id": "9577e4fa-a7ce-4b4e-8611-7cce2251782a",
   "metadata": {},
   "outputs": [],
   "source": []
  },
  {
   "cell_type": "code",
   "execution_count": null,
   "id": "f573bd55-ee3f-4353-ad26-e21eeef1a8b5",
   "metadata": {},
   "outputs": [],
   "source": []
  },
  {
   "cell_type": "code",
   "execution_count": null,
   "id": "6079b9c0-9b02-4b94-bab8-9b399aaa1fcc",
   "metadata": {},
   "outputs": [],
   "source": []
  },
  {
   "cell_type": "markdown",
   "id": "b51c9fd7-3982-4a9c-b097-790bf062a2a3",
   "metadata": {},
   "source": [
    "## Nested List Comprehension"
   ]
  },
  {
   "cell_type": "code",
   "execution_count": null,
   "id": "08a4a29e-652d-4d51-a53f-74f6c68f0792",
   "metadata": {},
   "outputs": [],
   "source": [
    "num_digit = [num for num in range(1, 101) for digit in range(2, 10) if num % digit == 0]\n",
    "\n",
    "set_num_digit = set(num_digit)\n",
    "\n",
    "print(set_num_digit)"
   ]
  },
  {
   "cell_type": "code",
   "execution_count": null,
   "id": "5e264cd2-b3f8-4096-b2e2-3f18b0b3babd",
   "metadata": {},
   "outputs": [],
   "source": [
    "# solution 2\n",
    "set_num_digit = set()\n",
    "for num in range(1, 101):\n",
    "    for digit in range(2, 10):\n",
    "        if num % digit == 0:\n",
    "            set_num_digit.add(num)\n",
    "\n",
    "\n",
    "print(set_num_digit)"
   ]
  },
  {
   "cell_type": "code",
   "execution_count": null,
   "id": "9485901d-1db3-47f1-b204-dd03244205c6",
   "metadata": {},
   "outputs": [],
   "source": []
  },
  {
   "cell_type": "code",
   "execution_count": null,
   "id": "8dc8df87-c3db-498e-b9eb-74d1f1dafd2e",
   "metadata": {},
   "outputs": [],
   "source": []
  },
  {
   "cell_type": "code",
   "execution_count": null,
   "id": "178e1950-d9da-4fb3-9491-b8e09a274f74",
   "metadata": {},
   "outputs": [],
   "source": []
  },
  {
   "cell_type": "markdown",
   "id": "637c7794-02ee-464d-bd2a-e6aa774c6c07",
   "metadata": {},
   "source": [
    "## Short Words\n"
   ]
  },
  {
   "cell_type": "code",
   "execution_count": null,
   "id": "cb6a0644-27bd-4f47-9b28-464b38245570",
   "metadata": {},
   "outputs": [],
   "source": [
    "string = '''\n",
    "Pytopia is a Online learning and\n",
    "teaching marketplace for Data Science.\n",
    "Taught by experts to help you acquire new skills.\n",
    "'''"
   ]
  },
  {
   "cell_type": "code",
   "execution_count": null,
   "id": "4ea9d2be-3707-4246-a26d-ee380e6c2e23",
   "metadata": {},
   "outputs": [],
   "source": [
    "# The split() method splits a string into a list.\n",
    "# You can specify the separator\n",
    "# default separator is any whitespace.\n",
    "\n",
    "words = string.split(\" \")\n",
    "short_word = [word for word in words if len(word) < 5]\n",
    "\n",
    "print(short_word)"
   ]
  },
  {
   "cell_type": "code",
   "execution_count": null,
   "id": "904bb54d-593b-4700-840d-488f7d3ae14a",
   "metadata": {},
   "outputs": [],
   "source": []
  },
  {
   "cell_type": "code",
   "execution_count": null,
   "id": "c7574bfb-c44d-4994-80ee-fcbf52112278",
   "metadata": {},
   "outputs": [],
   "source": []
  },
  {
   "cell_type": "code",
   "execution_count": null,
   "id": "a4022e87-10ee-4665-abee-a04754ca91df",
   "metadata": {},
   "outputs": [],
   "source": []
  },
  {
   "cell_type": "markdown",
   "id": "fcdb2c18-3a51-457c-b8f1-7c7d1c767477",
   "metadata": {},
   "source": [
    "## Filtering List Index\n"
   ]
  },
  {
   "cell_type": "code",
   "execution_count": null,
   "id": "c53ba4ae-e87a-4063-a760-fd25c9ad4110",
   "metadata": {},
   "outputs": [],
   "source": [
    "numbers = [12,24,35,70,88,120,155]"
   ]
  },
  {
   "cell_type": "code",
   "execution_count": null,
   "id": "43bd76a0-8c15-4d97-b9c9-04d9800fba86",
   "metadata": {},
   "outputs": [],
   "source": [
    "\n",
    "filtered_list = num\n",
    "[num for ind, num in enumerate(numbers) if ind not in [0, 4, 5]]"
   ]
  },
  {
   "cell_type": "code",
   "execution_count": null,
   "id": "2a4ff99c-65c3-42af-addd-07b2dc209d85",
   "metadata": {},
   "outputs": [],
   "source": []
  },
  {
   "cell_type": "code",
   "execution_count": null,
   "id": "0eb8de79-c993-41d4-a2b3-a5e8504e74f1",
   "metadata": {},
   "outputs": [],
   "source": []
  },
  {
   "cell_type": "code",
   "execution_count": null,
   "id": "fab722dd-e355-4b99-93cc-e9519ec487b5",
   "metadata": {},
   "outputs": [],
   "source": []
  },
  {
   "cell_type": "markdown",
   "id": "f4c2465c-b03e-438e-adb2-b29b1dcd9e3d",
   "metadata": {},
   "source": [
    "## A list of relatively old singers"
   ]
  },
  {
   "cell_type": "code",
   "execution_count": null,
   "id": "6be46a93-c7ae-4a69-a51e-3e7ff180f6b2",
   "metadata": {},
   "outputs": [],
   "source": [
    "persons = {\n",
    "    \"Paul David Hewson\" : (61, \"Ireland\"),\n",
    "    \"Saeed Mohammadi\" : (63, \"Iran\"),\n",
    "    \"Alla Borisovna Pugacheva\" : (77, \"Russia\"),\n",
    "    \"David Jon Gilmour\" : (75, \"United Kingdom\"),\n",
    "    \"Aryana Sayeed\" : (36, \"Afghanistan\"),\n",
    "    \"Céline Marie Claudette Dion\" : (53, \"Canad\"),\n",
    "    \"Caetano Emanuel Viana Telles Veloso\" : (79, \"Brazil\"),\n",
    "}"
   ]
  },
  {
   "cell_type": "code",
   "execution_count": null,
   "id": "fa0d4519-009c-4289-ad8d-ba7ba968b6a5",
   "metadata": {},
   "outputs": [],
   "source": [
    "[p for p, info in persons.items() if 50 < info[0] < 70 ]"
   ]
  },
  {
   "cell_type": "code",
   "execution_count": null,
   "id": "37394e7c-38a0-45d4-837b-31ac3429dd91",
   "metadata": {},
   "outputs": [],
   "source": []
  },
  {
   "cell_type": "code",
   "execution_count": null,
   "id": "7e278b58-e55e-42ab-9cd9-f597b57823e1",
   "metadata": {},
   "outputs": [],
   "source": []
  },
  {
   "cell_type": "code",
   "execution_count": null,
   "id": "412f872f-e110-4bb0-b108-6ed4094f0d70",
   "metadata": {},
   "outputs": [],
   "source": []
  },
  {
   "cell_type": "markdown",
   "id": "920d5951-edaa-49d9-b023-208a50582f34",
   "metadata": {},
   "source": [
    "## Swap the keys and values\n"
   ]
  },
  {
   "cell_type": "code",
   "execution_count": 5,
   "id": "dda54507-c188-4156-b280-21cedf393e7b",
   "metadata": {},
   "outputs": [],
   "source": [
    "x = {\"BTCUSDT\": 66678, \"LINKUSDT\": 35.8, \"ADAUSDT\": 2.166,}"
   ]
  },
  {
   "cell_type": "code",
   "execution_count": 6,
   "id": "ba4275a2-aeb0-4f92-91b5-e2acff711f3f",
   "metadata": {},
   "outputs": [
    {
     "name": "stdout",
     "output_type": "stream",
     "text": [
      "{66678: 'BTCUSDT', 35.8: 'LINKUSDT', 2.166: 'ADAUSDT'}\n"
     ]
    }
   ],
   "source": [
    "new_x = {value: key for key, value in x.items()}\n",
    "\n",
    "print(new_x)"
   ]
  },
  {
   "cell_type": "code",
   "execution_count": null,
   "id": "a431a13d-db8e-4677-9dde-b80ea7facd43",
   "metadata": {},
   "outputs": [],
   "source": []
  },
  {
   "cell_type": "code",
   "execution_count": 9,
   "id": "807e9bee-7b72-4242-9ddd-bd344e1b4457",
   "metadata": {},
   "outputs": [
    {
     "name": "stdout",
     "output_type": "stream",
     "text": [
      "weel is ali mean\n"
     ]
    }
   ],
   "source": [
    "print('{fact} is {name} mean'.format(name=\"ali\", fact=\"weel\"))"
   ]
  },
  {
   "cell_type": "code",
   "execution_count": null,
   "id": "88d5e216-b4a7-49a6-8612-52725e7ed290",
   "metadata": {},
   "outputs": [],
   "source": []
  },
  {
   "cell_type": "code",
   "execution_count": null,
   "id": "d5546af4-6e61-477f-b79e-56bb69198ec9",
   "metadata": {},
   "outputs": [],
   "source": []
  },
  {
   "cell_type": "code",
   "execution_count": null,
   "id": "c6bc26c4-27f5-4803-8e3d-190ae37f1fad",
   "metadata": {},
   "outputs": [],
   "source": []
  },
  {
   "cell_type": "code",
   "execution_count": null,
   "id": "c74fe2d1-08e4-49cd-8cd4-608369fa2e2c",
   "metadata": {},
   "outputs": [],
   "source": []
  },
  {
   "cell_type": "markdown",
   "id": "90bad828-af70-4dab-9fbd-cfc2057b4910",
   "metadata": {},
   "source": [
    "## Strin mg Formatting & F-String"
   ]
  },
  {
   "cell_type": "code",
   "execution_count": null,
   "id": "6a117811-80b0-426f-89e4-18b4fe6258b6",
   "metadata": {},
   "outputs": [],
   "source": []
  },
  {
   "cell_type": "markdown",
   "id": "613c000d-3d30-46ed-bda1-c7790877bebf",
   "metadata": {},
   "source": [
    "## Separate the element in the output"
   ]
  },
  {
   "cell_type": "code",
   "execution_count": 15,
   "id": "87eeea74-b832-4bdf-beeb-11b40c6a1941",
   "metadata": {},
   "outputs": [],
   "source": [
    "iran_girls = ['Nika', 'Hadis', 'Mahsa', 'Sarina']"
   ]
  },
  {
   "cell_type": "code",
   "execution_count": 22,
   "id": "5248993e-3ac8-41e5-b03c-3ba8522d4950",
   "metadata": {},
   "outputs": [
    {
     "name": "stdout",
     "output_type": "stream",
     "text": [
      "Nika-~-Hadis-~-Mahsa-~-Sarina\n"
     ]
    }
   ],
   "source": [
    "# solution 1\n",
    "# unpacing (*)\n",
    "\n",
    "print(*iran_girls , sep='-~-')"
   ]
  },
  {
   "cell_type": "code",
   "execution_count": 18,
   "id": "5d80acd3-4f13-4156-afb3-e07cc169e7d9",
   "metadata": {},
   "outputs": [
    {
     "name": "stdout",
     "output_type": "stream",
     "text": [
      "Nika-~-Hadis-~-Mahsa-~-Sarina\n"
     ]
    }
   ],
   "source": [
    "# solution 2\n",
    "\n",
    "print('Nika', 'Hadis', 'Mahsa', 'Sarina', sep='-~-')"
   ]
  },
  {
   "cell_type": "code",
   "execution_count": 95,
   "id": "aab4a8f0-868f-4e2e-9bcd-c4aa4b61a929",
   "metadata": {},
   "outputs": [
    {
     "name": "stdout",
     "output_type": "stream",
     "text": [
      "Nika-~-Hadis-~-Mahsa-~-Sarina\n"
     ]
    }
   ],
   "source": [
    "# solution 3\n",
    "\n",
    "print('-~-'.join(iran_girls))"
   ]
  },
  {
   "cell_type": "code",
   "execution_count": null,
   "id": "95d339eb-6ad1-43b5-8de4-df9c430baeba",
   "metadata": {},
   "outputs": [],
   "source": []
  },
  {
   "cell_type": "code",
   "execution_count": null,
   "id": "4bd46a11-9a30-47c3-8768-eb8e311ce0f1",
   "metadata": {},
   "outputs": [],
   "source": []
  },
  {
   "cell_type": "markdown",
   "id": "b88e1b71-c010-400b-ac74-4f2dced14fa8",
   "metadata": {},
   "source": [
    "## New line at the end"
   ]
  },
  {
   "cell_type": "code",
   "execution_count": 23,
   "id": "bb1ab975-d1a1-4a8e-9aa2-bd40772af516",
   "metadata": {},
   "outputs": [],
   "source": [
    "girls = ['Nika', 15, 'Iran']"
   ]
  },
  {
   "cell_type": "code",
   "execution_count": 25,
   "id": "55ef5380-9ed1-41bd-8923-75a7a09089a2",
   "metadata": {},
   "outputs": [
    {
     "name": "stdout",
     "output_type": "stream",
     "text": [
      "Nika\n",
      "----\n",
      "15\n",
      "----\n",
      "Iran\n"
     ]
    }
   ],
   "source": [
    "# solution 1\n",
    "\n",
    "print(*girls, sep='\\n----\\n')"
   ]
  },
  {
   "cell_type": "code",
   "execution_count": 28,
   "id": "3b02a868-cb18-4c30-844e-c2495dd9f237",
   "metadata": {},
   "outputs": [
    {
     "name": "stdout",
     "output_type": "stream",
     "text": [
      "Nika\n",
      "----\n",
      "15\n",
      "----\n",
      "Iran\n",
      "----\n"
     ]
    }
   ],
   "source": [
    "# solution 2\n",
    "\n",
    "print(girls[0], end='\\n----\\n')\n",
    "print(girls[1], end='\\n----\\n')\n",
    "print(girls[2], end='\\n----\\n')"
   ]
  },
  {
   "cell_type": "code",
   "execution_count": 32,
   "id": "b26e304e-6f14-48ff-b619-6c378841e144",
   "metadata": {},
   "outputs": [
    {
     "name": "stdout",
     "output_type": "stream",
     "text": [
      "Nika\n",
      "----\n",
      "15\n",
      "----\n",
      "Iran\n",
      "----\n"
     ]
    }
   ],
   "source": [
    "# solution 4\n",
    "\n",
    "for g in girls:\n",
    "    print(g, end='\\n----\\n')"
   ]
  },
  {
   "cell_type": "code",
   "execution_count": null,
   "id": "17df0923-639b-4836-8083-516032c3e915",
   "metadata": {},
   "outputs": [],
   "source": [
    "\n"
   ]
  },
  {
   "cell_type": "code",
   "execution_count": null,
   "id": "1c4ef81d-4f84-4b88-9869-f908889501b4",
   "metadata": {},
   "outputs": [],
   "source": []
  },
  {
   "cell_type": "code",
   "execution_count": null,
   "id": "b5636c2d-6cdd-4f12-a0f2-5d9b571bd822",
   "metadata": {},
   "outputs": [],
   "source": []
  },
  {
   "cell_type": "markdown",
   "id": "0852361b-8aed-4470-bd2f-1d61a26a3517",
   "metadata": {},
   "source": [
    "## Welcome to this program"
   ]
  },
  {
   "cell_type": "code",
   "execution_count": 38,
   "id": "4b7203e1-9928-45e1-b7b7-2bd5157d99c0",
   "metadata": {},
   "outputs": [
    {
     "name": "stdin",
     "output_type": "stream",
     "text": [
      "Please write your name: reza\n"
     ]
    },
    {
     "name": "stdout",
     "output_type": "stream",
     "text": [
      "Hi reza, Welcome to this program\n"
     ]
    }
   ],
   "source": [
    "user_name = input('Please write your name:')\n",
    "print('Hi {}, Welcome to this program'.format(user_name))"
   ]
  },
  {
   "cell_type": "code",
   "execution_count": null,
   "id": "6c2c7125-d606-4486-9aed-9e1153f6eaad",
   "metadata": {},
   "outputs": [],
   "source": []
  },
  {
   "cell_type": "code",
   "execution_count": null,
   "id": "503e560b-cdfd-4a05-8568-7456aa311c6e",
   "metadata": {},
   "outputs": [],
   "source": []
  },
  {
   "cell_type": "code",
   "execution_count": null,
   "id": "a4bba2dd-ff49-475c-8389-21b67f9f1546",
   "metadata": {},
   "outputs": [],
   "source": []
  },
  {
   "cell_type": "markdown",
   "id": "ac6a868e-101d-4942-8f2a-9cb0392d8ee6",
   "metadata": {},
   "source": [
    "## Format string using positional indexing"
   ]
  },
  {
   "cell_type": "code",
   "execution_count": 52,
   "id": "837628b8-d550-4000-9e62-4b8a1c5a3a05",
   "metadata": {},
   "outputs": [],
   "source": [
    "mytuple = (\"Darroudi\", \"Surrealist\", \"Miami\", \"1958\", \"Florida State Art Center\")\n"
   ]
  },
  {
   "cell_type": "code",
   "execution_count": 53,
   "id": "c6b8e20b-eb14-4a76-8b3d-e3b23c0cd9f4",
   "metadata": {},
   "outputs": [],
   "source": [
    "mytext= \"{}’s paintings are defined as {} works. She was able to combine\\n\" \\\n",
    "        \"the delicacy and romantic spirit of Persian paintings with the elements of \\n\" \\\n",
    "        \"Surrealism.Darroudi's first solo exhibition was held in {}, Miami-Dade County, \\n\" \\\n",
    "        \"Florida, in {} at the invitation of the {}.\".format(*mytuple)"
   ]
  },
  {
   "cell_type": "code",
   "execution_count": 54,
   "id": "8c83b980-3619-41d1-b75c-473698379cd7",
   "metadata": {},
   "outputs": [
    {
     "name": "stdout",
     "output_type": "stream",
     "text": [
      "Darroudi’s paintings are defined as Surrealist works. She was able to combine\n",
      "the delicacy and romantic spirit of Persian paintings with the elements of \n",
      "Surrealism.Darroudi's first solo exhibition was held in Miami, Miami-Dade County, \n",
      "Florida, in 1958 at the invitation of the Florida State Art Center.\n"
     ]
    }
   ],
   "source": [
    "# solution 1\n",
    "\n",
    "print(mytext)"
   ]
  },
  {
   "cell_type": "code",
   "execution_count": 58,
   "id": "f31e922b-881f-4455-998c-f0023b65eacd",
   "metadata": {},
   "outputs": [],
   "source": [
    "# solution 2\n",
    "\n",
    "mytext = \"{name}’s paintings are defined as {style} works. She was able to combine\\n\" \\\n",
    "        \"the delicacy and romantic spirit of Persian paintings with the elements of \\n\" \\\n",
    "        \"Surrealism.Darroudi's first solo exhibition was held in {city}, Miami-Dade County, \\n\" \\\n",
    "        \"Florida, in {year} at the invitation of the {location}.\".format(\n",
    "    name=mytuple[0],\n",
    "    style=mytuple[1],\n",
    "    city=mytuple[2],\n",
    "    year=mytuple[3],\n",
    "    location=mytuple[4]\n",
    ")\n"
   ]
  },
  {
   "cell_type": "code",
   "execution_count": 57,
   "id": "11a28f9e-8a99-4c71-9cf0-fd25cb81cbdf",
   "metadata": {},
   "outputs": [
    {
     "name": "stdout",
     "output_type": "stream",
     "text": [
      "Darroudi’s paintings are defined as Surrealist works. She was able to combine\n",
      "the delicacy and romantic spirit of Persian paintings with the elements of \n",
      "Surrealism.Darroudi's first solo exhibition was held in Miami, Miami-Dade County, \n",
      "Florida, in 1958 at the invitation of the Florida State Art Center.\n"
     ]
    }
   ],
   "source": [
    "print(mytext)"
   ]
  },
  {
   "cell_type": "code",
   "execution_count": null,
   "id": "4c55aa46-288c-453c-b33e-4399a32507fb",
   "metadata": {},
   "outputs": [],
   "source": []
  },
  {
   "cell_type": "code",
   "execution_count": null,
   "id": "14395eb6-742e-442f-a729-3de689da4a59",
   "metadata": {},
   "outputs": [],
   "source": []
  },
  {
   "cell_type": "code",
   "execution_count": null,
   "id": "7f3bb1fb-73e0-4990-acca-ce65c06e1380",
   "metadata": {},
   "outputs": [],
   "source": []
  },
  {
   "cell_type": "markdown",
   "id": "4ace1256-5038-4f6e-9afa-c5faed3a44c8",
   "metadata": {},
   "source": [
    "## Format string using name indexing"
   ]
  },
  {
   "cell_type": "code",
   "execution_count": 68,
   "id": "c670d8d3-308d-4fe1-86f6-8fc3f3e45649",
   "metadata": {},
   "outputs": [
    {
     "name": "stdout",
     "output_type": "stream",
     "text": [
      "The area of a circle with radius 5 is equal to 78.5\n"
     ]
    }
   ],
   "source": [
    "# solution 1\n",
    "\n",
    "R = 5\n",
    "print(\"The area of a circle with radius {r} is equal to {area}\".format(\n",
    "    r=R, \n",
    "    area=3.14 * (R ** 2)\n",
    "))\n"
   ]
  },
  {
   "cell_type": "code",
   "execution_count": 74,
   "id": "e77d8b48-9c78-4ee7-9bf6-584b9986e98a",
   "metadata": {},
   "outputs": [
    {
     "name": "stdout",
     "output_type": "stream",
     "text": [
      "The area of a circle with radius 5 is equal to 78.5\n"
     ]
    }
   ],
   "source": [
    "# solution 1\n",
    "\n",
    "print(\"The area of a circle with radius {r} is equal to {area}\".format(\n",
    "    # walrus operator\n",
    "    r= (R := 5), \n",
    "    area=3.14 * (R ** 2)\n",
    "))"
   ]
  },
  {
   "cell_type": "code",
   "execution_count": null,
   "id": "9d78abac-c56d-4c8c-be1c-8867cad7ca01",
   "metadata": {},
   "outputs": [],
   "source": []
  },
  {
   "cell_type": "code",
   "execution_count": null,
   "id": "42b9df2a-52f6-45e2-a2db-1b26bc3dcf5a",
   "metadata": {},
   "outputs": [],
   "source": []
  },
  {
   "cell_type": "code",
   "execution_count": null,
   "id": "4974427d-3b31-42e6-8d7a-cb5a0aabb8b6",
   "metadata": {},
   "outputs": [],
   "source": []
  },
  {
   "cell_type": "markdown",
   "id": "0a8a9785-41d3-4d2c-81cc-5ad5f63b2e67",
   "metadata": {},
   "source": [
    "## π number with to 2 decimal places"
   ]
  },
  {
   "cell_type": "code",
   "execution_count": 75,
   "id": "f0ebe0c9-10ea-425b-9c57-44e52a839846",
   "metadata": {},
   "outputs": [],
   "source": [
    "pi = 3.14159265358979323846"
   ]
  },
  {
   "cell_type": "code",
   "execution_count": 80,
   "id": "78a5788b-ee14-40ce-9ff0-d0ec2bbe9217",
   "metadata": {},
   "outputs": [
    {
     "name": "stdout",
     "output_type": "stream",
     "text": [
      "3.14\n"
     ]
    }
   ],
   "source": [
    "print(f'{pi:.3}')"
   ]
  },
  {
   "cell_type": "code",
   "execution_count": null,
   "id": "250b6542-4811-4bdc-bf40-c6af410860b9",
   "metadata": {},
   "outputs": [],
   "source": []
  },
  {
   "cell_type": "code",
   "execution_count": null,
   "id": "1828a9cb-ffdb-4f7a-b2cd-e96b19e81901",
   "metadata": {},
   "outputs": [],
   "source": []
  },
  {
   "cell_type": "code",
   "execution_count": null,
   "id": "fc2ef133-ee38-4883-8bff-f82538438147",
   "metadata": {},
   "outputs": [],
   "source": []
  },
  {
   "cell_type": "markdown",
   "id": "1ea89f73-84fa-4d7f-ae16-1cdd7baf661e",
   "metadata": {},
   "source": [
    "## Numbers of specified length\n"
   ]
  },
  {
   "cell_type": "code",
   "execution_count": 82,
   "id": "56e89e9c-0158-48de-8f30-fbde1392d8dc",
   "metadata": {},
   "outputs": [],
   "source": [
    "N = [3.14,1.618,6.626068]"
   ]
  },
  {
   "cell_type": "code",
   "execution_count": 89,
   "id": "c8a4b093-f5d9-4241-9f71-d678693ec707",
   "metadata": {},
   "outputs": [
    {
     "name": "stdout",
     "output_type": "stream",
     "text": [
      "3.14\n",
      "1.618\n",
      "6.626068\n"
     ]
    }
   ],
   "source": [
    "#  solution 1\n",
    "\n",
    "print(f'{N[0]}\\n{N[1]}\\n{N[2]}')"
   ]
  },
  {
   "cell_type": "code",
   "execution_count": 85,
   "id": "5efa2ada-94bb-4241-b124-d2d707d329b9",
   "metadata": {},
   "outputs": [
    {
     "name": "stdout",
     "output_type": "stream",
     "text": [
      "3.14\n",
      "1.618\n",
      "6.626068\n"
     ]
    }
   ],
   "source": [
    "#  solution 2\n",
    "# unpacing by *\n",
    "# add a \\n to all element for list\n",
    "\n",
    "print(*N, sep='\\n')"
   ]
  },
  {
   "cell_type": "code",
   "execution_count": 88,
   "id": "04fbab3f-cffa-4670-aa10-ad2b82a20081",
   "metadata": {},
   "outputs": [
    {
     "name": "stdout",
     "output_type": "stream",
     "text": [
      "3.14\n",
      "1.618\n",
      "6.626068\n"
     ]
    }
   ],
   "source": [
    "#  solution 3\n",
    "# list compersion and convert eo string by str() function\n",
    "# .join() method\n",
    "\n",
    "print(\n",
    "    '\\n'.join([str(i) for i in N])\n",
    ")"
   ]
  },
  {
   "cell_type": "code",
   "execution_count": null,
   "id": "fcc4a1b9-74e1-46c3-8961-ca53242d76d9",
   "metadata": {},
   "outputs": [],
   "source": []
  },
  {
   "cell_type": "code",
   "execution_count": null,
   "id": "1c0615ca-d0d6-41d4-9131-43a32f99186e",
   "metadata": {},
   "outputs": [],
   "source": []
  },
  {
   "cell_type": "code",
   "execution_count": null,
   "id": "cbdf2bda-d60d-4bc3-af1b-5f4ef674e2ed",
   "metadata": {},
   "outputs": [],
   "source": []
  },
  {
   "cell_type": "markdown",
   "id": "478ab002-03b2-43c2-b1cd-0f45ade1b429",
   "metadata": {},
   "source": [
    "## Numbers of specified length with comma"
   ]
  },
  {
   "cell_type": "code",
   "execution_count": 100,
   "id": "4cad921c-a76a-4439-ad34-45a980c4627e",
   "metadata": {},
   "outputs": [],
   "source": [
    "N = [5421241, 83992949, 331002651]"
   ]
  },
  {
   "cell_type": "code",
   "execution_count": 120,
   "id": "8a3762a6-2ef7-49a6-8e48-4098cd4b566f",
   "metadata": {},
   "outputs": [
    {
     "name": "stdout",
     "output_type": "stream",
     "text": [
      "005,421,241\n",
      "083,992,949\n",
      "331,002,651\n",
      "\n"
     ]
    }
   ],
   "source": [
    "# solution 1\n",
    "\n",
    "print(f'{N[0]:011,}\\n{N[1]:011,}\\n{N[2]:011,}\\n')"
   ]
  },
  {
   "cell_type": "code",
   "execution_count": 121,
   "id": "99b95320-248a-46a8-95b7-20e24c3b559a",
   "metadata": {},
   "outputs": [
    {
     "name": "stdout",
     "output_type": "stream",
     "text": [
      "005,421,241\n",
      "083,992,949\n",
      "331,002,651\n"
     ]
    }
   ],
   "source": [
    "# solution 2\n",
    "\n",
    "for n in N:\n",
    "    print(f'{n:011,}')"
   ]
  },
  {
   "cell_type": "code",
   "execution_count": null,
   "id": "30889857-484c-4041-972e-781bae97aa0f",
   "metadata": {},
   "outputs": [],
   "source": []
  }
 ],
 "metadata": {
  "kernelspec": {
   "display_name": "Python 3 (ipykernel)",
   "language": "python",
   "name": "python3"
  },
  "language_info": {
   "codemirror_mode": {
    "name": "ipython",
    "version": 3
   },
   "file_extension": ".py",
   "mimetype": "text/x-python",
   "name": "python",
   "nbconvert_exporter": "python",
   "pygments_lexer": "ipython3",
   "version": "3.11.4"
  }
 },
 "nbformat": 4,
 "nbformat_minor": 5
}
