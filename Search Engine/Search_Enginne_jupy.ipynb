{
 "cells": [
  {
   "cell_type": "markdown",
   "id": "64134306-421a-4651-a5a7-14ff23114ccc",
   "metadata": {},
   "source": [
    "# Crawling"
   ]
  },
  {
   "cell_type": "code",
   "execution_count": 104,
   "id": "ab6f0af9-bf61-4619-ac90-cf1c6d9a794f",
   "metadata": {},
   "outputs": [],
   "source": [
    "from pathlib import Path"
   ]
  },
  {
   "cell_type": "code",
   "execution_count": 1,
   "id": "fa902b33-db84-4c8d-874d-eee683770270",
   "metadata": {},
   "outputs": [
    {
     "ename": "NameError",
     "evalue": "name 'Path' is not defined",
     "output_type": "error",
     "traceback": [
      "\u001b[0;31m---------------------------------------------------------------------------\u001b[0m",
      "\u001b[0;31mNameError\u001b[0m                                 Traceback (most recent call last)",
      "Cell \u001b[0;32mIn[1], line 4\u001b[0m\n\u001b[1;32m      1\u001b[0m \u001b[38;5;66;03m# data = {keys=file_name, value=file.read}\u001b[39;00m\n\u001b[1;32m      2\u001b[0m data \u001b[38;5;241m=\u001b[39m {}\n\u001b[0;32m----> 4\u001b[0m \u001b[38;5;28;01mfor\u001b[39;00m doc_path \u001b[38;5;129;01min\u001b[39;00m \u001b[38;5;28mlist\u001b[39m(\u001b[43mPath\u001b[49m(\u001b[38;5;124m'\u001b[39m\u001b[38;5;124mdata/documents\u001b[39m\u001b[38;5;124m'\u001b[39m)\u001b[38;5;241m.\u001b[39miterdir()):\n\u001b[1;32m      5\u001b[0m     \u001b[38;5;28;01mif\u001b[39;00m doc_path\u001b[38;5;241m.\u001b[39msuffix \u001b[38;5;241m!=\u001b[39m \u001b[38;5;124m'\u001b[39m\u001b[38;5;124m.txt\u001b[39m\u001b[38;5;124m'\u001b[39m:\n\u001b[1;32m      6\u001b[0m         \u001b[38;5;28;01mcontinue\u001b[39;00m\n",
      "\u001b[0;31mNameError\u001b[0m: name 'Path' is not defined"
     ]
    }
   ],
   "source": [
    "# data = {keys=file_name, value=file.read}\n",
    "data = {}\n",
    "\n",
    "for doc_path in list(Path('data/documents').iterdir()):\n",
    "    if doc_path.suffix != '.txt':\n",
    "        continue\n",
    "        \n",
    "    with open(doc_path) as f:\n",
    "        doc_name = doc_path.stem.replace('_', ' ').title()\n",
    "        # dic_name[key] = value\n",
    "        data[doc_name] = f.read()"
   ]
  },
  {
   "cell_type": "code",
   "execution_count": null,
   "id": "035d92c9-b965-47ad-bb9f-39ae14560f77",
   "metadata": {},
   "outputs": [],
   "source": []
  },
  {
   "cell_type": "markdown",
   "id": "f5d0404f-2886-4f57-ae85-aa2cbfc4d9c7",
   "metadata": {},
   "source": [
    "# Text PreProcessing"
   ]
  },
  {
   "cell_type": "code",
   "execution_count": 131,
   "id": "5bd2dbbf-6f30-49b7-a77b-de0e667219f3",
   "metadata": {},
   "outputs": [],
   "source": [
    "from abc import ABC, abstractmethod\n",
    "from unidecode import unidecode  \n",
    "import string\n",
    "\n",
    "class TextProcessor(ABC):\n",
    "    \n",
    "    @abstractmethod\n",
    "    def transform(self, text):\n",
    "        pass\n",
    "\n",
    "\n",
    "\n",
    "class ConvertCase(TextProcessor):\n",
    "    def __init__(self, conversion='lower'):\n",
    "        self.conversion = conversion\n",
    "    \n",
    "    def transform(self, text):\n",
    "        if self.conversion == 'lower':\n",
    "            return text.lower()\n",
    "        elif self.conversion == 'upper':\n",
    "            return text.upper()\n",
    "        elif self.conversion == 'title':\n",
    "            return text.title()\n",
    "        \n",
    "\n",
    "        \n",
    "class RemoveDigit(TextProcessor):\n",
    "    \n",
    "    def transform(self, text):\n",
    "        return ''.join(filter(lambda char: not char.isdigit(), text))\n",
    "\n",
    "    \n",
    "    \n",
    "# import string\n",
    "\n",
    "class RemovePunkt(TextProcessor):\n",
    "    \n",
    "    def transform(self, text):\n",
    "        return ''.join(filter(lambda char: char not in string.punctuation, text))\n",
    "    \n",
    "    \n",
    "    \n",
    "class RemoveSpace(TextProcessor):\n",
    "    se\n",
    "    def transform(self, text):\n",
    "        return ' '.join(text.split())\n",
    "    \n",
    "    \n",
    "    \n",
    "# from unidecode import unidecode  \n",
    "\n",
    "class StripAccent(TextProcessor):\n",
    "    \n",
    "    def transform(self, text):\n",
    "        return unidecode(text)\n",
    "\n",
    "\n",
    "\n",
    "class TextPipeline(TextProcessor):\n",
    "    def __init__(self, *args):\n",
    "        self.transformers = args\n",
    "        \n",
    "    def transform(self, text):\n",
    "        for tf in self.transformers:\n",
    "            text = tf.transform(text)\n",
    "            \n",
    "        return text\n",
    "    \n",
    "    def __repr__(self):\n",
    "        transformers = '\\n '.join([f'Step_{i+1}: {tf.__class__.__name__}' for i, tf in enumerate(self.transformers)])  # enumerate('iterable') --> (0, i)\n",
    "        return f'Pipeline:\\n {transformers}'\n",
    "\n"
   ]
  },
  {
   "cell_type": "code",
   "execution_count": 149,
   "id": "e3565c12-cb2c-41d8-ace8-6f33be578573",
   "metadata": {},
   "outputs": [],
   "source": [
    "pipe = TextPipeline(ConvertCase(),\n",
    "    StripAccent(),\n",
    "    RemoveDigit(),\n",
    "    RemovePunkt(),\n",
    "    RemoveSpace(),\n",
    ")                   \n"
   ]
  },
  {
   "cell_type": "code",
   "execution_count": 165,
   "id": "12f93743-e3b2-465e-8e88-a0b1c1329214",
   "metadata": {},
   "outputs": [],
   "source": [
    "# Solution 1\n",
    "\n",
    "# Processed All Content \n",
    "# Creat Dictionary By Dictionary Comprehension\n",
    "\n",
    "# processed_data = {\n",
    "#     doc_name: pipe.transform(content) for doc_name, content in data.items()\n",
    "# }"
   ]
  },
  {
   "cell_type": "code",
   "execution_count": null,
   "id": "cc93a093-ca16-494c-acc2-5f836c19a8f4",
   "metadata": {},
   "outputs": [],
   "source": []
  },
  {
   "cell_type": "markdown",
   "id": "53105dbe-bbb0-4af7-abb0-27530ca3f4f9",
   "metadata": {},
   "source": [
    "# Stop Words"
   ]
  },
  {
   "cell_type": "code",
   "execution_count": null,
   "id": "269ca40c-96bb-4d41-86b9-a6d94cb7d743",
   "metadata": {},
   "outputs": [],
   "source": [
    "# Other Solution - for modular Programming\n",
    "\n",
    "\n",
    "# self.stop_words_path = stop_words_path\n",
    "# self.stop_words = self.read_stopwords()\n",
    "  \n",
    "    \n",
    "# def read_stopwords(self):\n",
    "#         stop_words = open(self.stop_words_path).read().split('\\n')\n",
    "#         stop_words = set(map(pipe.transform, stop_words))\n",
    "#         print(stop_words)\n",
    "#         return stop_words\n"
   ]
  },
  {
   "cell_type": "code",
   "execution_count": 256,
   "id": "ae538e32-7d3b-4acf-9315-ae8a39731298",
   "metadata": {},
   "outputs": [],
   "source": [
    "stop_words = open('data/stop_words.txt').read().split('\\n')\n",
    "stop_words = set(map(pipe.transform, stop_words))"
   ]
  },
  {
   "cell_type": "code",
   "execution_count": null,
   "id": "6e572b55-1794-4a09-b8ba-f8a581996368",
   "metadata": {},
   "outputs": [],
   "source": []
  },
  {
   "cell_type": "markdown",
   "id": "8720de14-8b46-4fa1-89e4-bc26c35294dc",
   "metadata": {},
   "source": [
    "# Indexing"
   ]
  },
  {
   "cell_type": "code",
   "execution_count": 106,
   "id": "8860e619-58bb-44ac-b1dd-dd2b75f02d39",
   "metadata": {},
   "outputs": [],
   "source": [
    "# index = {'Word': {'file_name', }, \n",
    "#          'Azadi': {'Mahsa amini', 'Mohsen Shekari', ....}\n",
    "#           }"
   ]
  },
  {
   "cell_type": "code",
   "execution_count": 107,
   "id": "faa7f415-22bb-4e4d-8db4-3b061bfb7d18",
   "metadata": {},
   "outputs": [],
   "source": [
    "# index = {}\n",
    "\n",
    "# for doc_name, doc_content in data.items():\n",
    "#     words = doc_content.split()\n",
    "    \n",
    "#     for word in words:\n",
    "#         if word in index:\n",
    "#             index[word].add(doc_name)\n",
    "#         else:\n",
    "#             index[word] = {doc_name}\n"
   ]
  },
  {
   "cell_type": "code",
   "execution_count": 261,
   "id": "cbbbcccd-8560-45db-aabb-71757ecf4915",
   "metadata": {},
   "outputs": [],
   "source": [
    "index = {}\n",
    "\n",
    "for doc_name, doc_content in data.items():\n",
    "    for word in  doc_content.split():\n",
    "        word = pipe.transform(word)\n",
    "        \n",
    "        # Empty Words\n",
    "        if not word:\n",
    "            continue\n",
    "            \n",
    "        # Ignore Stop Words\n",
    "        if word in stop_words:\n",
    "            continue\n",
    "        \n",
    "        # Add to index\n",
    "        if word in index:\n",
    "            index[word].add(doc_name)\n",
    "        else:\n",
    "            index[word] = {doc_name}"
   ]
  },
  {
   "cell_type": "code",
   "execution_count": null,
   "id": "47360a9b-d1ae-4705-8782-f0797e2e9697",
   "metadata": {},
   "outputs": [],
   "source": []
  },
  {
   "cell_type": "code",
   "execution_count": 296,
   "id": "b7b7fdec-7cdb-4906-ac47-8d99fe174b94",
   "metadata": {},
   "outputs": [],
   "source": [
    "# Print \n",
    "from termcolor import colored\n",
    "\n",
    "def print_success(text):\n",
    "    print(colored(text, 'green'))\n",
    "\n",
    "def print_warning(text):\n",
    "    print(colored(text, 'yelow'))\n",
    "        \n",
    "def print_error(text):\n",
    "    print(colored(text, 'red'))"
   ]
  },
  {
   "cell_type": "markdown",
   "id": "566fa3b0-647c-4e73-8dc9-80a81bf81f58",
   "metadata": {
    "tags": []
   },
   "source": [
    "# Search"
   ]
  },
  {
   "cell_type": "code",
   "execution_count": 302,
   "id": "50b9d7c1-6e78-4001-993e-225fe178bda6",
   "metadata": {},
   "outputs": [
    {
     "name": "stdin",
     "output_type": "stream",
     "text": [
      "Enter to find a Document: ( Q to Quit )\n",
      " zan\n"
     ]
    },
    {
     "name": "stdout",
     "output_type": "stream",
     "text": [
      "\u001b[31mNot Result\u001b[0m\n"
     ]
    },
    {
     "name": "stdin",
     "output_type": "stream",
     "text": [
      "Enter to find a Document: ( Q to Quit )\n",
      " zendegi\n"
     ]
    },
    {
     "name": "stdout",
     "output_type": "stream",
     "text": [
      "\u001b[31mNot Result\u001b[0m\n"
     ]
    },
    {
     "name": "stdin",
     "output_type": "stream",
     "text": [
      "Enter to find a Document: ( Q to Quit )\n",
      " azadi\n"
     ]
    },
    {
     "name": "stdout",
     "output_type": "stream",
     "text": [
      "\u001b[31mNot Result\u001b[0m\n"
     ]
    },
    {
     "name": "stdin",
     "output_type": "stream",
     "text": [
      "Enter to find a Document: ( Q to Quit )\n",
      " women\n"
     ]
    },
    {
     "name": "stdout",
     "output_type": "stream",
     "text": [
      "\u001b[32m - Mahsa Amini\u001b[0m\n"
     ]
    },
    {
     "name": "stdin",
     "output_type": "stream",
     "text": [
      "Enter to find a Document: ( Q to Quit )\n",
      " woman\n"
     ]
    },
    {
     "name": "stdout",
     "output_type": "stream",
     "text": [
      "\u001b[32m - Mahsa Amini\u001b[0m\n",
      "\u001b[32m - Hadis Najafi\u001b[0m\n"
     ]
    },
    {
     "name": "stdin",
     "output_type": "stream",
     "text": [
      "Enter to find a Document: ( Q to Quit )\n",
      " life\n"
     ]
    },
    {
     "name": "stdout",
     "output_type": "stream",
     "text": [
      "\u001b[31mNot Result\u001b[0m\n"
     ]
    },
    {
     "name": "stdin",
     "output_type": "stream",
     "text": [
      "Enter to find a Document: ( Q to Quit )\n",
      " freedome\n"
     ]
    },
    {
     "name": "stdout",
     "output_type": "stream",
     "text": [
      "\u001b[31mNot Result\u001b[0m\n"
     ]
    },
    {
     "name": "stdin",
     "output_type": "stream",
     "text": [
      "Enter to find a Document: ( Q to Quit )\n",
      " free\n"
     ]
    },
    {
     "name": "stdout",
     "output_type": "stream",
     "text": [
      "\u001b[31mNot Result\u001b[0m\n"
     ]
    },
    {
     "name": "stdin",
     "output_type": "stream",
     "text": [
      "Enter to find a Document: ( Q to Quit )\n",
      " q\n"
     ]
    }
   ],
   "source": [
    "while True:\n",
    "    # Get User Input\n",
    "    search_input = input('Enter to find a Document: ( Q to Quit )\\n')\n",
    "    search_input = pipe.transform(search_input)\n",
    "    \n",
    "    # Quit Search\n",
    "    if search_input.upper() == 'Q':\n",
    "        break\n",
    "    \n",
    "    \n",
    "    # Get Input Tokens\n",
    "    search_tokens = search_input.split()\n",
    "    \n",
    "    # Get Relevant Documents\n",
    "    docs = []\n",
    "    for token in search_tokens:\n",
    "        # Ignore Stop Words In Input Search\n",
    "        if token in stop_words:\n",
    "            continue\n",
    "        docs.extend(index.get(token, '*' ))\n",
    "    \n",
    "\n",
    "    for doc in docs:\n",
    "        if doc == '*':\n",
    "            print_error('Not Result')\n",
    "        else:\n",
    "            print_success(f' - {doc}')"
   ]
  },
  {
   "cell_type": "code",
   "execution_count": null,
   "id": "0885d7c6-ea3f-4c58-a3b4-878fec8a4d94",
   "metadata": {},
   "outputs": [],
   "source": [
    "\n"
   ]
  },
  {
   "cell_type": "code",
   "execution_count": null,
   "id": "b5090986-977d-4103-94e6-48f39f5d884e",
   "metadata": {},
   "outputs": [],
   "source": []
  }
 ],
 "metadata": {
  "kernelspec": {
   "display_name": "Python 3 (ipykernel)",
   "language": "python",
   "name": "python3"
  },
  "language_info": {
   "codemirror_mode": {
    "name": "ipython",
    "version": 3
   },
   "file_extension": ".py",
   "mimetype": "text/x-python",
   "name": "python",
   "nbconvert_exporter": "python",
   "pygments_lexer": "ipython3",
   "version": "3.10.12"
  }
 },
 "nbformat": 4,
 "nbformat_minor": 5
}
