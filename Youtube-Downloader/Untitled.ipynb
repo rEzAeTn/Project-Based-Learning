{
 "cells": [
  {
   "cell_type": "markdown",
   "id": "e8ff220c-d7b9-45cc-9be8-f7df888f04ca",
   "metadata": {
    "tags": []
   },
   "source": []
  },
  {
   "cell_type": "code",
   "execution_count": null,
   "id": "89063fff-6ccf-4bdf-bdd2-e637afcc9619",
   "metadata": {},
   "outputs": [],
   "source": [
    "url, output_path, quality"
   ]
  },
  {
   "cell_type": "code",
   "execution_count": null,
   "id": "96d860df-ca8d-482e-a7b1-8070724e3bfa",
   "metadata": {},
   "outputs": [],
   "source": []
  },
  {
   "cell_type": "code",
   "execution_count": null,
   "id": "03d6fc96-9ac2-47bf-b798-5bab9bd9fd0f",
   "metadata": {},
   "outputs": [],
   "source": []
  },
  {
   "cell_type": "code",
   "execution_count": null,
   "id": "d43501bd-b8e3-4caa-96f8-26ee7d545173",
   "metadata": {},
   "outputs": [],
   "source": []
  }
 ],
 "metadata": {
  "kernelspec": {
   "display_name": "Python 3 (ipykernel)",
   "language": "python",
   "name": "python3"
  },
  "language_info": {
   "codemirror_mode": {
    "name": "ipython",
    "version": 3
   },
   "file_extension": ".py",
   "mimetype": "text/x-python",
   "name": "python",
   "nbconvert_exporter": "python",
   "pygments_lexer": "ipython3",
   "version": "3.11.7"
  }
 },
 "nbformat": 4,
 "nbformat_minor": 5
}
