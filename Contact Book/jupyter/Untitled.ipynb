{
 "cells": [
  {
   "cell_type": "markdown",
   "id": "972408dc-aaa0-49fe-9029-81bca155d9ce",
   "metadata": {},
   "source": [
    "# Contact Book\n",
    "\n",
    "## Program Feutures:\n",
    "- Create new contact -> Create\n",
    "  - (Name, Phone, Email, Location)\n",
    "- Show contact list -> Read\n",
    "  - Show specific contact (by name), Show All Contact\n",
    "- Edit contact -> Update\n",
    "- Delete contact -> Delete\n",
    "\n",
    "## Program Structure:\n",
    "ContactBook():\n",
    "\n",
    "    def create_contact():\n",
    "        pass\n",
    " \n",
    "    def show_contacts():\n",
    "        pass\n",
    "\n",
    "    def edit_contacts():\n",
    "        pass\n",
    "\n",
    "    def delete_contact():\n",
    "        pass\n",
    "\n",
    "## Data Structure:\n",
    "```python\n",
    "{\n",
    "    'Name1':{'Phone Number':'0098xxxx329',\n",
    "            'Email Address': 'xxxxx@gmail.com'\n",
    "            'location': 'xxxx'\n",
    "           }\n",
    "    'Name2':{'Phone Number':'0098xxxx329',\n",
    "            'Email Address': 'xxxxx@gmail.com'\n",
    "            'location': 'xxxx'\n",
    "           }\n",
    "}\n",
    "```"
   ]
  },
  {
   "cell_type": "code",
   "execution_count": 2,
   "id": "6e1050e1-8ee0-4731-9cda-c9220c70540d",
   "metadata": {
    "tags": []
   },
   "outputs": [],
   "source": [
    "from collections import defaultdict\n",
    "\n",
    "\n",
    "class ContactBook():\n",
    "    def __init__(self):\n",
    "        self.contacts = defaultdict(dict)\n",
    "\n",
    "    def create_contact(self, name, phone=None, email=None, location=None):\n",
    "        if name in self.contacts:\n",
    "            print(\"Contact Already Exists\")\n",
    "            return\n",
    "\n",
    "        self.contacts[name] = {\"name\": name,\n",
    "                               \"phone\": phone,\n",
    "                               \"email\": email,\n",
    "                               \"location\": location,\n",
    "                              }\n",
    "        print(f\"Saved {name}\")\n",
    "\n",
    "    def show_contacts(self, name=None, show_all_contacts=False):\n",
    "        if (name is not None) and (name not in self.contacts):\n",
    "            print(\"Contact Not Found\")\n",
    "\n",
    "        if (name in self.contacts) and (show_all_contacts == False):\n",
    "            print(f\"Name: {self.contacts[name]['name']}\")\n",
    "            print(f\"Phone: {self.contacts[name]['phone']}\")\n",
    "            print(f\"Email: {self.contacts[name]['email']}\")\n",
    "            print(f\"Location: {self.contacts[name]['location']}\")\n",
    "\n",
    "        if show_all_contacts:\n",
    "            contact_counter = 0\n",
    "            for name, info in self.contacts.items():\n",
    "                print(f\"Name: {name}\")\n",
    "                print(f\"Phone: {info['phone']}\")\n",
    "                print(f\"Email: {info['email']}\")\n",
    "                print(f\"Location: {info['location']}\")\n",
    "                print(\"_\" * 50)\n",
    "                \n",
    "                contact_counter += 1\n",
    "            else:\n",
    "                print(f\"{contact_counter} Contacts\")\n",
    "\n",
    "\n",
    "    def edit_contacts(self, name, new_name=None, phone=None, email=None, location=None):\n",
    "        if name in self.contacts:\n",
    "            if (phone is not None) and (phone != self.contacts[name][\"phone\"]):\n",
    "                self.contacts[name][\"phone\"] = phone\n",
    "\n",
    "            if (email is not None) and (email != self.contacts[name][\"email\"]):\n",
    "                self.contacts[name][\"email\"] = email\n",
    "\n",
    "            if (location is not None) and (location != self.contacts[name][\"location\"]):\n",
    "                self.contacts[name][\"location\"] = location\n",
    "\n",
    "            if (new_name is not None) and (new_name != self.contacts[name]):\n",
    "                self.contacts[new_name] = self.contacts.pop(name)\n",
    "\n",
    "            print(\"Contact Updated Successfully\")\n",
    "            return \n",
    "        \n",
    "        print(\"Contact Not Found\")\n",
    "\n",
    "    def delete_contact(self, name=None, confirm=None):\n",
    "        if (name is not None) and (name in self.contacts):\n",
    "            print(\"Contact Details\")\n",
    "            self.show_contacts(name)\n",
    "            \n",
    "            if confirm:\n",
    "                del self.contacts[name]\n",
    "                print(\"Contact Deleted\")\n",
    "            elif confirm == False:\n",
    "                print(\"Delete Canceled\")\n",
    "                \n",
    "        else:\n",
    "            print(\"Contact Not Found\")"
   ]
  },
  {
   "cell_type": "code",
   "execution_count": null,
   "id": "9eff5f7b-7781-43ee-9d29-91383ba96d29",
   "metadata": {},
   "outputs": [],
   "source": []
  },
  {
   "cell_type": "code",
   "execution_count": 5,
   "id": "ca09f67b-47ef-4954-a842-7adbc7cfdd8c",
   "metadata": {
    "tags": []
   },
   "outputs": [
    {
     "name": "stdout",
     "output_type": "stream",
     "text": [
      "\n",
      "--- Contact Book Application ---\n",
      "1. Add Contact\n",
      "2. Edit Contact\n",
      "3. View Contacts\n",
      "4. Delete Contact\n",
      "5. Quit\n"
     ]
    },
    {
     "name": "stdin",
     "output_type": "stream",
     "text": [
      "\n",
      "Please choose an option:  1\n",
      "\n",
      "Enter Contact Name:  reza\n",
      "Enter Contact Phone:  0938\n",
      "Enter Contact Email:  gmail\n",
      "Enter Contact Location:  parand\n"
     ]
    },
    {
     "name": "stdout",
     "output_type": "stream",
     "text": [
      "Saved reza\n",
      "\n",
      "--- Contact Book Application ---\n",
      "1. Add Contact\n",
      "2. Edit Contact\n",
      "3. View Contacts\n",
      "4. Delete Contact\n",
      "5. Quit\n"
     ]
    },
    {
     "name": "stdin",
     "output_type": "stream",
     "text": [
      "\n",
      "Please choose an option:  1\n",
      "\n",
      "Enter Contact Name:  reza\n"
     ]
    },
    {
     "name": "stdout",
     "output_type": "stream",
     "text": [
      "Contact Already Exists\n",
      "\n",
      "--- Contact Book Application ---\n",
      "1. Add Contact\n",
      "2. Edit Contact\n",
      "3. View Contacts\n",
      "4. Delete Contact\n",
      "5. Quit\n"
     ]
    },
    {
     "name": "stdin",
     "output_type": "stream",
     "text": [
      "\n",
      "Please choose an option:  3\n",
      "\n",
      "Show All Contacts? Yes / No yes\n"
     ]
    },
    {
     "name": "stdout",
     "output_type": "stream",
     "text": [
      "Name: reza\n",
      "Phone: 0938\n",
      "Email: gmail\n",
      "Location: parand\n",
      "__________________________________________________\n",
      "1 Contacts\n",
      "\n",
      "--- Contact Book Application ---\n",
      "1. Add Contact\n",
      "2. Edit Contact\n",
      "3. View Contacts\n",
      "4. Delete Contact\n",
      "5. Quit\n"
     ]
    },
    {
     "name": "stdin",
     "output_type": "stream",
     "text": [
      "\n",
      "Please choose an option:  1\n",
      "\n",
      "Enter Contact Name:  ali\n",
      "Enter Contact Phone:  0000\n",
      "Enter Contact Email:  yahoo\n",
      "Enter Contact Location:  torento\n"
     ]
    },
    {
     "name": "stdout",
     "output_type": "stream",
     "text": [
      "Saved ali\n",
      "\n",
      "--- Contact Book Application ---\n",
      "1. Add Contact\n",
      "2. Edit Contact\n",
      "3. View Contacts\n",
      "4. Delete Contact\n",
      "5. Quit\n"
     ]
    },
    {
     "name": "stdin",
     "output_type": "stream",
     "text": [
      "\n",
      "Please choose an option:  3\n",
      "\n",
      "Show All Contacts? Yes / No yes\n"
     ]
    },
    {
     "name": "stdout",
     "output_type": "stream",
     "text": [
      "Name: reza\n",
      "Phone: 0938\n",
      "Email: gmail\n",
      "Location: parand\n",
      "__________________________________________________\n",
      "Name: ali\n",
      "Phone: 0000\n",
      "Email: yahoo\n",
      "Location: torento\n",
      "__________________________________________________\n",
      "2 Contacts\n",
      "\n",
      "--- Contact Book Application ---\n",
      "1. Add Contact\n",
      "2. Edit Contact\n",
      "3. View Contacts\n",
      "4. Delete Contact\n",
      "5. Quit\n"
     ]
    },
    {
     "name": "stdin",
     "output_type": "stream",
     "text": [
      "\n",
      "Please choose an option:  3\n",
      "\n",
      "Show All Contacts? Yes / No no\n",
      "\n",
      "Enter the Name of your desired Contact\n",
      " ali\n"
     ]
    },
    {
     "name": "stdout",
     "output_type": "stream",
     "text": [
      "Name: ali\n",
      "Phone: 0000\n",
      "Email: yahoo\n",
      "Location: torento\n",
      "\n",
      "--- Contact Book Application ---\n",
      "1. Add Contact\n",
      "2. Edit Contact\n",
      "3. View Contacts\n",
      "4. Delete Contact\n",
      "5. Quit\n"
     ]
    },
    {
     "name": "stdin",
     "output_type": "stream",
     "text": [
      "\n",
      "Please choose an option:  2\n",
      "\n",
      "Enter Contact name:  ali\n"
     ]
    },
    {
     "name": "stdout",
     "output_type": "stream",
     "text": [
      "Contact Details\n",
      "Name: ali\n",
      "Phone: 0000\n",
      "Email: yahoo\n",
      "Location: torento\n"
     ]
    },
    {
     "name": "stdin",
     "output_type": "stream",
     "text": [
      "Do you change the information? Yes / No yes\n",
      "Enter Contact Name:  ali\n",
      "Enter Contact Phone:  0098\n",
      "Enter Contact Email:  au.alberta\n",
      "Enter Contact Location:  canada, torento\n"
     ]
    },
    {
     "name": "stdout",
     "output_type": "stream",
     "text": [
      "Contact Updated Successfully\n",
      "\n",
      "--- Contact Book Application ---\n",
      "1. Add Contact\n",
      "2. Edit Contact\n",
      "3. View Contacts\n",
      "4. Delete Contact\n",
      "5. Quit\n"
     ]
    },
    {
     "name": "stdin",
     "output_type": "stream",
     "text": [
      "\n",
      "Please choose an option:  3\n",
      "\n",
      "Show All Contacts? Yes / No yes\n"
     ]
    },
    {
     "name": "stdout",
     "output_type": "stream",
     "text": [
      "Name: reza\n",
      "Phone: 0938\n",
      "Email: gmail\n",
      "Location: parand\n",
      "__________________________________________________\n",
      "Name: ali\n",
      "Phone: 0098\n",
      "Email: au.alberta\n",
      "Location: canada, torento\n",
      "__________________________________________________\n",
      "2 Contacts\n",
      "\n",
      "--- Contact Book Application ---\n",
      "1. Add Contact\n",
      "2. Edit Contact\n",
      "3. View Contacts\n",
      "4. Delete Contact\n",
      "5. Quit\n"
     ]
    },
    {
     "name": "stdin",
     "output_type": "stream",
     "text": [
      "\n",
      "Please choose an option:  4\n",
      "\n",
      "Enter the Name of your desired Contact\n",
      " reza\n"
     ]
    },
    {
     "name": "stdout",
     "output_type": "stream",
     "text": [
      "Contact Details\n",
      "Name: reza\n",
      "Phone: 0938\n",
      "Email: gmail\n",
      "Location: parand\n"
     ]
    },
    {
     "name": "stdin",
     "output_type": "stream",
     "text": [
      "Delete reza? Yes / No yes\n"
     ]
    },
    {
     "name": "stdout",
     "output_type": "stream",
     "text": [
      "Contact Details\n",
      "Name: reza\n",
      "Phone: 0938\n",
      "Email: gmail\n",
      "Location: parand\n",
      "Contact Deleted\n",
      "\n",
      "--- Contact Book Application ---\n",
      "1. Add Contact\n",
      "2. Edit Contact\n",
      "3. View Contacts\n",
      "4. Delete Contact\n",
      "5. Quit\n"
     ]
    },
    {
     "name": "stdin",
     "output_type": "stream",
     "text": [
      "\n",
      "Please choose an option:  3\n",
      "\n",
      "Show All Contacts? Yes / No yes\n"
     ]
    },
    {
     "name": "stdout",
     "output_type": "stream",
     "text": [
      "Name: ali\n",
      "Phone: 0098\n",
      "Email: au.alberta\n",
      "Location: canada, torento\n",
      "__________________________________________________\n",
      "1 Contacts\n",
      "\n",
      "--- Contact Book Application ---\n",
      "1. Add Contact\n",
      "2. Edit Contact\n",
      "3. View Contacts\n",
      "4. Delete Contact\n",
      "5. Quit\n"
     ]
    },
    {
     "name": "stdin",
     "output_type": "stream",
     "text": [
      "\n",
      "Please choose an option:  4\n",
      "\n",
      "Enter the Name of your desired Contact\n",
      " reza\n"
     ]
    },
    {
     "name": "stdout",
     "output_type": "stream",
     "text": [
      "Contact Not Found\n"
     ]
    },
    {
     "name": "stdin",
     "output_type": "stream",
     "text": [
      "Delete reza? Yes / No yes\n"
     ]
    },
    {
     "name": "stdout",
     "output_type": "stream",
     "text": [
      "Contact Not Found\n",
      "\n",
      "--- Contact Book Application ---\n",
      "1. Add Contact\n",
      "2. Edit Contact\n",
      "3. View Contacts\n",
      "4. Delete Contact\n",
      "5. Quit\n"
     ]
    },
    {
     "ename": "KeyboardInterrupt",
     "evalue": "Interrupted by user",
     "output_type": "error",
     "traceback": [
      "\u001b[0;31m---------------------------------------------------------------------------\u001b[0m",
      "\u001b[0;31mKeyboardInterrupt\u001b[0m                         Traceback (most recent call last)",
      "Cell \u001b[0;32mIn[5], line 11\u001b[0m\n\u001b[1;32m      8\u001b[0m \u001b[38;5;28mprint\u001b[39m(\u001b[38;5;124m'\u001b[39m\u001b[38;5;124m4. Delete Contact\u001b[39m\u001b[38;5;124m'\u001b[39m)\n\u001b[1;32m      9\u001b[0m \u001b[38;5;28mprint\u001b[39m(\u001b[38;5;124m'\u001b[39m\u001b[38;5;124m5. Quit\u001b[39m\u001b[38;5;124m'\u001b[39m)\n\u001b[0;32m---> 11\u001b[0m user_choice \u001b[38;5;241m=\u001b[39m \u001b[38;5;28minput\u001b[39m(\u001b[38;5;124m\"\u001b[39m\u001b[38;5;130;01m\\n\u001b[39;00m\u001b[38;5;124mPlease choose an option: \u001b[39m\u001b[38;5;124m\"\u001b[39m)\n\u001b[1;32m     13\u001b[0m \u001b[38;5;28;01mif\u001b[39;00m user_choice \u001b[38;5;241m==\u001b[39m \u001b[38;5;124m'\u001b[39m\u001b[38;5;124m5\u001b[39m\u001b[38;5;124m'\u001b[39m:\n\u001b[1;32m     14\u001b[0m     \u001b[38;5;28;01mbreak\u001b[39;00m\n",
      "File \u001b[0;32m~/miniconda3/envs/project/lib/python3.11/site-packages/ipykernel/kernelbase.py:1202\u001b[0m, in \u001b[0;36mKernel.raw_input\u001b[0;34m(self, prompt)\u001b[0m\n\u001b[1;32m   1200\u001b[0m     msg \u001b[38;5;241m=\u001b[39m \u001b[38;5;124m\"\u001b[39m\u001b[38;5;124mraw_input was called, but this frontend does not support input requests.\u001b[39m\u001b[38;5;124m\"\u001b[39m\n\u001b[1;32m   1201\u001b[0m     \u001b[38;5;28;01mraise\u001b[39;00m StdinNotImplementedError(msg)\n\u001b[0;32m-> 1202\u001b[0m \u001b[38;5;28;01mreturn\u001b[39;00m \u001b[38;5;28mself\u001b[39m\u001b[38;5;241m.\u001b[39m_input_request(\n\u001b[1;32m   1203\u001b[0m     \u001b[38;5;28mstr\u001b[39m(prompt),\n\u001b[1;32m   1204\u001b[0m     \u001b[38;5;28mself\u001b[39m\u001b[38;5;241m.\u001b[39m_parent_ident[\u001b[38;5;124m\"\u001b[39m\u001b[38;5;124mshell\u001b[39m\u001b[38;5;124m\"\u001b[39m],\n\u001b[1;32m   1205\u001b[0m     \u001b[38;5;28mself\u001b[39m\u001b[38;5;241m.\u001b[39mget_parent(\u001b[38;5;124m\"\u001b[39m\u001b[38;5;124mshell\u001b[39m\u001b[38;5;124m\"\u001b[39m),\n\u001b[1;32m   1206\u001b[0m     password\u001b[38;5;241m=\u001b[39m\u001b[38;5;28;01mFalse\u001b[39;00m,\n\u001b[1;32m   1207\u001b[0m )\n",
      "File \u001b[0;32m~/miniconda3/envs/project/lib/python3.11/site-packages/ipykernel/kernelbase.py:1245\u001b[0m, in \u001b[0;36mKernel._input_request\u001b[0;34m(self, prompt, ident, parent, password)\u001b[0m\n\u001b[1;32m   1242\u001b[0m \u001b[38;5;28;01mexcept\u001b[39;00m \u001b[38;5;167;01mKeyboardInterrupt\u001b[39;00m:\n\u001b[1;32m   1243\u001b[0m     \u001b[38;5;66;03m# re-raise KeyboardInterrupt, to truncate traceback\u001b[39;00m\n\u001b[1;32m   1244\u001b[0m     msg \u001b[38;5;241m=\u001b[39m \u001b[38;5;124m\"\u001b[39m\u001b[38;5;124mInterrupted by user\u001b[39m\u001b[38;5;124m\"\u001b[39m\n\u001b[0;32m-> 1245\u001b[0m     \u001b[38;5;28;01mraise\u001b[39;00m \u001b[38;5;167;01mKeyboardInterrupt\u001b[39;00m(msg) \u001b[38;5;28;01mfrom\u001b[39;00m \u001b[38;5;28;01mNone\u001b[39;00m\n\u001b[1;32m   1246\u001b[0m \u001b[38;5;28;01mexcept\u001b[39;00m \u001b[38;5;167;01mException\u001b[39;00m:\n\u001b[1;32m   1247\u001b[0m     \u001b[38;5;28mself\u001b[39m\u001b[38;5;241m.\u001b[39mlog\u001b[38;5;241m.\u001b[39mwarning(\u001b[38;5;124m\"\u001b[39m\u001b[38;5;124mInvalid Message:\u001b[39m\u001b[38;5;124m\"\u001b[39m, exc_info\u001b[38;5;241m=\u001b[39m\u001b[38;5;28;01mTrue\u001b[39;00m)\n",
      "\u001b[0;31mKeyboardInterrupt\u001b[0m: Interrupted by user"
     ]
    }
   ],
   "source": [
    "if __name__ == \"__main__\":\n",
    "\n",
    "    contact_book = ContactBook()\n",
    "\n",
    "    while True:\n",
    "        print(\"\\n--- Contact Book Application ---\")\n",
    "        print('1. Add Contact')\n",
    "        print('2. Edit Contact')\n",
    "        print('3. View Contacts')\n",
    "        print('4. Delete Contact')\n",
    "        print('5. Quit')\n",
    "\n",
    "        user_choice = input(\"\\nPlease choose an option: \")\n",
    "\n",
    "        if user_choice == '5':\n",
    "            break\n",
    "\n",
    "        if user_choice == '1':\n",
    "            name = input(\"\\nEnter Contact Name: \")\n",
    "            if name in contact_book.contacts:\n",
    "                print(\"Contact Already Exists\")\n",
    "                continue\n",
    "\n",
    "            phone = input(\"Enter Contact Phone: \")\n",
    "            email = input(\"Enter Contact Email: \")\n",
    "            location = input(\"Enter Contact Location: \")\n",
    "\n",
    "            contact_book.create_contact(name=name, phone=phone, email=email, location=location)\n",
    "\n",
    "        if user_choice == '2':\n",
    "            name = input(\"\\nEnter Contact name: \")\n",
    "            if name:\n",
    "                print(\"Contact Details\")\n",
    "                contact_book.show_contacts(name)\n",
    "\n",
    "            change = input(\"Do you change the information? Yes / No\")\n",
    "\n",
    "            if change.title() == \"Yes\":\n",
    "                new_name = input(\"Enter Contact Name: \")\n",
    "                phone = input(\"Enter Contact Phone: \")\n",
    "                email = input(\"Enter Contact Email: \")\n",
    "                location = input(\"Enter Contact Location: \")\n",
    "\n",
    "                contact_book.edit_contacts(name, new_name=new_name, phone=phone, email=email, location=location)\n",
    "\n",
    "            else:\n",
    "                print(\"Save the Contact Unchanged\")\n",
    "\n",
    "        if user_choice == '3':\n",
    "            choice = input(\"\\nShow All Contacts? Yes / No\")\n",
    "            if choice.title() == \"Yes\":\n",
    "                contact_book.show_contacts(show_all_contacts=True)\n",
    "            else:\n",
    "                name = input(\"\\nEnter the Name of your desired Contact\\n\")\n",
    "                contact_book.show_contacts(name=name)\n",
    "\n",
    "        if user_choice == '4':\n",
    "            name = input(\"\\nEnter the Name of your desired Contact\\n\")\n",
    "            contact_book.delete_contact(name=name)\n",
    "\n",
    "            choice = input(f\"Delete {name}? Yes / No\")\n",
    "            if choice.title() == \"Yes\":\n",
    "                contact_book.delete_contact(name=name, confirm=True)\n",
    "            else:\n",
    "                print(\"Delete Canceled\")\n",
    "\n"
   ]
  },
  {
   "cell_type": "code",
   "execution_count": 3,
   "id": "c98190b1-f9f3-4423-9a5a-42304a9d2d57",
   "metadata": {
    "tags": []
   },
   "outputs": [],
   "source": [
    "from collections import defaultdict\n",
    "\n",
    "\n",
    "class ContactBook():\n",
    "    def __init__(self):\n",
    "        self.contacts = defaultdict(dict)\n",
    "\n",
    "    def create_contact(self, name, phone=None, email=None, location=None):\n",
    "        if name in self.contacts:\n",
    "            print(\"Contact Already Exists\")\n",
    "            return\n",
    "\n",
    "        self.contacts[name] = {\"name\": name,\n",
    "                               \"phone\": phone,\n",
    "                               \"email\": email,\n",
    "                               \"location\": location,\n",
    "                              }\n",
    "        print(f\"Saved {name}\")\n",
    "\n",
    "    def show_contact(self, name):\n",
    "        if name not in self.contacts:\n",
    "            print(\"Contact Not Found\")\n",
    "            return\n",
    "        \n",
    "        contact_info = self.contacts[name]\n",
    "        print(f\"Name: {contact_info['name']}\")\n",
    "        print(f\"Phone: {contact_info['phone']}\")\n",
    "        print(f\"Email: {contact_info['email']}\")\n",
    "        print(f\"Location: {contact_info['location']}\")      \n",
    "        \n",
    "    def show_all_contacts(self):\n",
    "        if not self.contacts:\n",
    "            print(\"No Contacts\")\n",
    "            return\n",
    "        for name in self.contacts:\n",
    "            self.show_contact(name)\n",
    "            print(\"_\" * 50)\n",
    "        print(f\"{len(self.contacts)} Contacts\")\n",
    "\n",
    "    def edit_contact(self, name, new_name=None, phone=None, email=None, location=None):\n",
    "        if name in self.contacts:\n",
    "            if (phone is not None) and (phone != self.contacts[name][\"phone\"]):\n",
    "                self.contacts[name][\"phone\"] = phone\n",
    "\n",
    "            if (email is not None) and (email != self.contacts[name][\"email\"]):\n",
    "                self.contacts[name][\"email\"] = email\n",
    "\n",
    "            if (location is not None) and (location != self.contacts[name][\"location\"]):\n",
    "                self.contacts[name][\"location\"] = location\n",
    "\n",
    "            if (new_name is not None) and (new_name != self.contacts[name]):\n",
    "                self.contacts[new_name] = self.contacts.pop(name)\n",
    "\n",
    "            print(\"Contact Updated Successfully\")\n",
    "            return \n",
    "        \n",
    "        print(\"Contact Not Found\")\n",
    "\n",
    "    def delete_contact(self, name=None, confirm=None):\n",
    "        if (name is not None) and (name in self.contacts):\n",
    "            print(\"Contact Details\")\n",
    "            self.show_contacts(name)\n",
    "            \n",
    "            if confirm:\n",
    "                del self.contacts[name]\n",
    "                print(\"Contact Deleted\")\n",
    "            elif confirm == False:\n",
    "                print(\"Delete Canceled\")\n",
    "                \n",
    "        else:\n",
    "            print(\"Contact Not Found\")\n"
   ]
  },
  {
   "cell_type": "code",
   "execution_count": null,
   "id": "9bff2929-9e06-4002-9cd7-bedf8e792e49",
   "metadata": {},
   "outputs": [
    {
     "name": "stdout",
     "output_type": "stream",
     "text": [
      "\n",
      "--- Contact Book Application ---\n",
      "1. Add Contact\n",
      "2. Edit Contact\n",
      "3. View Contacts\n",
      "4. Delete Contact\n",
      "5. Quit\n"
     ]
    },
    {
     "name": "stdin",
     "output_type": "stream",
     "text": [
      "\n",
      "Please choose an option:  6\n"
     ]
    },
    {
     "name": "stdout",
     "output_type": "stream",
     "text": [
      "Invalid option. Please choose a valid option.\n",
      "\n",
      "--- Contact Book Application ---\n",
      "1. Add Contact\n",
      "2. Edit Contact\n",
      "3. View Contacts\n",
      "4. Delete Contact\n",
      "5. Quit\n"
     ]
    },
    {
     "name": "stdin",
     "output_type": "stream",
     "text": [
      "\n",
      "Please choose an option:  7\n"
     ]
    },
    {
     "name": "stdout",
     "output_type": "stream",
     "text": [
      "Invalid option. Please choose a valid option.\n",
      "\n",
      "--- Contact Book Application ---\n",
      "1. Add Contact\n",
      "2. Edit Contact\n",
      "3. View Contacts\n",
      "4. Delete Contact\n",
      "5. Quit\n"
     ]
    },
    {
     "name": "stdin",
     "output_type": "stream",
     "text": [
      "\n",
      "Please choose an option:  1\n"
     ]
    }
   ],
   "source": [
    "if __name__ == \"__main__\":\n",
    "\n",
    "    contact_book = ContactBook()\n",
    "\n",
    "    while True:\n",
    "        print(\"\\n--- Contact Book Application ---\")\n",
    "        print('1. Add Contact')\n",
    "        print('2. Edit Contact')\n",
    "        print('3. View Contacts')\n",
    "        print('4. Delete Contact')\n",
    "        print('5. Quit')\n",
    "\n",
    "        user_choice = input(\"\\nPlease choose an option: \")\n",
    "        \n",
    "        if user_choice not in ['1', '2', '3', '4', '5']:\n",
    "            print(\"Invalid option. Please choose a valid option.\")\n",
    "            continue\n",
    "\n",
    "        if user_choice == '5':\n",
    "            break\n",
    "\n",
    "        if user_choice == '1':\n",
    "            name = input(\"\\nEnter Contact Name: \")\n",
    "            if name in contact_book.contacts:\n",
    "                print(\"Contact Already Exists\")\n",
    "                continue\n",
    "\n",
    "            phone = input(\"Enter Contact Phone: \")\n",
    "            email = input(\"Enter Contact Email: \")\n",
    "            location = input(\"Enter Contact Location: \")\n",
    "\n",
    "            contact_book.create_contact(name=name, phone=phone, email=email, location=location)\n",
    "\n",
    "        if user_choice == '2':\n",
    "            name = input(\"\\nEnter Contact name: \")\n",
    "            if name:\n",
    "                print(\"Contact Details\")\n",
    "                contact_book.show_contact(name)\n",
    "\n",
    "            change = input(\"Do you change the information? Yes / No\")\n",
    "\n",
    "            if change.title() == \"Yes\":\n",
    "                new_name = input(\"Enter Contact Name: \")\n",
    "                phone = input(\"Enter Contact Phone: \")\n",
    "                email = input(\"Enter Contact Email: \")\n",
    "                location = input(\"Enter Contact Location: \")\n",
    "\n",
    "                contact_book.edit_contact(name, new_name=new_name, phone=phone, email=email, location=location)\n",
    "\n",
    "            else:\n",
    "                print(\"Save the Contact Unchanged\")\n",
    "\n",
    "        if user_choice == '3':\n",
    "            choice = input(\"\\nShow All Contacts? Yes / No\")\n",
    "            if choice.title() == \"Yes\":\n",
    "                contact_book.show_all_contacts()\n",
    "            else:\n",
    "                name = input(\"\\nEnter the Name of your desired Contact\\n\")\n",
    "                contact_book.show_contact(name=name)\n",
    "\n",
    "        if user_choice == '4':\n",
    "            name = input(\"\\nEnter the Name of your desired Contact\\n\")\n",
    "            contact_book.delete_contact(name=name)\n",
    "\n",
    "            choice = input(f\"Delete {name}? Yes / No\")\n",
    "            if choice.title() == \"Yes\":\n",
    "                contact_book.delete_contact(name=name, confirm=True)\n",
    "            else:\n",
    "                print(\"Delete Canceled\")\n",
    "\n"
   ]
  },
  {
   "cell_type": "code",
   "execution_count": null,
   "id": "36189c07-fbba-4657-84d5-e915d33acb8d",
   "metadata": {},
   "outputs": [],
   "source": []
  }
 ],
 "metadata": {
  "kernelspec": {
   "display_name": "Python 3 (ipykernel)",
   "language": "python",
   "name": "python3"
  },
  "language_info": {
   "codemirror_mode": {
    "name": "ipython",
    "version": 3
   },
   "file_extension": ".py",
   "mimetype": "text/x-python",
   "name": "python",
   "nbconvert_exporter": "python",
   "pygments_lexer": "ipython3",
   "version": "3.11.4"
  }
 },
 "nbformat": 4,
 "nbformat_minor": 5
}
