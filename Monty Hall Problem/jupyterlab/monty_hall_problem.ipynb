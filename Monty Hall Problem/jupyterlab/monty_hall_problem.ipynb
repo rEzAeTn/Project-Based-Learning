{
 "cells": [
  {
   "cell_type": "code",
   "execution_count": null,
   "id": "0502329a-5d2d-4dd2-baca-7b272f7de15e",
   "metadata": {},
   "outputs": [],
   "source": [
    "# Functional Solution"
   ]
  },
  {
   "cell_type": "code",
   "execution_count": 2,
   "id": "deabfe3a-d0f4-4d24-9be5-19e3c5b2b573",
   "metadata": {},
   "outputs": [],
   "source": [
    "import random\n",
    "from typing import List, Tuple\n",
    "\n",
    "\n",
    "def monty_hall(switch_choice: bool) -> bool:\n",
    "    \"\"\"\n",
    "    Simulates one round of the Monty Hall problem.\n",
    "\n",
    "    :param switch_choice: If True, the player will switch their choice of door. If False, they will stick with their initial choice.\n",
    "    :type switch_choice: bool\n",
    "    :return: Returns True if the player wins (i.e., gets the car), False otherwise.\n",
    "    :rtype: bool\n",
    "    \"\"\"\n",
    "    # Initialize the doors\n",
    "    doors = ['goat', 'car', 'goat']\n",
    "    random.shuffle(doors)\n",
    "\n",
    "    # Player makes their initial choice\n",
    "    initial_choice = random.choice(range(3))\n",
    "\n",
    "    # One of the remaining doors with a goat is revealed\n",
    "    doors_revealed = [i for i in range(3) if i != initial_choice and doors[i] != 'car']\n",
    "    door_revealed = random.choice(doors_revealed)\n",
    "\n",
    "    # Player makes their final choice\n",
    "    if switch_choice:\n",
    "        final_choice = [i for i in range(3) if i != door_revealed and i != initial_choice][0]\n",
    "    else:\n",
    "        final_choice = initial_choice\n",
    "\n",
    "    # Return the result of the game\n",
    "    return doors[final_choice] == 'car'\n"
   ]
  },
  {
   "cell_type": "code",
   "execution_count": 3,
   "id": "9a191e56-3327-410d-a82b-ce8cd2f4915e",
   "metadata": {},
   "outputs": [],
   "source": [
    "def monty_hall_simulation(number_of_rounds: int) -> tuple:\n",
    "    \"\"\"\n",
    "    Simulates multiple rounds of the Monty Hall problem.\n",
    "\n",
    "    :param number_of_rounds: The number of rounds to simulate.\n",
    "    :type number_of_rounds: int\n",
    "    :return: Returns a tuple of two tuples. The first tuple contains the number of wins and losses when switching doors. The second tuple contains the number of wins and losses when not switching doors.\n",
    "    :rtype: tuple\n",
    "    \"\"\"\n",
    "    # Simulate rounds with switching\n",
    "    num_wins_with_switching = sum([monty_hall(switch_choice=True) for _ in range(number_of_rounds)])\n",
    "    num_losses_with_switching = number_of_rounds - num_wins_with_switching \n",
    "\n",
    "    # Simulate rounds without switching\n",
    "    num_wins_without_switching = sum([monty_hall(switch_choice=False) for _ in range(number_of_rounds)])\n",
    "    num_losses_without_switching = number_of_rounds - num_wins_without_switching\n",
    "\n",
    "    # Return the results\n",
    "    return (num_wins_with_switching, num_losses_with_switching), (num_wins_without_switching, num_losses_without_switching)"
   ]
  },
  {
   "cell_type": "code",
   "execution_count": 7,
   "id": "8045a148-2fa0-4c41-b8f6-35dd754896ed",
   "metadata": {},
   "outputs": [
    {
     "name": "stdout",
     "output_type": "stream",
     "text": [
      "((659, 341), (345, 655))\n"
     ]
    }
   ],
   "source": [
    "numbe_of_round = 1000\n",
    "\n",
    "test = monty_hall_simulation(numbe_of_round)\n",
    "print(test)"
   ]
  },
  {
   "cell_type": "code",
   "execution_count": null,
   "id": "2945de0b-63dc-416c-8509-fcfe352359b8",
   "metadata": {},
   "outputs": [],
   "source": []
  },
  {
   "cell_type": "code",
   "execution_count": null,
   "id": "da58ea0e-9eed-4b90-8424-f2c95027d4a2",
   "metadata": {},
   "outputs": [],
   "source": []
  },
  {
   "cell_type": "code",
   "execution_count": null,
   "id": "ab997cfa-2c43-49be-b091-3c256b6eac22",
   "metadata": {},
   "outputs": [],
   "source": [
    "# OOP Solution"
   ]
  },
  {
   "cell_type": "code",
   "execution_count": 9,
   "id": "d5bbfbbf-5c6a-4afe-b827-4462d7580a57",
   "metadata": {
    "tags": []
   },
   "outputs": [],
   "source": [
    "import random\n",
    "from typing import List, Tuple\n",
    "\n",
    "\n",
    "class MontyHallProblem:\n",
    "    \"\"\"\n",
    "    This class represents the Monty Hall problem. It includes methods to simulate a single game and multiple games.\n",
    "    \"\"\"\n",
    "\n",
    "    def __init__(self):\n",
    "        \"\"\"\n",
    "        Initialize the doors for the Monty Hall problem.\n",
    "        \"\"\"\n",
    "        self.doors: list = ['goat', 'car', 'goat']\n",
    "\n",
    "    def monty_hall_game(self, initial_choice: int, switch_choice: bool) -> bool:\n",
    "        \"\"\"\n",
    "        Simulate a single game of the Monty Hall problem.\n",
    "\n",
    "        :param initial_choice: The initial door choice.\n",
    "        :param switch_choice: A boolean indicating whether the player switches their choice.\n",
    "        :return: True if the player wins, False otherwise.\n",
    "        \"\"\"\n",
    "        # Shuffle the doors\n",
    "        random.shuffle(self.doors)\n",
    "        \n",
    "        # Reveal a door that is not the initial choice and does not have the car\n",
    "        doors_revealed = [i for i in range(3) if i != initial_choice and self.doors[i] != 'car']\n",
    "        door_revealed = random.choice(doors_revealed)\n",
    "\n",
    "        # If the player switches, their final choice is the remaining door\n",
    "        if switch_choice:\n",
    "            final_choice = [i for i in range(3) if i != initial_choice and i != door_revealed][0]\n",
    "        else:\n",
    "            final_choice = initial_choice\n",
    "\n",
    "        # The player wins if their final choice is the car\n",
    "        return self.doors[final_choice] == 'car'\n",
    "\n",
    "    def monty_hall_simulation(self, number_of_round: int, switch_choice: bool) -> Tuple[int, int]:\n",
    "        \"\"\"\n",
    "        Simulate multiple rounds of the Monty Hall problem.\n",
    "\n",
    "        :param number_of_round: The number of rounds to simulate.\n",
    "        :param switch_choice: A boolean indicating whether the player switches their choice in each round.\n",
    "        :return: The number of wins and losses.\n",
    "        \"\"\"\n",
    "        # The player's initial choice is random in each round\n",
    "        initial_choice = random.choice(range(3))\n",
    "\n",
    "        # Count the number of wins\n",
    "        num_wins = sum([self.monty_hall_game(initial_choice, switch_choice) for _ in range(number_of_round)])\n",
    "\n",
    "        # The number of losses is the total rounds minus the number of wins\n",
    "        num_losses = number_of_round - num_wins\n",
    "\n",
    "        return num_wins, num_losses\n"
   ]
  },
  {
   "cell_type": "code",
   "execution_count": 10,
   "id": "d706e296-2daf-43d5-a340-25f58250b5ca",
   "metadata": {
    "tags": []
   },
   "outputs": [],
   "source": [
    "obj = MontyHallProblem()"
   ]
  },
  {
   "cell_type": "code",
   "execution_count": 11,
   "id": "da07e194-e8da-404d-9b25-bf7ebe8884e2",
   "metadata": {
    "tags": []
   },
   "outputs": [
    {
     "name": "stdout",
     "output_type": "stream",
     "text": [
      "True\n"
     ]
    }
   ],
   "source": [
    "game = obj.monty_hall_game(0, True)\n",
    "print(game)"
   ]
  },
  {
   "cell_type": "code",
   "execution_count": 12,
   "id": "4e6da8cd-77c8-4925-ab42-fae74ec6cb60",
   "metadata": {
    "tags": []
   },
   "outputs": [
    {
     "name": "stdout",
     "output_type": "stream",
     "text": [
      "(371, 629)\n"
     ]
    }
   ],
   "source": [
    "simulation = obj.monty_hall_simulation(1000, False)\n",
    "print(simulation)"
   ]
  }
 ],
 "metadata": {
  "kernelspec": {
   "display_name": "Python 3 (ipykernel)",
   "language": "python",
   "name": "python3"
  },
  "language_info": {
   "codemirror_mode": {
    "name": "ipython",
    "version": 3
   },
   "file_extension": ".py",
   "mimetype": "text/x-python",
   "name": "python",
   "nbconvert_exporter": "python",
   "pygments_lexer": "ipython3",
   "version": "3.11.9"
  }
 },
 "nbformat": 4,
 "nbformat_minor": 5
}
