{
 "cells": [
  {
   "cell_type": "code",
   "execution_count": null,
   "id": "0502329a-5d2d-4dd2-baca-7b272f7de15e",
   "metadata": {},
   "outputs": [],
   "source": [
    "# Functional Solution"
   ]
  },
  {
   "cell_type": "code",
   "execution_count": 128,
   "id": "deabfe3a-d0f4-4d24-9be5-19e3c5b2b573",
   "metadata": {},
   "outputs": [],
   "source": [
    "import random\n",
    "from typing import List, Tuple\n",
    "\n",
    "\n",
    "def monty_hall(switch_choice: bool) -> bool:\n",
    "    \"\"\"\n",
    "    Simulates one round of the Monty Hall problem.\n",
    "\n",
    "    :param switch_choice: If True, the player will switch their choice of door. If False, they will stick with their initial choice.\n",
    "    :type switch_choice: bool\n",
    "    :return: Returns True if the player wins (i.e., gets the car), False otherwise.\n",
    "    :rtype: bool\n",
    "    \"\"\"\n",
    "    # Initialize the doors\n",
    "    doors = ['goat', 'car', 'goat']\n",
    "    random.shuffle(doors)\n",
    "\n",
    "    # Player makes their initial choice\n",
    "    initial_choice = random.choice(range(3))\n",
    "\n",
    "    # One of the remaining doors with a goat is revealed\n",
    "    doors_revealed = [i for i in range(3) if i != initial_choice and doors[i] != 'car']\n",
    "    door_revealed = random.choice(doors_revealed)\n",
    "\n",
    "    # Player makes their final choice\n",
    "    if switch_choice:\n",
    "        final_choice = [i for i in range(3) if i != door_revealed and i != initial_choice][0]\n",
    "    else:\n",
    "        final_choice = initial_choice\n",
    "\n",
    "    # Return the result of the game\n",
    "    return doors[final_choice] == 'car'\n"
   ]
  },
  {
   "cell_type": "code",
   "execution_count": 129,
   "id": "9a191e56-3327-410d-a82b-ce8cd2f4915e",
   "metadata": {},
   "outputs": [],
   "source": [
    "def monty_hall_simulation(number_of_rounds: int) -> tuple:\n",
    "    \"\"\"\n",
    "    Simulates multiple rounds of the Monty Hall problem.\n",
    "\n",
    "    :param number_of_rounds: The number of rounds to simulate.\n",
    "    :type number_of_rounds: int\n",
    "    :return: Returns a tuple of two tuples. The first tuple contains the number of wins and losses when switching doors. The second tuple contains the number of wins and losses when not switching doors.\n",
    "    :rtype: tuple\n",
    "    \"\"\"\n",
    "    # Simulate rounds with switching\n",
    "    num_wins_with_switching = sum([monty_hall(switch_choice=True) for _ in range(number_of_rounds)])\n",
    "    num_losses_with_switching = number_of_rounds - num_wins_with_switching \n",
    "\n",
    "    # Simulate rounds without switching\n",
    "    num_wins_without_switching = sum([monty_hall(switch_choice=False) for _ in range(number_of_rounds)])\n",
    "    num_losses_without_switching = number_of_rounds - num_wins_without_switching\n",
    "\n",
    "    # Return the results\n",
    "    return (num_wins_with_switching, num_losses_with_switching), (num_wins_without_switching, num_losses_without_switching)"
   ]
  },
  {
   "cell_type": "code",
   "execution_count": 130,
   "id": "8045a148-2fa0-4c41-b8f6-35dd754896ed",
   "metadata": {},
   "outputs": [
    {
     "name": "stdout",
     "output_type": "stream",
     "text": [
      "((632, 368), (320, 680))\n"
     ]
    }
   ],
   "source": [
    "numbe_of_round = 1000\n",
    "\n",
    "test = monty_hall_simulation(numbe_of_round)\n",
    "print(test)"
   ]
  },
  {
   "cell_type": "code",
   "execution_count": null,
   "id": "2945de0b-63dc-416c-8509-fcfe352359b8",
   "metadata": {},
   "outputs": [],
   "source": []
  },
  {
   "cell_type": "code",
   "execution_count": null,
   "id": "da58ea0e-9eed-4b90-8424-f2c95027d4a2",
   "metadata": {},
   "outputs": [],
   "source": []
  },
  {
   "cell_type": "code",
   "execution_count": null,
   "id": "ab997cfa-2c43-49be-b091-3c256b6eac22",
   "metadata": {},
   "outputs": [],
   "source": [
    "# Inheritance Solution"
   ]
  },
  {
   "cell_type": "code",
   "execution_count": 20,
   "id": "d5bbfbbf-5c6a-4afe-b827-4462d7580a57",
   "metadata": {
    "tags": []
   },
   "outputs": [],
   "source": [
    "import random\n",
    "from typing import List, Tuple\n",
    "\n",
    "\n",
    "class MontyHallProblem:\n",
    "    \"\"\"\n",
    "    This class represents the Monty Hall problem. It includes methods to simulate a single game and multiple games.\n",
    "    \"\"\"\n",
    "\n",
    "    def __init__(self):\n",
    "        \"\"\"\n",
    "        Initialize the doors for the Monty Hall problem.\n",
    "        \"\"\"\n",
    "        self.doors: list = ['goat', 'car', 'goat']\n",
    "\n",
    "    def monty_hall_game(self, initial_choice: int, switch_choice: bool) -> bool:\n",
    "        \"\"\"\n",
    "        Simulate a single game of the Monty Hall problem.\n",
    "\n",
    "        :param initial_choice: The initial door choice.\n",
    "        :param switch_choice: A boolean indicating whether the player switches their choice.\n",
    "        :return: True if the player wins, False otherwise.\n",
    "        \"\"\"\n",
    "        # Shuffle the doors\n",
    "        random.shuffle(self.doors)\n",
    "        \n",
    "        # Reveal a door that is not the initial choice and does not have the car\n",
    "        doors_revealed = [i for i in range(3) if i != initial_choice and self.doors[i] != 'car']\n",
    "        door_revealed = random.choice(doors_revealed)\n",
    "\n",
    "        # If the player switches, their final choice is the remaining door\n",
    "        if switch_choice:\n",
    "            final_choice = [i for i in range(3) if i != initial_choice and i != door_revealed][0]\n",
    "        else:\n",
    "            final_choice = initial_choice\n",
    "\n",
    "        # The player wins if their final choice is the car\n",
    "        return self.doors[final_choice] == 'car'\n",
    "\n",
    "    def monty_hall_simulation(self, number_of_round: int, switch_choice: bool) -> Tuple[int, int]:\n",
    "        \"\"\"\n",
    "        Simulate multiple rounds of the Monty Hall problem.\n",
    "\n",
    "        :param number_of_round: The number of rounds to simulate.\n",
    "        :param switch_choice: A boolean indicating whether the player switches their choice in each round.\n",
    "        :return: The number of wins and losses.\n",
    "        \"\"\"\n",
    "        # The player's initial choice is random in each round\n",
    "        initial_choice = random.choice(range(3))\n",
    "\n",
    "        # Count the number of wins\n",
    "        num_wins = sum([self.monty_hall_game(initial_choice, switch_choice) for _ in range(number_of_round)])\n",
    "\n",
    "        # The number of losses is the total rounds minus the number of wins\n",
    "        num_losses = number_of_round - num_wins\n",
    "\n",
    "        return num_wins, num_losses\n"
   ]
  },
  {
   "cell_type": "code",
   "execution_count": 18,
   "id": "d706e296-2daf-43d5-a340-25f58250b5ca",
   "metadata": {
    "tags": []
   },
   "outputs": [],
   "source": [
    "obj = MontyHallProblem()"
   ]
  },
  {
   "cell_type": "code",
   "execution_count": 19,
   "id": "da07e194-e8da-404d-9b25-bf7ebe8884e2",
   "metadata": {
    "tags": []
   },
   "outputs": [
    {
     "ename": "NameError",
     "evalue": "name 'door_revealed' is not defined",
     "output_type": "error",
     "traceback": [
      "\u001b[0;31m---------------------------------------------------------------------------\u001b[0m",
      "\u001b[0;31mNameError\u001b[0m                                 Traceback (most recent call last)",
      "Cell \u001b[0;32mIn[19], line 1\u001b[0m\n\u001b[0;32m----> 1\u001b[0m game \u001b[38;5;241m=\u001b[39m obj\u001b[38;5;241m.\u001b[39mmonty_hall_game(\u001b[38;5;241m0\u001b[39m, \u001b[38;5;28;01mTrue\u001b[39;00m)\n\u001b[1;32m      2\u001b[0m \u001b[38;5;28mprint\u001b[39m(game)\n",
      "Cell \u001b[0;32mIn[17], line 35\u001b[0m, in \u001b[0;36mMontyHallProblem.monty_hall_game\u001b[0;34m(self, initial_choice, switch_choice)\u001b[0m\n\u001b[1;32m     33\u001b[0m \u001b[38;5;66;03m# If the player switches, their final choice is the remaining door\u001b[39;00m\n\u001b[1;32m     34\u001b[0m \u001b[38;5;28;01mif\u001b[39;00m switch_choice:\n\u001b[0;32m---> 35\u001b[0m     final_choice \u001b[38;5;241m=\u001b[39m [i \u001b[38;5;28;01mfor\u001b[39;00m i \u001b[38;5;129;01min\u001b[39;00m \u001b[38;5;28mrange\u001b[39m(\u001b[38;5;241m3\u001b[39m) \u001b[38;5;28;01mif\u001b[39;00m i \u001b[38;5;241m!=\u001b[39m initial_choice \u001b[38;5;129;01mand\u001b[39;00m i \u001b[38;5;241m!=\u001b[39m door_revealed][\u001b[38;5;241m0\u001b[39m]\n\u001b[1;32m     36\u001b[0m \u001b[38;5;28;01melse\u001b[39;00m:\n\u001b[1;32m     37\u001b[0m     final_choice \u001b[38;5;241m=\u001b[39m initial_choice\n",
      "Cell \u001b[0;32mIn[17], line 35\u001b[0m, in \u001b[0;36m<listcomp>\u001b[0;34m(.0)\u001b[0m\n\u001b[1;32m     33\u001b[0m \u001b[38;5;66;03m# If the player switches, their final choice is the remaining door\u001b[39;00m\n\u001b[1;32m     34\u001b[0m \u001b[38;5;28;01mif\u001b[39;00m switch_choice:\n\u001b[0;32m---> 35\u001b[0m     final_choice \u001b[38;5;241m=\u001b[39m [i \u001b[38;5;28;01mfor\u001b[39;00m i \u001b[38;5;129;01min\u001b[39;00m \u001b[38;5;28mrange\u001b[39m(\u001b[38;5;241m3\u001b[39m) \u001b[38;5;28;01mif\u001b[39;00m i \u001b[38;5;241m!=\u001b[39m initial_choice \u001b[38;5;129;01mand\u001b[39;00m i \u001b[38;5;241m!=\u001b[39m door_revealed][\u001b[38;5;241m0\u001b[39m]\n\u001b[1;32m     36\u001b[0m \u001b[38;5;28;01melse\u001b[39;00m:\n\u001b[1;32m     37\u001b[0m     final_choice \u001b[38;5;241m=\u001b[39m initial_choice\n",
      "\u001b[0;31mNameError\u001b[0m: name 'door_revealed' is not defined"
     ]
    }
   ],
   "source": [
    "game = obj.monty_hall_game(0, True)\n",
    "print(game)"
   ]
  },
  {
   "cell_type": "code",
   "execution_count": 28,
   "id": "4e6da8cd-77c8-4925-ab42-fae74ec6cb60",
   "metadata": {
    "tags": []
   },
   "outputs": [
    {
     "name": "stdout",
     "output_type": "stream",
     "text": [
      "(332, 668)\n"
     ]
    }
   ],
   "source": [
    "simulation = obj.monty_hall_simulation(1000, False)\n",
    "print(simulation)"
   ]
  },
  {
   "cell_type": "code",
   "execution_count": null,
   "id": "b4a66494-22d1-47d8-b3c3-716dec023c80",
   "metadata": {},
   "outputs": [],
   "source": []
  },
  {
   "cell_type": "code",
   "execution_count": null,
   "id": "941d2504-a815-48c1-8108-e9fa5f556c8c",
   "metadata": {},
   "outputs": [],
   "source": []
  },
  {
   "cell_type": "code",
   "execution_count": null,
   "id": "2c1b7db5-f6e4-4740-8ad6-1b4d50a09042",
   "metadata": {},
   "outputs": [],
   "source": []
  },
  {
   "cell_type": "code",
   "execution_count": 63,
   "id": "ee49a96e-b0fb-4488-9e33-66ba27fbafc8",
   "metadata": {},
   "outputs": [],
   "source": [
    "import random\n",
    "from typing import List, Tuple\n",
    "\n",
    "\n",
    "class MontyHallProblem:\n",
    "    \"\"\"\n",
    "    This class represents the Monty Hall problem. It includes methods to simulate a single game and multiple games.\n",
    "    \"\"\"\n",
    "\n",
    "    def __init__(self):\n",
    "        \"\"\"\n",
    "        Initialize the doors for the Monty Hall problem.\n",
    "        \"\"\"\n",
    "        self.doors: list = ['goat', 'car', 'goat']\n",
    "        self.door_revealed = None\n",
    "\n",
    "    def reveal_door(self, initial_choice: int) -> int:\n",
    "        \"\"\"\n",
    "        Reveal a door that is not the initial choice and does not have the car.\n",
    "\n",
    "        :param initial_choice: The initial door choice.\n",
    "        :return: The index of the revealed door.\n",
    "        \"\"\"\n",
    "        doors_revealed = [i for i in range(3) if i != initial_choice and self.doors[i] != 'car']\n",
    "        door_revealed = random.choice(doors_revealed)\n",
    "        return door_revealed\n",
    "\n",
    "    def monty_hall_game(self, initial_choice: int, switch_choice: bool) -> bool:\n",
    "        \"\"\"\n",
    "        Simulate a single game of the Monty Hall problem.\n",
    "\n",
    "        :param initial_choice: The initial door choice.\n",
    "        :param switch_choice: A boolean indicating whether the player switches their choice.\n",
    "        :return: True if the player wins, False otherwise.\n",
    "        \"\"\"\n",
    "        # Shuffle the doors\n",
    "        random.shuffle(self.doors)\n",
    "        \n",
    "        # Reveal a door that is not the initial choice and does not have the car\n",
    "        self.door_revealed = self.reveal_door(initial_choice)\n",
    "\n",
    "        # If the player switches, their final choice is the remaining door\n",
    "        if switch_choice:\n",
    "            final_choice = [i for i in range(3) if i != initial_choice and i != self.door_revealed][0]\n",
    "        else:\n",
    "            final_choice = initial_choice\n",
    "\n",
    "        # The player wins if their final choice is the car\n",
    "        return self.doors[final_choice] == 'car'\n",
    "\n",
    "    def monty_hall_simulation(self, number_of_round: int, switch_choice: bool) -> Tuple[int, int]:\n",
    "        \"\"\"\n",
    "        Simulate multiple rounds of the Monty Hall problem.\n",
    "\n",
    "        :param number_of_round: The number of rounds to simulate.\n",
    "        :param switch_choice: A boolean indicating whether the player switches their choice in each round.\n",
    "        :return: The number of wins and losses.\n",
    "        \"\"\"\n",
    "        # The player's initial choice is random in each round\n",
    "        initial_choice = random.choice(range(3))\n",
    "\n",
    "        # Count the number of wins\n",
    "        num_wins = sum([self.monty_hall_game(initial_choice, switch_choice) for _ in range(number_of_round)])\n",
    "\n",
    "        # The number of losses is the total rounds minus the number of wins\n",
    "        num_losses = number_of_round - num_wins\n",
    "\n",
    "        return num_wins, num_losses\n"
   ]
  },
  {
   "cell_type": "code",
   "execution_count": 64,
   "id": "1026fa34-e7a4-4e84-8c98-f9db8b5238c8",
   "metadata": {},
   "outputs": [],
   "source": [
    "obj = MontyHallProblem()"
   ]
  },
  {
   "cell_type": "code",
   "execution_count": 65,
   "id": "2cb485ed-523a-4cd1-8ed2-59d146bb5ef0",
   "metadata": {
    "tags": []
   },
   "outputs": [
    {
     "data": {
      "text/plain": [
       "0"
      ]
     },
     "execution_count": 65,
     "metadata": {},
     "output_type": "execute_result"
    }
   ],
   "source": [
    "reveal_door = obj.reveal_door(1)\n",
    "reveal_door"
   ]
  },
  {
   "cell_type": "code",
   "execution_count": 66,
   "id": "db18a826-5f69-41e6-a9bf-ebca25889bac",
   "metadata": {
    "tags": []
   },
   "outputs": [
    {
     "name": "stdout",
     "output_type": "stream",
     "text": [
      "None\n",
      "False\n"
     ]
    }
   ],
   "source": [
    "game = obj.monty_hall_game(1, False)\n",
    "print(game)"
   ]
  },
  {
   "cell_type": "code",
   "execution_count": 67,
   "id": "70ebb279-6168-499d-9acf-09977c2cb694",
   "metadata": {
    "tags": []
   },
   "outputs": [
    {
     "data": {
      "text/plain": [
       "2"
      ]
     },
     "execution_count": 67,
     "metadata": {},
     "output_type": "execute_result"
    }
   ],
   "source": [
    "obj.door_revealed"
   ]
  },
  {
   "cell_type": "code",
   "execution_count": 25,
   "id": "720a6939-58a3-4d03-91b0-399b6472f858",
   "metadata": {
    "tags": []
   },
   "outputs": [
    {
     "name": "stdout",
     "output_type": "stream",
     "text": [
      "(4, 6)\n"
     ]
    }
   ],
   "source": [
    "simulation = obj.monty_hall_simulation(10, False)\n",
    "print(simulation)"
   ]
  },
  {
   "cell_type": "code",
   "execution_count": 32,
   "id": "844fb76a-6d09-45a9-9d87-fe4773db9ab7",
   "metadata": {},
   "outputs": [
    {
     "data": {
      "text/plain": [
       "2"
      ]
     },
     "execution_count": 32,
     "metadata": {},
     "output_type": "execute_result"
    }
   ],
   "source": []
  },
  {
   "cell_type": "code",
   "execution_count": null,
   "id": "a68bcb58-dac8-4efa-806b-77860a561deb",
   "metadata": {},
   "outputs": [],
   "source": []
  }
 ],
 "metadata": {
  "kernelspec": {
   "display_name": "Python 3 (ipykernel)",
   "language": "python",
   "name": "python3"
  },
  "language_info": {
   "codemirror_mode": {
    "name": "ipython",
    "version": 3
   },
   "file_extension": ".py",
   "mimetype": "text/x-python",
   "name": "python",
   "nbconvert_exporter": "python",
   "pygments_lexer": "ipython3",
   "version": "3.11.4"
  }
 },
 "nbformat": 4,
 "nbformat_minor": 5
}
