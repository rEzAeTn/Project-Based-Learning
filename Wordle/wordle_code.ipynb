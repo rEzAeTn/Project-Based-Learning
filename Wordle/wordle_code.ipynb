{
 "cells": [
  {
   "cell_type": "code",
   "execution_count": null,
   "metadata": {},
   "outputs": [],
   "source": []
  },
  {
   "cell_type": "markdown",
   "metadata": {},
   "source": [
    "# Build Data"
   ]
  },
  {
   "cell_type": "code",
   "execution_count": 7,
   "metadata": {
    "tags": []
   },
   "outputs": [],
   "source": [
    "def generate_word_frequency(file_path, word_len: int = 5, limit=1000):\n",
    "\n",
    "    # Open File & Create List from Data [(Word, Frequency)]\n",
    "    with open(file_path) as file:\n",
    "\n",
    "        words_freq = []\n",
    "        for line in file:\n",
    "            word, frequency = line.split(', ')\n",
    "            words_freq.append((word, int(frequency)))\n",
    "\n",
    "\n",
    "\n",
    "    # Sorted Data\n",
    "    words_freq = sorted(words_freq, key=lambda w_freq: w_freq[1], reverse=True)\n",
    "\n",
    "    # Limit Data\n",
    "    words_freq = words_freq[:limit]\n",
    "\n",
    "    # Drop Frequency Data\n",
    "    words = [w_freq[0] for w_freq in words_freq]\n",
    "\n",
    "    # word_len Letters Words\n",
    "    words = list(filter(lambda word: len(word) == word_len, words))\n",
    "\n",
    "    return words"
   ]
  },
  {
   "cell_type": "code",
   "execution_count": 32,
   "metadata": {
    "tags": []
   },
   "outputs": [],
   "source": [
    "file_path = '/home/reza/project/wordle/src/data/words_frequency.txt'\n",
    "word_len = 5\n",
    "limit = 1000\n",
    "\n",
    "words = generate_word_frequency(file_path=file_path, word_len=word_len, limit=limit)"
   ]
  },
  {
   "cell_type": "code",
   "execution_count": null,
   "metadata": {
    "tags": []
   },
   "outputs": [],
   "source": []
  },
  {
   "cell_type": "code",
   "execution_count": null,
   "metadata": {},
   "outputs": [],
   "source": []
  },
  {
   "cell_type": "markdown",
   "metadata": {},
   "source": [
    "# Select a Random Word"
   ]
  },
  {
   "cell_type": "code",
   "execution_count": 37,
   "metadata": {
    "tags": []
   },
   "outputs": [
    {
     "data": {
      "text/plain": [
       "'cheap'"
      ]
     },
     "execution_count": 37,
     "metadata": {},
     "output_type": "execute_result"
    }
   ],
   "source": [
    "import random\n",
    "random.seed(42)\n",
    "word = random.choice(words)\n",
    "word"
   ]
  },
  {
   "cell_type": "code",
   "execution_count": null,
   "metadata": {},
   "outputs": [],
   "source": []
  },
  {
   "cell_type": "code",
   "execution_count": null,
   "metadata": {
    "tags": []
   },
   "outputs": [],
   "source": []
  },
  {
   "cell_type": "markdown",
   "metadata": {
    "tags": []
   },
   "source": [
    "# Text Colored"
   ]
  },
  {
   "cell_type": "code",
   "execution_count": 11,
   "metadata": {
    "tags": []
   },
   "outputs": [],
   "source": [
    "from termcolor import colored\n",
    "\n",
    "def print_success(text, end='\\n'):\n",
    "    print(colored(text, 'green', attrs=['reverse', 'bold']), end=end)\n",
    "\n",
    "\n",
    "def print_warning(text, end='\\n'):\n",
    "    print(colored(text, 'yellow', attrs=['reverse', 'bold']), end=end)\n",
    "\n",
    "\n",
    "def print_error(text, end='\\n'):\n",
    "    print(colored(text, 'red', attrs=['reverse', 'bold']), end=end)\n",
    "\n",
    "\n",
    "def print_grey(text, end='\\n'):\n",
    "    print(colored(text, 'grey', attrs=['reverse', 'bold']), end=end)"
   ]
  },
  {
   "cell_type": "code",
   "execution_count": null,
   "metadata": {},
   "outputs": [],
   "source": []
  },
  {
   "cell_type": "code",
   "execution_count": null,
   "metadata": {},
   "outputs": [],
   "source": []
  },
  {
   "cell_type": "markdown",
   "metadata": {},
   "source": [
    "# Wordle"
   ]
  },
  {
   "cell_type": "code",
   "execution_count": 36,
   "metadata": {
    "tags": []
   },
   "outputs": [
    {
     "name": "stdin",
     "output_type": "stream",
     "text": [
      "Enter a 5 Letter wWord (Enter Q Wor Exite):  abcde\n"
     ]
    },
    {
     "name": "stdout",
     "output_type": "stream",
     "text": [
      "\u001b[1m\u001b[7m\u001b[33ma\u001b[0m\u001b[1m\u001b[7m\u001b[31mb\u001b[0m\u001b[1m\u001b[7m\u001b[33mc\u001b[0m\u001b[1m\u001b[7m\u001b[31md\u001b[0m\u001b[1m\u001b[7m\u001b[33me\u001b[0m\n"
     ]
    },
    {
     "name": "stdin",
     "output_type": "stream",
     "text": [
      "Enter a 5 Letter wWord (Enter Q Wor Exite):  efghi\n"
     ]
    },
    {
     "name": "stdout",
     "output_type": "stream",
     "text": [
      "\u001b[1m\u001b[7m\u001b[33me\u001b[0m\u001b[1m\u001b[7m\u001b[31mf\u001b[0m\u001b[1m\u001b[7m\u001b[31mg\u001b[0m\u001b[1m\u001b[7m\u001b[33mh\u001b[0m\u001b[1m\u001b[7m\u001b[31mi\u001b[0m\n"
     ]
    },
    {
     "name": "stdin",
     "output_type": "stream",
     "text": [
      "Enter a 5 Letter wWord (Enter Q Wor Exite):  ekdfk\n"
     ]
    },
    {
     "name": "stdout",
     "output_type": "stream",
     "text": [
      "\u001b[1m\u001b[7m\u001b[33me\u001b[0m\u001b[1m\u001b[7m\u001b[31mk\u001b[0m\u001b[1m\u001b[7m\u001b[31md\u001b[0m\u001b[1m\u001b[7m\u001b[31mf\u001b[0m\u001b[1m\u001b[7m\u001b[31mk\u001b[0m\n"
     ]
    },
    {
     "name": "stdin",
     "output_type": "stream",
     "text": [
      "Enter a 5 Letter wWord (Enter Q Wor Exite):  lsdk\n"
     ]
    },
    {
     "name": "stdout",
     "output_type": "stream",
     "text": [
      "\u001b[1m\u001b[7m\u001b[33mWord Must Have 5 Letters. You Entered 4!\u001b[0m\n"
     ]
    },
    {
     "name": "stdin",
     "output_type": "stream",
     "text": [
      "Enter a 5 Letter wWord (Enter Q Wor Exite):  dkdff\n"
     ]
    },
    {
     "name": "stdout",
     "output_type": "stream",
     "text": [
      "\u001b[1m\u001b[7m\u001b[31md\u001b[0m\u001b[1m\u001b[7m\u001b[31mk\u001b[0m\u001b[1m\u001b[7m\u001b[31md\u001b[0m\u001b[1m\u001b[7m\u001b[31mf\u001b[0m\u001b[1m\u001b[7m\u001b[31mf\u001b[0m\n"
     ]
    },
    {
     "name": "stdin",
     "output_type": "stream",
     "text": [
      "Enter a 5 Letter wWord (Enter Q Wor Exite):  dkfkd\n"
     ]
    },
    {
     "name": "stdout",
     "output_type": "stream",
     "text": [
      "\u001b[1m\u001b[7m\u001b[31md\u001b[0m\u001b[1m\u001b[7m\u001b[31mk\u001b[0m\u001b[1m\u001b[7m\u001b[31mf\u001b[0m\u001b[1m\u001b[7m\u001b[31mk\u001b[0m\u001b[1m\u001b[7m\u001b[31md\u001b[0m\n"
     ]
    },
    {
     "name": "stdin",
     "output_type": "stream",
     "text": [
      "Enter a 5 Letter wWord (Enter Q Wor Exite):  dkfkk\n"
     ]
    },
    {
     "name": "stdout",
     "output_type": "stream",
     "text": [
      "\u001b[1m\u001b[7m\u001b[31md\u001b[0m\u001b[1m\u001b[7m\u001b[31mk\u001b[0m\u001b[1m\u001b[7m\u001b[31mf\u001b[0m\u001b[1m\u001b[7m\u001b[31mk\u001b[0m\u001b[1m\u001b[7m\u001b[31mk\u001b[0m\n",
      "\u001b[1m\u001b[7m\u001b[31mGAME OVER :( \n",
      "The Word Was: \" cheap \"\u001b[0m\n"
     ]
    }
   ],
   "source": [
    "num_try = 6\n",
    "success = False\n",
    "\n",
    "while num_try > 0:\n",
    "    \n",
    "    # Getting Words from User\n",
    "    guess_word = input(f'Enter a {word_len} Letter wWord (Enter Q Wor Exite): ')\n",
    "    if guess_word == 'Q':\n",
    "        print_error('Bye')\n",
    "        break\n",
    "\n",
    "    # Word Lenght\n",
    "    if len(guess_word) != word_len:\n",
    "        print_warning(f'Word Must Have {word_len} Letters. You Entered {len(guess_word)}!')\n",
    "        continue\n",
    "        \n",
    "        \n",
    "    # # Check Valid Word \n",
    "    # if guess_word not in words:\n",
    "    #     print_warning('Word Is Not Valid')\n",
    "    #     continue\n",
    "       \n",
    "        \n",
    "    # Check Valid Characters, Invalid Positions, Invalid Character\n",
    "    for word_letter, guess_letter in zip(word, guess_word):\n",
    "        if word_letter == guess_letter:\n",
    "            print_success(guess_letter, end='')\n",
    "        elif guess_letter in word:\n",
    "            print_warning(guess_letter, end='')\n",
    "        else:\n",
    "            print_error(guess_letter, end='')\n",
    "            \n",
    "    print()\n",
    "    \n",
    "    if word == guess_word:\n",
    "        print_success('** YOU WINNER **')\n",
    "        success = True\n",
    "        break\n",
    "        \n",
    "        \n",
    "    num_try -= 1\n",
    "\n",
    "if not success:\n",
    "    print_error(f'GAME OVER :( \\nThe Word Was: \" {word} \"')\n",
    "    \n",
    "# finish"
   ]
  },
  {
   "cell_type": "code",
   "execution_count": null,
   "metadata": {
    "tags": []
   },
   "outputs": [],
   "source": [
    "\n"
   ]
  },
  {
   "cell_type": "code",
   "execution_count": null,
   "metadata": {},
   "outputs": [],
   "source": []
  }
 ],
 "metadata": {
  "kernelspec": {
   "display_name": "Python 3 (ipykernel)",
   "language": "python",
   "name": "python3"
  },
  "language_info": {
   "codemirror_mode": {
    "name": "ipython",
    "version": 3
   },
   "file_extension": ".py",
   "mimetype": "text/x-python",
   "name": "python",
   "nbconvert_exporter": "python",
   "pygments_lexer": "ipython3",
   "version": "3.10.12"
  }
 },
 "nbformat": 4,
 "nbformat_minor": 4
}
