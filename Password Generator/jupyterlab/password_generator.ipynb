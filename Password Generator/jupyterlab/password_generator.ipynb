{
 "cells": [
  {
   "cell_type": "code",
   "execution_count": null,
   "id": "d4b43a5e-d7a7-434a-af8e-ca5e77476b30",
   "metadata": {},
   "outputs": [],
   "source": [
    "- کلمات رندم و از لیست داخلی باشه - انواع لیست کلمات رو بدی و بتونه انتخاب کنه از بین لیست ها\n",
    "- "
   ]
  },
  {
   "cell_type": "markdown",
   "id": "e80d1054-2b88-4647-b0c1-db0c4f582b5b",
   "metadata": {
    "tags": []
   },
   "source": [
    "- parent class: passwordGenerator(ABC)\n",
    "- child class: Random Passwords\n",
    "- child class: Memorable Passwords\n",
    "- child class: Pin Codes"
   ]
  },
  {
   "cell_type": "code",
   "execution_count": 51,
   "id": "340a9cc2-ac13-4b43-b906-1d17f0428c91",
   "metadata": {
    "tags": []
   },
   "outputs": [],
   "source": [
    "from abc import ABC, abstractmethod\n",
    "from typing import List, Optional\n",
    "\n",
    "\n",
    "class PasswordGenerator(ABC):\n",
    "    \n",
    "    @abstractmethod\n",
    "    def password_generator(self) -> str:\n",
    "        pass"
   ]
  },
  {
   "cell_type": "code",
   "execution_count": null,
   "id": "1fb278ab-aa75-4f8a-80ad-8627c6b2a8ce",
   "metadata": {},
   "outputs": [],
   "source": []
  },
  {
   "cell_type": "code",
   "execution_count": 2,
   "id": "8d2db766-e3ee-4804-8531-5ec091658528",
   "metadata": {
    "tags": []
   },
   "outputs": [],
   "source": [
    "import random\n",
    "import string\n",
    "\n",
    "class PinCodesGenerator(PasswordGenerator):\n",
    "    def __init__(self, length: int = 8):\n",
    "        self.length = length\n",
    "    \n",
    "    def password_generator(self) -> str:\n",
    "        pin_codes: str = ''.join([random.choice(string.digits) for _ in range(self.length)])\n",
    "        return pin_codes"
   ]
  },
  {
   "cell_type": "code",
   "execution_count": 32,
   "id": "71fde182-bf36-44be-9a54-70b413a303c7",
   "metadata": {
    "tags": []
   },
   "outputs": [
    {
     "name": "stdout",
     "output_type": "stream",
     "text": [
      "08870026\n"
     ]
    }
   ],
   "source": [
    "obj = PinCodesGenerator(length=8)\n",
    "\n",
    "password = obj.password_generator()\n",
    "print(password)"
   ]
  },
  {
   "cell_type": "code",
   "execution_count": null,
   "id": "94502e7c-746e-4b4f-a7e6-b3cb130a06cd",
   "metadata": {},
   "outputs": [],
   "source": []
  },
  {
   "cell_type": "code",
   "execution_count": 38,
   "id": "72f364fa-3fc7-44dc-9e24-55e8058ad630",
   "metadata": {
    "tags": []
   },
   "outputs": [],
   "source": [
    "import random \n",
    "import string\n",
    "\n",
    "\n",
    "class RandomPasswordGenerator(PasswordGenerator):\n",
    "    def __init__(\n",
    "        self,\n",
    "        length: int = 8,\n",
    "        include_lowercase: bool = True,\n",
    "        include_uppercase: bool = True,\n",
    "        include_punc: bool = True,\n",
    "        include_number: bool = True\n",
    "    ):\n",
    "        self.length = length\n",
    "        self.characters = ''\n",
    "        \n",
    "        if include_lowercase:\n",
    "            self.characters += string.ascii_lowercase\n",
    "        if include_uppercase:\n",
    "            self.characters += string.ascii_uppercase\n",
    "        if include_punc:\n",
    "            self.characters += string.punctuation\n",
    "        if include_number:\n",
    "            self.characters += string.digits\n",
    "    \n",
    "    def password_generator(self) -> str:\n",
    "        random_password: str = ''.join([random.choice(self.characters) for _ in range(self.length)])\n",
    "        return random_password"
   ]
  },
  {
   "cell_type": "code",
   "execution_count": 42,
   "id": "4d9fdc90-d76e-4d6b-b86d-a44837d2485f",
   "metadata": {
    "tags": []
   },
   "outputs": [
    {
     "name": "stdout",
     "output_type": "stream",
     "text": [
      "?7/24<H,N,`Y2(I\n"
     ]
    }
   ],
   "source": [
    "obj = RandomPasswordGenerator(\n",
    "    length=15,\n",
    "    include_lowercase=False,\n",
    "    include_uppercase=True,\n",
    "    include_punc=True,\n",
    "     include_number=True\n",
    ")\n",
    "\n",
    "password = obj.password_generator()\n",
    "print(password)"
   ]
  },
  {
   "cell_type": "code",
   "execution_count": null,
   "id": "b0545817-fe80-42ed-a25c-a284ae616e58",
   "metadata": {},
   "outputs": [],
   "source": []
  },
  {
   "cell_type": "code",
   "execution_count": 45,
   "id": "7e1a1ec9-b729-4cf9-ac9f-6f68c19b190e",
   "metadata": {
    "tags": []
   },
   "outputs": [
    {
     "name": "stderr",
     "output_type": "stream",
     "text": [
      "[nltk_data] Downloading package words to /home/reza/nltk_data...\n",
      "[nltk_data]   Unzipping corpora/words.zip.\n"
     ]
    }
   ],
   "source": [
    "import random\n",
    "import nltk\n",
    "\n",
    "nltk.download('words')\n",
    "\n",
    "class MemorablePasswordGenerator(PasswordGenerator):\n",
    "    def __init__(\n",
    "        self,\n",
    "        number_of_words: int = 8,\n",
    "        separator: str = '-',\n",
    "        capitalized: bool = False,\n",
    "        vocabulary: Optional[List[str]] = None\n",
    "    ):\n",
    "        if vocabulary is None:\n",
    "            vocabulary = nltk.corpus.words.words()\n",
    "        \n",
    "        self.number_of_words = number_of_words\n",
    "        self.separator = separator\n",
    "        self.capitalized = capitalized\n",
    "        self.vocabulary = vocabulary\n",
    "    \n",
    "    def password_generator(self) -> str:\n",
    "        memorable_password: list = [random.choice(self.vocabulary) for _ in range(self.number_of_words)]\n",
    "        if self.capitalized:\n",
    "            memorable_password = [word.upper() if random.choice([True, False]) else word.lower() for word in memorable_password] \n",
    "        return self.separator.join(memorable_password)"
   ]
  },
  {
   "cell_type": "code",
   "execution_count": 50,
   "id": "07bca29f-317e-47d1-9592-5f3a2aeaaa85",
   "metadata": {
    "tags": []
   },
   "outputs": [
    {
     "name": "stdout",
     "output_type": "stream",
     "text": [
      "toxinosis-DISTRESSING-ministerial-AILE\n"
     ]
    }
   ],
   "source": [
    "obj = MemorablePasswordGenerator(\n",
    "    number_of_words=4,\n",
    "    separator='-',\n",
    "    capitalized=True,\n",
    "    vocabulary=None,\n",
    ")\n",
    "\n",
    "password = obj.password_generator()\n",
    "print(password)"
   ]
  },
  {
   "cell_type": "code",
   "execution_count": null,
   "id": "fbc38cd1-8e21-4ed3-b973-51696d1da0e8",
   "metadata": {},
   "outputs": [],
   "source": []
  },
  {
   "cell_type": "code",
   "execution_count": null,
   "id": "f3ea1ca8-7606-48b0-8ca8-37d6939dd64b",
   "metadata": {},
   "outputs": [],
   "source": []
  },
  {
   "cell_type": "code",
   "execution_count": null,
   "id": "a3be56ee-b0fa-4d7e-9de9-c31000704f66",
   "metadata": {},
   "outputs": [],
   "source": []
  }
 ],
 "metadata": {
  "kernelspec": {
   "display_name": "Python 3 (ipykernel)",
   "language": "python",
   "name": "python3"
  },
  "language_info": {
   "codemirror_mode": {
    "name": "ipython",
    "version": 3
   },
   "file_extension": ".py",
   "mimetype": "text/x-python",
   "name": "python",
   "nbconvert_exporter": "python",
   "pygments_lexer": "ipython3",
   "version": "3.11.4"
  }
 },
 "nbformat": 4,
 "nbformat_minor": 5
}
