{
 "cells": [
  {
   "cell_type": "markdown",
   "id": "55ad781b-51eb-4a1f-bce5-71014818058b",
   "metadata": {},
   "source": [
    "# Happy Number\n",
    "\n",
    "- 1² + 9² = 82\n",
    "- 8² + 2² = 68\n",
    "- 6² + 8² = 100\n",
    "- 1² + 0² + 0² = 1"
   ]
  },
  {
   "cell_type": "code",
   "execution_count": null,
   "id": "73c0cbf1-ac4e-4bfe-a840-c32f97bfcd3e",
   "metadata": {},
   "outputs": [],
   "source": [
    "# Solutions_1\n",
    "\n",
    "def is_happy_number(number):\n",
    "    for _ in range(10):\n",
    "        str_number = str(number)\n",
    "        number = sum(map(lambda num: int(num) ** 2, str_number))\n",
    "\n",
    "        if number == 1:\n",
    "            return True\n",
    "    else:\n",
    "        return False"
   ]
  },
  {
   "cell_type": "code",
   "execution_count": 17,
   "id": "496b50bf-b587-4cff-9de4-237e7cc795ff",
   "metadata": {
    "tags": []
   },
   "outputs": [
    {
     "name": "stdin",
     "output_type": "stream",
     "text": [
      "Inter a Number 85\n"
     ]
    },
    {
     "name": "stdout",
     "output_type": "stream",
     "text": [
      "False\n"
     ]
    }
   ],
   "source": [
    "# Solutions_2\n",
    "\n",
    "def is_happy_number(number: int) -> bool:\n",
    "    \"\"\"\n",
    "    Determines if a number is a \"happy\" number.\n",
    "\n",
    "    A happy number is a number defined by the following process: starting with any positive integer,\n",
    "    replace the number by the sum of the squares of its digits in base-ten, and repeat the process until\n",
    "    the number equals 1 (where it will stay), or it loops endlessly in a cycle which does not include 1.\n",
    "    Those numbers for which this process ends in 1 are happy numbers, while those that do not end in 1 are unhappy numbers.\n",
    "\n",
    "    :param number: The number to check.\n",
    "    :type number: int\n",
    "    :return: True if the number is happy, False otherwise.\n",
    "    :rtype: bool\n",
    "\n",
    "    :Example:\n",
    "\n",
    "    >>> is_happy_number(19)\n",
    "    True\n",
    "    \n",
    "    >>> is_happy_number(45)\n",
    "    Fulse\n",
    "    \"\"\"\n",
    "    # A set to store the numbers we've seen in the process\n",
    "    seen_number: set = set()  \n",
    "    while (number != 1) and (number not in seen_number):\n",
    "        # Add the current number to the set of seen numbers\n",
    "        seen_number.add(number)  \n",
    "        # Replace the number by the sum of the squares of its digits\n",
    "        number: int = sum([int(number) ** 2 for number in str(number)])\n",
    "        \n",
    "    # If the number is 1, it's a happy number and return True, else return False\n",
    "    return number == 1  \n",
    "\n",
    "\n",
    "if __name__ == '__main__':\n",
    "    input_number = input(\"Inter a Number\")\n",
    "    test = is_happy_number(input_number)\n",
    "    print(test)\n",
    "    "
   ]
  },
  {
   "cell_type": "code",
   "execution_count": 15,
   "id": "1419e983-d2db-460b-a264-10814f005632",
   "metadata": {
    "tags": []
   },
   "outputs": [
    {
     "name": "stdin",
     "output_type": "stream",
     "text": [
      "Inter a Number 10\n"
     ]
    },
    {
     "name": "stdout",
     "output_type": "stream",
     "text": [
      "10 is Happy Number\n"
     ]
    },
    {
     "ename": "KeyboardInterrupt",
     "evalue": "Interrupted by user",
     "output_type": "error",
     "traceback": [
      "\u001b[0;31m---------------------------------------------------------------------------\u001b[0m",
      "\u001b[0;31mKeyboardInterrupt\u001b[0m                         Traceback (most recent call last)",
      "Cell \u001b[0;32mIn[15], line 4\u001b[0m\n\u001b[1;32m      1\u001b[0m \u001b[38;5;66;03m# Test\u001b[39;00m\n\u001b[1;32m      3\u001b[0m \u001b[38;5;28;01mwhile\u001b[39;00m \u001b[38;5;28;01mTrue\u001b[39;00m:\n\u001b[0;32m----> 4\u001b[0m     input_number \u001b[38;5;241m=\u001b[39m \u001b[38;5;28minput\u001b[39m(\u001b[38;5;124m\"\u001b[39m\u001b[38;5;124mInter a Number\u001b[39m\u001b[38;5;124m\"\u001b[39m)\n\u001b[1;32m      5\u001b[0m     test \u001b[38;5;241m=\u001b[39m is_happy_number(input_number)\n\u001b[1;32m      6\u001b[0m     \u001b[38;5;28;01mif\u001b[39;00m test:\n",
      "File \u001b[0;32m~/miniconda3/envs/project/lib/python3.11/site-packages/ipykernel/kernelbase.py:1202\u001b[0m, in \u001b[0;36mKernel.raw_input\u001b[0;34m(self, prompt)\u001b[0m\n\u001b[1;32m   1200\u001b[0m     msg \u001b[38;5;241m=\u001b[39m \u001b[38;5;124m\"\u001b[39m\u001b[38;5;124mraw_input was called, but this frontend does not support input requests.\u001b[39m\u001b[38;5;124m\"\u001b[39m\n\u001b[1;32m   1201\u001b[0m     \u001b[38;5;28;01mraise\u001b[39;00m StdinNotImplementedError(msg)\n\u001b[0;32m-> 1202\u001b[0m \u001b[38;5;28;01mreturn\u001b[39;00m \u001b[38;5;28mself\u001b[39m\u001b[38;5;241m.\u001b[39m_input_request(\n\u001b[1;32m   1203\u001b[0m     \u001b[38;5;28mstr\u001b[39m(prompt),\n\u001b[1;32m   1204\u001b[0m     \u001b[38;5;28mself\u001b[39m\u001b[38;5;241m.\u001b[39m_parent_ident[\u001b[38;5;124m\"\u001b[39m\u001b[38;5;124mshell\u001b[39m\u001b[38;5;124m\"\u001b[39m],\n\u001b[1;32m   1205\u001b[0m     \u001b[38;5;28mself\u001b[39m\u001b[38;5;241m.\u001b[39mget_parent(\u001b[38;5;124m\"\u001b[39m\u001b[38;5;124mshell\u001b[39m\u001b[38;5;124m\"\u001b[39m),\n\u001b[1;32m   1206\u001b[0m     password\u001b[38;5;241m=\u001b[39m\u001b[38;5;28;01mFalse\u001b[39;00m,\n\u001b[1;32m   1207\u001b[0m )\n",
      "File \u001b[0;32m~/miniconda3/envs/project/lib/python3.11/site-packages/ipykernel/kernelbase.py:1245\u001b[0m, in \u001b[0;36mKernel._input_request\u001b[0;34m(self, prompt, ident, parent, password)\u001b[0m\n\u001b[1;32m   1242\u001b[0m \u001b[38;5;28;01mexcept\u001b[39;00m \u001b[38;5;167;01mKeyboardInterrupt\u001b[39;00m:\n\u001b[1;32m   1243\u001b[0m     \u001b[38;5;66;03m# re-raise KeyboardInterrupt, to truncate traceback\u001b[39;00m\n\u001b[1;32m   1244\u001b[0m     msg \u001b[38;5;241m=\u001b[39m \u001b[38;5;124m\"\u001b[39m\u001b[38;5;124mInterrupted by user\u001b[39m\u001b[38;5;124m\"\u001b[39m\n\u001b[0;32m-> 1245\u001b[0m     \u001b[38;5;28;01mraise\u001b[39;00m \u001b[38;5;167;01mKeyboardInterrupt\u001b[39;00m(msg) \u001b[38;5;28;01mfrom\u001b[39;00m \u001b[38;5;28;01mNone\u001b[39;00m\n\u001b[1;32m   1246\u001b[0m \u001b[38;5;28;01mexcept\u001b[39;00m \u001b[38;5;167;01mException\u001b[39;00m:\n\u001b[1;32m   1247\u001b[0m     \u001b[38;5;28mself\u001b[39m\u001b[38;5;241m.\u001b[39mlog\u001b[38;5;241m.\u001b[39mwarning(\u001b[38;5;124m\"\u001b[39m\u001b[38;5;124mInvalid Message:\u001b[39m\u001b[38;5;124m\"\u001b[39m, exc_info\u001b[38;5;241m=\u001b[39m\u001b[38;5;28;01mTrue\u001b[39;00m)\n",
      "\u001b[0;31mKeyboardInterrupt\u001b[0m: Interrupted by user"
     ]
    }
   ],
   "source": [
    "# Test\n",
    "\n",
    "while True:\n",
    "    input_number = input(\"Inter a Number\")\n",
    "    test = is_happy_number(input_number)\n",
    "    if test:\n",
    "        print(f\"{input_number} is Happy Number\")\n",
    "    else:\n",
    "        print(f\"{input_number} is *Not* Happy Number\")"
   ]
  },
  {
   "cell_type": "code",
   "execution_count": null,
   "id": "cad0180b-0a68-4f9e-aff0-45f6dffc781e",
   "metadata": {},
   "outputs": [],
   "source": []
  },
  {
   "cell_type": "code",
   "execution_count": null,
   "id": "084d19bc-979e-440d-949e-5b6980179ae4",
   "metadata": {},
   "outputs": [],
   "source": []
  },
  {
   "cell_type": "code",
   "execution_count": null,
   "id": "f21f49cc-0ece-4c0d-b981-a1209df3d30f",
   "metadata": {},
   "outputs": [],
   "source": []
  },
  {
   "cell_type": "code",
   "execution_count": null,
   "id": "727b9c13-cd05-4205-96d7-d12e705c1846",
   "metadata": {},
   "outputs": [],
   "source": []
  },
  {
   "cell_type": "code",
   "execution_count": null,
   "id": "275e7b74-1196-4bb4-bd09-e0353351f481",
   "metadata": {},
   "outputs": [],
   "source": []
  },
  {
   "cell_type": "code",
   "execution_count": null,
   "id": "066c46a7-0f82-46de-a237-996900dc1914",
   "metadata": {},
   "outputs": [],
   "source": []
  },
  {
   "cell_type": "code",
   "execution_count": null,
   "id": "658cd3b6-c616-4637-8077-0f56fea5006c",
   "metadata": {},
   "outputs": [],
   "source": []
  },
  {
   "cell_type": "code",
   "execution_count": null,
   "id": "fe8f008c-2e13-4c9c-a2c3-b04669829b99",
   "metadata": {},
   "outputs": [],
   "source": []
  },
  {
   "cell_type": "code",
   "execution_count": 39,
   "id": "62a22bd3-cfb3-43a3-bc50-b639a49688b6",
   "metadata": {
    "tags": []
   },
   "outputs": [],
   "source": [
    "\n",
    "    "
   ]
  },
  {
   "cell_type": "code",
   "execution_count": null,
   "id": "167f9947-84e1-49fa-950f-1baf0a496661",
   "metadata": {},
   "outputs": [],
   "source": []
  }
 ],
 "metadata": {
  "kernelspec": {
   "display_name": "Python 3 (ipykernel)",
   "language": "python",
   "name": "python3"
  },
  "language_info": {
   "codemirror_mode": {
    "name": "ipython",
    "version": 3
   },
   "file_extension": ".py",
   "mimetype": "text/x-python",
   "name": "python",
   "nbconvert_exporter": "python",
   "pygments_lexer": "ipython3",
   "version": "3.11.4"
  }
 },
 "nbformat": 4,
 "nbformat_minor": 5
}
